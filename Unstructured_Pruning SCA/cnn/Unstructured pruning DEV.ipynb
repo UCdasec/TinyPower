{
 "cells": [
  {
   "cell_type": "code",
   "execution_count": 1,
   "id": "f78ff61c",
   "metadata": {},
   "outputs": [
    {
     "name": "stderr",
     "output_type": "stream",
     "text": [
      "2023-07-08 18:34:03.469837: I tensorflow/stream_executor/platform/default/dso_loader.cc:49] Successfully opened dynamic library libcudart.so.10.1\n"
     ]
    }
   ],
   "source": [
    "#!/usr/bin python3.6\n",
    "import os\n",
    "import sys\n",
    "import tensorflow as tf\n",
    "from tensorflow.keras.models import load_model\n",
    "import numpy as np\n",
    "sys.path.append(\"/home/mabon/Tiny_power/code/TinyPower\")\n",
    "\n",
    "import checking_tool\n",
    "import process_data\n",
    "from utils import model_zoo"
   ]
  },
  {
   "cell_type": "code",
   "execution_count": 2,
   "id": "90bc2139",
   "metadata": {},
   "outputs": [
    {
     "name": "stderr",
     "output_type": "stream",
     "text": [
      "2023-07-08 18:34:04.580084: I tensorflow/compiler/jit/xla_cpu_device.cc:41] Not creating XLA devices, tf_xla_enable_xla_devices not set\n",
      "2023-07-08 18:34:04.580508: I tensorflow/stream_executor/platform/default/dso_loader.cc:49] Successfully opened dynamic library libcuda.so.1\n",
      "2023-07-08 18:34:04.658482: I tensorflow/stream_executor/cuda/cuda_gpu_executor.cc:941] successful NUMA node read from SysFS had negative value (-1), but there must be at least one NUMA node, so returning NUMA node zero\n",
      "2023-07-08 18:34:04.659142: I tensorflow/core/common_runtime/gpu/gpu_device.cc:1720] Found device 0 with properties: \n",
      "pciBusID: 0000:01:00.0 name: TITAN RTX computeCapability: 7.5\n",
      "coreClock: 1.77GHz coreCount: 72 deviceMemorySize: 23.65GiB deviceMemoryBandwidth: 625.94GiB/s\n",
      "2023-07-08 18:34:04.659157: I tensorflow/stream_executor/platform/default/dso_loader.cc:49] Successfully opened dynamic library libcudart.so.10.1\n",
      "2023-07-08 18:34:04.660416: I tensorflow/stream_executor/platform/default/dso_loader.cc:49] Successfully opened dynamic library libcublas.so.10\n",
      "2023-07-08 18:34:04.660443: I tensorflow/stream_executor/platform/default/dso_loader.cc:49] Successfully opened dynamic library libcublasLt.so.10\n",
      "2023-07-08 18:34:04.661597: I tensorflow/stream_executor/platform/default/dso_loader.cc:49] Successfully opened dynamic library libcufft.so.10\n",
      "2023-07-08 18:34:04.661787: I tensorflow/stream_executor/platform/default/dso_loader.cc:49] Successfully opened dynamic library libcurand.so.10\n",
      "2023-07-08 18:34:04.662975: I tensorflow/stream_executor/platform/default/dso_loader.cc:49] Successfully opened dynamic library libcusolver.so.10\n",
      "2023-07-08 18:34:04.663613: I tensorflow/stream_executor/platform/default/dso_loader.cc:49] Successfully opened dynamic library libcusparse.so.10\n",
      "2023-07-08 18:34:04.666024: I tensorflow/stream_executor/platform/default/dso_loader.cc:49] Successfully opened dynamic library libcudnn.so.7\n",
      "2023-07-08 18:34:04.666099: I tensorflow/stream_executor/cuda/cuda_gpu_executor.cc:941] successful NUMA node read from SysFS had negative value (-1), but there must be at least one NUMA node, so returning NUMA node zero\n",
      "2023-07-08 18:34:04.666705: I tensorflow/stream_executor/cuda/cuda_gpu_executor.cc:941] successful NUMA node read from SysFS had negative value (-1), but there must be at least one NUMA node, so returning NUMA node zero\n",
      "2023-07-08 18:34:04.667268: I tensorflow/core/common_runtime/gpu/gpu_device.cc:1862] Adding visible gpu devices: 0\n",
      "2023-07-08 18:34:04.667500: I tensorflow/core/platform/cpu_feature_guard.cc:142] This TensorFlow binary is optimized with oneAPI Deep Neural Network Library (oneDNN) to use the following CPU instructions in performance-critical operations:  SSE4.1 SSE4.2 AVX AVX2 FMA\n",
      "To enable them in other operations, rebuild TensorFlow with the appropriate compiler flags.\n",
      "2023-07-08 18:34:04.667880: I tensorflow/compiler/jit/xla_gpu_device.cc:99] Not creating XLA devices, tf_xla_enable_xla_devices not set\n",
      "2023-07-08 18:34:04.667934: I tensorflow/stream_executor/cuda/cuda_gpu_executor.cc:941] successful NUMA node read from SysFS had negative value (-1), but there must be at least one NUMA node, so returning NUMA node zero\n",
      "2023-07-08 18:34:04.668446: I tensorflow/core/common_runtime/gpu/gpu_device.cc:1720] Found device 0 with properties: \n",
      "pciBusID: 0000:01:00.0 name: TITAN RTX computeCapability: 7.5\n",
      "coreClock: 1.77GHz coreCount: 72 deviceMemorySize: 23.65GiB deviceMemoryBandwidth: 625.94GiB/s\n",
      "2023-07-08 18:34:04.668457: I tensorflow/stream_executor/platform/default/dso_loader.cc:49] Successfully opened dynamic library libcudart.so.10.1\n",
      "2023-07-08 18:34:04.668467: I tensorflow/stream_executor/platform/default/dso_loader.cc:49] Successfully opened dynamic library libcublas.so.10\n",
      "2023-07-08 18:34:04.668476: I tensorflow/stream_executor/platform/default/dso_loader.cc:49] Successfully opened dynamic library libcublasLt.so.10\n",
      "2023-07-08 18:34:04.668485: I tensorflow/stream_executor/platform/default/dso_loader.cc:49] Successfully opened dynamic library libcufft.so.10\n",
      "2023-07-08 18:34:04.668493: I tensorflow/stream_executor/platform/default/dso_loader.cc:49] Successfully opened dynamic library libcurand.so.10\n",
      "2023-07-08 18:34:04.668502: I tensorflow/stream_executor/platform/default/dso_loader.cc:49] Successfully opened dynamic library libcusolver.so.10\n",
      "2023-07-08 18:34:04.668511: I tensorflow/stream_executor/platform/default/dso_loader.cc:49] Successfully opened dynamic library libcusparse.so.10\n",
      "2023-07-08 18:34:04.668520: I tensorflow/stream_executor/platform/default/dso_loader.cc:49] Successfully opened dynamic library libcudnn.so.7\n",
      "2023-07-08 18:34:04.668552: I tensorflow/stream_executor/cuda/cuda_gpu_executor.cc:941] successful NUMA node read from SysFS had negative value (-1), but there must be at least one NUMA node, so returning NUMA node zero\n",
      "2023-07-08 18:34:04.669079: I tensorflow/stream_executor/cuda/cuda_gpu_executor.cc:941] successful NUMA node read from SysFS had negative value (-1), but there must be at least one NUMA node, so returning NUMA node zero\n",
      "2023-07-08 18:34:04.669577: I tensorflow/core/common_runtime/gpu/gpu_device.cc:1862] Adding visible gpu devices: 0\n",
      "2023-07-08 18:34:04.669596: I tensorflow/stream_executor/platform/default/dso_loader.cc:49] Successfully opened dynamic library libcudart.so.10.1\n",
      "2023-07-08 18:34:04.997406: I tensorflow/core/common_runtime/gpu/gpu_device.cc:1261] Device interconnect StreamExecutor with strength 1 edge matrix:\n",
      "2023-07-08 18:34:04.997426: I tensorflow/core/common_runtime/gpu/gpu_device.cc:1267]      0 \n",
      "2023-07-08 18:34:04.997430: I tensorflow/core/common_runtime/gpu/gpu_device.cc:1280] 0:   N \n",
      "2023-07-08 18:34:04.997551: I tensorflow/stream_executor/cuda/cuda_gpu_executor.cc:941] successful NUMA node read from SysFS had negative value (-1), but there must be at least one NUMA node, so returning NUMA node zero\n",
      "2023-07-08 18:34:04.998012: I tensorflow/stream_executor/cuda/cuda_gpu_executor.cc:941] successful NUMA node read from SysFS had negative value (-1), but there must be at least one NUMA node, so returning NUMA node zero\n",
      "2023-07-08 18:34:04.998441: I tensorflow/stream_executor/cuda/cuda_gpu_executor.cc:941] successful NUMA node read from SysFS had negative value (-1), but there must be at least one NUMA node, so returning NUMA node zero\n",
      "2023-07-08 18:34:04.998858: I tensorflow/core/common_runtime/gpu/gpu_device.cc:1406] Created TensorFlow device (/job:localhost/replica:0/task:0/device:GPU:0 with 22454 MB memory) -> physical GPU (device: 0, name: TITAN RTX, pci bus id: 0000:01:00.0, compute capability: 7.5)\n"
     ]
    },
    {
     "name": "stdout",
     "output_type": "stream",
     "text": [
      "Model: \"cnn_best\"\n",
      "_________________________________________________________________\n",
      "Layer (type)                 Output Shape              Param #   \n",
      "=================================================================\n",
      "input_1 (InputLayer)         [(None, 1000, 1)]         0         \n",
      "_________________________________________________________________\n",
      "block1_conv1 (Conv1D)        (None, 500, 64)           768       \n",
      "_________________________________________________________________\n",
      "block1_pool (AveragePooling1 (None, 250, 64)           0         \n",
      "_________________________________________________________________\n",
      "block2_conv1 (Conv1D)        (None, 250, 128)          90240     \n",
      "_________________________________________________________________\n",
      "block2_pool (AveragePooling1 (None, 125, 128)          0         \n",
      "_________________________________________________________________\n",
      "block3_conv1 (Conv1D)        (None, 125, 256)          360704    \n",
      "_________________________________________________________________\n",
      "block3_pool (AveragePooling1 (None, 62, 256)           0         \n",
      "_________________________________________________________________\n",
      "block4_conv1 (Conv1D)        (None, 62, 512)           1442304   \n",
      "_________________________________________________________________\n",
      "block4_pool (AveragePooling1 (None, 31, 512)           0         \n",
      "_________________________________________________________________\n",
      "block5_conv1 (Conv1D)        (None, 31, 512)           2884096   \n",
      "_________________________________________________________________\n",
      "block5_pool (AveragePooling1 (None, 15, 512)           0         \n",
      "_________________________________________________________________\n",
      "block_flatten (Flatten)      (None, 7680)              0         \n",
      "_________________________________________________________________\n",
      "block_fc1 (Dense)            (None, 4096)              31461376  \n",
      "_________________________________________________________________\n",
      "block_fc2 (Dense)            (None, 4096)              16781312  \n",
      "_________________________________________________________________\n",
      "preds (Dense)                (None, 9)                 36873     \n",
      "=================================================================\n",
      "Total params: 53,057,673\n",
      "Trainable params: 53,057,673\n",
      "Non-trainable params: 0\n",
      "_________________________________________________________________\n",
      "[log] --- finish construct the cnn2 model\n",
      "Model: \"cnn_best\"\n",
      "_________________________________________________________________\n",
      "Layer (type)                 Output Shape              Param #   \n",
      "=================================================================\n",
      "input_1 (InputLayer)         [(None, 1000, 1)]         0         \n",
      "_________________________________________________________________\n",
      "block1_conv1 (Conv1D)        (None, 500, 64)           768       \n",
      "_________________________________________________________________\n",
      "block1_pool (AveragePooling1 (None, 250, 64)           0         \n",
      "_________________________________________________________________\n",
      "block2_conv1 (Conv1D)        (None, 250, 128)          90240     \n",
      "_________________________________________________________________\n",
      "block2_pool (AveragePooling1 (None, 125, 128)          0         \n",
      "_________________________________________________________________\n",
      "block3_conv1 (Conv1D)        (None, 125, 256)          360704    \n",
      "_________________________________________________________________\n",
      "block3_pool (AveragePooling1 (None, 62, 256)           0         \n",
      "_________________________________________________________________\n",
      "block4_conv1 (Conv1D)        (None, 62, 512)           1442304   \n",
      "_________________________________________________________________\n",
      "block4_pool (AveragePooling1 (None, 31, 512)           0         \n",
      "_________________________________________________________________\n",
      "block5_conv1 (Conv1D)        (None, 31, 512)           2884096   \n",
      "_________________________________________________________________\n",
      "block5_pool (AveragePooling1 (None, 15, 512)           0         \n",
      "_________________________________________________________________\n",
      "flatten (Flatten)            (None, 7680)              0         \n",
      "_________________________________________________________________\n",
      "fc1 (Dense)                  (None, 4096)              31461376  \n",
      "_________________________________________________________________\n",
      "fc2 (Dense)                  (None, 4096)              16781312  \n",
      "_________________________________________________________________\n",
      "predictions (Dense)          (None, 9)                 36873     \n",
      "=================================================================\n",
      "Total params: 53,057,673\n",
      "Trainable params: 53,057,673\n",
      "Non-trainable params: 0\n",
      "_________________________________________________________________\n"
     ]
    }
   ],
   "source": [
    "model = load_model('/home/mabon/Tiny_power/models/original/HW/stm32/S1/model/best_model.h5')\n",
    "model.summary()\n",
    "model_pruned= model_zoo.cnn_best(input_shape=(1000, 1), emb_size=9, classification=True)\n",
    "model_pruned.summary()"
   ]
  },
  {
   "cell_type": "code",
   "execution_count": 3,
   "id": "fbad2ff3",
   "metadata": {},
   "outputs": [
    {
     "name": "stdout",
     "output_type": "stream",
     "text": [
      "Weight 0: (11, 1, 64)\n",
      "Weight 1: (64,)\n",
      "Weight 0: (11, 64, 128)\n",
      "Weight 1: (128,)\n",
      "Weight 0: (11, 128, 256)\n",
      "Weight 1: (256,)\n",
      "Weight 0: (11, 256, 512)\n",
      "Weight 1: (512,)\n",
      "Weight 0: (11, 512, 512)\n",
      "Weight 1: (512,)\n",
      "Weight 0: (7680, 4096)\n",
      "Weight 1: (4096,)\n",
      "Weight 0: (4096, 4096)\n",
      "Weight 1: (4096,)\n"
     ]
    }
   ],
   "source": [
    "mini_weights0 = []\n",
    "mini_weights1 = []\n",
    "\n",
    "for j,layer in enumerate(model_pruned.layers):\n",
    "    weights = layer.get_weights()\n",
    "    if (\"conv\" or \"dense\" in layer.name) and j != (len(model_pruned.layers) - 1) :  # Fix the attribute name from \"layer.layer\" to \"layer.name\"\n",
    "        #print(f\"Layer: {layer.name}\")\n",
    "        for i, weight in enumerate(weights):\n",
    "            print(f\"Weight {i}: {weight.shape}\")\n",
    "            if i == 0:\n",
    "                mini_weights0.append(weight)\n",
    "            else:\n",
    "                mini_weights1.append(weight)"
   ]
  },
  {
   "cell_type": "markdown",
   "id": "c72db025",
   "metadata": {},
   "source": [
    "\n",
    "In most cases, a layer in a neural network consists of two types of weights: weight 0 and weight 1. The interpretation of these weights depends on the type of layer.\n",
    "\n",
    "Dense Layer (Fully Connected Layer):\n",
    "\n",
    "Weight 0: This corresponds to the weight matrix that connects the inputs from the previous layer to the current layer.\n",
    "Weight 1: This represents the bias vector added to the outputs of the weighted inputs.\n",
    "Convolutional Layer:\n",
    "\n",
    "Weight 0: This represents the set of filters or kernels used for convolution with the input.\n",
    "Weight 1: This corresponds to the bias vector added to the outputs of the convolution operation.\n"
   ]
  },
  {
   "cell_type": "code",
   "execution_count": 4,
   "id": "c3c8a1d8",
   "metadata": {},
   "outputs": [
    {
     "name": "stdout",
     "output_type": "stream",
     "text": [
      "Weight 0: (11, 1, 64)\n",
      "Weight 1: (64,)\n",
      "Weight 0: (11, 64, 128)\n",
      "Weight 1: (128,)\n",
      "Weight 0: (11, 128, 256)\n",
      "Weight 1: (256,)\n",
      "Weight 0: (11, 256, 512)\n",
      "Weight 1: (512,)\n",
      "Weight 0: (11, 512, 512)\n",
      "Weight 1: (512,)\n",
      "Weight 0: (7680, 4096)\n",
      "Weight 1: (4096,)\n",
      "Weight 0: (4096, 4096)\n",
      "Weight 1: (4096,)\n"
     ]
    }
   ],
   "source": [
    "weights0 = []\n",
    "weights1 = []\n",
    "\n",
    "for j,layer in enumerate(model.layers):\n",
    "    weights = layer.get_weights()\n",
    "    if (\"conv\" or \"dense\" in layer.name) and j != (len(model.layers) - 1) :  # Fix the attribute name from \"layer.layer\" to \"layer.name\"\n",
    "        #print(f\"Layer: {layer.name}\")\n",
    "        for i, weight in enumerate(weights):\n",
    "            print(f\"Weight {i}: {weight.shape}\")\n",
    "            if i == 0:\n",
    "                weights0.append(weight)\n",
    "            else:\n",
    "                weights1.append(weight)\n"
   ]
  },
  {
   "cell_type": "code",
   "execution_count": 5,
   "id": "2b95c8da",
   "metadata": {},
   "outputs": [],
   "source": [
    "def replace_lowest_percent(arr, x):\n",
    "    num_elements = len(arr)\n",
    "    num_elements_to_replace = int(num_elements * (x / 100))  # Calculate the number of elements to replace\n",
    "    sorted_indices = np.argsort(arr)  # Sort the indices based on the array values\n",
    "\n",
    "    # Replace the lowest x% of elements with 0\n",
    "    arr[sorted_indices[:num_elements_to_replace]] = 0\n",
    "\n",
    "    return arr"
   ]
  },
  {
   "cell_type": "code",
   "execution_count": 6,
   "id": "8cd42705",
   "metadata": {},
   "outputs": [],
   "source": [
    "# Example usage\n",
    "x = 50  # Percentage of elements to replace with 0\n",
    "for i in range(len(weights1)):\n",
    "    weights1[i]=replace_lowest_percent(weights1[i], x)\n"
   ]
  },
  {
   "cell_type": "code",
   "execution_count": 7,
   "id": "3c20980a",
   "metadata": {},
   "outputs": [
    {
     "data": {
      "text/plain": [
       "7"
      ]
     },
     "execution_count": 7,
     "metadata": {},
     "output_type": "execute_result"
    }
   ],
   "source": [
    "len(weights1)"
   ]
  },
  {
   "cell_type": "code",
   "execution_count": 17,
   "id": "1bfc284d",
   "metadata": {},
   "outputs": [],
   "source": [
    "def copy_modified_weights(weights1,source_model, target_model):\n",
    "    i=0\n",
    "    for source_layer, target_layer in zip(source_model.layers, target_model.layers):\n",
    "        source_weights = source_layer.get_weights()\n",
    "        target_weights = target_layer.get_weights()\n",
    "        if (\"conv\" in target_layer.name ) and target_layer != target_model.layers[-1]:\n",
    "            source_weights[1]=weights1[i]\n",
    "            i=i+1\n",
    "            target_layer.set_weights(source_weights)\n",
    "            #print(\"flag\")\n",
    "            print(np.shape(source_weights[1]))\n",
    "        elif \"Dense\" == (source_layer.__class__.__name__ )and target_layer != target_model.layers[-1]:\n",
    "            source_weights[1] = weights1[i]\n",
    "            i += 1\n",
    "            target_layer.set_weights(source_weights)\n",
    "            print(np.shape(source_weights[1]))\n",
    "        else:\n",
    "            target_layer.set_weights(source_weights)\n",
    "    return target_model\n"
   ]
  },
  {
   "cell_type": "code",
   "execution_count": 18,
   "id": "3ed6f8eb",
   "metadata": {},
   "outputs": [
    {
     "name": "stdout",
     "output_type": "stream",
     "text": [
      "(64,)\n",
      "(128,)\n",
      "(256,)\n",
      "(512,)\n",
      "(512,)\n",
      "(4096,)\n",
      "(4096,)\n"
     ]
    }
   ],
   "source": [
    "model_pruned=copy_modified_weights(weights1,model, model_pruned)"
   ]
  },
  {
   "cell_type": "code",
   "execution_count": 10,
   "id": "5c81606f",
   "metadata": {},
   "outputs": [
    {
     "name": "stdout",
     "output_type": "stream",
     "text": [
      "Weight 0: (11, 1, 64)\n",
      "Weight 1: (64,)\n",
      "Weight 0: (11, 64, 128)\n",
      "Weight 1: (128,)\n",
      "Weight 0: (11, 128, 256)\n",
      "Weight 1: (256,)\n",
      "Weight 0: (11, 256, 512)\n",
      "Weight 1: (512,)\n",
      "Weight 0: (11, 512, 512)\n",
      "Weight 1: (512,)\n",
      "Weight 0: (7680, 4096)\n",
      "Weight 1: (4096,)\n",
      "Weight 0: (4096, 4096)\n",
      "Weight 1: (4096,)\n"
     ]
    }
   ],
   "source": [
    "mini_weights2 = []\n",
    "mini_weights3 = []\n",
    "\n",
    "for j,layer in enumerate(model_pruned.layers):\n",
    "    weights = layer.get_weights()\n",
    "    if (\"conv\" or \"dense\" in layer.name) and j != (len(model_pruned.layers) - 1) :  # Fix the attribute name from \"layer.layer\" to \"layer.name\"\n",
    "        #print(f\"Layer: {layer.name}\")\n",
    "        for i, weight in enumerate(weights):\n",
    "            print(f\"Weight {i}: {weight.shape}\")\n",
    "            if i == 0:\n",
    "                mini_weights2.append(weight)\n",
    "            else:\n",
    "                mini_weights3.append(weight)"
   ]
  },
  {
   "cell_type": "code",
   "execution_count": null,
   "id": "b5a10b88",
   "metadata": {},
   "outputs": [],
   "source": []
  }
 ],
 "metadata": {
  "kernelspec": {
   "display_name": "Python [conda env:tensorflow] *",
   "language": "python",
   "name": "conda-env-tensorflow-py"
  },
  "language_info": {
   "codemirror_mode": {
    "name": "ipython",
    "version": 3
   },
   "file_extension": ".py",
   "mimetype": "text/x-python",
   "name": "python",
   "nbconvert_exporter": "python",
   "pygments_lexer": "ipython3",
   "version": "3.7.13"
  }
 },
 "nbformat": 4,
 "nbformat_minor": 5
}
