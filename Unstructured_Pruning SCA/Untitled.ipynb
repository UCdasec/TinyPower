{
 "cells": [
  {
   "cell_type": "code",
   "execution_count": 1,
   "id": "1d5ec735",
   "metadata": {},
   "outputs": [
    {
     "name": "stderr",
     "output_type": "stream",
     "text": [
      "2023-07-12 13:17:15.863791: I tensorflow/stream_executor/platform/default/dso_loader.cc:49] Successfully opened dynamic library libcudart.so.10.1\n"
     ]
    },
    {
     "name": "stdout",
     "output_type": "stream",
     "text": [
      "WARNING:tensorflow:From /home/mabon/Tiny_power/ANIIPAPer/cnn/train.py:258: is_gpu_available (from tensorflow.python.framework.test_util) is deprecated and will be removed in a future version.\n",
      "Instructions for updating:\n",
      "Use `tf.config.list_physical_devices('GPU')` instead.\n"
     ]
    },
    {
     "name": "stderr",
     "output_type": "stream",
     "text": [
      "2023-07-12 13:17:16.869914: I tensorflow/core/platform/cpu_feature_guard.cc:142] This TensorFlow binary is optimized with oneAPI Deep Neural Network Library (oneDNN) to use the following CPU instructions in performance-critical operations:  SSE4.1 SSE4.2 AVX AVX2 FMA\n",
      "To enable them in other operations, rebuild TensorFlow with the appropriate compiler flags.\n",
      "2023-07-12 13:17:16.870660: I tensorflow/compiler/jit/xla_gpu_device.cc:99] Not creating XLA devices, tf_xla_enable_xla_devices not set\n",
      "2023-07-12 13:17:16.871087: I tensorflow/stream_executor/platform/default/dso_loader.cc:49] Successfully opened dynamic library libcuda.so.1\n",
      "2023-07-12 13:17:16.921940: I tensorflow/stream_executor/cuda/cuda_gpu_executor.cc:941] successful NUMA node read from SysFS had negative value (-1), but there must be at least one NUMA node, so returning NUMA node zero\n",
      "2023-07-12 13:17:16.922385: I tensorflow/core/common_runtime/gpu/gpu_device.cc:1720] Found device 0 with properties: \n",
      "pciBusID: 0000:01:00.0 name: TITAN RTX computeCapability: 7.5\n",
      "coreClock: 1.77GHz coreCount: 72 deviceMemorySize: 23.65GiB deviceMemoryBandwidth: 625.94GiB/s\n",
      "2023-07-12 13:17:16.922396: I tensorflow/stream_executor/platform/default/dso_loader.cc:49] Successfully opened dynamic library libcudart.so.10.1\n",
      "2023-07-12 13:17:16.923296: I tensorflow/stream_executor/platform/default/dso_loader.cc:49] Successfully opened dynamic library libcublas.so.10\n",
      "2023-07-12 13:17:16.923329: I tensorflow/stream_executor/platform/default/dso_loader.cc:49] Successfully opened dynamic library libcublasLt.so.10\n",
      "2023-07-12 13:17:16.924181: I tensorflow/stream_executor/platform/default/dso_loader.cc:49] Successfully opened dynamic library libcufft.so.10\n",
      "2023-07-12 13:17:16.924308: I tensorflow/stream_executor/platform/default/dso_loader.cc:49] Successfully opened dynamic library libcurand.so.10\n",
      "2023-07-12 13:17:16.925176: I tensorflow/stream_executor/platform/default/dso_loader.cc:49] Successfully opened dynamic library libcusolver.so.10\n",
      "2023-07-12 13:17:16.925655: I tensorflow/stream_executor/platform/default/dso_loader.cc:49] Successfully opened dynamic library libcusparse.so.10\n",
      "2023-07-12 13:17:16.927520: I tensorflow/stream_executor/platform/default/dso_loader.cc:49] Successfully opened dynamic library libcudnn.so.7\n",
      "2023-07-12 13:17:16.927581: I tensorflow/stream_executor/cuda/cuda_gpu_executor.cc:941] successful NUMA node read from SysFS had negative value (-1), but there must be at least one NUMA node, so returning NUMA node zero\n",
      "2023-07-12 13:17:16.928028: I tensorflow/stream_executor/cuda/cuda_gpu_executor.cc:941] successful NUMA node read from SysFS had negative value (-1), but there must be at least one NUMA node, so returning NUMA node zero\n",
      "2023-07-12 13:17:16.928433: I tensorflow/core/common_runtime/gpu/gpu_device.cc:1862] Adding visible gpu devices: 0\n",
      "2023-07-12 13:17:16.928451: I tensorflow/stream_executor/platform/default/dso_loader.cc:49] Successfully opened dynamic library libcudart.so.10.1\n",
      "2023-07-12 13:17:17.267776: I tensorflow/core/common_runtime/gpu/gpu_device.cc:1261] Device interconnect StreamExecutor with strength 1 edge matrix:\n",
      "2023-07-12 13:17:17.267798: I tensorflow/core/common_runtime/gpu/gpu_device.cc:1267]      0 \n",
      "2023-07-12 13:17:17.267802: I tensorflow/core/common_runtime/gpu/gpu_device.cc:1280] 0:   N \n",
      "2023-07-12 13:17:17.267922: I tensorflow/stream_executor/cuda/cuda_gpu_executor.cc:941] successful NUMA node read from SysFS had negative value (-1), but there must be at least one NUMA node, so returning NUMA node zero\n",
      "2023-07-12 13:17:17.268383: I tensorflow/stream_executor/cuda/cuda_gpu_executor.cc:941] successful NUMA node read from SysFS had negative value (-1), but there must be at least one NUMA node, so returning NUMA node zero\n",
      "2023-07-12 13:17:17.268815: I tensorflow/stream_executor/cuda/cuda_gpu_executor.cc:941] successful NUMA node read from SysFS had negative value (-1), but there must be at least one NUMA node, so returning NUMA node zero\n",
      "2023-07-12 13:17:17.269233: I tensorflow/core/common_runtime/gpu/gpu_device.cc:1406] Created TensorFlow device (/device:GPU:0 with 22454 MB memory) -> physical GPU (device: 0, name: TITAN RTX, pci bus id: 0000:01:00.0, compute capability: 7.5)\n"
     ]
    },
    {
     "name": "stdout",
     "output_type": "stream",
     "text": [
      "use the self-defined attack window\n",
      "training with 50000 traces\n",
      "trace data shape is:  (50000, 1000)\n",
      "[1, 1, 1, 1, 1, 1, 1]\n"
     ]
    },
    {
     "name": "stderr",
     "output_type": "stream",
     "text": [
      "2023-07-12 13:17:18.994109: I tensorflow/compiler/jit/xla_cpu_device.cc:41] Not creating XLA devices, tf_xla_enable_xla_devices not set\n",
      "2023-07-12 13:17:18.994222: I tensorflow/stream_executor/cuda/cuda_gpu_executor.cc:941] successful NUMA node read from SysFS had negative value (-1), but there must be at least one NUMA node, so returning NUMA node zero\n",
      "2023-07-12 13:17:18.994671: I tensorflow/core/common_runtime/gpu/gpu_device.cc:1720] Found device 0 with properties: \n",
      "pciBusID: 0000:01:00.0 name: TITAN RTX computeCapability: 7.5\n",
      "coreClock: 1.77GHz coreCount: 72 deviceMemorySize: 23.65GiB deviceMemoryBandwidth: 625.94GiB/s\n",
      "2023-07-12 13:17:18.994694: I tensorflow/stream_executor/platform/default/dso_loader.cc:49] Successfully opened dynamic library libcudart.so.10.1\n",
      "2023-07-12 13:17:18.994711: I tensorflow/stream_executor/platform/default/dso_loader.cc:49] Successfully opened dynamic library libcublas.so.10\n",
      "2023-07-12 13:17:18.994719: I tensorflow/stream_executor/platform/default/dso_loader.cc:49] Successfully opened dynamic library libcublasLt.so.10\n",
      "2023-07-12 13:17:18.994727: I tensorflow/stream_executor/platform/default/dso_loader.cc:49] Successfully opened dynamic library libcufft.so.10\n",
      "2023-07-12 13:17:18.994735: I tensorflow/stream_executor/platform/default/dso_loader.cc:49] Successfully opened dynamic library libcurand.so.10\n",
      "2023-07-12 13:17:18.994743: I tensorflow/stream_executor/platform/default/dso_loader.cc:49] Successfully opened dynamic library libcusolver.so.10\n",
      "2023-07-12 13:17:18.994751: I tensorflow/stream_executor/platform/default/dso_loader.cc:49] Successfully opened dynamic library libcusparse.so.10\n",
      "2023-07-12 13:17:18.994759: I tensorflow/stream_executor/platform/default/dso_loader.cc:49] Successfully opened dynamic library libcudnn.so.7\n",
      "2023-07-12 13:17:18.994792: I tensorflow/stream_executor/cuda/cuda_gpu_executor.cc:941] successful NUMA node read from SysFS had negative value (-1), but there must be at least one NUMA node, so returning NUMA node zero\n",
      "2023-07-12 13:17:18.995219: I tensorflow/stream_executor/cuda/cuda_gpu_executor.cc:941] successful NUMA node read from SysFS had negative value (-1), but there must be at least one NUMA node, so returning NUMA node zero\n",
      "2023-07-12 13:17:18.995629: I tensorflow/core/common_runtime/gpu/gpu_device.cc:1862] Adding visible gpu devices: 0\n",
      "2023-07-12 13:17:18.995721: I tensorflow/compiler/jit/xla_gpu_device.cc:99] Not creating XLA devices, tf_xla_enable_xla_devices not set\n",
      "2023-07-12 13:17:18.995760: I tensorflow/stream_executor/cuda/cuda_gpu_executor.cc:941] successful NUMA node read from SysFS had negative value (-1), but there must be at least one NUMA node, so returning NUMA node zero\n",
      "2023-07-12 13:17:18.996168: I tensorflow/core/common_runtime/gpu/gpu_device.cc:1720] Found device 0 with properties: \n",
      "pciBusID: 0000:01:00.0 name: TITAN RTX computeCapability: 7.5\n",
      "coreClock: 1.77GHz coreCount: 72 deviceMemorySize: 23.65GiB deviceMemoryBandwidth: 625.94GiB/s\n",
      "2023-07-12 13:17:18.996179: I tensorflow/stream_executor/platform/default/dso_loader.cc:49] Successfully opened dynamic library libcudart.so.10.1\n",
      "2023-07-12 13:17:18.996187: I tensorflow/stream_executor/platform/default/dso_loader.cc:49] Successfully opened dynamic library libcublas.so.10\n",
      "2023-07-12 13:17:18.996195: I tensorflow/stream_executor/platform/default/dso_loader.cc:49] Successfully opened dynamic library libcublasLt.so.10\n",
      "2023-07-12 13:17:18.996203: I tensorflow/stream_executor/platform/default/dso_loader.cc:49] Successfully opened dynamic library libcufft.so.10\n",
      "2023-07-12 13:17:18.996210: I tensorflow/stream_executor/platform/default/dso_loader.cc:49] Successfully opened dynamic library libcurand.so.10\n",
      "2023-07-12 13:17:18.996218: I tensorflow/stream_executor/platform/default/dso_loader.cc:49] Successfully opened dynamic library libcusolver.so.10\n",
      "2023-07-12 13:17:18.996226: I tensorflow/stream_executor/platform/default/dso_loader.cc:49] Successfully opened dynamic library libcusparse.so.10\n",
      "2023-07-12 13:17:18.996233: I tensorflow/stream_executor/platform/default/dso_loader.cc:49] Successfully opened dynamic library libcudnn.so.7\n",
      "2023-07-12 13:17:18.996259: I tensorflow/stream_executor/cuda/cuda_gpu_executor.cc:941] successful NUMA node read from SysFS had negative value (-1), but there must be at least one NUMA node, so returning NUMA node zero\n",
      "2023-07-12 13:17:18.996685: I tensorflow/stream_executor/cuda/cuda_gpu_executor.cc:941] successful NUMA node read from SysFS had negative value (-1), but there must be at least one NUMA node, so returning NUMA node zero\n",
      "2023-07-12 13:17:18.997088: I tensorflow/core/common_runtime/gpu/gpu_device.cc:1862] Adding visible gpu devices: 0\n",
      "2023-07-12 13:17:18.997105: I tensorflow/core/common_runtime/gpu/gpu_device.cc:1261] Device interconnect StreamExecutor with strength 1 edge matrix:\n",
      "2023-07-12 13:17:18.997108: I tensorflow/core/common_runtime/gpu/gpu_device.cc:1267]      0 \n",
      "2023-07-12 13:17:18.997110: I tensorflow/core/common_runtime/gpu/gpu_device.cc:1280] 0:   N \n",
      "2023-07-12 13:17:18.997152: I tensorflow/stream_executor/cuda/cuda_gpu_executor.cc:941] successful NUMA node read from SysFS had negative value (-1), but there must be at least one NUMA node, so returning NUMA node zero\n",
      "2023-07-12 13:17:18.997580: I tensorflow/stream_executor/cuda/cuda_gpu_executor.cc:941] successful NUMA node read from SysFS had negative value (-1), but there must be at least one NUMA node, so returning NUMA node zero\n",
      "2023-07-12 13:17:18.997989: I tensorflow/core/common_runtime/gpu/gpu_device.cc:1406] Created TensorFlow device (/job:localhost/replica:0/task:0/device:GPU:0 with 22454 MB memory) -> physical GPU (device: 0, name: TITAN RTX, pci bus id: 0000:01:00.0, compute capability: 7.5)\n"
     ]
    },
    {
     "name": "stdout",
     "output_type": "stream",
     "text": [
      "ORiginal Model\n",
      "Pruned Model\n",
      "Model: \"cnn_best\"\n",
      "_________________________________________________________________\n",
      "Layer (type)                 Output Shape              Param #   \n",
      "=================================================================\n",
      "input_1 (InputLayer)         [(None, 1000, 1)]         0         \n",
      "_________________________________________________________________\n",
      "block1_conv1 (Conv1D)        (None, 500, 64)           768       \n",
      "_________________________________________________________________\n",
      "block1_pool (AveragePooling1 (None, 250, 64)           0         \n",
      "_________________________________________________________________\n",
      "block2_conv1 (Conv1D)        (None, 250, 128)          90240     \n",
      "_________________________________________________________________\n",
      "block2_pool (AveragePooling1 (None, 125, 128)          0         \n",
      "_________________________________________________________________\n",
      "block3_conv1 (Conv1D)        (None, 125, 256)          360704    \n",
      "_________________________________________________________________\n",
      "block3_pool (AveragePooling1 (None, 62, 256)           0         \n",
      "_________________________________________________________________\n",
      "block4_conv1 (Conv1D)        (None, 62, 512)           1442304   \n",
      "_________________________________________________________________\n",
      "block4_pool (AveragePooling1 (None, 31, 512)           0         \n",
      "_________________________________________________________________\n",
      "block5_conv1 (Conv1D)        (None, 31, 512)           2884096   \n",
      "_________________________________________________________________\n",
      "block5_pool (AveragePooling1 (None, 15, 512)           0         \n",
      "_________________________________________________________________\n",
      "block_flatten (Flatten)      (None, 7680)              0         \n",
      "_________________________________________________________________\n",
      "block_fc1 (Dense)            (None, 4096)              31461376  \n",
      "_________________________________________________________________\n",
      "block_fc2 (Dense)            (None, 4096)              16781312  \n",
      "_________________________________________________________________\n",
      "preds (Dense)                (None, 9)                 36873     \n",
      "=================================================================\n",
      "Total params: 53,057,673\n",
      "Trainable params: 53,057,673\n",
      "Non-trainable params: 0\n",
      "_________________________________________________________________\n",
      "now train dnn model for HW leakage model over /home/mabon/Tiny_power/datasets/power/xmega_unmasked/X1_K1_200k.npz dataset...\n"
     ]
    },
    {
     "name": "stderr",
     "output_type": "stream",
     "text": [
      "  0%|                                                                                           | 0/150 [00:00<?, ?it/s]2023-07-12 13:17:23.738902: I tensorflow/core/profiler/lib/profiler_session.cc:136] Profiler session initializing.\n",
      "2023-07-12 13:17:23.738916: I tensorflow/core/profiler/lib/profiler_session.cc:155] Profiler session started.\n",
      "2023-07-12 13:17:23.752122: I tensorflow/core/profiler/internal/gpu/cupti_tracer.cc:1365] Profiler found 1 GPUs\n",
      "2023-07-12 13:17:23.810096: I tensorflow/stream_executor/platform/default/dso_loader.cc:49] Successfully opened dynamic library libcupti.so.10.1\n",
      "2023-07-12 13:17:23.914924: E tensorflow/core/profiler/internal/gpu/cupti_tracer.cc:1415] function cupti_interface_->Subscribe( &subscriber_, (CUpti_CallbackFunc)ApiCallback, this)failed with error CUPTI_ERROR_INSUFFICIENT_PRIVILEGES\n",
      "2023-07-12 13:17:23.916130: I tensorflow/core/profiler/lib/profiler_session.cc:172] Profiler session tear down.\n",
      "2023-07-12 13:17:24.059988: I tensorflow/compiler/mlir/mlir_graph_optimization_pass.cc:116] None of the MLIR optimization passes are enabled (registered 2)\n",
      "2023-07-12 13:17:24.079528: I tensorflow/core/platform/profile_utils/cpu_utils.cc:112] CPU Frequency: 3600000000 Hz\n",
      "2023-07-12 13:17:24.445395: I tensorflow/stream_executor/platform/default/dso_loader.cc:49] Successfully opened dynamic library libcublas.so.10\n",
      "2023-07-12 13:17:24.582336: I tensorflow/stream_executor/platform/default/dso_loader.cc:49] Successfully opened dynamic library libcudnn.so.7\n",
      "2023-07-12 13:17:25.117007: W tensorflow/stream_executor/gpu/asm_compiler.cc:63] Running ptxas --version returned 256\n",
      "2023-07-12 13:17:25.142731: W tensorflow/stream_executor/gpu/redzone_allocator.cc:314] Internal: ptxas exited with non-zero error code 256, output: \n",
      "Relying on driver to perform ptx compilation. \n",
      "Modify $PATH to customize ptxas location.\n",
      "This message will be only logged once.\n"
     ]
    },
    {
     "name": "stdout",
     "output_type": "stream",
     "text": [
      "[LOG] -- VAL ACC INCREASED........... SAVING MDOEL 0.2703999876976013\n"
     ]
    },
    {
     "name": "stderr",
     "output_type": "stream",
     "text": [
      "  1%|▌                                                                                  | 1/150 [00:19<47:49, 19.26s/it]2023-07-12 13:17:42.999312: I tensorflow/core/profiler/lib/profiler_session.cc:136] Profiler session initializing.\n",
      "2023-07-12 13:17:42.999327: I tensorflow/core/profiler/lib/profiler_session.cc:155] Profiler session started.\n",
      "2023-07-12 13:17:42.999821: E tensorflow/core/profiler/internal/gpu/cupti_tracer.cc:1415] function cupti_interface_->Subscribe( &subscriber_, (CUpti_CallbackFunc)ApiCallback, this)failed with error CUPTI_ERROR_INSUFFICIENT_PRIVILEGES\n",
      "2023-07-12 13:17:42.999839: I tensorflow/core/profiler/lib/profiler_session.cc:172] Profiler session tear down.\n"
     ]
    },
    {
     "name": "stdout",
     "output_type": "stream",
     "text": [
      "[LOG] -- Val ACC Did Not Increase\n"
     ]
    },
    {
     "name": "stderr",
     "output_type": "stream",
     "text": [
      "  1%|█                                                                                  | 2/150 [00:31<36:40, 14.87s/it]2023-07-12 13:17:54.794139: I tensorflow/core/profiler/lib/profiler_session.cc:136] Profiler session initializing.\n",
      "2023-07-12 13:17:54.794153: I tensorflow/core/profiler/lib/profiler_session.cc:155] Profiler session started.\n",
      "2023-07-12 13:17:54.794183: E tensorflow/core/profiler/internal/gpu/cupti_tracer.cc:1415] function cupti_interface_->Subscribe( &subscriber_, (CUpti_CallbackFunc)ApiCallback, this)failed with error CUPTI_ERROR_NOT_INITIALIZED\n",
      "2023-07-12 13:17:54.794193: I tensorflow/core/profiler/lib/profiler_session.cc:172] Profiler session tear down.\n"
     ]
    },
    {
     "name": "stdout",
     "output_type": "stream",
     "text": [
      "[LOG] -- Val ACC Did Not Increase\n"
     ]
    },
    {
     "name": "stderr",
     "output_type": "stream",
     "text": [
      "  2%|█▋                                                                                 | 3/150 [00:42<33:01, 13.48s/it]2023-07-12 13:18:06.627037: I tensorflow/core/profiler/lib/profiler_session.cc:136] Profiler session initializing.\n",
      "2023-07-12 13:18:06.627051: I tensorflow/core/profiler/lib/profiler_session.cc:155] Profiler session started.\n",
      "2023-07-12 13:18:06.627083: E tensorflow/core/profiler/internal/gpu/cupti_tracer.cc:1415] function cupti_interface_->Subscribe( &subscriber_, (CUpti_CallbackFunc)ApiCallback, this)failed with error CUPTI_ERROR_NOT_INITIALIZED\n",
      "2023-07-12 13:18:06.627093: I tensorflow/core/profiler/lib/profiler_session.cc:172] Profiler session tear down.\n"
     ]
    },
    {
     "name": "stdout",
     "output_type": "stream",
     "text": [
      "[LOG] -- Val ACC Did Not Increase\n"
     ]
    },
    {
     "name": "stderr",
     "output_type": "stream",
     "text": [
      "  3%|██▏                                                                                | 4/150 [00:54<31:15, 12.85s/it]2023-07-12 13:18:18.497883: I tensorflow/core/profiler/lib/profiler_session.cc:136] Profiler session initializing.\n",
      "2023-07-12 13:18:18.497897: I tensorflow/core/profiler/lib/profiler_session.cc:155] Profiler session started.\n",
      "2023-07-12 13:18:18.497926: E tensorflow/core/profiler/internal/gpu/cupti_tracer.cc:1415] function cupti_interface_->Subscribe( &subscriber_, (CUpti_CallbackFunc)ApiCallback, this)failed with error CUPTI_ERROR_NOT_INITIALIZED\n",
      "2023-07-12 13:18:18.497936: I tensorflow/core/profiler/lib/profiler_session.cc:172] Profiler session tear down.\n"
     ]
    },
    {
     "name": "stdout",
     "output_type": "stream",
     "text": [
      "[LOG] -- VAL ACC INCREASED........... SAVING MDOEL 0.2734000086784363\n"
     ]
    },
    {
     "name": "stderr",
     "output_type": "stream",
     "text": [
      "  3%|██▊                                                                                | 5/150 [01:09<32:54, 13.62s/it]2023-07-12 13:18:33.483541: I tensorflow/core/profiler/lib/profiler_session.cc:136] Profiler session initializing.\n",
      "2023-07-12 13:18:33.483556: I tensorflow/core/profiler/lib/profiler_session.cc:155] Profiler session started.\n",
      "2023-07-12 13:18:33.483587: E tensorflow/core/profiler/internal/gpu/cupti_tracer.cc:1415] function cupti_interface_->Subscribe( &subscriber_, (CUpti_CallbackFunc)ApiCallback, this)failed with error CUPTI_ERROR_NOT_INITIALIZED\n",
      "2023-07-12 13:18:33.483598: I tensorflow/core/profiler/lib/profiler_session.cc:172] Profiler session tear down.\n"
     ]
    },
    {
     "name": "stdout",
     "output_type": "stream",
     "text": [
      "[LOG] -- VAL ACC INCREASED........... SAVING MDOEL 0.295199990272522\n"
     ]
    },
    {
     "name": "stderr",
     "output_type": "stream",
     "text": [
      "  4%|███▎                                                                               | 6/150 [01:24<33:55, 14.13s/it]2023-07-12 13:18:48.619794: I tensorflow/core/profiler/lib/profiler_session.cc:136] Profiler session initializing.\n",
      "2023-07-12 13:18:48.619809: I tensorflow/core/profiler/lib/profiler_session.cc:155] Profiler session started.\n",
      "2023-07-12 13:18:48.619841: E tensorflow/core/profiler/internal/gpu/cupti_tracer.cc:1415] function cupti_interface_->Subscribe( &subscriber_, (CUpti_CallbackFunc)ApiCallback, this)failed with error CUPTI_ERROR_NOT_INITIALIZED\n",
      "2023-07-12 13:18:48.619850: I tensorflow/core/profiler/lib/profiler_session.cc:172] Profiler session tear down.\n"
     ]
    },
    {
     "name": "stdout",
     "output_type": "stream",
     "text": [
      "[LOG] -- VAL ACC INCREASED........... SAVING MDOEL 0.43799999356269836\n"
     ]
    },
    {
     "name": "stderr",
     "output_type": "stream",
     "text": [
      "  5%|███▊                                                                               | 7/150 [01:40<34:29, 14.47s/it]2023-07-12 13:19:03.782893: I tensorflow/core/profiler/lib/profiler_session.cc:136] Profiler session initializing.\n",
      "2023-07-12 13:19:03.782909: I tensorflow/core/profiler/lib/profiler_session.cc:155] Profiler session started.\n",
      "2023-07-12 13:19:03.782939: E tensorflow/core/profiler/internal/gpu/cupti_tracer.cc:1415] function cupti_interface_->Subscribe( &subscriber_, (CUpti_CallbackFunc)ApiCallback, this)failed with error CUPTI_ERROR_NOT_INITIALIZED\n",
      "2023-07-12 13:19:03.782949: I tensorflow/core/profiler/lib/profiler_session.cc:172] Profiler session tear down.\n"
     ]
    },
    {
     "name": "stdout",
     "output_type": "stream",
     "text": [
      "[LOG] -- VAL ACC INCREASED........... SAVING MDOEL 0.47200000286102295\n"
     ]
    },
    {
     "name": "stderr",
     "output_type": "stream",
     "text": [
      "  5%|████▍                                                                              | 8/150 [01:55<34:41, 14.66s/it]2023-07-12 13:19:18.837094: I tensorflow/core/profiler/lib/profiler_session.cc:136] Profiler session initializing.\n",
      "2023-07-12 13:19:18.837109: I tensorflow/core/profiler/lib/profiler_session.cc:155] Profiler session started.\n",
      "2023-07-12 13:19:18.837139: E tensorflow/core/profiler/internal/gpu/cupti_tracer.cc:1415] function cupti_interface_->Subscribe( &subscriber_, (CUpti_CallbackFunc)ApiCallback, this)failed with error CUPTI_ERROR_NOT_INITIALIZED\n",
      "2023-07-12 13:19:18.837149: I tensorflow/core/profiler/lib/profiler_session.cc:172] Profiler session tear down.\n"
     ]
    },
    {
     "name": "stdout",
     "output_type": "stream",
     "text": [
      "[LOG] -- VAL ACC INCREASED........... SAVING MDOEL 0.4864000082015991\n"
     ]
    },
    {
     "name": "stderr",
     "output_type": "stream",
     "text": [
      "  6%|████▉                                                                              | 9/150 [02:10<34:38, 14.74s/it]2023-07-12 13:19:33.768785: I tensorflow/core/profiler/lib/profiler_session.cc:136] Profiler session initializing.\n",
      "2023-07-12 13:19:33.768800: I tensorflow/core/profiler/lib/profiler_session.cc:155] Profiler session started.\n",
      "2023-07-12 13:19:33.768831: E tensorflow/core/profiler/internal/gpu/cupti_tracer.cc:1415] function cupti_interface_->Subscribe( &subscriber_, (CUpti_CallbackFunc)ApiCallback, this)failed with error CUPTI_ERROR_NOT_INITIALIZED\n",
      "2023-07-12 13:19:33.768840: I tensorflow/core/profiler/lib/profiler_session.cc:172] Profiler session tear down.\n"
     ]
    },
    {
     "name": "stdout",
     "output_type": "stream",
     "text": [
      "[LOG] -- VAL ACC INCREASED........... SAVING MDOEL 0.4966000020503998\n"
     ]
    },
    {
     "name": "stderr",
     "output_type": "stream",
     "text": [
      "  7%|█████▍                                                                            | 10/150 [02:25<34:33, 14.81s/it]2023-07-12 13:19:48.741378: I tensorflow/core/profiler/lib/profiler_session.cc:136] Profiler session initializing.\n",
      "2023-07-12 13:19:48.741393: I tensorflow/core/profiler/lib/profiler_session.cc:155] Profiler session started.\n",
      "2023-07-12 13:19:48.741424: E tensorflow/core/profiler/internal/gpu/cupti_tracer.cc:1415] function cupti_interface_->Subscribe( &subscriber_, (CUpti_CallbackFunc)ApiCallback, this)failed with error CUPTI_ERROR_NOT_INITIALIZED\n",
      "2023-07-12 13:19:48.741433: I tensorflow/core/profiler/lib/profiler_session.cc:172] Profiler session tear down.\n"
     ]
    },
    {
     "name": "stdout",
     "output_type": "stream",
     "text": [
      "[LOG] -- VAL ACC INCREASED........... SAVING MDOEL 0.4997999966144562\n"
     ]
    },
    {
     "name": "stderr",
     "output_type": "stream",
     "text": [
      "  7%|██████                                                                            | 11/150 [02:39<34:26, 14.87s/it]2023-07-12 13:20:03.723795: I tensorflow/core/profiler/lib/profiler_session.cc:136] Profiler session initializing.\n",
      "2023-07-12 13:20:03.723810: I tensorflow/core/profiler/lib/profiler_session.cc:155] Profiler session started.\n",
      "2023-07-12 13:20:03.723840: E tensorflow/core/profiler/internal/gpu/cupti_tracer.cc:1415] function cupti_interface_->Subscribe( &subscriber_, (CUpti_CallbackFunc)ApiCallback, this)failed with error CUPTI_ERROR_NOT_INITIALIZED\n",
      "2023-07-12 13:20:03.723849: I tensorflow/core/profiler/lib/profiler_session.cc:172] Profiler session tear down.\n"
     ]
    },
    {
     "name": "stdout",
     "output_type": "stream",
     "text": [
      "[LOG] -- VAL ACC INCREASED........... SAVING MDOEL 0.5275999903678894\n"
     ]
    },
    {
     "name": "stderr",
     "output_type": "stream",
     "text": [
      "  8%|██████▌                                                                           | 12/150 [02:54<34:14, 14.89s/it]2023-07-12 13:20:18.668999: I tensorflow/core/profiler/lib/profiler_session.cc:136] Profiler session initializing.\n",
      "2023-07-12 13:20:18.669013: I tensorflow/core/profiler/lib/profiler_session.cc:155] Profiler session started.\n",
      "2023-07-12 13:20:18.669043: E tensorflow/core/profiler/internal/gpu/cupti_tracer.cc:1415] function cupti_interface_->Subscribe( &subscriber_, (CUpti_CallbackFunc)ApiCallback, this)failed with error CUPTI_ERROR_NOT_INITIALIZED\n",
      "2023-07-12 13:20:18.669053: I tensorflow/core/profiler/lib/profiler_session.cc:172] Profiler session tear down.\n"
     ]
    },
    {
     "name": "stdout",
     "output_type": "stream",
     "text": [
      "[LOG] -- VAL ACC INCREASED........... SAVING MDOEL 0.5351999998092651\n"
     ]
    },
    {
     "name": "stderr",
     "output_type": "stream",
     "text": [
      "  9%|███████                                                                           | 13/150 [03:09<33:48, 14.81s/it]2023-07-12 13:20:33.281946: I tensorflow/core/profiler/lib/profiler_session.cc:136] Profiler session initializing.\n",
      "2023-07-12 13:20:33.281961: I tensorflow/core/profiler/lib/profiler_session.cc:155] Profiler session started.\n",
      "2023-07-12 13:20:33.281992: E tensorflow/core/profiler/internal/gpu/cupti_tracer.cc:1415] function cupti_interface_->Subscribe( &subscriber_, (CUpti_CallbackFunc)ApiCallback, this)failed with error CUPTI_ERROR_NOT_INITIALIZED\n",
      "2023-07-12 13:20:33.282002: I tensorflow/core/profiler/lib/profiler_session.cc:172] Profiler session tear down.\n"
     ]
    },
    {
     "name": "stdout",
     "output_type": "stream",
     "text": [
      "[LOG] -- VAL ACC INCREASED........... SAVING MDOEL 0.5401999950408936\n"
     ]
    },
    {
     "name": "stderr",
     "output_type": "stream",
     "text": [
      "  9%|███████▋                                                                          | 14/150 [03:25<34:10, 15.08s/it]2023-07-12 13:20:48.979516: I tensorflow/core/profiler/lib/profiler_session.cc:136] Profiler session initializing.\n",
      "2023-07-12 13:20:48.979531: I tensorflow/core/profiler/lib/profiler_session.cc:155] Profiler session started.\n",
      "2023-07-12 13:20:48.979561: E tensorflow/core/profiler/internal/gpu/cupti_tracer.cc:1415] function cupti_interface_->Subscribe( &subscriber_, (CUpti_CallbackFunc)ApiCallback, this)failed with error CUPTI_ERROR_NOT_INITIALIZED\n",
      "2023-07-12 13:20:48.979571: I tensorflow/core/profiler/lib/profiler_session.cc:172] Profiler session tear down.\n"
     ]
    },
    {
     "name": "stdout",
     "output_type": "stream",
     "text": [
      "[LOG] -- VAL ACC INCREASED........... SAVING MDOEL 0.5608000159263611\n"
     ]
    },
    {
     "name": "stderr",
     "output_type": "stream",
     "text": [
      " 10%|████████▏                                                                         | 15/150 [03:40<33:55, 15.08s/it]2023-07-12 13:21:04.066575: I tensorflow/core/profiler/lib/profiler_session.cc:136] Profiler session initializing.\n",
      "2023-07-12 13:21:04.066591: I tensorflow/core/profiler/lib/profiler_session.cc:155] Profiler session started.\n",
      "2023-07-12 13:21:04.066622: E tensorflow/core/profiler/internal/gpu/cupti_tracer.cc:1415] function cupti_interface_->Subscribe( &subscriber_, (CUpti_CallbackFunc)ApiCallback, this)failed with error CUPTI_ERROR_NOT_INITIALIZED\n",
      "2023-07-12 13:21:04.066631: I tensorflow/core/profiler/lib/profiler_session.cc:172] Profiler session tear down.\n"
     ]
    },
    {
     "name": "stdout",
     "output_type": "stream",
     "text": [
      "[LOG] -- VAL ACC INCREASED........... SAVING MDOEL 0.576200008392334\n"
     ]
    },
    {
     "name": "stderr",
     "output_type": "stream",
     "text": [
      " 11%|████████▋                                                                         | 16/150 [03:55<33:46, 15.12s/it]2023-07-12 13:21:19.281544: I tensorflow/core/profiler/lib/profiler_session.cc:136] Profiler session initializing.\n",
      "2023-07-12 13:21:19.281559: I tensorflow/core/profiler/lib/profiler_session.cc:155] Profiler session started.\n",
      "2023-07-12 13:21:19.281591: E tensorflow/core/profiler/internal/gpu/cupti_tracer.cc:1415] function cupti_interface_->Subscribe( &subscriber_, (CUpti_CallbackFunc)ApiCallback, this)failed with error CUPTI_ERROR_NOT_INITIALIZED\n",
      "2023-07-12 13:21:19.281617: I tensorflow/core/profiler/lib/profiler_session.cc:172] Profiler session tear down.\n"
     ]
    },
    {
     "name": "stdout",
     "output_type": "stream",
     "text": [
      "[LOG] -- Val ACC Did Not Increase\n"
     ]
    },
    {
     "name": "stderr",
     "output_type": "stream",
     "text": [
      " 11%|█████████▎                                                                        | 17/150 [04:07<31:28, 14.20s/it]2023-07-12 13:21:31.349271: I tensorflow/core/profiler/lib/profiler_session.cc:136] Profiler session initializing.\n",
      "2023-07-12 13:21:31.349286: I tensorflow/core/profiler/lib/profiler_session.cc:155] Profiler session started.\n",
      "2023-07-12 13:21:31.349317: E tensorflow/core/profiler/internal/gpu/cupti_tracer.cc:1415] function cupti_interface_->Subscribe( &subscriber_, (CUpti_CallbackFunc)ApiCallback, this)failed with error CUPTI_ERROR_NOT_INITIALIZED\n",
      "2023-07-12 13:21:31.349326: I tensorflow/core/profiler/lib/profiler_session.cc:172] Profiler session tear down.\n"
     ]
    },
    {
     "name": "stdout",
     "output_type": "stream",
     "text": [
      "[LOG] -- VAL ACC INCREASED........... SAVING MDOEL 0.5898000001907349\n"
     ]
    },
    {
     "name": "stderr",
     "output_type": "stream",
     "text": [
      " 12%|█████████▊                                                                        | 18/150 [04:22<31:50, 14.47s/it]2023-07-12 13:21:46.456784: I tensorflow/core/profiler/lib/profiler_session.cc:136] Profiler session initializing.\n",
      "2023-07-12 13:21:46.456799: I tensorflow/core/profiler/lib/profiler_session.cc:155] Profiler session started.\n",
      "2023-07-12 13:21:46.456828: E tensorflow/core/profiler/internal/gpu/cupti_tracer.cc:1415] function cupti_interface_->Subscribe( &subscriber_, (CUpti_CallbackFunc)ApiCallback, this)failed with error CUPTI_ERROR_NOT_INITIALIZED\n",
      "2023-07-12 13:21:46.456838: I tensorflow/core/profiler/lib/profiler_session.cc:172] Profiler session tear down.\n"
     ]
    },
    {
     "name": "stdout",
     "output_type": "stream",
     "text": [
      "[LOG] -- VAL ACC INCREASED........... SAVING MDOEL 0.5965999960899353\n"
     ]
    },
    {
     "name": "stderr",
     "output_type": "stream",
     "text": [
      " 13%|██████████▍                                                                       | 19/150 [04:37<31:59, 14.65s/it]2023-07-12 13:22:01.520308: I tensorflow/core/profiler/lib/profiler_session.cc:136] Profiler session initializing.\n",
      "2023-07-12 13:22:01.520323: I tensorflow/core/profiler/lib/profiler_session.cc:155] Profiler session started.\n",
      "2023-07-12 13:22:01.520354: E tensorflow/core/profiler/internal/gpu/cupti_tracer.cc:1415] function cupti_interface_->Subscribe( &subscriber_, (CUpti_CallbackFunc)ApiCallback, this)failed with error CUPTI_ERROR_NOT_INITIALIZED\n",
      "2023-07-12 13:22:01.520364: I tensorflow/core/profiler/lib/profiler_session.cc:172] Profiler session tear down.\n"
     ]
    },
    {
     "name": "stdout",
     "output_type": "stream",
     "text": [
      "[LOG] -- Val ACC Did Not Increase\n"
     ]
    },
    {
     "name": "stderr",
     "output_type": "stream",
     "text": [
      " 13%|██████████▉                                                                       | 20/150 [04:49<30:03, 13.87s/it]2023-07-12 13:22:13.585615: I tensorflow/core/profiler/lib/profiler_session.cc:136] Profiler session initializing.\n",
      "2023-07-12 13:22:13.585629: I tensorflow/core/profiler/lib/profiler_session.cc:155] Profiler session started.\n",
      "2023-07-12 13:22:13.585661: E tensorflow/core/profiler/internal/gpu/cupti_tracer.cc:1415] function cupti_interface_->Subscribe( &subscriber_, (CUpti_CallbackFunc)ApiCallback, this)failed with error CUPTI_ERROR_NOT_INITIALIZED\n",
      "2023-07-12 13:22:13.585672: I tensorflow/core/profiler/lib/profiler_session.cc:172] Profiler session tear down.\n"
     ]
    },
    {
     "name": "stdout",
     "output_type": "stream",
     "text": [
      "[LOG] -- VAL ACC INCREASED........... SAVING MDOEL 0.6074000000953674\n"
     ]
    },
    {
     "name": "stderr",
     "output_type": "stream",
     "text": [
      " 14%|███████████▍                                                                      | 21/150 [05:05<30:44, 14.30s/it]2023-07-12 13:22:28.877747: I tensorflow/core/profiler/lib/profiler_session.cc:136] Profiler session initializing.\n",
      "2023-07-12 13:22:28.877762: I tensorflow/core/profiler/lib/profiler_session.cc:155] Profiler session started.\n",
      "2023-07-12 13:22:28.877793: E tensorflow/core/profiler/internal/gpu/cupti_tracer.cc:1415] function cupti_interface_->Subscribe( &subscriber_, (CUpti_CallbackFunc)ApiCallback, this)failed with error CUPTI_ERROR_NOT_INITIALIZED\n",
      "2023-07-12 13:22:28.877803: I tensorflow/core/profiler/lib/profiler_session.cc:172] Profiler session tear down.\n"
     ]
    },
    {
     "name": "stdout",
     "output_type": "stream",
     "text": [
      "[LOG] -- VAL ACC INCREASED........... SAVING MDOEL 0.6176000237464905\n"
     ]
    },
    {
     "name": "stderr",
     "output_type": "stream",
     "text": [
      " 15%|████████████                                                                      | 22/150 [05:20<31:10, 14.61s/it]2023-07-12 13:22:44.216019: I tensorflow/core/profiler/lib/profiler_session.cc:136] Profiler session initializing.\n",
      "2023-07-12 13:22:44.216034: I tensorflow/core/profiler/lib/profiler_session.cc:155] Profiler session started.\n",
      "2023-07-12 13:22:44.216066: E tensorflow/core/profiler/internal/gpu/cupti_tracer.cc:1415] function cupti_interface_->Subscribe( &subscriber_, (CUpti_CallbackFunc)ApiCallback, this)failed with error CUPTI_ERROR_NOT_INITIALIZED\n",
      "2023-07-12 13:22:44.216076: I tensorflow/core/profiler/lib/profiler_session.cc:172] Profiler session tear down.\n"
     ]
    },
    {
     "name": "stdout",
     "output_type": "stream",
     "text": [
      "[LOG] -- Val ACC Did Not Increase\n"
     ]
    },
    {
     "name": "stderr",
     "output_type": "stream",
     "text": [
      " 15%|████████████▌                                                                     | 23/150 [05:32<29:19, 13.86s/it]2023-07-12 13:22:56.314664: I tensorflow/core/profiler/lib/profiler_session.cc:136] Profiler session initializing.\n",
      "2023-07-12 13:22:56.314679: I tensorflow/core/profiler/lib/profiler_session.cc:155] Profiler session started.\n",
      "2023-07-12 13:22:56.314710: E tensorflow/core/profiler/internal/gpu/cupti_tracer.cc:1415] function cupti_interface_->Subscribe( &subscriber_, (CUpti_CallbackFunc)ApiCallback, this)failed with error CUPTI_ERROR_NOT_INITIALIZED\n",
      "2023-07-12 13:22:56.314720: I tensorflow/core/profiler/lib/profiler_session.cc:172] Profiler session tear down.\n"
     ]
    },
    {
     "name": "stdout",
     "output_type": "stream",
     "text": [
      "[LOG] -- Val ACC Did Not Increase\n"
     ]
    },
    {
     "name": "stderr",
     "output_type": "stream",
     "text": [
      " 16%|█████████████                                                                     | 24/150 [05:44<27:58, 13.32s/it]2023-07-12 13:23:08.384293: I tensorflow/core/profiler/lib/profiler_session.cc:136] Profiler session initializing.\n",
      "2023-07-12 13:23:08.384308: I tensorflow/core/profiler/lib/profiler_session.cc:155] Profiler session started.\n",
      "2023-07-12 13:23:08.384340: E tensorflow/core/profiler/internal/gpu/cupti_tracer.cc:1415] function cupti_interface_->Subscribe( &subscriber_, (CUpti_CallbackFunc)ApiCallback, this)failed with error CUPTI_ERROR_NOT_INITIALIZED\n",
      "2023-07-12 13:23:08.384349: I tensorflow/core/profiler/lib/profiler_session.cc:172] Profiler session tear down.\n"
     ]
    },
    {
     "name": "stdout",
     "output_type": "stream",
     "text": [
      "[LOG] -- VAL ACC INCREASED........... SAVING MDOEL 0.628000020980835\n"
     ]
    },
    {
     "name": "stderr",
     "output_type": "stream",
     "text": [
      " 17%|█████████████▋                                                                    | 25/150 [06:00<29:04, 13.96s/it]2023-07-12 13:23:23.818376: I tensorflow/core/profiler/lib/profiler_session.cc:136] Profiler session initializing.\n",
      "2023-07-12 13:23:23.818391: I tensorflow/core/profiler/lib/profiler_session.cc:155] Profiler session started.\n",
      "2023-07-12 13:23:23.818421: E tensorflow/core/profiler/internal/gpu/cupti_tracer.cc:1415] function cupti_interface_->Subscribe( &subscriber_, (CUpti_CallbackFunc)ApiCallback, this)failed with error CUPTI_ERROR_NOT_INITIALIZED\n",
      "2023-07-12 13:23:23.818431: I tensorflow/core/profiler/lib/profiler_session.cc:172] Profiler session tear down.\n"
     ]
    },
    {
     "name": "stdout",
     "output_type": "stream",
     "text": [
      "[LOG] -- VAL ACC INCREASED........... SAVING MDOEL 0.6370000243186951\n"
     ]
    },
    {
     "name": "stderr",
     "output_type": "stream",
     "text": [
      " 17%|██████████████▏                                                                   | 26/150 [06:15<29:41, 14.36s/it]2023-07-12 13:23:39.133567: I tensorflow/core/profiler/lib/profiler_session.cc:136] Profiler session initializing.\n",
      "2023-07-12 13:23:39.133582: I tensorflow/core/profiler/lib/profiler_session.cc:155] Profiler session started.\n",
      "2023-07-12 13:23:39.133612: E tensorflow/core/profiler/internal/gpu/cupti_tracer.cc:1415] function cupti_interface_->Subscribe( &subscriber_, (CUpti_CallbackFunc)ApiCallback, this)failed with error CUPTI_ERROR_NOT_INITIALIZED\n",
      "2023-07-12 13:23:39.133640: I tensorflow/core/profiler/lib/profiler_session.cc:172] Profiler session tear down.\n"
     ]
    },
    {
     "name": "stdout",
     "output_type": "stream",
     "text": [
      "[LOG] -- VAL ACC INCREASED........... SAVING MDOEL 0.6431999802589417\n"
     ]
    },
    {
     "name": "stderr",
     "output_type": "stream",
     "text": [
      " 18%|██████████████▊                                                                   | 27/150 [06:29<29:31, 14.40s/it]2023-07-12 13:23:53.634299: I tensorflow/core/profiler/lib/profiler_session.cc:136] Profiler session initializing.\n",
      "2023-07-12 13:23:53.634315: I tensorflow/core/profiler/lib/profiler_session.cc:155] Profiler session started.\n",
      "2023-07-12 13:23:53.634346: E tensorflow/core/profiler/internal/gpu/cupti_tracer.cc:1415] function cupti_interface_->Subscribe( &subscriber_, (CUpti_CallbackFunc)ApiCallback, this)failed with error CUPTI_ERROR_NOT_INITIALIZED\n",
      "2023-07-12 13:23:53.634356: I tensorflow/core/profiler/lib/profiler_session.cc:172] Profiler session tear down.\n"
     ]
    },
    {
     "name": "stdout",
     "output_type": "stream",
     "text": [
      "[LOG] -- Val ACC Did Not Increase\n"
     ]
    },
    {
     "name": "stderr",
     "output_type": "stream",
     "text": [
      " 19%|███████████████▎                                                                  | 28/150 [06:42<27:53, 13.72s/it]2023-07-12 13:24:05.746247: I tensorflow/core/profiler/lib/profiler_session.cc:136] Profiler session initializing.\n",
      "2023-07-12 13:24:05.746262: I tensorflow/core/profiler/lib/profiler_session.cc:155] Profiler session started.\n",
      "2023-07-12 13:24:05.746292: E tensorflow/core/profiler/internal/gpu/cupti_tracer.cc:1415] function cupti_interface_->Subscribe( &subscriber_, (CUpti_CallbackFunc)ApiCallback, this)failed with error CUPTI_ERROR_NOT_INITIALIZED\n",
      "2023-07-12 13:24:05.746302: I tensorflow/core/profiler/lib/profiler_session.cc:172] Profiler session tear down.\n"
     ]
    },
    {
     "name": "stdout",
     "output_type": "stream",
     "text": [
      "[LOG] -- Val ACC Did Not Increase\n"
     ]
    },
    {
     "name": "stderr",
     "output_type": "stream",
     "text": [
      " 19%|███████████████▊                                                                  | 29/150 [06:54<26:41, 13.24s/it]2023-07-12 13:24:17.865186: I tensorflow/core/profiler/lib/profiler_session.cc:136] Profiler session initializing.\n",
      "2023-07-12 13:24:17.865202: I tensorflow/core/profiler/lib/profiler_session.cc:155] Profiler session started.\n",
      "2023-07-12 13:24:17.865231: E tensorflow/core/profiler/internal/gpu/cupti_tracer.cc:1415] function cupti_interface_->Subscribe( &subscriber_, (CUpti_CallbackFunc)ApiCallback, this)failed with error CUPTI_ERROR_NOT_INITIALIZED\n",
      "2023-07-12 13:24:17.865241: I tensorflow/core/profiler/lib/profiler_session.cc:172] Profiler session tear down.\n"
     ]
    },
    {
     "name": "stdout",
     "output_type": "stream",
     "text": [
      "[LOG] -- Val ACC Did Not Increase\n"
     ]
    },
    {
     "name": "stderr",
     "output_type": "stream",
     "text": [
      " 20%|████████████████▍                                                                 | 30/150 [07:06<25:48, 12.90s/it]2023-07-12 13:24:29.979155: I tensorflow/core/profiler/lib/profiler_session.cc:136] Profiler session initializing.\n",
      "2023-07-12 13:24:29.979171: I tensorflow/core/profiler/lib/profiler_session.cc:155] Profiler session started.\n",
      "2023-07-12 13:24:29.979203: E tensorflow/core/profiler/internal/gpu/cupti_tracer.cc:1415] function cupti_interface_->Subscribe( &subscriber_, (CUpti_CallbackFunc)ApiCallback, this)failed with error CUPTI_ERROR_NOT_INITIALIZED\n",
      "2023-07-12 13:24:29.979213: I tensorflow/core/profiler/lib/profiler_session.cc:172] Profiler session tear down.\n"
     ]
    },
    {
     "name": "stdout",
     "output_type": "stream",
     "text": [
      "[LOG] -- VAL ACC INCREASED........... SAVING MDOEL 0.6480000019073486\n"
     ]
    },
    {
     "name": "stderr",
     "output_type": "stream",
     "text": [
      " 21%|████████████████▉                                                                 | 31/150 [07:21<27:08, 13.69s/it]2023-07-12 13:24:45.503082: I tensorflow/core/profiler/lib/profiler_session.cc:136] Profiler session initializing.\n",
      "2023-07-12 13:24:45.503097: I tensorflow/core/profiler/lib/profiler_session.cc:155] Profiler session started.\n",
      "2023-07-12 13:24:45.503128: E tensorflow/core/profiler/internal/gpu/cupti_tracer.cc:1415] function cupti_interface_->Subscribe( &subscriber_, (CUpti_CallbackFunc)ApiCallback, this)failed with error CUPTI_ERROR_NOT_INITIALIZED\n",
      "2023-07-12 13:24:45.503138: I tensorflow/core/profiler/lib/profiler_session.cc:172] Profiler session tear down.\n"
     ]
    },
    {
     "name": "stdout",
     "output_type": "stream",
     "text": [
      "[LOG] -- Val ACC Did Not Increase\n"
     ]
    },
    {
     "name": "stderr",
     "output_type": "stream",
     "text": [
      " 21%|█████████████████▍                                                                | 32/150 [07:33<25:59, 13.22s/it]2023-07-12 13:24:57.617776: I tensorflow/core/profiler/lib/profiler_session.cc:136] Profiler session initializing.\n",
      "2023-07-12 13:24:57.617790: I tensorflow/core/profiler/lib/profiler_session.cc:155] Profiler session started.\n",
      "2023-07-12 13:24:57.617821: E tensorflow/core/profiler/internal/gpu/cupti_tracer.cc:1415] function cupti_interface_->Subscribe( &subscriber_, (CUpti_CallbackFunc)ApiCallback, this)failed with error CUPTI_ERROR_NOT_INITIALIZED\n",
      "2023-07-12 13:24:57.617830: I tensorflow/core/profiler/lib/profiler_session.cc:172] Profiler session tear down.\n"
     ]
    },
    {
     "name": "stdout",
     "output_type": "stream",
     "text": [
      "[LOG] -- VAL ACC INCREASED........... SAVING MDOEL 0.6570000052452087\n"
     ]
    },
    {
     "name": "stderr",
     "output_type": "stream",
     "text": [
      " 22%|██████████████████                                                                | 33/150 [07:49<27:02, 13.87s/it]2023-07-12 13:25:13.014057: I tensorflow/core/profiler/lib/profiler_session.cc:136] Profiler session initializing.\n",
      "2023-07-12 13:25:13.014072: I tensorflow/core/profiler/lib/profiler_session.cc:155] Profiler session started.\n",
      "2023-07-12 13:25:13.014104: E tensorflow/core/profiler/internal/gpu/cupti_tracer.cc:1415] function cupti_interface_->Subscribe( &subscriber_, (CUpti_CallbackFunc)ApiCallback, this)failed with error CUPTI_ERROR_NOT_INITIALIZED\n",
      "2023-07-12 13:25:13.014113: I tensorflow/core/profiler/lib/profiler_session.cc:172] Profiler session tear down.\n"
     ]
    },
    {
     "name": "stdout",
     "output_type": "stream",
     "text": [
      "[LOG] -- Val ACC Did Not Increase\n"
     ]
    },
    {
     "name": "stderr",
     "output_type": "stream",
     "text": [
      " 23%|██████████████████▌                                                               | 34/150 [08:01<25:48, 13.35s/it]2023-07-12 13:25:25.140603: I tensorflow/core/profiler/lib/profiler_session.cc:136] Profiler session initializing.\n",
      "2023-07-12 13:25:25.140617: I tensorflow/core/profiler/lib/profiler_session.cc:155] Profiler session started.\n",
      "2023-07-12 13:25:25.140649: E tensorflow/core/profiler/internal/gpu/cupti_tracer.cc:1415] function cupti_interface_->Subscribe( &subscriber_, (CUpti_CallbackFunc)ApiCallback, this)failed with error CUPTI_ERROR_NOT_INITIALIZED\n",
      "2023-07-12 13:25:25.140659: I tensorflow/core/profiler/lib/profiler_session.cc:172] Profiler session tear down.\n"
     ]
    },
    {
     "name": "stdout",
     "output_type": "stream",
     "text": [
      "[LOG] -- Val ACC Did Not Increase\n"
     ]
    },
    {
     "name": "stderr",
     "output_type": "stream",
     "text": [
      " 23%|███████████████████▏                                                              | 35/150 [08:13<24:53, 12.98s/it]2023-07-12 13:25:37.280680: I tensorflow/core/profiler/lib/profiler_session.cc:136] Profiler session initializing.\n",
      "2023-07-12 13:25:37.280695: I tensorflow/core/profiler/lib/profiler_session.cc:155] Profiler session started.\n",
      "2023-07-12 13:25:37.280726: E tensorflow/core/profiler/internal/gpu/cupti_tracer.cc:1415] function cupti_interface_->Subscribe( &subscriber_, (CUpti_CallbackFunc)ApiCallback, this)failed with error CUPTI_ERROR_NOT_INITIALIZED\n",
      "2023-07-12 13:25:37.280736: I tensorflow/core/profiler/lib/profiler_session.cc:172] Profiler session tear down.\n"
     ]
    },
    {
     "name": "stdout",
     "output_type": "stream",
     "text": [
      "[LOG] -- Val ACC Did Not Increase\n"
     ]
    },
    {
     "name": "stderr",
     "output_type": "stream",
     "text": [
      " 24%|███████████████████▋                                                              | 36/150 [08:25<24:10, 12.72s/it]2023-07-12 13:25:49.387718: I tensorflow/core/profiler/lib/profiler_session.cc:136] Profiler session initializing.\n",
      "2023-07-12 13:25:49.387732: I tensorflow/core/profiler/lib/profiler_session.cc:155] Profiler session started.\n",
      "2023-07-12 13:25:49.387762: E tensorflow/core/profiler/internal/gpu/cupti_tracer.cc:1415] function cupti_interface_->Subscribe( &subscriber_, (CUpti_CallbackFunc)ApiCallback, this)failed with error CUPTI_ERROR_NOT_INITIALIZED\n",
      "2023-07-12 13:25:49.387772: I tensorflow/core/profiler/lib/profiler_session.cc:172] Profiler session tear down.\n"
     ]
    },
    {
     "name": "stdout",
     "output_type": "stream",
     "text": [
      "[LOG] -- VAL ACC INCREASED........... SAVING MDOEL 0.6642000079154968\n"
     ]
    },
    {
     "name": "stderr",
     "output_type": "stream",
     "text": [
      " 25%|████████████████████▏                                                             | 37/150 [08:40<25:24, 13.49s/it]2023-07-12 13:26:04.674447: I tensorflow/core/profiler/lib/profiler_session.cc:136] Profiler session initializing.\n",
      "2023-07-12 13:26:04.674461: I tensorflow/core/profiler/lib/profiler_session.cc:155] Profiler session started.\n",
      "2023-07-12 13:26:04.674491: E tensorflow/core/profiler/internal/gpu/cupti_tracer.cc:1415] function cupti_interface_->Subscribe( &subscriber_, (CUpti_CallbackFunc)ApiCallback, this)failed with error CUPTI_ERROR_NOT_INITIALIZED\n",
      "2023-07-12 13:26:04.674500: I tensorflow/core/profiler/lib/profiler_session.cc:172] Profiler session tear down.\n"
     ]
    },
    {
     "name": "stdout",
     "output_type": "stream",
     "text": [
      "[LOG] -- VAL ACC INCREASED........... SAVING MDOEL 0.6664000153541565\n"
     ]
    },
    {
     "name": "stderr",
     "output_type": "stream",
     "text": [
      " 25%|████████████████████▊                                                             | 38/150 [08:56<26:10, 14.02s/it]2023-07-12 13:26:19.940965: I tensorflow/core/profiler/lib/profiler_session.cc:136] Profiler session initializing.\n",
      "2023-07-12 13:26:19.940980: I tensorflow/core/profiler/lib/profiler_session.cc:155] Profiler session started.\n",
      "2023-07-12 13:26:19.941012: E tensorflow/core/profiler/internal/gpu/cupti_tracer.cc:1415] function cupti_interface_->Subscribe( &subscriber_, (CUpti_CallbackFunc)ApiCallback, this)failed with error CUPTI_ERROR_NOT_INITIALIZED\n",
      "2023-07-12 13:26:19.941021: I tensorflow/core/profiler/lib/profiler_session.cc:172] Profiler session tear down.\n"
     ]
    },
    {
     "name": "stdout",
     "output_type": "stream",
     "text": [
      "[LOG] -- Val ACC Did Not Increase\n"
     ]
    },
    {
     "name": "stderr",
     "output_type": "stream",
     "text": [
      " 26%|█████████████████████▎                                                            | 39/150 [09:08<24:54, 13.47s/it]2023-07-12 13:26:32.107889: I tensorflow/core/profiler/lib/profiler_session.cc:136] Profiler session initializing.\n",
      "2023-07-12 13:26:32.107903: I tensorflow/core/profiler/lib/profiler_session.cc:155] Profiler session started.\n",
      "2023-07-12 13:26:32.107935: E tensorflow/core/profiler/internal/gpu/cupti_tracer.cc:1415] function cupti_interface_->Subscribe( &subscriber_, (CUpti_CallbackFunc)ApiCallback, this)failed with error CUPTI_ERROR_NOT_INITIALIZED\n",
      "2023-07-12 13:26:32.107945: I tensorflow/core/profiler/lib/profiler_session.cc:172] Profiler session tear down.\n"
     ]
    },
    {
     "name": "stdout",
     "output_type": "stream",
     "text": [
      "[LOG] -- Val ACC Did Not Increase\n"
     ]
    },
    {
     "name": "stderr",
     "output_type": "stream",
     "text": [
      " 27%|█████████████████████▊                                                            | 40/150 [09:20<23:57, 13.07s/it]2023-07-12 13:26:44.238447: I tensorflow/core/profiler/lib/profiler_session.cc:136] Profiler session initializing.\n",
      "2023-07-12 13:26:44.238461: I tensorflow/core/profiler/lib/profiler_session.cc:155] Profiler session started.\n",
      "2023-07-12 13:26:44.238491: E tensorflow/core/profiler/internal/gpu/cupti_tracer.cc:1415] function cupti_interface_->Subscribe( &subscriber_, (CUpti_CallbackFunc)ApiCallback, this)failed with error CUPTI_ERROR_NOT_INITIALIZED\n",
      "2023-07-12 13:26:44.238501: I tensorflow/core/profiler/lib/profiler_session.cc:172] Profiler session tear down.\n"
     ]
    },
    {
     "name": "stdout",
     "output_type": "stream",
     "text": [
      "[LOG] -- VAL ACC INCREASED........... SAVING MDOEL 0.6679999828338623\n"
     ]
    },
    {
     "name": "stderr",
     "output_type": "stream",
     "text": [
      " 27%|██████████████████████▍                                                           | 41/150 [09:35<24:51, 13.69s/it]2023-07-12 13:26:59.372707: I tensorflow/core/profiler/lib/profiler_session.cc:136] Profiler session initializing.\n",
      "2023-07-12 13:26:59.372722: I tensorflow/core/profiler/lib/profiler_session.cc:155] Profiler session started.\n",
      "2023-07-12 13:26:59.372753: E tensorflow/core/profiler/internal/gpu/cupti_tracer.cc:1415] function cupti_interface_->Subscribe( &subscriber_, (CUpti_CallbackFunc)ApiCallback, this)failed with error CUPTI_ERROR_NOT_INITIALIZED\n",
      "2023-07-12 13:26:59.372763: I tensorflow/core/profiler/lib/profiler_session.cc:172] Profiler session tear down.\n"
     ]
    },
    {
     "name": "stdout",
     "output_type": "stream",
     "text": [
      "[LOG] -- Val ACC Did Not Increase\n"
     ]
    },
    {
     "name": "stderr",
     "output_type": "stream",
     "text": [
      " 28%|██████████████████████▉                                                           | 42/150 [09:47<23:48, 13.22s/it]2023-07-12 13:27:11.517098: I tensorflow/core/profiler/lib/profiler_session.cc:136] Profiler session initializing.\n",
      "2023-07-12 13:27:11.517112: I tensorflow/core/profiler/lib/profiler_session.cc:155] Profiler session started.\n",
      "2023-07-12 13:27:11.517142: E tensorflow/core/profiler/internal/gpu/cupti_tracer.cc:1415] function cupti_interface_->Subscribe( &subscriber_, (CUpti_CallbackFunc)ApiCallback, this)failed with error CUPTI_ERROR_NOT_INITIALIZED\n",
      "2023-07-12 13:27:11.517152: I tensorflow/core/profiler/lib/profiler_session.cc:172] Profiler session tear down.\n"
     ]
    },
    {
     "name": "stdout",
     "output_type": "stream",
     "text": [
      "[LOG] -- VAL ACC INCREASED........... SAVING MDOEL 0.6747999787330627\n"
     ]
    },
    {
     "name": "stderr",
     "output_type": "stream",
     "text": [
      " 29%|███████████████████████▌                                                          | 43/150 [10:03<24:42, 13.86s/it]2023-07-12 13:27:26.860996: I tensorflow/core/profiler/lib/profiler_session.cc:136] Profiler session initializing.\n",
      "2023-07-12 13:27:26.861010: I tensorflow/core/profiler/lib/profiler_session.cc:155] Profiler session started.\n",
      "2023-07-12 13:27:26.861040: E tensorflow/core/profiler/internal/gpu/cupti_tracer.cc:1415] function cupti_interface_->Subscribe( &subscriber_, (CUpti_CallbackFunc)ApiCallback, this)failed with error CUPTI_ERROR_NOT_INITIALIZED\n",
      "2023-07-12 13:27:26.861049: I tensorflow/core/profiler/lib/profiler_session.cc:172] Profiler session tear down.\n"
     ]
    },
    {
     "name": "stdout",
     "output_type": "stream",
     "text": [
      "[LOG] -- VAL ACC INCREASED........... SAVING MDOEL 0.6779999732971191\n"
     ]
    },
    {
     "name": "stderr",
     "output_type": "stream",
     "text": [
      " 29%|████████████████████████                                                          | 44/150 [10:18<25:11, 14.26s/it]2023-07-12 13:27:42.066390: I tensorflow/core/profiler/lib/profiler_session.cc:136] Profiler session initializing.\n",
      "2023-07-12 13:27:42.066405: I tensorflow/core/profiler/lib/profiler_session.cc:155] Profiler session started.\n",
      "2023-07-12 13:27:42.066436: E tensorflow/core/profiler/internal/gpu/cupti_tracer.cc:1415] function cupti_interface_->Subscribe( &subscriber_, (CUpti_CallbackFunc)ApiCallback, this)failed with error CUPTI_ERROR_NOT_INITIALIZED\n",
      "2023-07-12 13:27:42.066445: I tensorflow/core/profiler/lib/profiler_session.cc:172] Profiler session tear down.\n"
     ]
    },
    {
     "name": "stdout",
     "output_type": "stream",
     "text": [
      "[LOG] -- Val ACC Did Not Increase\n"
     ]
    },
    {
     "name": "stderr",
     "output_type": "stream",
     "text": [
      " 30%|████████████████████████▌                                                         | 45/150 [10:30<23:50, 13.62s/it]2023-07-12 13:27:54.192538: I tensorflow/core/profiler/lib/profiler_session.cc:136] Profiler session initializing.\n",
      "2023-07-12 13:27:54.192553: I tensorflow/core/profiler/lib/profiler_session.cc:155] Profiler session started.\n",
      "2023-07-12 13:27:54.192584: E tensorflow/core/profiler/internal/gpu/cupti_tracer.cc:1415] function cupti_interface_->Subscribe( &subscriber_, (CUpti_CallbackFunc)ApiCallback, this)failed with error CUPTI_ERROR_NOT_INITIALIZED\n",
      "2023-07-12 13:27:54.192594: I tensorflow/core/profiler/lib/profiler_session.cc:172] Profiler session tear down.\n"
     ]
    },
    {
     "name": "stdout",
     "output_type": "stream",
     "text": [
      "[LOG] -- Val ACC Did Not Increase\n"
     ]
    },
    {
     "name": "stderr",
     "output_type": "stream",
     "text": [
      " 31%|█████████████████████████▏                                                        | 46/150 [10:42<22:50, 13.18s/it]2023-07-12 13:28:06.333512: I tensorflow/core/profiler/lib/profiler_session.cc:136] Profiler session initializing.\n",
      "2023-07-12 13:28:06.333526: I tensorflow/core/profiler/lib/profiler_session.cc:155] Profiler session started.\n",
      "2023-07-12 13:28:06.333557: E tensorflow/core/profiler/internal/gpu/cupti_tracer.cc:1415] function cupti_interface_->Subscribe( &subscriber_, (CUpti_CallbackFunc)ApiCallback, this)failed with error CUPTI_ERROR_NOT_INITIALIZED\n",
      "2023-07-12 13:28:06.333567: I tensorflow/core/profiler/lib/profiler_session.cc:172] Profiler session tear down.\n"
     ]
    },
    {
     "name": "stdout",
     "output_type": "stream",
     "text": [
      "[LOG] -- Val ACC Did Not Increase\n"
     ]
    },
    {
     "name": "stderr",
     "output_type": "stream",
     "text": [
      " 31%|█████████████████████████▋                                                        | 47/150 [10:54<22:05, 12.87s/it]2023-07-12 13:28:18.488205: I tensorflow/core/profiler/lib/profiler_session.cc:136] Profiler session initializing.\n",
      "2023-07-12 13:28:18.488220: I tensorflow/core/profiler/lib/profiler_session.cc:155] Profiler session started.\n",
      "2023-07-12 13:28:18.488250: E tensorflow/core/profiler/internal/gpu/cupti_tracer.cc:1415] function cupti_interface_->Subscribe( &subscriber_, (CUpti_CallbackFunc)ApiCallback, this)failed with error CUPTI_ERROR_NOT_INITIALIZED\n",
      "2023-07-12 13:28:18.488260: I tensorflow/core/profiler/lib/profiler_session.cc:172] Profiler session tear down.\n"
     ]
    },
    {
     "name": "stdout",
     "output_type": "stream",
     "text": [
      "[LOG] -- Val ACC Did Not Increase\n"
     ]
    },
    {
     "name": "stderr",
     "output_type": "stream",
     "text": [
      " 32%|██████████████████████████▏                                                       | 48/150 [11:06<21:30, 12.65s/it]2023-07-12 13:28:30.616669: I tensorflow/core/profiler/lib/profiler_session.cc:136] Profiler session initializing.\n",
      "2023-07-12 13:28:30.616683: I tensorflow/core/profiler/lib/profiler_session.cc:155] Profiler session started.\n",
      "2023-07-12 13:28:30.616714: E tensorflow/core/profiler/internal/gpu/cupti_tracer.cc:1415] function cupti_interface_->Subscribe( &subscriber_, (CUpti_CallbackFunc)ApiCallback, this)failed with error CUPTI_ERROR_NOT_INITIALIZED\n",
      "2023-07-12 13:28:30.616724: I tensorflow/core/profiler/lib/profiler_session.cc:172] Profiler session tear down.\n"
     ]
    },
    {
     "name": "stdout",
     "output_type": "stream",
     "text": [
      "[LOG] -- VAL ACC INCREASED........... SAVING MDOEL 0.6850000023841858\n"
     ]
    },
    {
     "name": "stderr",
     "output_type": "stream",
     "text": [
      " 33%|██████████████████████████▊                                                       | 49/150 [11:22<22:37, 13.44s/it]2023-07-12 13:28:45.914870: I tensorflow/core/profiler/lib/profiler_session.cc:136] Profiler session initializing.\n",
      "2023-07-12 13:28:45.914885: I tensorflow/core/profiler/lib/profiler_session.cc:155] Profiler session started.\n",
      "2023-07-12 13:28:45.914916: E tensorflow/core/profiler/internal/gpu/cupti_tracer.cc:1415] function cupti_interface_->Subscribe( &subscriber_, (CUpti_CallbackFunc)ApiCallback, this)failed with error CUPTI_ERROR_NOT_INITIALIZED\n",
      "2023-07-12 13:28:45.914926: I tensorflow/core/profiler/lib/profiler_session.cc:172] Profiler session tear down.\n"
     ]
    },
    {
     "name": "stdout",
     "output_type": "stream",
     "text": [
      "[LOG] -- VAL ACC INCREASED........... SAVING MDOEL 0.6894000172615051\n"
     ]
    },
    {
     "name": "stderr",
     "output_type": "stream",
     "text": [
      " 33%|███████████████████████████▎                                                      | 50/150 [11:37<23:09, 13.90s/it]2023-07-12 13:29:00.865061: I tensorflow/core/profiler/lib/profiler_session.cc:136] Profiler session initializing.\n",
      "2023-07-12 13:29:00.865092: I tensorflow/core/profiler/lib/profiler_session.cc:155] Profiler session started.\n",
      "2023-07-12 13:29:00.865148: E tensorflow/core/profiler/internal/gpu/cupti_tracer.cc:1415] function cupti_interface_->Subscribe( &subscriber_, (CUpti_CallbackFunc)ApiCallback, this)failed with error CUPTI_ERROR_NOT_INITIALIZED\n",
      "2023-07-12 13:29:00.865171: I tensorflow/core/profiler/lib/profiler_session.cc:172] Profiler session tear down.\n"
     ]
    },
    {
     "name": "stdout",
     "output_type": "stream",
     "text": [
      "[LOG] -- Val ACC Did Not Increase\n"
     ]
    },
    {
     "name": "stderr",
     "output_type": "stream",
     "text": [
      " 34%|███████████████████████████▉                                                      | 51/150 [11:49<22:03, 13.37s/it]2023-07-12 13:29:13.014905: I tensorflow/core/profiler/lib/profiler_session.cc:136] Profiler session initializing.\n",
      "2023-07-12 13:29:13.014920: I tensorflow/core/profiler/lib/profiler_session.cc:155] Profiler session started.\n",
      "2023-07-12 13:29:13.014951: E tensorflow/core/profiler/internal/gpu/cupti_tracer.cc:1415] function cupti_interface_->Subscribe( &subscriber_, (CUpti_CallbackFunc)ApiCallback, this)failed with error CUPTI_ERROR_NOT_INITIALIZED\n",
      "2023-07-12 13:29:13.014960: I tensorflow/core/profiler/lib/profiler_session.cc:172] Profiler session tear down.\n"
     ]
    },
    {
     "name": "stdout",
     "output_type": "stream",
     "text": [
      "[LOG] -- Val ACC Did Not Increase\n"
     ]
    },
    {
     "name": "stderr",
     "output_type": "stream",
     "text": [
      " 35%|████████████████████████████▍                                                     | 52/150 [12:01<21:13, 13.00s/it]2023-07-12 13:29:25.133841: I tensorflow/core/profiler/lib/profiler_session.cc:136] Profiler session initializing.\n",
      "2023-07-12 13:29:25.133855: I tensorflow/core/profiler/lib/profiler_session.cc:155] Profiler session started.\n",
      "2023-07-12 13:29:25.133886: E tensorflow/core/profiler/internal/gpu/cupti_tracer.cc:1415] function cupti_interface_->Subscribe( &subscriber_, (CUpti_CallbackFunc)ApiCallback, this)failed with error CUPTI_ERROR_NOT_INITIALIZED\n",
      "2023-07-12 13:29:25.133896: I tensorflow/core/profiler/lib/profiler_session.cc:172] Profiler session tear down.\n"
     ]
    },
    {
     "name": "stdout",
     "output_type": "stream",
     "text": [
      "[LOG] -- Val ACC Did Not Increase\n"
     ]
    },
    {
     "name": "stderr",
     "output_type": "stream",
     "text": [
      " 35%|████████████████████████████▉                                                     | 53/150 [12:13<20:36, 12.74s/it]2023-07-12 13:29:37.289309: I tensorflow/core/profiler/lib/profiler_session.cc:136] Profiler session initializing.\n",
      "2023-07-12 13:29:37.289324: I tensorflow/core/profiler/lib/profiler_session.cc:155] Profiler session started.\n",
      "2023-07-12 13:29:37.289354: E tensorflow/core/profiler/internal/gpu/cupti_tracer.cc:1415] function cupti_interface_->Subscribe( &subscriber_, (CUpti_CallbackFunc)ApiCallback, this)failed with error CUPTI_ERROR_NOT_INITIALIZED\n",
      "2023-07-12 13:29:37.289363: I tensorflow/core/profiler/lib/profiler_session.cc:172] Profiler session tear down.\n"
     ]
    },
    {
     "name": "stdout",
     "output_type": "stream",
     "text": [
      "[LOG] -- VAL ACC INCREASED........... SAVING MDOEL 0.6923999786376953\n"
     ]
    },
    {
     "name": "stderr",
     "output_type": "stream",
     "text": [
      " 36%|█████████████████████████████▌                                                    | 54/150 [12:28<21:34, 13.48s/it]2023-07-12 13:29:52.487341: I tensorflow/core/profiler/lib/profiler_session.cc:136] Profiler session initializing.\n",
      "2023-07-12 13:29:52.487357: I tensorflow/core/profiler/lib/profiler_session.cc:155] Profiler session started.\n",
      "2023-07-12 13:29:52.487388: E tensorflow/core/profiler/internal/gpu/cupti_tracer.cc:1415] function cupti_interface_->Subscribe( &subscriber_, (CUpti_CallbackFunc)ApiCallback, this)failed with error CUPTI_ERROR_NOT_INITIALIZED\n",
      "2023-07-12 13:29:52.487398: I tensorflow/core/profiler/lib/profiler_session.cc:172] Profiler session tear down.\n"
     ]
    },
    {
     "name": "stdout",
     "output_type": "stream",
     "text": [
      "[LOG] -- Val ACC Did Not Increase\n"
     ]
    },
    {
     "name": "stderr",
     "output_type": "stream",
     "text": [
      " 37%|██████████████████████████████                                                    | 55/150 [12:40<20:42, 13.08s/it]2023-07-12 13:30:04.643593: I tensorflow/core/profiler/lib/profiler_session.cc:136] Profiler session initializing.\n",
      "2023-07-12 13:30:04.643608: I tensorflow/core/profiler/lib/profiler_session.cc:155] Profiler session started.\n",
      "2023-07-12 13:30:04.643638: E tensorflow/core/profiler/internal/gpu/cupti_tracer.cc:1415] function cupti_interface_->Subscribe( &subscriber_, (CUpti_CallbackFunc)ApiCallback, this)failed with error CUPTI_ERROR_NOT_INITIALIZED\n",
      "2023-07-12 13:30:04.643648: I tensorflow/core/profiler/lib/profiler_session.cc:172] Profiler session tear down.\n"
     ]
    },
    {
     "name": "stdout",
     "output_type": "stream",
     "text": [
      "[LOG] -- Val ACC Did Not Increase\n"
     ]
    },
    {
     "name": "stderr",
     "output_type": "stream",
     "text": [
      " 37%|██████████████████████████████▌                                                   | 56/150 [12:53<20:02, 12.79s/it]2023-07-12 13:30:16.766493: I tensorflow/core/profiler/lib/profiler_session.cc:136] Profiler session initializing.\n",
      "2023-07-12 13:30:16.766507: I tensorflow/core/profiler/lib/profiler_session.cc:155] Profiler session started.\n",
      "2023-07-12 13:30:16.766538: E tensorflow/core/profiler/internal/gpu/cupti_tracer.cc:1415] function cupti_interface_->Subscribe( &subscriber_, (CUpti_CallbackFunc)ApiCallback, this)failed with error CUPTI_ERROR_NOT_INITIALIZED\n",
      "2023-07-12 13:30:16.766547: I tensorflow/core/profiler/lib/profiler_session.cc:172] Profiler session tear down.\n"
     ]
    },
    {
     "name": "stdout",
     "output_type": "stream",
     "text": [
      "[LOG] -- Val ACC Did Not Increase\n"
     ]
    },
    {
     "name": "stderr",
     "output_type": "stream",
     "text": [
      " 38%|███████████████████████████████▏                                                  | 57/150 [13:05<19:31, 12.60s/it]2023-07-12 13:30:28.902074: I tensorflow/core/profiler/lib/profiler_session.cc:136] Profiler session initializing.\n",
      "2023-07-12 13:30:28.902087: I tensorflow/core/profiler/lib/profiler_session.cc:155] Profiler session started.\n",
      "2023-07-12 13:30:28.902118: E tensorflow/core/profiler/internal/gpu/cupti_tracer.cc:1415] function cupti_interface_->Subscribe( &subscriber_, (CUpti_CallbackFunc)ApiCallback, this)failed with error CUPTI_ERROR_NOT_INITIALIZED\n",
      "2023-07-12 13:30:28.902128: I tensorflow/core/profiler/lib/profiler_session.cc:172] Profiler session tear down.\n"
     ]
    },
    {
     "name": "stdout",
     "output_type": "stream",
     "text": [
      "[LOG] -- Val ACC Did Not Increase\n"
     ]
    },
    {
     "name": "stderr",
     "output_type": "stream",
     "text": [
      " 39%|███████████████████████████████▋                                                  | 58/150 [13:17<19:07, 12.47s/it]2023-07-12 13:30:41.070796: I tensorflow/core/profiler/lib/profiler_session.cc:136] Profiler session initializing.\n",
      "2023-07-12 13:30:41.070810: I tensorflow/core/profiler/lib/profiler_session.cc:155] Profiler session started.\n",
      "2023-07-12 13:30:41.070840: E tensorflow/core/profiler/internal/gpu/cupti_tracer.cc:1415] function cupti_interface_->Subscribe( &subscriber_, (CUpti_CallbackFunc)ApiCallback, this)failed with error CUPTI_ERROR_NOT_INITIALIZED\n",
      "2023-07-12 13:30:41.070849: I tensorflow/core/profiler/lib/profiler_session.cc:172] Profiler session tear down.\n"
     ]
    },
    {
     "name": "stdout",
     "output_type": "stream",
     "text": [
      "[LOG] -- VAL ACC INCREASED........... SAVING MDOEL 0.7006000280380249\n"
     ]
    },
    {
     "name": "stderr",
     "output_type": "stream",
     "text": [
      " 39%|████████████████████████████████▎                                                 | 59/150 [13:32<20:07, 13.26s/it]2023-07-12 13:30:56.191928: I tensorflow/core/profiler/lib/profiler_session.cc:136] Profiler session initializing.\n",
      "2023-07-12 13:30:56.191943: I tensorflow/core/profiler/lib/profiler_session.cc:155] Profiler session started.\n",
      "2023-07-12 13:30:56.191975: E tensorflow/core/profiler/internal/gpu/cupti_tracer.cc:1415] function cupti_interface_->Subscribe( &subscriber_, (CUpti_CallbackFunc)ApiCallback, this)failed with error CUPTI_ERROR_NOT_INITIALIZED\n",
      "2023-07-12 13:30:56.191985: I tensorflow/core/profiler/lib/profiler_session.cc:172] Profiler session tear down.\n"
     ]
    },
    {
     "name": "stdout",
     "output_type": "stream",
     "text": [
      "[LOG] -- Val ACC Did Not Increase\n"
     ]
    },
    {
     "name": "stderr",
     "output_type": "stream",
     "text": [
      " 40%|████████████████████████████████▊                                                 | 60/150 [13:44<19:23, 12.93s/it]2023-07-12 13:31:08.352614: I tensorflow/core/profiler/lib/profiler_session.cc:136] Profiler session initializing.\n",
      "2023-07-12 13:31:08.352628: I tensorflow/core/profiler/lib/profiler_session.cc:155] Profiler session started.\n",
      "2023-07-12 13:31:08.352659: E tensorflow/core/profiler/internal/gpu/cupti_tracer.cc:1415] function cupti_interface_->Subscribe( &subscriber_, (CUpti_CallbackFunc)ApiCallback, this)failed with error CUPTI_ERROR_NOT_INITIALIZED\n",
      "2023-07-12 13:31:08.352669: I tensorflow/core/profiler/lib/profiler_session.cc:172] Profiler session tear down.\n"
     ]
    },
    {
     "name": "stdout",
     "output_type": "stream",
     "text": [
      "[LOG] -- Val ACC Did Not Increase\n"
     ]
    },
    {
     "name": "stderr",
     "output_type": "stream",
     "text": [
      " 41%|█████████████████████████████████▎                                                | 61/150 [13:56<18:50, 12.70s/it]2023-07-12 13:31:20.513053: I tensorflow/core/profiler/lib/profiler_session.cc:136] Profiler session initializing.\n",
      "2023-07-12 13:31:20.513068: I tensorflow/core/profiler/lib/profiler_session.cc:155] Profiler session started.\n",
      "2023-07-12 13:31:20.513100: E tensorflow/core/profiler/internal/gpu/cupti_tracer.cc:1415] function cupti_interface_->Subscribe( &subscriber_, (CUpti_CallbackFunc)ApiCallback, this)failed with error CUPTI_ERROR_NOT_INITIALIZED\n",
      "2023-07-12 13:31:20.513110: I tensorflow/core/profiler/lib/profiler_session.cc:172] Profiler session tear down.\n"
     ]
    },
    {
     "name": "stdout",
     "output_type": "stream",
     "text": [
      "[LOG] -- Val ACC Did Not Increase\n"
     ]
    },
    {
     "name": "stderr",
     "output_type": "stream",
     "text": [
      " 41%|█████████████████████████████████▉                                                | 62/150 [14:08<18:23, 12.54s/it]2023-07-12 13:31:32.692586: I tensorflow/core/profiler/lib/profiler_session.cc:136] Profiler session initializing.\n",
      "2023-07-12 13:31:32.692600: I tensorflow/core/profiler/lib/profiler_session.cc:155] Profiler session started.\n",
      "2023-07-12 13:31:32.692631: E tensorflow/core/profiler/internal/gpu/cupti_tracer.cc:1415] function cupti_interface_->Subscribe( &subscriber_, (CUpti_CallbackFunc)ApiCallback, this)failed with error CUPTI_ERROR_NOT_INITIALIZED\n",
      "2023-07-12 13:31:32.692641: I tensorflow/core/profiler/lib/profiler_session.cc:172] Profiler session tear down.\n"
     ]
    },
    {
     "name": "stdout",
     "output_type": "stream",
     "text": [
      "[LOG] -- VAL ACC INCREASED........... SAVING MDOEL 0.7053999900817871\n"
     ]
    },
    {
     "name": "stderr",
     "output_type": "stream",
     "text": [
      " 42%|██████████████████████████████████▍                                               | 63/150 [14:23<19:15, 13.29s/it]2023-07-12 13:31:47.709566: I tensorflow/core/profiler/lib/profiler_session.cc:136] Profiler session initializing.\n",
      "2023-07-12 13:31:47.709597: I tensorflow/core/profiler/lib/profiler_session.cc:155] Profiler session started.\n",
      "2023-07-12 13:31:47.709628: E tensorflow/core/profiler/internal/gpu/cupti_tracer.cc:1415] function cupti_interface_->Subscribe( &subscriber_, (CUpti_CallbackFunc)ApiCallback, this)failed with error CUPTI_ERROR_NOT_INITIALIZED\n",
      "2023-07-12 13:31:47.709638: I tensorflow/core/profiler/lib/profiler_session.cc:172] Profiler session tear down.\n"
     ]
    },
    {
     "name": "stdout",
     "output_type": "stream",
     "text": [
      "[LOG] -- Val ACC Did Not Increase\n"
     ]
    },
    {
     "name": "stderr",
     "output_type": "stream",
     "text": [
      " 43%|██████████████████████████████████▉                                               | 64/150 [14:36<18:31, 12.93s/it]2023-07-12 13:31:59.807662: I tensorflow/core/profiler/lib/profiler_session.cc:136] Profiler session initializing.\n",
      "2023-07-12 13:31:59.807677: I tensorflow/core/profiler/lib/profiler_session.cc:155] Profiler session started.\n",
      "2023-07-12 13:31:59.807742: E tensorflow/core/profiler/internal/gpu/cupti_tracer.cc:1415] function cupti_interface_->Subscribe( &subscriber_, (CUpti_CallbackFunc)ApiCallback, this)failed with error CUPTI_ERROR_NOT_INITIALIZED\n",
      "2023-07-12 13:31:59.807752: I tensorflow/core/profiler/lib/profiler_session.cc:172] Profiler session tear down.\n"
     ]
    },
    {
     "name": "stdout",
     "output_type": "stream",
     "text": [
      "[LOG] -- VAL ACC INCREASED........... SAVING MDOEL 0.7074000239372253\n"
     ]
    },
    {
     "name": "stderr",
     "output_type": "stream",
     "text": [
      " 43%|███████████████████████████████████▌                                              | 65/150 [14:51<19:13, 13.57s/it]2023-07-12 13:32:14.870467: I tensorflow/core/profiler/lib/profiler_session.cc:136] Profiler session initializing.\n",
      "2023-07-12 13:32:14.870483: I tensorflow/core/profiler/lib/profiler_session.cc:155] Profiler session started.\n",
      "2023-07-12 13:32:14.870514: E tensorflow/core/profiler/internal/gpu/cupti_tracer.cc:1415] function cupti_interface_->Subscribe( &subscriber_, (CUpti_CallbackFunc)ApiCallback, this)failed with error CUPTI_ERROR_NOT_INITIALIZED\n",
      "2023-07-12 13:32:14.870542: I tensorflow/core/profiler/lib/profiler_session.cc:172] Profiler session tear down.\n"
     ]
    },
    {
     "name": "stdout",
     "output_type": "stream",
     "text": [
      "[LOG] -- VAL ACC INCREASED........... SAVING MDOEL 0.7103999853134155\n"
     ]
    },
    {
     "name": "stderr",
     "output_type": "stream",
     "text": [
      " 44%|████████████████████████████████████                                              | 66/150 [15:06<19:40, 14.06s/it]2023-07-12 13:32:30.064923: I tensorflow/core/profiler/lib/profiler_session.cc:136] Profiler session initializing.\n",
      "2023-07-12 13:32:30.064938: I tensorflow/core/profiler/lib/profiler_session.cc:155] Profiler session started.\n",
      "2023-07-12 13:32:30.064969: E tensorflow/core/profiler/internal/gpu/cupti_tracer.cc:1415] function cupti_interface_->Subscribe( &subscriber_, (CUpti_CallbackFunc)ApiCallback, this)failed with error CUPTI_ERROR_NOT_INITIALIZED\n",
      "2023-07-12 13:32:30.064979: I tensorflow/core/profiler/lib/profiler_session.cc:172] Profiler session tear down.\n"
     ]
    },
    {
     "name": "stdout",
     "output_type": "stream",
     "text": [
      "[LOG] -- Val ACC Did Not Increase\n"
     ]
    },
    {
     "name": "stderr",
     "output_type": "stream",
     "text": [
      " 45%|████████████████████████████████████▋                                             | 67/150 [15:18<18:39, 13.49s/it]2023-07-12 13:32:42.215354: I tensorflow/core/profiler/lib/profiler_session.cc:136] Profiler session initializing.\n",
      "2023-07-12 13:32:42.215368: I tensorflow/core/profiler/lib/profiler_session.cc:155] Profiler session started.\n",
      "2023-07-12 13:32:42.215416: E tensorflow/core/profiler/internal/gpu/cupti_tracer.cc:1415] function cupti_interface_->Subscribe( &subscriber_, (CUpti_CallbackFunc)ApiCallback, this)failed with error CUPTI_ERROR_NOT_INITIALIZED\n",
      "2023-07-12 13:32:42.215440: I tensorflow/core/profiler/lib/profiler_session.cc:172] Profiler session tear down.\n"
     ]
    },
    {
     "name": "stdout",
     "output_type": "stream",
     "text": [
      "[LOG] -- Val ACC Did Not Increase\n"
     ]
    },
    {
     "name": "stderr",
     "output_type": "stream",
     "text": [
      " 45%|█████████████████████████████████████▏                                            | 68/150 [15:30<17:51, 13.07s/it]2023-07-12 13:32:54.323451: I tensorflow/core/profiler/lib/profiler_session.cc:136] Profiler session initializing.\n",
      "2023-07-12 13:32:54.323464: I tensorflow/core/profiler/lib/profiler_session.cc:155] Profiler session started.\n",
      "2023-07-12 13:32:54.323494: E tensorflow/core/profiler/internal/gpu/cupti_tracer.cc:1415] function cupti_interface_->Subscribe( &subscriber_, (CUpti_CallbackFunc)ApiCallback, this)failed with error CUPTI_ERROR_NOT_INITIALIZED\n",
      "2023-07-12 13:32:54.323504: I tensorflow/core/profiler/lib/profiler_session.cc:172] Profiler session tear down.\n"
     ]
    },
    {
     "name": "stdout",
     "output_type": "stream",
     "text": [
      "[LOG] -- Val ACC Did Not Increase\n"
     ]
    },
    {
     "name": "stderr",
     "output_type": "stream",
     "text": [
      " 46%|█████████████████████████████████████▋                                            | 69/150 [15:42<17:16, 12.79s/it]2023-07-12 13:33:06.467307: I tensorflow/core/profiler/lib/profiler_session.cc:136] Profiler session initializing.\n",
      "2023-07-12 13:33:06.467322: I tensorflow/core/profiler/lib/profiler_session.cc:155] Profiler session started.\n",
      "2023-07-12 13:33:06.467353: E tensorflow/core/profiler/internal/gpu/cupti_tracer.cc:1415] function cupti_interface_->Subscribe( &subscriber_, (CUpti_CallbackFunc)ApiCallback, this)failed with error CUPTI_ERROR_NOT_INITIALIZED\n",
      "2023-07-12 13:33:06.467363: I tensorflow/core/profiler/lib/profiler_session.cc:172] Profiler session tear down.\n"
     ]
    },
    {
     "name": "stdout",
     "output_type": "stream",
     "text": [
      "[LOG] -- Val ACC Did Not Increase\n"
     ]
    },
    {
     "name": "stderr",
     "output_type": "stream",
     "text": [
      " 47%|██████████████████████████████████████▎                                           | 70/150 [15:54<16:47, 12.60s/it]2023-07-12 13:33:18.605706: I tensorflow/core/profiler/lib/profiler_session.cc:136] Profiler session initializing.\n",
      "2023-07-12 13:33:18.605721: I tensorflow/core/profiler/lib/profiler_session.cc:155] Profiler session started.\n",
      "2023-07-12 13:33:18.605752: E tensorflow/core/profiler/internal/gpu/cupti_tracer.cc:1415] function cupti_interface_->Subscribe( &subscriber_, (CUpti_CallbackFunc)ApiCallback, this)failed with error CUPTI_ERROR_NOT_INITIALIZED\n",
      "2023-07-12 13:33:18.605761: I tensorflow/core/profiler/lib/profiler_session.cc:172] Profiler session tear down.\n"
     ]
    },
    {
     "name": "stdout",
     "output_type": "stream",
     "text": [
      "[LOG] -- Val ACC Did Not Increase\n"
     ]
    },
    {
     "name": "stderr",
     "output_type": "stream",
     "text": [
      " 47%|██████████████████████████████████████▊                                           | 71/150 [16:07<16:24, 12.46s/it]2023-07-12 13:33:30.748459: I tensorflow/core/profiler/lib/profiler_session.cc:136] Profiler session initializing.\n",
      "2023-07-12 13:33:30.748473: I tensorflow/core/profiler/lib/profiler_session.cc:155] Profiler session started.\n",
      "2023-07-12 13:33:30.748504: E tensorflow/core/profiler/internal/gpu/cupti_tracer.cc:1415] function cupti_interface_->Subscribe( &subscriber_, (CUpti_CallbackFunc)ApiCallback, this)failed with error CUPTI_ERROR_NOT_INITIALIZED\n",
      "2023-07-12 13:33:30.748514: I tensorflow/core/profiler/lib/profiler_session.cc:172] Profiler session tear down.\n"
     ]
    },
    {
     "name": "stdout",
     "output_type": "stream",
     "text": [
      "[LOG] -- Val ACC Did Not Increase\n"
     ]
    },
    {
     "name": "stderr",
     "output_type": "stream",
     "text": [
      " 48%|███████████████████████████████████████▎                                          | 72/150 [16:19<16:04, 12.37s/it]2023-07-12 13:33:42.891201: I tensorflow/core/profiler/lib/profiler_session.cc:136] Profiler session initializing.\n",
      "2023-07-12 13:33:42.891216: I tensorflow/core/profiler/lib/profiler_session.cc:155] Profiler session started.\n",
      "2023-07-12 13:33:42.891248: E tensorflow/core/profiler/internal/gpu/cupti_tracer.cc:1415] function cupti_interface_->Subscribe( &subscriber_, (CUpti_CallbackFunc)ApiCallback, this)failed with error CUPTI_ERROR_NOT_INITIALIZED\n",
      "2023-07-12 13:33:42.891262: I tensorflow/core/profiler/lib/profiler_session.cc:172] Profiler session tear down.\n"
     ]
    },
    {
     "name": "stdout",
     "output_type": "stream",
     "text": [
      "[LOG] -- VAL ACC INCREASED........... SAVING MDOEL 0.7139999866485596\n"
     ]
    },
    {
     "name": "stderr",
     "output_type": "stream",
     "text": [
      " 49%|███████████████████████████████████████▉                                          | 73/150 [16:34<16:55, 13.19s/it]2023-07-12 13:33:58.009962: I tensorflow/core/profiler/lib/profiler_session.cc:136] Profiler session initializing.\n",
      "2023-07-12 13:33:58.009977: I tensorflow/core/profiler/lib/profiler_session.cc:155] Profiler session started.\n",
      "2023-07-12 13:33:58.010008: E tensorflow/core/profiler/internal/gpu/cupti_tracer.cc:1415] function cupti_interface_->Subscribe( &subscriber_, (CUpti_CallbackFunc)ApiCallback, this)failed with error CUPTI_ERROR_NOT_INITIALIZED\n",
      "2023-07-12 13:33:58.010017: I tensorflow/core/profiler/lib/profiler_session.cc:172] Profiler session tear down.\n"
     ]
    },
    {
     "name": "stdout",
     "output_type": "stream",
     "text": [
      "[LOG] -- Val ACC Did Not Increase\n"
     ]
    },
    {
     "name": "stderr",
     "output_type": "stream",
     "text": [
      " 49%|████████████████████████████████████████▍                                         | 74/150 [16:46<16:19, 12.89s/it]2023-07-12 13:34:10.196273: I tensorflow/core/profiler/lib/profiler_session.cc:136] Profiler session initializing.\n",
      "2023-07-12 13:34:10.196288: I tensorflow/core/profiler/lib/profiler_session.cc:155] Profiler session started.\n",
      "2023-07-12 13:34:10.196318: E tensorflow/core/profiler/internal/gpu/cupti_tracer.cc:1415] function cupti_interface_->Subscribe( &subscriber_, (CUpti_CallbackFunc)ApiCallback, this)failed with error CUPTI_ERROR_NOT_INITIALIZED\n",
      "2023-07-12 13:34:10.196327: I tensorflow/core/profiler/lib/profiler_session.cc:172] Profiler session tear down.\n"
     ]
    },
    {
     "name": "stdout",
     "output_type": "stream",
     "text": [
      "[LOG] -- VAL ACC INCREASED........... SAVING MDOEL 0.7170000076293945\n"
     ]
    },
    {
     "name": "stderr",
     "output_type": "stream",
     "text": [
      " 50%|█████████████████████████████████████████                                         | 75/150 [17:01<16:56, 13.55s/it]2023-07-12 13:34:25.289458: I tensorflow/core/profiler/lib/profiler_session.cc:136] Profiler session initializing.\n",
      "2023-07-12 13:34:25.289474: I tensorflow/core/profiler/lib/profiler_session.cc:155] Profiler session started.\n",
      "2023-07-12 13:34:25.289507: E tensorflow/core/profiler/internal/gpu/cupti_tracer.cc:1415] function cupti_interface_->Subscribe( &subscriber_, (CUpti_CallbackFunc)ApiCallback, this)failed with error CUPTI_ERROR_NOT_INITIALIZED\n",
      "2023-07-12 13:34:25.289517: I tensorflow/core/profiler/lib/profiler_session.cc:172] Profiler session tear down.\n"
     ]
    },
    {
     "name": "stdout",
     "output_type": "stream",
     "text": [
      "[LOG] -- VAL ACC INCREASED........... SAVING MDOEL 0.7193999886512756\n"
     ]
    },
    {
     "name": "stderr",
     "output_type": "stream",
     "text": [
      " 51%|█████████████████████████████████████████▌                                        | 76/150 [17:17<17:31, 14.20s/it]2023-07-12 13:34:41.014823: I tensorflow/core/profiler/lib/profiler_session.cc:136] Profiler session initializing.\n",
      "2023-07-12 13:34:41.014838: I tensorflow/core/profiler/lib/profiler_session.cc:155] Profiler session started.\n",
      "2023-07-12 13:34:41.014869: E tensorflow/core/profiler/internal/gpu/cupti_tracer.cc:1415] function cupti_interface_->Subscribe( &subscriber_, (CUpti_CallbackFunc)ApiCallback, this)failed with error CUPTI_ERROR_NOT_INITIALIZED\n",
      "2023-07-12 13:34:41.014879: I tensorflow/core/profiler/lib/profiler_session.cc:172] Profiler session tear down.\n"
     ]
    },
    {
     "name": "stdout",
     "output_type": "stream",
     "text": [
      "[LOG] -- Val ACC Did Not Increase\n"
     ]
    },
    {
     "name": "stderr",
     "output_type": "stream",
     "text": [
      " 51%|██████████████████████████████████████████                                        | 77/150 [17:29<16:31, 13.58s/it]2023-07-12 13:34:53.147730: I tensorflow/core/profiler/lib/profiler_session.cc:136] Profiler session initializing.\n",
      "2023-07-12 13:34:53.147746: I tensorflow/core/profiler/lib/profiler_session.cc:155] Profiler session started.\n",
      "2023-07-12 13:34:53.147777: E tensorflow/core/profiler/internal/gpu/cupti_tracer.cc:1415] function cupti_interface_->Subscribe( &subscriber_, (CUpti_CallbackFunc)ApiCallback, this)failed with error CUPTI_ERROR_NOT_INITIALIZED\n",
      "2023-07-12 13:34:53.147787: I tensorflow/core/profiler/lib/profiler_session.cc:172] Profiler session tear down.\n"
     ]
    },
    {
     "name": "stdout",
     "output_type": "stream",
     "text": [
      "[LOG] -- Val ACC Did Not Increase\n"
     ]
    },
    {
     "name": "stderr",
     "output_type": "stream",
     "text": [
      " 52%|██████████████████████████████████████████▋                                       | 78/150 [17:41<15:46, 13.15s/it]2023-07-12 13:35:05.281986: I tensorflow/core/profiler/lib/profiler_session.cc:136] Profiler session initializing.\n",
      "2023-07-12 13:35:05.282001: I tensorflow/core/profiler/lib/profiler_session.cc:155] Profiler session started.\n",
      "2023-07-12 13:35:05.282031: E tensorflow/core/profiler/internal/gpu/cupti_tracer.cc:1415] function cupti_interface_->Subscribe( &subscriber_, (CUpti_CallbackFunc)ApiCallback, this)failed with error CUPTI_ERROR_NOT_INITIALIZED\n",
      "2023-07-12 13:35:05.282041: I tensorflow/core/profiler/lib/profiler_session.cc:172] Profiler session tear down.\n"
     ]
    },
    {
     "name": "stdout",
     "output_type": "stream",
     "text": [
      "[LOG] -- Val ACC Did Not Increase\n"
     ]
    },
    {
     "name": "stderr",
     "output_type": "stream",
     "text": [
      " 53%|███████████████████████████████████████████▏                                      | 79/150 [17:53<15:12, 12.85s/it]2023-07-12 13:35:17.442130: I tensorflow/core/profiler/lib/profiler_session.cc:136] Profiler session initializing.\n",
      "2023-07-12 13:35:17.442145: I tensorflow/core/profiler/lib/profiler_session.cc:155] Profiler session started.\n",
      "2023-07-12 13:35:17.442176: E tensorflow/core/profiler/internal/gpu/cupti_tracer.cc:1415] function cupti_interface_->Subscribe( &subscriber_, (CUpti_CallbackFunc)ApiCallback, this)failed with error CUPTI_ERROR_NOT_INITIALIZED\n",
      "2023-07-12 13:35:17.442185: I tensorflow/core/profiler/lib/profiler_session.cc:172] Profiler session tear down.\n"
     ]
    },
    {
     "name": "stdout",
     "output_type": "stream",
     "text": [
      "[LOG] -- Val ACC Did Not Increase\n"
     ]
    },
    {
     "name": "stderr",
     "output_type": "stream",
     "text": [
      " 53%|███████████████████████████████████████████▋                                      | 80/150 [18:05<14:44, 12.64s/it]2023-07-12 13:35:29.595165: I tensorflow/core/profiler/lib/profiler_session.cc:136] Profiler session initializing.\n",
      "2023-07-12 13:35:29.595180: I tensorflow/core/profiler/lib/profiler_session.cc:155] Profiler session started.\n",
      "2023-07-12 13:35:29.595210: E tensorflow/core/profiler/internal/gpu/cupti_tracer.cc:1415] function cupti_interface_->Subscribe( &subscriber_, (CUpti_CallbackFunc)ApiCallback, this)failed with error CUPTI_ERROR_NOT_INITIALIZED\n",
      "2023-07-12 13:35:29.595219: I tensorflow/core/profiler/lib/profiler_session.cc:172] Profiler session tear down.\n"
     ]
    },
    {
     "name": "stdout",
     "output_type": "stream",
     "text": [
      "[LOG] -- Val ACC Did Not Increase\n"
     ]
    },
    {
     "name": "stderr",
     "output_type": "stream",
     "text": [
      " 54%|████████████████████████████████████████████▎                                     | 81/150 [18:17<14:21, 12.49s/it]2023-07-12 13:35:41.729466: I tensorflow/core/profiler/lib/profiler_session.cc:136] Profiler session initializing.\n",
      "2023-07-12 13:35:41.729481: I tensorflow/core/profiler/lib/profiler_session.cc:155] Profiler session started.\n",
      "2023-07-12 13:35:41.729515: E tensorflow/core/profiler/internal/gpu/cupti_tracer.cc:1415] function cupti_interface_->Subscribe( &subscriber_, (CUpti_CallbackFunc)ApiCallback, this)failed with error CUPTI_ERROR_NOT_INITIALIZED\n",
      "2023-07-12 13:35:41.729526: I tensorflow/core/profiler/lib/profiler_session.cc:172] Profiler session tear down.\n"
     ]
    },
    {
     "name": "stdout",
     "output_type": "stream",
     "text": [
      "[LOG] -- VAL ACC INCREASED........... SAVING MDOEL 0.7251999974250793\n"
     ]
    },
    {
     "name": "stderr",
     "output_type": "stream",
     "text": [
      " 55%|████████████████████████████████████████████▊                                     | 82/150 [18:33<15:03, 13.29s/it]2023-07-12 13:35:56.891656: I tensorflow/core/profiler/lib/profiler_session.cc:136] Profiler session initializing.\n",
      "2023-07-12 13:35:56.891672: I tensorflow/core/profiler/lib/profiler_session.cc:155] Profiler session started.\n",
      "2023-07-12 13:35:56.891704: E tensorflow/core/profiler/internal/gpu/cupti_tracer.cc:1415] function cupti_interface_->Subscribe( &subscriber_, (CUpti_CallbackFunc)ApiCallback, this)failed with error CUPTI_ERROR_NOT_INITIALIZED\n",
      "2023-07-12 13:35:56.891714: I tensorflow/core/profiler/lib/profiler_session.cc:172] Profiler session tear down.\n"
     ]
    },
    {
     "name": "stdout",
     "output_type": "stream",
     "text": [
      "[LOG] -- Val ACC Did Not Increase\n"
     ]
    },
    {
     "name": "stderr",
     "output_type": "stream",
     "text": [
      " 55%|█████████████████████████████████████████████▎                                    | 83/150 [18:45<14:28, 12.96s/it]2023-07-12 13:36:09.073551: I tensorflow/core/profiler/lib/profiler_session.cc:136] Profiler session initializing.\n",
      "2023-07-12 13:36:09.073567: I tensorflow/core/profiler/lib/profiler_session.cc:155] Profiler session started.\n",
      "2023-07-12 13:36:09.073597: E tensorflow/core/profiler/internal/gpu/cupti_tracer.cc:1415] function cupti_interface_->Subscribe( &subscriber_, (CUpti_CallbackFunc)ApiCallback, this)failed with error CUPTI_ERROR_NOT_INITIALIZED\n",
      "2023-07-12 13:36:09.073607: I tensorflow/core/profiler/lib/profiler_session.cc:172] Profiler session tear down.\n"
     ]
    },
    {
     "name": "stdout",
     "output_type": "stream",
     "text": [
      "[LOG] -- Val ACC Did Not Increase\n"
     ]
    },
    {
     "name": "stderr",
     "output_type": "stream",
     "text": [
      " 56%|█████████████████████████████████████████████▉                                    | 84/150 [18:57<13:59, 12.72s/it]2023-07-12 13:36:21.247801: I tensorflow/core/profiler/lib/profiler_session.cc:136] Profiler session initializing.\n",
      "2023-07-12 13:36:21.247815: I tensorflow/core/profiler/lib/profiler_session.cc:155] Profiler session started.\n",
      "2023-07-12 13:36:21.247846: E tensorflow/core/profiler/internal/gpu/cupti_tracer.cc:1415] function cupti_interface_->Subscribe( &subscriber_, (CUpti_CallbackFunc)ApiCallback, this)failed with error CUPTI_ERROR_NOT_INITIALIZED\n",
      "2023-07-12 13:36:21.247856: I tensorflow/core/profiler/lib/profiler_session.cc:172] Profiler session tear down.\n"
     ]
    },
    {
     "name": "stdout",
     "output_type": "stream",
     "text": [
      "[LOG] -- Val ACC Did Not Increase\n"
     ]
    },
    {
     "name": "stderr",
     "output_type": "stream",
     "text": [
      " 57%|██████████████████████████████████████████████▍                                   | 85/150 [19:09<13:35, 12.55s/it]2023-07-12 13:36:33.385655: I tensorflow/core/profiler/lib/profiler_session.cc:136] Profiler session initializing.\n",
      "2023-07-12 13:36:33.385670: I tensorflow/core/profiler/lib/profiler_session.cc:155] Profiler session started.\n",
      "2023-07-12 13:36:33.385699: E tensorflow/core/profiler/internal/gpu/cupti_tracer.cc:1415] function cupti_interface_->Subscribe( &subscriber_, (CUpti_CallbackFunc)ApiCallback, this)failed with error CUPTI_ERROR_NOT_INITIALIZED\n",
      "2023-07-12 13:36:33.385709: I tensorflow/core/profiler/lib/profiler_session.cc:172] Profiler session tear down.\n"
     ]
    },
    {
     "name": "stdout",
     "output_type": "stream",
     "text": [
      "[LOG] -- Val ACC Did Not Increase\n"
     ]
    },
    {
     "name": "stderr",
     "output_type": "stream",
     "text": [
      " 57%|███████████████████████████████████████████████                                   | 86/150 [19:21<13:15, 12.43s/it]2023-07-12 13:36:45.527870: I tensorflow/core/profiler/lib/profiler_session.cc:136] Profiler session initializing.\n",
      "2023-07-12 13:36:45.527886: I tensorflow/core/profiler/lib/profiler_session.cc:155] Profiler session started.\n",
      "2023-07-12 13:36:45.527917: E tensorflow/core/profiler/internal/gpu/cupti_tracer.cc:1415] function cupti_interface_->Subscribe( &subscriber_, (CUpti_CallbackFunc)ApiCallback, this)failed with error CUPTI_ERROR_NOT_INITIALIZED\n",
      "2023-07-12 13:36:45.527926: I tensorflow/core/profiler/lib/profiler_session.cc:172] Profiler session tear down.\n"
     ]
    },
    {
     "name": "stdout",
     "output_type": "stream",
     "text": [
      "[LOG] -- Val ACC Did Not Increase\n"
     ]
    },
    {
     "name": "stderr",
     "output_type": "stream",
     "text": [
      " 58%|███████████████████████████████████████████████▌                                  | 87/150 [19:33<12:57, 12.34s/it]2023-07-12 13:36:57.674483: I tensorflow/core/profiler/lib/profiler_session.cc:136] Profiler session initializing.\n",
      "2023-07-12 13:36:57.674497: I tensorflow/core/profiler/lib/profiler_session.cc:155] Profiler session started.\n",
      "2023-07-12 13:36:57.674528: E tensorflow/core/profiler/internal/gpu/cupti_tracer.cc:1415] function cupti_interface_->Subscribe( &subscriber_, (CUpti_CallbackFunc)ApiCallback, this)failed with error CUPTI_ERROR_NOT_INITIALIZED\n",
      "2023-07-12 13:36:57.674538: I tensorflow/core/profiler/lib/profiler_session.cc:172] Profiler session tear down.\n"
     ]
    },
    {
     "name": "stdout",
     "output_type": "stream",
     "text": [
      "[LOG] -- Val ACC Did Not Increase\n"
     ]
    },
    {
     "name": "stderr",
     "output_type": "stream",
     "text": [
      " 59%|████████████████████████████████████████████████                                  | 88/150 [19:46<12:42, 12.29s/it]2023-07-12 13:37:09.849025: I tensorflow/core/profiler/lib/profiler_session.cc:136] Profiler session initializing.\n",
      "2023-07-12 13:37:09.849039: I tensorflow/core/profiler/lib/profiler_session.cc:155] Profiler session started.\n",
      "2023-07-12 13:37:09.849070: E tensorflow/core/profiler/internal/gpu/cupti_tracer.cc:1415] function cupti_interface_->Subscribe( &subscriber_, (CUpti_CallbackFunc)ApiCallback, this)failed with error CUPTI_ERROR_NOT_INITIALIZED\n",
      "2023-07-12 13:37:09.849080: I tensorflow/core/profiler/lib/profiler_session.cc:172] Profiler session tear down.\n"
     ]
    },
    {
     "name": "stdout",
     "output_type": "stream",
     "text": [
      "[LOG] -- VAL ACC INCREASED........... SAVING MDOEL 0.7296000123023987\n"
     ]
    },
    {
     "name": "stderr",
     "output_type": "stream",
     "text": [
      " 59%|████████████████████████████████████████████████▋                                 | 89/150 [20:01<13:25, 13.20s/it]2023-07-12 13:37:25.179982: I tensorflow/core/profiler/lib/profiler_session.cc:136] Profiler session initializing.\n",
      "2023-07-12 13:37:25.179997: I tensorflow/core/profiler/lib/profiler_session.cc:155] Profiler session started.\n",
      "2023-07-12 13:37:25.180027: E tensorflow/core/profiler/internal/gpu/cupti_tracer.cc:1415] function cupti_interface_->Subscribe( &subscriber_, (CUpti_CallbackFunc)ApiCallback, this)failed with error CUPTI_ERROR_NOT_INITIALIZED\n",
      "2023-07-12 13:37:25.180037: I tensorflow/core/profiler/lib/profiler_session.cc:172] Profiler session tear down.\n"
     ]
    },
    {
     "name": "stdout",
     "output_type": "stream",
     "text": [
      "[LOG] -- Val ACC Did Not Increase\n"
     ]
    },
    {
     "name": "stderr",
     "output_type": "stream",
     "text": [
      " 60%|█████████████████████████████████████████████████▏                                | 90/150 [20:13<12:54, 12.90s/it]2023-07-12 13:37:37.384042: I tensorflow/core/profiler/lib/profiler_session.cc:136] Profiler session initializing.\n",
      "2023-07-12 13:37:37.384057: I tensorflow/core/profiler/lib/profiler_session.cc:155] Profiler session started.\n",
      "2023-07-12 13:37:37.384087: E tensorflow/core/profiler/internal/gpu/cupti_tracer.cc:1415] function cupti_interface_->Subscribe( &subscriber_, (CUpti_CallbackFunc)ApiCallback, this)failed with error CUPTI_ERROR_NOT_INITIALIZED\n",
      "2023-07-12 13:37:37.384096: I tensorflow/core/profiler/lib/profiler_session.cc:172] Profiler session tear down.\n"
     ]
    },
    {
     "name": "stdout",
     "output_type": "stream",
     "text": [
      "[LOG] -- Val ACC Did Not Increase\n"
     ]
    },
    {
     "name": "stderr",
     "output_type": "stream",
     "text": [
      " 61%|█████████████████████████████████████████████████▋                                | 91/150 [20:25<12:28, 12.68s/it]2023-07-12 13:37:49.548048: I tensorflow/core/profiler/lib/profiler_session.cc:136] Profiler session initializing.\n",
      "2023-07-12 13:37:49.548064: I tensorflow/core/profiler/lib/profiler_session.cc:155] Profiler session started.\n",
      "2023-07-12 13:37:49.548096: E tensorflow/core/profiler/internal/gpu/cupti_tracer.cc:1415] function cupti_interface_->Subscribe( &subscriber_, (CUpti_CallbackFunc)ApiCallback, this)failed with error CUPTI_ERROR_NOT_INITIALIZED\n",
      "2023-07-12 13:37:49.548105: I tensorflow/core/profiler/lib/profiler_session.cc:172] Profiler session tear down.\n"
     ]
    },
    {
     "name": "stdout",
     "output_type": "stream",
     "text": [
      "[LOG] -- Val ACC Did Not Increase\n"
     ]
    },
    {
     "name": "stderr",
     "output_type": "stream",
     "text": [
      " 61%|██████████████████████████████████████████████████▎                               | 92/150 [20:37<12:06, 12.53s/it]2023-07-12 13:38:01.719483: I tensorflow/core/profiler/lib/profiler_session.cc:136] Profiler session initializing.\n",
      "2023-07-12 13:38:01.719497: I tensorflow/core/profiler/lib/profiler_session.cc:155] Profiler session started.\n",
      "2023-07-12 13:38:01.719530: E tensorflow/core/profiler/internal/gpu/cupti_tracer.cc:1415] function cupti_interface_->Subscribe( &subscriber_, (CUpti_CallbackFunc)ApiCallback, this)failed with error CUPTI_ERROR_NOT_INITIALIZED\n",
      "2023-07-12 13:38:01.719540: I tensorflow/core/profiler/lib/profiler_session.cc:172] Profiler session tear down.\n"
     ]
    },
    {
     "name": "stdout",
     "output_type": "stream",
     "text": [
      "[LOG] -- VAL ACC INCREASED........... SAVING MDOEL 0.7343999743461609\n"
     ]
    },
    {
     "name": "stderr",
     "output_type": "stream",
     "text": [
      " 62%|██████████████████████████████████████████████████▊                               | 93/150 [20:53<12:40, 13.35s/it]2023-07-12 13:38:16.986591: I tensorflow/core/profiler/lib/profiler_session.cc:136] Profiler session initializing.\n",
      "2023-07-12 13:38:16.986607: I tensorflow/core/profiler/lib/profiler_session.cc:155] Profiler session started.\n",
      "2023-07-12 13:38:16.986637: E tensorflow/core/profiler/internal/gpu/cupti_tracer.cc:1415] function cupti_interface_->Subscribe( &subscriber_, (CUpti_CallbackFunc)ApiCallback, this)failed with error CUPTI_ERROR_NOT_INITIALIZED\n",
      "2023-07-12 13:38:16.986646: I tensorflow/core/profiler/lib/profiler_session.cc:172] Profiler session tear down.\n"
     ]
    },
    {
     "name": "stdout",
     "output_type": "stream",
     "text": [
      "[LOG] -- Val ACC Did Not Increase\n"
     ]
    },
    {
     "name": "stderr",
     "output_type": "stream",
     "text": [
      " 63%|███████████████████████████████████████████████████▍                              | 94/150 [21:05<12:08, 13.01s/it]2023-07-12 13:38:29.200051: I tensorflow/core/profiler/lib/profiler_session.cc:136] Profiler session initializing.\n",
      "2023-07-12 13:38:29.200066: I tensorflow/core/profiler/lib/profiler_session.cc:155] Profiler session started.\n",
      "2023-07-12 13:38:29.200096: E tensorflow/core/profiler/internal/gpu/cupti_tracer.cc:1415] function cupti_interface_->Subscribe( &subscriber_, (CUpti_CallbackFunc)ApiCallback, this)failed with error CUPTI_ERROR_NOT_INITIALIZED\n",
      "2023-07-12 13:38:29.200106: I tensorflow/core/profiler/lib/profiler_session.cc:172] Profiler session tear down.\n"
     ]
    },
    {
     "name": "stdout",
     "output_type": "stream",
     "text": [
      "[LOG] -- Val ACC Did Not Increase\n"
     ]
    },
    {
     "name": "stderr",
     "output_type": "stream",
     "text": [
      " 63%|███████████████████████████████████████████████████▉                              | 95/150 [21:17<11:41, 12.75s/it]2023-07-12 13:38:41.357006: I tensorflow/core/profiler/lib/profiler_session.cc:136] Profiler session initializing.\n",
      "2023-07-12 13:38:41.357021: I tensorflow/core/profiler/lib/profiler_session.cc:155] Profiler session started.\n",
      "2023-07-12 13:38:41.357053: E tensorflow/core/profiler/internal/gpu/cupti_tracer.cc:1415] function cupti_interface_->Subscribe( &subscriber_, (CUpti_CallbackFunc)ApiCallback, this)failed with error CUPTI_ERROR_NOT_INITIALIZED\n",
      "2023-07-12 13:38:41.357063: I tensorflow/core/profiler/lib/profiler_session.cc:172] Profiler session tear down.\n"
     ]
    },
    {
     "name": "stdout",
     "output_type": "stream",
     "text": [
      "[LOG] -- Val ACC Did Not Increase\n"
     ]
    },
    {
     "name": "stderr",
     "output_type": "stream",
     "text": [
      " 64%|████████████████████████████████████████████████████▍                             | 96/150 [21:29<11:19, 12.58s/it]2023-07-12 13:38:53.526418: I tensorflow/core/profiler/lib/profiler_session.cc:136] Profiler session initializing.\n",
      "2023-07-12 13:38:53.526433: I tensorflow/core/profiler/lib/profiler_session.cc:155] Profiler session started.\n",
      "2023-07-12 13:38:53.526464: E tensorflow/core/profiler/internal/gpu/cupti_tracer.cc:1415] function cupti_interface_->Subscribe( &subscriber_, (CUpti_CallbackFunc)ApiCallback, this)failed with error CUPTI_ERROR_NOT_INITIALIZED\n",
      "2023-07-12 13:38:53.526474: I tensorflow/core/profiler/lib/profiler_session.cc:172] Profiler session tear down.\n"
     ]
    },
    {
     "name": "stdout",
     "output_type": "stream",
     "text": [
      "[LOG] -- VAL ACC INCREASED........... SAVING MDOEL 0.7376000285148621\n"
     ]
    },
    {
     "name": "stderr",
     "output_type": "stream",
     "text": [
      " 65%|█████████████████████████████████████████████████████                             | 97/150 [21:45<11:51, 13.42s/it]2023-07-12 13:39:08.898421: I tensorflow/core/profiler/lib/profiler_session.cc:136] Profiler session initializing.\n",
      "2023-07-12 13:39:08.898435: I tensorflow/core/profiler/lib/profiler_session.cc:155] Profiler session started.\n",
      "2023-07-12 13:39:08.898466: E tensorflow/core/profiler/internal/gpu/cupti_tracer.cc:1415] function cupti_interface_->Subscribe( &subscriber_, (CUpti_CallbackFunc)ApiCallback, this)failed with error CUPTI_ERROR_NOT_INITIALIZED\n",
      "2023-07-12 13:39:08.898476: I tensorflow/core/profiler/lib/profiler_session.cc:172] Profiler session tear down.\n"
     ]
    },
    {
     "name": "stdout",
     "output_type": "stream",
     "text": [
      "[LOG] -- VAL ACC INCREASED........... SAVING MDOEL 0.7437999844551086\n"
     ]
    },
    {
     "name": "stderr",
     "output_type": "stream",
     "text": [
      " 65%|█████████████████████████████████████████████████████▌                            | 98/150 [22:00<12:08, 14.02s/it]2023-07-12 13:39:24.321678: I tensorflow/core/profiler/lib/profiler_session.cc:136] Profiler session initializing.\n",
      "2023-07-12 13:39:24.321693: I tensorflow/core/profiler/lib/profiler_session.cc:155] Profiler session started.\n",
      "2023-07-12 13:39:24.321723: E tensorflow/core/profiler/internal/gpu/cupti_tracer.cc:1415] function cupti_interface_->Subscribe( &subscriber_, (CUpti_CallbackFunc)ApiCallback, this)failed with error CUPTI_ERROR_NOT_INITIALIZED\n",
      "2023-07-12 13:39:24.321733: I tensorflow/core/profiler/lib/profiler_session.cc:172] Profiler session tear down.\n"
     ]
    },
    {
     "name": "stdout",
     "output_type": "stream",
     "text": [
      "[LOG] -- Val ACC Did Not Increase\n"
     ]
    },
    {
     "name": "stderr",
     "output_type": "stream",
     "text": [
      " 66%|██████████████████████████████████████████████████████                            | 99/150 [22:12<11:26, 13.46s/it]2023-07-12 13:39:36.481783: I tensorflow/core/profiler/lib/profiler_session.cc:136] Profiler session initializing.\n",
      "2023-07-12 13:39:36.481798: I tensorflow/core/profiler/lib/profiler_session.cc:155] Profiler session started.\n",
      "2023-07-12 13:39:36.481828: E tensorflow/core/profiler/internal/gpu/cupti_tracer.cc:1415] function cupti_interface_->Subscribe( &subscriber_, (CUpti_CallbackFunc)ApiCallback, this)failed with error CUPTI_ERROR_NOT_INITIALIZED\n",
      "2023-07-12 13:39:36.481838: I tensorflow/core/profiler/lib/profiler_session.cc:172] Profiler session tear down.\n"
     ]
    },
    {
     "name": "stdout",
     "output_type": "stream",
     "text": [
      "[LOG] -- Val ACC Did Not Increase\n"
     ]
    },
    {
     "name": "stderr",
     "output_type": "stream",
     "text": [
      " 67%|██████████████████████████████████████████████████████                           | 100/150 [22:24<10:53, 13.08s/it]2023-07-12 13:39:48.656447: I tensorflow/core/profiler/lib/profiler_session.cc:136] Profiler session initializing.\n",
      "2023-07-12 13:39:48.656462: I tensorflow/core/profiler/lib/profiler_session.cc:155] Profiler session started.\n",
      "2023-07-12 13:39:48.656495: E tensorflow/core/profiler/internal/gpu/cupti_tracer.cc:1415] function cupti_interface_->Subscribe( &subscriber_, (CUpti_CallbackFunc)ApiCallback, this)failed with error CUPTI_ERROR_NOT_INITIALIZED\n",
      "2023-07-12 13:39:48.656505: I tensorflow/core/profiler/lib/profiler_session.cc:172] Profiler session tear down.\n"
     ]
    },
    {
     "name": "stdout",
     "output_type": "stream",
     "text": [
      "[LOG] -- Val ACC Did Not Increase\n"
     ]
    },
    {
     "name": "stderr",
     "output_type": "stream",
     "text": [
      " 67%|██████████████████████████████████████████████████████▌                          | 101/150 [22:37<10:27, 12.81s/it]2023-07-12 13:40:00.842543: I tensorflow/core/profiler/lib/profiler_session.cc:136] Profiler session initializing.\n",
      "2023-07-12 13:40:00.842558: I tensorflow/core/profiler/lib/profiler_session.cc:155] Profiler session started.\n",
      "2023-07-12 13:40:00.842588: E tensorflow/core/profiler/internal/gpu/cupti_tracer.cc:1415] function cupti_interface_->Subscribe( &subscriber_, (CUpti_CallbackFunc)ApiCallback, this)failed with error CUPTI_ERROR_NOT_INITIALIZED\n",
      "2023-07-12 13:40:00.842598: I tensorflow/core/profiler/lib/profiler_session.cc:172] Profiler session tear down.\n"
     ]
    },
    {
     "name": "stdout",
     "output_type": "stream",
     "text": [
      "[LOG] -- Val ACC Did Not Increase\n"
     ]
    },
    {
     "name": "stderr",
     "output_type": "stream",
     "text": [
      " 68%|███████████████████████████████████████████████████████                          | 102/150 [22:49<10:05, 12.62s/it]2023-07-12 13:40:13.025917: I tensorflow/core/profiler/lib/profiler_session.cc:136] Profiler session initializing.\n",
      "2023-07-12 13:40:13.025931: I tensorflow/core/profiler/lib/profiler_session.cc:155] Profiler session started.\n",
      "2023-07-12 13:40:13.025961: E tensorflow/core/profiler/internal/gpu/cupti_tracer.cc:1415] function cupti_interface_->Subscribe( &subscriber_, (CUpti_CallbackFunc)ApiCallback, this)failed with error CUPTI_ERROR_NOT_INITIALIZED\n",
      "2023-07-12 13:40:13.025971: I tensorflow/core/profiler/lib/profiler_session.cc:172] Profiler session tear down.\n"
     ]
    },
    {
     "name": "stdout",
     "output_type": "stream",
     "text": [
      "[LOG] -- Val ACC Did Not Increase\n"
     ]
    },
    {
     "name": "stderr",
     "output_type": "stream",
     "text": [
      " 69%|███████████████████████████████████████████████████████▌                         | 103/150 [23:01<09:48, 12.51s/it]2023-07-12 13:40:25.284889: I tensorflow/core/profiler/lib/profiler_session.cc:136] Profiler session initializing.\n",
      "2023-07-12 13:40:25.284904: I tensorflow/core/profiler/lib/profiler_session.cc:155] Profiler session started.\n",
      "2023-07-12 13:40:25.284936: E tensorflow/core/profiler/internal/gpu/cupti_tracer.cc:1415] function cupti_interface_->Subscribe( &subscriber_, (CUpti_CallbackFunc)ApiCallback, this)failed with error CUPTI_ERROR_NOT_INITIALIZED\n",
      "2023-07-12 13:40:25.284945: I tensorflow/core/profiler/lib/profiler_session.cc:172] Profiler session tear down.\n"
     ]
    },
    {
     "name": "stdout",
     "output_type": "stream",
     "text": [
      "[LOG] -- Val ACC Did Not Increase\n"
     ]
    },
    {
     "name": "stderr",
     "output_type": "stream",
     "text": [
      " 69%|████████████████████████████████████████████████████████▏                        | 104/150 [23:13<09:30, 12.40s/it]2023-07-12 13:40:37.436873: I tensorflow/core/profiler/lib/profiler_session.cc:136] Profiler session initializing.\n",
      "2023-07-12 13:40:37.436888: I tensorflow/core/profiler/lib/profiler_session.cc:155] Profiler session started.\n",
      "2023-07-12 13:40:37.436919: E tensorflow/core/profiler/internal/gpu/cupti_tracer.cc:1415] function cupti_interface_->Subscribe( &subscriber_, (CUpti_CallbackFunc)ApiCallback, this)failed with error CUPTI_ERROR_NOT_INITIALIZED\n",
      "2023-07-12 13:40:37.436929: I tensorflow/core/profiler/lib/profiler_session.cc:172] Profiler session tear down.\n"
     ]
    },
    {
     "name": "stdout",
     "output_type": "stream",
     "text": [
      "[LOG] -- Val ACC Did Not Increase\n"
     ]
    },
    {
     "name": "stderr",
     "output_type": "stream",
     "text": [
      " 70%|████████████████████████████████████████████████████████▋                        | 105/150 [23:25<09:15, 12.34s/it]2023-07-12 13:40:49.634405: I tensorflow/core/profiler/lib/profiler_session.cc:136] Profiler session initializing.\n",
      "2023-07-12 13:40:49.634417: I tensorflow/core/profiler/lib/profiler_session.cc:155] Profiler session started.\n",
      "2023-07-12 13:40:49.634448: E tensorflow/core/profiler/internal/gpu/cupti_tracer.cc:1415] function cupti_interface_->Subscribe( &subscriber_, (CUpti_CallbackFunc)ApiCallback, this)failed with error CUPTI_ERROR_NOT_INITIALIZED\n",
      "2023-07-12 13:40:49.634458: I tensorflow/core/profiler/lib/profiler_session.cc:172] Profiler session tear down.\n"
     ]
    },
    {
     "name": "stdout",
     "output_type": "stream",
     "text": [
      "[LOG] -- Val ACC Did Not Increase\n"
     ]
    },
    {
     "name": "stderr",
     "output_type": "stream",
     "text": [
      " 71%|█████████████████████████████████████████████████████████▏                       | 106/150 [23:38<09:00, 12.29s/it]2023-07-12 13:41:01.791762: I tensorflow/core/profiler/lib/profiler_session.cc:136] Profiler session initializing.\n",
      "2023-07-12 13:41:01.791776: I tensorflow/core/profiler/lib/profiler_session.cc:155] Profiler session started.\n",
      "2023-07-12 13:41:01.791805: E tensorflow/core/profiler/internal/gpu/cupti_tracer.cc:1415] function cupti_interface_->Subscribe( &subscriber_, (CUpti_CallbackFunc)ApiCallback, this)failed with error CUPTI_ERROR_NOT_INITIALIZED\n",
      "2023-07-12 13:41:01.791815: I tensorflow/core/profiler/lib/profiler_session.cc:172] Profiler session tear down.\n"
     ]
    },
    {
     "name": "stdout",
     "output_type": "stream",
     "text": [
      "[LOG] -- Val ACC Did Not Increase\n"
     ]
    },
    {
     "name": "stderr",
     "output_type": "stream",
     "text": [
      " 71%|█████████████████████████████████████████████████████████▊                       | 107/150 [23:50<08:46, 12.24s/it]2023-07-12 13:41:13.931819: I tensorflow/core/profiler/lib/profiler_session.cc:136] Profiler session initializing.\n",
      "2023-07-12 13:41:13.931833: I tensorflow/core/profiler/lib/profiler_session.cc:155] Profiler session started.\n",
      "2023-07-12 13:41:13.931865: E tensorflow/core/profiler/internal/gpu/cupti_tracer.cc:1415] function cupti_interface_->Subscribe( &subscriber_, (CUpti_CallbackFunc)ApiCallback, this)failed with error CUPTI_ERROR_NOT_INITIALIZED\n",
      "2023-07-12 13:41:13.931875: I tensorflow/core/profiler/lib/profiler_session.cc:172] Profiler session tear down.\n"
     ]
    },
    {
     "name": "stdout",
     "output_type": "stream",
     "text": [
      "[LOG] -- Val ACC Did Not Increase\n"
     ]
    },
    {
     "name": "stderr",
     "output_type": "stream",
     "text": [
      " 72%|██████████████████████████████████████████████████████████▎                      | 108/150 [24:02<08:32, 12.21s/it]2023-07-12 13:41:26.058502: I tensorflow/core/profiler/lib/profiler_session.cc:136] Profiler session initializing.\n",
      "2023-07-12 13:41:26.058516: I tensorflow/core/profiler/lib/profiler_session.cc:155] Profiler session started.\n",
      "2023-07-12 13:41:26.058547: E tensorflow/core/profiler/internal/gpu/cupti_tracer.cc:1415] function cupti_interface_->Subscribe( &subscriber_, (CUpti_CallbackFunc)ApiCallback, this)failed with error CUPTI_ERROR_NOT_INITIALIZED\n",
      "2023-07-12 13:41:26.058557: I tensorflow/core/profiler/lib/profiler_session.cc:172] Profiler session tear down.\n"
     ]
    },
    {
     "name": "stdout",
     "output_type": "stream",
     "text": [
      "[LOG] -- Val ACC Did Not Increase\n"
     ]
    },
    {
     "name": "stderr",
     "output_type": "stream",
     "text": [
      " 73%|██████████████████████████████████████████████████████████▊                      | 109/150 [24:14<08:20, 12.20s/it]2023-07-12 13:41:38.229464: I tensorflow/core/profiler/lib/profiler_session.cc:136] Profiler session initializing.\n",
      "2023-07-12 13:41:38.229478: I tensorflow/core/profiler/lib/profiler_session.cc:155] Profiler session started.\n",
      "2023-07-12 13:41:38.229509: E tensorflow/core/profiler/internal/gpu/cupti_tracer.cc:1415] function cupti_interface_->Subscribe( &subscriber_, (CUpti_CallbackFunc)ApiCallback, this)failed with error CUPTI_ERROR_NOT_INITIALIZED\n",
      "2023-07-12 13:41:38.229519: I tensorflow/core/profiler/lib/profiler_session.cc:172] Profiler session tear down.\n"
     ]
    },
    {
     "name": "stdout",
     "output_type": "stream",
     "text": [
      "[LOG] -- VAL ACC INCREASED........... SAVING MDOEL 0.746999979019165\n"
     ]
    },
    {
     "name": "stderr",
     "output_type": "stream",
     "text": [
      " 73%|███████████████████████████████████████████████████████████▍                     | 110/150 [24:30<08:47, 13.19s/it]2023-07-12 13:41:53.741228: I tensorflow/core/profiler/lib/profiler_session.cc:136] Profiler session initializing.\n",
      "2023-07-12 13:41:53.741243: I tensorflow/core/profiler/lib/profiler_session.cc:155] Profiler session started.\n",
      "2023-07-12 13:41:53.741272: E tensorflow/core/profiler/internal/gpu/cupti_tracer.cc:1415] function cupti_interface_->Subscribe( &subscriber_, (CUpti_CallbackFunc)ApiCallback, this)failed with error CUPTI_ERROR_NOT_INITIALIZED\n",
      "2023-07-12 13:41:53.741282: I tensorflow/core/profiler/lib/profiler_session.cc:172] Profiler session tear down.\n"
     ]
    },
    {
     "name": "stdout",
     "output_type": "stream",
     "text": [
      "[LOG] -- Val ACC Did Not Increase\n"
     ]
    },
    {
     "name": "stderr",
     "output_type": "stream",
     "text": [
      " 74%|███████████████████████████████████████████████████████████▉                     | 111/150 [24:42<08:21, 12.87s/it]2023-07-12 13:42:05.851955: I tensorflow/core/profiler/lib/profiler_session.cc:136] Profiler session initializing.\n",
      "2023-07-12 13:42:05.851970: I tensorflow/core/profiler/lib/profiler_session.cc:155] Profiler session started.\n",
      "2023-07-12 13:42:05.852003: E tensorflow/core/profiler/internal/gpu/cupti_tracer.cc:1415] function cupti_interface_->Subscribe( &subscriber_, (CUpti_CallbackFunc)ApiCallback, this)failed with error CUPTI_ERROR_NOT_INITIALIZED\n",
      "2023-07-12 13:42:05.852014: I tensorflow/core/profiler/lib/profiler_session.cc:172] Profiler session tear down.\n"
     ]
    },
    {
     "name": "stdout",
     "output_type": "stream",
     "text": [
      "[LOG] -- Val ACC Did Not Increase\n"
     ]
    },
    {
     "name": "stderr",
     "output_type": "stream",
     "text": [
      " 75%|████████████████████████████████████████████████████████████▍                    | 112/150 [24:54<08:00, 12.63s/it]2023-07-12 13:42:17.941881: I tensorflow/core/profiler/lib/profiler_session.cc:136] Profiler session initializing.\n",
      "2023-07-12 13:42:17.941895: I tensorflow/core/profiler/lib/profiler_session.cc:155] Profiler session started.\n",
      "2023-07-12 13:42:17.941926: E tensorflow/core/profiler/internal/gpu/cupti_tracer.cc:1415] function cupti_interface_->Subscribe( &subscriber_, (CUpti_CallbackFunc)ApiCallback, this)failed with error CUPTI_ERROR_NOT_INITIALIZED\n",
      "2023-07-12 13:42:17.941936: I tensorflow/core/profiler/lib/profiler_session.cc:172] Profiler session tear down.\n"
     ]
    },
    {
     "name": "stdout",
     "output_type": "stream",
     "text": [
      "[LOG] -- Val ACC Did Not Increase\n"
     ]
    },
    {
     "name": "stderr",
     "output_type": "stream",
     "text": [
      " 75%|█████████████████████████████████████████████████████████████                    | 113/150 [25:06<07:42, 12.50s/it]2023-07-12 13:42:30.129472: I tensorflow/core/profiler/lib/profiler_session.cc:136] Profiler session initializing.\n",
      "2023-07-12 13:42:30.129486: I tensorflow/core/profiler/lib/profiler_session.cc:155] Profiler session started.\n",
      "2023-07-12 13:42:30.129518: E tensorflow/core/profiler/internal/gpu/cupti_tracer.cc:1415] function cupti_interface_->Subscribe( &subscriber_, (CUpti_CallbackFunc)ApiCallback, this)failed with error CUPTI_ERROR_NOT_INITIALIZED\n",
      "2023-07-12 13:42:30.129527: I tensorflow/core/profiler/lib/profiler_session.cc:172] Profiler session tear down.\n"
     ]
    },
    {
     "name": "stdout",
     "output_type": "stream",
     "text": [
      "[LOG] -- Val ACC Did Not Increase\n"
     ]
    },
    {
     "name": "stderr",
     "output_type": "stream",
     "text": [
      " 76%|█████████████████████████████████████████████████████████████▌                   | 114/150 [25:18<07:26, 12.40s/it]2023-07-12 13:42:42.288737: I tensorflow/core/profiler/lib/profiler_session.cc:136] Profiler session initializing.\n",
      "2023-07-12 13:42:42.288752: I tensorflow/core/profiler/lib/profiler_session.cc:155] Profiler session started.\n",
      "2023-07-12 13:42:42.288782: E tensorflow/core/profiler/internal/gpu/cupti_tracer.cc:1415] function cupti_interface_->Subscribe( &subscriber_, (CUpti_CallbackFunc)ApiCallback, this)failed with error CUPTI_ERROR_NOT_INITIALIZED\n",
      "2023-07-12 13:42:42.288791: I tensorflow/core/profiler/lib/profiler_session.cc:172] Profiler session tear down.\n"
     ]
    },
    {
     "name": "stdout",
     "output_type": "stream",
     "text": [
      "[LOG] -- VAL ACC INCREASED........... SAVING MDOEL 0.7490000128746033\n"
     ]
    },
    {
     "name": "stderr",
     "output_type": "stream",
     "text": [
      " 77%|██████████████████████████████████████████████████████████████                   | 115/150 [25:34<07:48, 13.39s/it]2023-07-12 13:42:57.995464: I tensorflow/core/profiler/lib/profiler_session.cc:136] Profiler session initializing.\n",
      "2023-07-12 13:42:57.995480: I tensorflow/core/profiler/lib/profiler_session.cc:155] Profiler session started.\n",
      "2023-07-12 13:42:57.995511: E tensorflow/core/profiler/internal/gpu/cupti_tracer.cc:1415] function cupti_interface_->Subscribe( &subscriber_, (CUpti_CallbackFunc)ApiCallback, this)failed with error CUPTI_ERROR_NOT_INITIALIZED\n",
      "2023-07-12 13:42:57.995521: I tensorflow/core/profiler/lib/profiler_session.cc:172] Profiler session tear down.\n"
     ]
    },
    {
     "name": "stdout",
     "output_type": "stream",
     "text": [
      "[LOG] -- Val ACC Did Not Increase\n"
     ]
    },
    {
     "name": "stderr",
     "output_type": "stream",
     "text": [
      " 77%|██████████████████████████████████████████████████████████████▋                  | 116/150 [25:46<07:22, 13.02s/it]2023-07-12 13:43:10.166566: I tensorflow/core/profiler/lib/profiler_session.cc:136] Profiler session initializing.\n",
      "2023-07-12 13:43:10.166582: I tensorflow/core/profiler/lib/profiler_session.cc:155] Profiler session started.\n",
      "2023-07-12 13:43:10.166615: E tensorflow/core/profiler/internal/gpu/cupti_tracer.cc:1415] function cupti_interface_->Subscribe( &subscriber_, (CUpti_CallbackFunc)ApiCallback, this)failed with error CUPTI_ERROR_NOT_INITIALIZED\n",
      "2023-07-12 13:43:10.166624: I tensorflow/core/profiler/lib/profiler_session.cc:172] Profiler session tear down.\n"
     ]
    },
    {
     "name": "stdout",
     "output_type": "stream",
     "text": [
      "[LOG] -- Val ACC Did Not Increase\n"
     ]
    },
    {
     "name": "stderr",
     "output_type": "stream",
     "text": [
      " 78%|███████████████████████████████████████████████████████████████▏                 | 117/150 [25:58<07:01, 12.77s/it]2023-07-12 13:43:22.353510: I tensorflow/core/profiler/lib/profiler_session.cc:136] Profiler session initializing.\n",
      "2023-07-12 13:43:22.353525: I tensorflow/core/profiler/lib/profiler_session.cc:155] Profiler session started.\n",
      "2023-07-12 13:43:22.353556: E tensorflow/core/profiler/internal/gpu/cupti_tracer.cc:1415] function cupti_interface_->Subscribe( &subscriber_, (CUpti_CallbackFunc)ApiCallback, this)failed with error CUPTI_ERROR_NOT_INITIALIZED\n",
      "2023-07-12 13:43:22.353565: I tensorflow/core/profiler/lib/profiler_session.cc:172] Profiler session tear down.\n"
     ]
    },
    {
     "name": "stdout",
     "output_type": "stream",
     "text": [
      "[LOG] -- Val ACC Did Not Increase\n"
     ]
    },
    {
     "name": "stderr",
     "output_type": "stream",
     "text": [
      " 79%|███████████████████████████████████████████████████████████████▋                 | 118/150 [26:10<06:43, 12.60s/it]2023-07-12 13:43:34.555847: I tensorflow/core/profiler/lib/profiler_session.cc:136] Profiler session initializing.\n",
      "2023-07-12 13:43:34.555862: I tensorflow/core/profiler/lib/profiler_session.cc:155] Profiler session started.\n",
      "2023-07-12 13:43:34.555891: E tensorflow/core/profiler/internal/gpu/cupti_tracer.cc:1415] function cupti_interface_->Subscribe( &subscriber_, (CUpti_CallbackFunc)ApiCallback, this)failed with error CUPTI_ERROR_NOT_INITIALIZED\n",
      "2023-07-12 13:43:34.555901: I tensorflow/core/profiler/lib/profiler_session.cc:172] Profiler session tear down.\n"
     ]
    },
    {
     "name": "stdout",
     "output_type": "stream",
     "text": [
      "[LOG] -- Val ACC Did Not Increase\n"
     ]
    },
    {
     "name": "stderr",
     "output_type": "stream",
     "text": [
      " 79%|████████████████████████████████████████████████████████████████▎                | 119/150 [26:22<06:26, 12.47s/it]2023-07-12 13:43:46.731025: I tensorflow/core/profiler/lib/profiler_session.cc:136] Profiler session initializing.\n",
      "2023-07-12 13:43:46.731039: I tensorflow/core/profiler/lib/profiler_session.cc:155] Profiler session started.\n",
      "2023-07-12 13:43:46.731071: E tensorflow/core/profiler/internal/gpu/cupti_tracer.cc:1415] function cupti_interface_->Subscribe( &subscriber_, (CUpti_CallbackFunc)ApiCallback, this)failed with error CUPTI_ERROR_NOT_INITIALIZED\n",
      "2023-07-12 13:43:46.731080: I tensorflow/core/profiler/lib/profiler_session.cc:172] Profiler session tear down.\n"
     ]
    },
    {
     "name": "stdout",
     "output_type": "stream",
     "text": [
      "[LOG] -- Val ACC Did Not Increase\n"
     ]
    },
    {
     "name": "stderr",
     "output_type": "stream",
     "text": [
      " 80%|████████████████████████████████████████████████████████████████▊                | 120/150 [26:35<06:11, 12.38s/it]2023-07-12 13:43:58.907637: I tensorflow/core/profiler/lib/profiler_session.cc:136] Profiler session initializing.\n",
      "2023-07-12 13:43:58.907651: I tensorflow/core/profiler/lib/profiler_session.cc:155] Profiler session started.\n",
      "2023-07-12 13:43:58.907683: E tensorflow/core/profiler/internal/gpu/cupti_tracer.cc:1415] function cupti_interface_->Subscribe( &subscriber_, (CUpti_CallbackFunc)ApiCallback, this)failed with error CUPTI_ERROR_NOT_INITIALIZED\n",
      "2023-07-12 13:43:58.907692: I tensorflow/core/profiler/lib/profiler_session.cc:172] Profiler session tear down.\n"
     ]
    },
    {
     "name": "stdout",
     "output_type": "stream",
     "text": [
      "[LOG] -- VAL ACC INCREASED........... SAVING MDOEL 0.7580000162124634\n"
     ]
    },
    {
     "name": "stderr",
     "output_type": "stream",
     "text": [
      " 81%|█████████████████████████████████████████████████████████████████▎               | 121/150 [26:50<06:24, 13.27s/it]2023-07-12 13:44:14.235380: I tensorflow/core/profiler/lib/profiler_session.cc:136] Profiler session initializing.\n",
      "2023-07-12 13:44:14.235397: I tensorflow/core/profiler/lib/profiler_session.cc:155] Profiler session started.\n",
      "2023-07-12 13:44:14.235428: E tensorflow/core/profiler/internal/gpu/cupti_tracer.cc:1415] function cupti_interface_->Subscribe( &subscriber_, (CUpti_CallbackFunc)ApiCallback, this)failed with error CUPTI_ERROR_NOT_INITIALIZED\n",
      "2023-07-12 13:44:14.235438: I tensorflow/core/profiler/lib/profiler_session.cc:172] Profiler session tear down.\n"
     ]
    },
    {
     "name": "stdout",
     "output_type": "stream",
     "text": [
      "[LOG] -- Val ACC Did Not Increase\n"
     ]
    },
    {
     "name": "stderr",
     "output_type": "stream",
     "text": [
      " 81%|█████████████████████████████████████████████████████████████████▉               | 122/150 [27:02<06:02, 12.94s/it]2023-07-12 13:44:26.410387: I tensorflow/core/profiler/lib/profiler_session.cc:136] Profiler session initializing.\n",
      "2023-07-12 13:44:26.410402: I tensorflow/core/profiler/lib/profiler_session.cc:155] Profiler session started.\n",
      "2023-07-12 13:44:26.410432: E tensorflow/core/profiler/internal/gpu/cupti_tracer.cc:1415] function cupti_interface_->Subscribe( &subscriber_, (CUpti_CallbackFunc)ApiCallback, this)failed with error CUPTI_ERROR_NOT_INITIALIZED\n",
      "2023-07-12 13:44:26.410441: I tensorflow/core/profiler/lib/profiler_session.cc:172] Profiler session tear down.\n"
     ]
    },
    {
     "name": "stdout",
     "output_type": "stream",
     "text": [
      "[LOG] -- Val ACC Did Not Increase\n"
     ]
    },
    {
     "name": "stderr",
     "output_type": "stream",
     "text": [
      " 82%|██████████████████████████████████████████████████████████████████▍              | 123/150 [27:14<05:43, 12.70s/it]2023-07-12 13:44:38.564847: I tensorflow/core/profiler/lib/profiler_session.cc:136] Profiler session initializing.\n",
      "2023-07-12 13:44:38.564860: I tensorflow/core/profiler/lib/profiler_session.cc:155] Profiler session started.\n",
      "2023-07-12 13:44:38.564889: E tensorflow/core/profiler/internal/gpu/cupti_tracer.cc:1415] function cupti_interface_->Subscribe( &subscriber_, (CUpti_CallbackFunc)ApiCallback, this)failed with error CUPTI_ERROR_NOT_INITIALIZED\n",
      "2023-07-12 13:44:38.564899: I tensorflow/core/profiler/lib/profiler_session.cc:172] Profiler session tear down.\n"
     ]
    },
    {
     "name": "stdout",
     "output_type": "stream",
     "text": [
      "[LOG] -- Val ACC Did Not Increase\n"
     ]
    },
    {
     "name": "stderr",
     "output_type": "stream",
     "text": [
      " 83%|██████████████████████████████████████████████████████████████████▉              | 124/150 [27:26<05:26, 12.54s/it]2023-07-12 13:44:50.729339: I tensorflow/core/profiler/lib/profiler_session.cc:136] Profiler session initializing.\n",
      "2023-07-12 13:44:50.729354: I tensorflow/core/profiler/lib/profiler_session.cc:155] Profiler session started.\n",
      "2023-07-12 13:44:50.729385: E tensorflow/core/profiler/internal/gpu/cupti_tracer.cc:1415] function cupti_interface_->Subscribe( &subscriber_, (CUpti_CallbackFunc)ApiCallback, this)failed with error CUPTI_ERROR_NOT_INITIALIZED\n",
      "2023-07-12 13:44:50.729396: I tensorflow/core/profiler/lib/profiler_session.cc:172] Profiler session tear down.\n"
     ]
    },
    {
     "name": "stdout",
     "output_type": "stream",
     "text": [
      "[LOG] -- Val ACC Did Not Increase\n"
     ]
    },
    {
     "name": "stderr",
     "output_type": "stream",
     "text": [
      " 83%|███████████████████████████████████████████████████████████████████▌             | 125/150 [27:39<05:10, 12.41s/it]2023-07-12 13:45:02.813921: I tensorflow/core/profiler/lib/profiler_session.cc:136] Profiler session initializing.\n",
      "2023-07-12 13:45:02.813935: I tensorflow/core/profiler/lib/profiler_session.cc:155] Profiler session started.\n",
      "2023-07-12 13:45:02.813966: E tensorflow/core/profiler/internal/gpu/cupti_tracer.cc:1415] function cupti_interface_->Subscribe( &subscriber_, (CUpti_CallbackFunc)ApiCallback, this)failed with error CUPTI_ERROR_NOT_INITIALIZED\n",
      "2023-07-12 13:45:02.813976: I tensorflow/core/profiler/lib/profiler_session.cc:172] Profiler session tear down.\n"
     ]
    },
    {
     "name": "stdout",
     "output_type": "stream",
     "text": [
      "[LOG] -- Val ACC Did Not Increase\n"
     ]
    },
    {
     "name": "stderr",
     "output_type": "stream",
     "text": [
      " 84%|████████████████████████████████████████████████████████████████████             | 126/150 [27:51<04:55, 12.33s/it]2023-07-12 13:45:14.973554: I tensorflow/core/profiler/lib/profiler_session.cc:136] Profiler session initializing.\n",
      "2023-07-12 13:45:14.973569: I tensorflow/core/profiler/lib/profiler_session.cc:155] Profiler session started.\n",
      "2023-07-12 13:45:14.973599: E tensorflow/core/profiler/internal/gpu/cupti_tracer.cc:1415] function cupti_interface_->Subscribe( &subscriber_, (CUpti_CallbackFunc)ApiCallback, this)failed with error CUPTI_ERROR_NOT_INITIALIZED\n",
      "2023-07-12 13:45:14.973609: I tensorflow/core/profiler/lib/profiler_session.cc:172] Profiler session tear down.\n"
     ]
    },
    {
     "name": "stdout",
     "output_type": "stream",
     "text": [
      "[LOG] -- Val ACC Did Not Increase\n"
     ]
    },
    {
     "name": "stderr",
     "output_type": "stream",
     "text": [
      " 85%|████████████████████████████████████████████████████████████████████▌            | 127/150 [28:03<04:42, 12.28s/it]2023-07-12 13:45:27.138952: I tensorflow/core/profiler/lib/profiler_session.cc:136] Profiler session initializing.\n",
      "2023-07-12 13:45:27.138968: I tensorflow/core/profiler/lib/profiler_session.cc:155] Profiler session started.\n",
      "2023-07-12 13:45:27.138998: E tensorflow/core/profiler/internal/gpu/cupti_tracer.cc:1415] function cupti_interface_->Subscribe( &subscriber_, (CUpti_CallbackFunc)ApiCallback, this)failed with error CUPTI_ERROR_NOT_INITIALIZED\n",
      "2023-07-12 13:45:27.139008: I tensorflow/core/profiler/lib/profiler_session.cc:172] Profiler session tear down.\n"
     ]
    },
    {
     "name": "stdout",
     "output_type": "stream",
     "text": [
      "[LOG] -- Val ACC Did Not Increase\n"
     ]
    },
    {
     "name": "stderr",
     "output_type": "stream",
     "text": [
      " 85%|█████████████████████████████████████████████████████████████████████            | 128/150 [28:15<04:29, 12.24s/it]2023-07-12 13:45:39.274580: I tensorflow/core/profiler/lib/profiler_session.cc:136] Profiler session initializing.\n",
      "2023-07-12 13:45:39.274594: I tensorflow/core/profiler/lib/profiler_session.cc:155] Profiler session started.\n",
      "2023-07-12 13:45:39.274624: E tensorflow/core/profiler/internal/gpu/cupti_tracer.cc:1415] function cupti_interface_->Subscribe( &subscriber_, (CUpti_CallbackFunc)ApiCallback, this)failed with error CUPTI_ERROR_NOT_INITIALIZED\n",
      "2023-07-12 13:45:39.274633: I tensorflow/core/profiler/lib/profiler_session.cc:172] Profiler session tear down.\n"
     ]
    },
    {
     "name": "stdout",
     "output_type": "stream",
     "text": [
      "[LOG] -- Val ACC Did Not Increase\n"
     ]
    },
    {
     "name": "stderr",
     "output_type": "stream",
     "text": [
      " 86%|█████████████████████████████████████████████████████████████████████▋           | 129/150 [28:27<04:16, 12.21s/it]2023-07-12 13:45:51.433785: I tensorflow/core/profiler/lib/profiler_session.cc:136] Profiler session initializing.\n",
      "2023-07-12 13:45:51.433799: I tensorflow/core/profiler/lib/profiler_session.cc:155] Profiler session started.\n",
      "2023-07-12 13:45:51.433830: E tensorflow/core/profiler/internal/gpu/cupti_tracer.cc:1415] function cupti_interface_->Subscribe( &subscriber_, (CUpti_CallbackFunc)ApiCallback, this)failed with error CUPTI_ERROR_NOT_INITIALIZED\n",
      "2023-07-12 13:45:51.433839: I tensorflow/core/profiler/lib/profiler_session.cc:172] Profiler session tear down.\n"
     ]
    },
    {
     "name": "stdout",
     "output_type": "stream",
     "text": [
      "[LOG] -- Val ACC Did Not Increase\n"
     ]
    },
    {
     "name": "stderr",
     "output_type": "stream",
     "text": [
      " 87%|██████████████████████████████████████████████████████████████████████▏          | 130/150 [28:39<04:04, 12.21s/it]2023-07-12 13:46:03.621520: I tensorflow/core/profiler/lib/profiler_session.cc:136] Profiler session initializing.\n",
      "2023-07-12 13:46:03.621536: I tensorflow/core/profiler/lib/profiler_session.cc:155] Profiler session started.\n",
      "2023-07-12 13:46:03.621567: E tensorflow/core/profiler/internal/gpu/cupti_tracer.cc:1415] function cupti_interface_->Subscribe( &subscriber_, (CUpti_CallbackFunc)ApiCallback, this)failed with error CUPTI_ERROR_NOT_INITIALIZED\n",
      "2023-07-12 13:46:03.621576: I tensorflow/core/profiler/lib/profiler_session.cc:172] Profiler session tear down.\n"
     ]
    },
    {
     "name": "stdout",
     "output_type": "stream",
     "text": [
      "[LOG] -- Val ACC Did Not Increase\n"
     ]
    },
    {
     "name": "stderr",
     "output_type": "stream",
     "text": [
      " 87%|██████████████████████████████████████████████████████████████████████▋          | 131/150 [28:52<03:51, 12.19s/it]2023-07-12 13:46:15.789567: I tensorflow/core/profiler/lib/profiler_session.cc:136] Profiler session initializing.\n",
      "2023-07-12 13:46:15.789582: I tensorflow/core/profiler/lib/profiler_session.cc:155] Profiler session started.\n",
      "2023-07-12 13:46:15.789610: E tensorflow/core/profiler/internal/gpu/cupti_tracer.cc:1415] function cupti_interface_->Subscribe( &subscriber_, (CUpti_CallbackFunc)ApiCallback, this)failed with error CUPTI_ERROR_NOT_INITIALIZED\n",
      "2023-07-12 13:46:15.789619: I tensorflow/core/profiler/lib/profiler_session.cc:172] Profiler session tear down.\n"
     ]
    },
    {
     "name": "stdout",
     "output_type": "stream",
     "text": [
      "[LOG] -- Val ACC Did Not Increase\n"
     ]
    },
    {
     "name": "stderr",
     "output_type": "stream",
     "text": [
      " 88%|███████████████████████████████████████████████████████████████████████▎         | 132/150 [29:04<03:39, 12.19s/it]2023-07-12 13:46:27.956090: I tensorflow/core/profiler/lib/profiler_session.cc:136] Profiler session initializing.\n",
      "2023-07-12 13:46:27.956105: I tensorflow/core/profiler/lib/profiler_session.cc:155] Profiler session started.\n",
      "2023-07-12 13:46:27.956135: E tensorflow/core/profiler/internal/gpu/cupti_tracer.cc:1415] function cupti_interface_->Subscribe( &subscriber_, (CUpti_CallbackFunc)ApiCallback, this)failed with error CUPTI_ERROR_NOT_INITIALIZED\n",
      "2023-07-12 13:46:27.956145: I tensorflow/core/profiler/lib/profiler_session.cc:172] Profiler session tear down.\n"
     ]
    },
    {
     "name": "stdout",
     "output_type": "stream",
     "text": [
      "[LOG] -- Val ACC Did Not Increase\n"
     ]
    },
    {
     "name": "stderr",
     "output_type": "stream",
     "text": [
      " 89%|███████████████████████████████████████████████████████████████████████▊         | 133/150 [29:16<03:27, 12.19s/it]2023-07-12 13:46:40.160857: I tensorflow/core/profiler/lib/profiler_session.cc:136] Profiler session initializing.\n",
      "2023-07-12 13:46:40.160873: I tensorflow/core/profiler/lib/profiler_session.cc:155] Profiler session started.\n",
      "2023-07-12 13:46:40.160904: E tensorflow/core/profiler/internal/gpu/cupti_tracer.cc:1415] function cupti_interface_->Subscribe( &subscriber_, (CUpti_CallbackFunc)ApiCallback, this)failed with error CUPTI_ERROR_NOT_INITIALIZED\n",
      "2023-07-12 13:46:40.160914: I tensorflow/core/profiler/lib/profiler_session.cc:172] Profiler session tear down.\n"
     ]
    },
    {
     "name": "stdout",
     "output_type": "stream",
     "text": [
      "[LOG] -- Val ACC Did Not Increase\n"
     ]
    },
    {
     "name": "stderr",
     "output_type": "stream",
     "text": [
      " 89%|████████████████████████████████████████████████████████████████████████▎        | 134/150 [29:28<03:15, 12.19s/it]2023-07-12 13:46:52.360197: I tensorflow/core/profiler/lib/profiler_session.cc:136] Profiler session initializing.\n",
      "2023-07-12 13:46:52.360212: I tensorflow/core/profiler/lib/profiler_session.cc:155] Profiler session started.\n",
      "2023-07-12 13:46:52.360242: E tensorflow/core/profiler/internal/gpu/cupti_tracer.cc:1415] function cupti_interface_->Subscribe( &subscriber_, (CUpti_CallbackFunc)ApiCallback, this)failed with error CUPTI_ERROR_NOT_INITIALIZED\n",
      "2023-07-12 13:46:52.360252: I tensorflow/core/profiler/lib/profiler_session.cc:172] Profiler session tear down.\n"
     ]
    },
    {
     "name": "stdout",
     "output_type": "stream",
     "text": [
      "[LOG] -- Val ACC Did Not Increase\n"
     ]
    },
    {
     "name": "stderr",
     "output_type": "stream",
     "text": [
      " 90%|████████████████████████████████████████████████████████████████████████▉        | 135/150 [29:40<03:02, 12.20s/it]2023-07-12 13:47:04.562384: I tensorflow/core/profiler/lib/profiler_session.cc:136] Profiler session initializing.\n",
      "2023-07-12 13:47:04.562398: I tensorflow/core/profiler/lib/profiler_session.cc:155] Profiler session started.\n",
      "2023-07-12 13:47:04.562428: E tensorflow/core/profiler/internal/gpu/cupti_tracer.cc:1415] function cupti_interface_->Subscribe( &subscriber_, (CUpti_CallbackFunc)ApiCallback, this)failed with error CUPTI_ERROR_NOT_INITIALIZED\n",
      "2023-07-12 13:47:04.562438: I tensorflow/core/profiler/lib/profiler_session.cc:172] Profiler session tear down.\n"
     ]
    },
    {
     "name": "stdout",
     "output_type": "stream",
     "text": [
      "[LOG] -- Val ACC Did Not Increase\n"
     ]
    },
    {
     "name": "stderr",
     "output_type": "stream",
     "text": [
      " 91%|█████████████████████████████████████████████████████████████████████████▍       | 136/150 [29:52<02:50, 12.19s/it]2023-07-12 13:47:16.735681: I tensorflow/core/profiler/lib/profiler_session.cc:136] Profiler session initializing.\n",
      "2023-07-12 13:47:16.735694: I tensorflow/core/profiler/lib/profiler_session.cc:155] Profiler session started.\n",
      "2023-07-12 13:47:16.735725: E tensorflow/core/profiler/internal/gpu/cupti_tracer.cc:1415] function cupti_interface_->Subscribe( &subscriber_, (CUpti_CallbackFunc)ApiCallback, this)failed with error CUPTI_ERROR_NOT_INITIALIZED\n",
      "2023-07-12 13:47:16.735734: I tensorflow/core/profiler/lib/profiler_session.cc:172] Profiler session tear down.\n"
     ]
    },
    {
     "name": "stdout",
     "output_type": "stream",
     "text": [
      "[LOG] -- VAL ACC INCREASED........... SAVING MDOEL 0.7605999708175659\n"
     ]
    },
    {
     "name": "stderr",
     "output_type": "stream",
     "text": [
      " 91%|█████████████████████████████████████████████████████████████████████████▉       | 137/150 [30:08<02:51, 13.18s/it]2023-07-12 13:47:32.221367: I tensorflow/core/profiler/lib/profiler_session.cc:136] Profiler session initializing.\n",
      "2023-07-12 13:47:32.221382: I tensorflow/core/profiler/lib/profiler_session.cc:155] Profiler session started.\n",
      "2023-07-12 13:47:32.221412: E tensorflow/core/profiler/internal/gpu/cupti_tracer.cc:1415] function cupti_interface_->Subscribe( &subscriber_, (CUpti_CallbackFunc)ApiCallback, this)failed with error CUPTI_ERROR_NOT_INITIALIZED\n",
      "2023-07-12 13:47:32.221422: I tensorflow/core/profiler/lib/profiler_session.cc:172] Profiler session tear down.\n"
     ]
    },
    {
     "name": "stdout",
     "output_type": "stream",
     "text": [
      "[LOG] -- Val ACC Did Not Increase\n"
     ]
    },
    {
     "name": "stderr",
     "output_type": "stream",
     "text": [
      " 92%|██████████████████████████████████████████████████████████████████████████▌      | 138/150 [30:20<02:34, 12.89s/it]2023-07-12 13:47:44.432306: I tensorflow/core/profiler/lib/profiler_session.cc:136] Profiler session initializing.\n",
      "2023-07-12 13:47:44.432321: I tensorflow/core/profiler/lib/profiler_session.cc:155] Profiler session started.\n",
      "2023-07-12 13:47:44.432354: E tensorflow/core/profiler/internal/gpu/cupti_tracer.cc:1415] function cupti_interface_->Subscribe( &subscriber_, (CUpti_CallbackFunc)ApiCallback, this)failed with error CUPTI_ERROR_NOT_INITIALIZED\n",
      "2023-07-12 13:47:44.432364: I tensorflow/core/profiler/lib/profiler_session.cc:172] Profiler session tear down.\n"
     ]
    },
    {
     "name": "stdout",
     "output_type": "stream",
     "text": [
      "[LOG] -- Val ACC Did Not Increase\n"
     ]
    },
    {
     "name": "stderr",
     "output_type": "stream",
     "text": [
      " 93%|███████████████████████████████████████████████████████████████████████████      | 139/150 [30:32<02:19, 12.67s/it]2023-07-12 13:47:56.594896: I tensorflow/core/profiler/lib/profiler_session.cc:136] Profiler session initializing.\n",
      "2023-07-12 13:47:56.594911: I tensorflow/core/profiler/lib/profiler_session.cc:155] Profiler session started.\n",
      "2023-07-12 13:47:56.594943: E tensorflow/core/profiler/internal/gpu/cupti_tracer.cc:1415] function cupti_interface_->Subscribe( &subscriber_, (CUpti_CallbackFunc)ApiCallback, this)failed with error CUPTI_ERROR_NOT_INITIALIZED\n",
      "2023-07-12 13:47:56.594953: I tensorflow/core/profiler/lib/profiler_session.cc:172] Profiler session tear down.\n"
     ]
    },
    {
     "name": "stdout",
     "output_type": "stream",
     "text": [
      "[LOG] -- Val ACC Did Not Increase\n"
     ]
    },
    {
     "name": "stderr",
     "output_type": "stream",
     "text": [
      " 93%|███████████████████████████████████████████████████████████████████████████▌     | 140/150 [30:45<02:05, 12.52s/it]2023-07-12 13:48:08.761176: I tensorflow/core/profiler/lib/profiler_session.cc:136] Profiler session initializing.\n",
      "2023-07-12 13:48:08.761190: I tensorflow/core/profiler/lib/profiler_session.cc:155] Profiler session started.\n",
      "2023-07-12 13:48:08.761222: E tensorflow/core/profiler/internal/gpu/cupti_tracer.cc:1415] function cupti_interface_->Subscribe( &subscriber_, (CUpti_CallbackFunc)ApiCallback, this)failed with error CUPTI_ERROR_NOT_INITIALIZED\n",
      "2023-07-12 13:48:08.761231: I tensorflow/core/profiler/lib/profiler_session.cc:172] Profiler session tear down.\n"
     ]
    },
    {
     "name": "stdout",
     "output_type": "stream",
     "text": [
      "[LOG] -- Val ACC Did Not Increase\n"
     ]
    },
    {
     "name": "stderr",
     "output_type": "stream",
     "text": [
      " 94%|████████████████████████████████████████████████████████████████████████████▏    | 141/150 [30:57<01:51, 12.42s/it]2023-07-12 13:48:20.953934: I tensorflow/core/profiler/lib/profiler_session.cc:136] Profiler session initializing.\n",
      "2023-07-12 13:48:20.953950: I tensorflow/core/profiler/lib/profiler_session.cc:155] Profiler session started.\n",
      "2023-07-12 13:48:20.953981: E tensorflow/core/profiler/internal/gpu/cupti_tracer.cc:1415] function cupti_interface_->Subscribe( &subscriber_, (CUpti_CallbackFunc)ApiCallback, this)failed with error CUPTI_ERROR_NOT_INITIALIZED\n",
      "2023-07-12 13:48:20.953991: I tensorflow/core/profiler/lib/profiler_session.cc:172] Profiler session tear down.\n"
     ]
    },
    {
     "name": "stdout",
     "output_type": "stream",
     "text": [
      "[LOG] -- Val ACC Did Not Increase\n"
     ]
    },
    {
     "name": "stderr",
     "output_type": "stream",
     "text": [
      " 95%|████████████████████████████████████████████████████████████████████████████▋    | 142/150 [31:09<01:38, 12.34s/it]2023-07-12 13:48:33.117994: I tensorflow/core/profiler/lib/profiler_session.cc:136] Profiler session initializing.\n",
      "2023-07-12 13:48:33.118009: I tensorflow/core/profiler/lib/profiler_session.cc:155] Profiler session started.\n",
      "2023-07-12 13:48:33.118039: E tensorflow/core/profiler/internal/gpu/cupti_tracer.cc:1415] function cupti_interface_->Subscribe( &subscriber_, (CUpti_CallbackFunc)ApiCallback, this)failed with error CUPTI_ERROR_NOT_INITIALIZED\n",
      "2023-07-12 13:48:33.118049: I tensorflow/core/profiler/lib/profiler_session.cc:172] Profiler session tear down.\n"
     ]
    },
    {
     "name": "stdout",
     "output_type": "stream",
     "text": [
      "[LOG] -- Val ACC Did Not Increase\n"
     ]
    },
    {
     "name": "stderr",
     "output_type": "stream",
     "text": [
      " 95%|█████████████████████████████████████████████████████████████████████████████▏   | 143/150 [31:21<01:26, 12.29s/it]2023-07-12 13:48:45.276880: I tensorflow/core/profiler/lib/profiler_session.cc:136] Profiler session initializing.\n",
      "2023-07-12 13:48:45.276894: I tensorflow/core/profiler/lib/profiler_session.cc:155] Profiler session started.\n",
      "2023-07-12 13:48:45.276926: E tensorflow/core/profiler/internal/gpu/cupti_tracer.cc:1415] function cupti_interface_->Subscribe( &subscriber_, (CUpti_CallbackFunc)ApiCallback, this)failed with error CUPTI_ERROR_NOT_INITIALIZED\n",
      "2023-07-12 13:48:45.276936: I tensorflow/core/profiler/lib/profiler_session.cc:172] Profiler session tear down.\n"
     ]
    },
    {
     "name": "stdout",
     "output_type": "stream",
     "text": [
      "[LOG] -- Val ACC Did Not Increase\n"
     ]
    },
    {
     "name": "stderr",
     "output_type": "stream",
     "text": [
      " 96%|█████████████████████████████████████████████████████████████████████████████▊   | 144/150 [31:33<01:13, 12.25s/it]2023-07-12 13:48:57.438228: I tensorflow/core/profiler/lib/profiler_session.cc:136] Profiler session initializing.\n",
      "2023-07-12 13:48:57.438242: I tensorflow/core/profiler/lib/profiler_session.cc:155] Profiler session started.\n",
      "2023-07-12 13:48:57.438273: E tensorflow/core/profiler/internal/gpu/cupti_tracer.cc:1415] function cupti_interface_->Subscribe( &subscriber_, (CUpti_CallbackFunc)ApiCallback, this)failed with error CUPTI_ERROR_NOT_INITIALIZED\n",
      "2023-07-12 13:48:57.438283: I tensorflow/core/profiler/lib/profiler_session.cc:172] Profiler session tear down.\n"
     ]
    },
    {
     "name": "stdout",
     "output_type": "stream",
     "text": [
      "[LOG] -- VAL ACC INCREASED........... SAVING MDOEL 0.7684000134468079\n"
     ]
    },
    {
     "name": "stderr",
     "output_type": "stream",
     "text": [
      " 97%|██████████████████████████████████████████████████████████████████████████████▎  | 145/150 [31:49<01:06, 13.21s/it]2023-07-12 13:49:12.884344: I tensorflow/core/profiler/lib/profiler_session.cc:136] Profiler session initializing.\n",
      "2023-07-12 13:49:12.884359: I tensorflow/core/profiler/lib/profiler_session.cc:155] Profiler session started.\n",
      "2023-07-12 13:49:12.884390: E tensorflow/core/profiler/internal/gpu/cupti_tracer.cc:1415] function cupti_interface_->Subscribe( &subscriber_, (CUpti_CallbackFunc)ApiCallback, this)failed with error CUPTI_ERROR_NOT_INITIALIZED\n",
      "2023-07-12 13:49:12.884400: I tensorflow/core/profiler/lib/profiler_session.cc:172] Profiler session tear down.\n"
     ]
    },
    {
     "name": "stdout",
     "output_type": "stream",
     "text": [
      "[LOG] -- Val ACC Did Not Increase\n"
     ]
    },
    {
     "name": "stderr",
     "output_type": "stream",
     "text": [
      " 97%|██████████████████████████████████████████████████████████████████████████████▊  | 146/150 [32:01<00:51, 12.91s/it]2023-07-12 13:49:25.097568: I tensorflow/core/profiler/lib/profiler_session.cc:136] Profiler session initializing.\n",
      "2023-07-12 13:49:25.097583: I tensorflow/core/profiler/lib/profiler_session.cc:155] Profiler session started.\n",
      "2023-07-12 13:49:25.097615: E tensorflow/core/profiler/internal/gpu/cupti_tracer.cc:1415] function cupti_interface_->Subscribe( &subscriber_, (CUpti_CallbackFunc)ApiCallback, this)failed with error CUPTI_ERROR_NOT_INITIALIZED\n",
      "2023-07-12 13:49:25.097625: I tensorflow/core/profiler/lib/profiler_session.cc:172] Profiler session tear down.\n"
     ]
    },
    {
     "name": "stdout",
     "output_type": "stream",
     "text": [
      "[LOG] -- Val ACC Did Not Increase\n"
     ]
    },
    {
     "name": "stderr",
     "output_type": "stream",
     "text": [
      " 98%|███████████████████████████████████████████████████████████████████████████████▍ | 147/150 [32:13<00:38, 12.69s/it]2023-07-12 13:49:37.271261: I tensorflow/core/profiler/lib/profiler_session.cc:136] Profiler session initializing.\n",
      "2023-07-12 13:49:37.271276: I tensorflow/core/profiler/lib/profiler_session.cc:155] Profiler session started.\n",
      "2023-07-12 13:49:37.271308: E tensorflow/core/profiler/internal/gpu/cupti_tracer.cc:1415] function cupti_interface_->Subscribe( &subscriber_, (CUpti_CallbackFunc)ApiCallback, this)failed with error CUPTI_ERROR_NOT_INITIALIZED\n",
      "2023-07-12 13:49:37.271318: I tensorflow/core/profiler/lib/profiler_session.cc:172] Profiler session tear down.\n"
     ]
    },
    {
     "name": "stdout",
     "output_type": "stream",
     "text": [
      "[LOG] -- Val ACC Did Not Increase\n"
     ]
    },
    {
     "name": "stderr",
     "output_type": "stream",
     "text": [
      " 99%|███████████████████████████████████████████████████████████████████████████████▉ | 148/150 [32:25<00:25, 12.53s/it]2023-07-12 13:49:49.418576: I tensorflow/core/profiler/lib/profiler_session.cc:136] Profiler session initializing.\n",
      "2023-07-12 13:49:49.418591: I tensorflow/core/profiler/lib/profiler_session.cc:155] Profiler session started.\n",
      "2023-07-12 13:49:49.418624: E tensorflow/core/profiler/internal/gpu/cupti_tracer.cc:1415] function cupti_interface_->Subscribe( &subscriber_, (CUpti_CallbackFunc)ApiCallback, this)failed with error CUPTI_ERROR_NOT_INITIALIZED\n",
      "2023-07-12 13:49:49.418634: I tensorflow/core/profiler/lib/profiler_session.cc:172] Profiler session tear down.\n"
     ]
    },
    {
     "name": "stdout",
     "output_type": "stream",
     "text": [
      "[LOG] -- Val ACC Did Not Increase\n"
     ]
    },
    {
     "name": "stderr",
     "output_type": "stream",
     "text": [
      " 99%|████████████████████████████████████████████████████████████████████████████████▍| 149/150 [32:37<00:12, 12.42s/it]2023-07-12 13:50:01.583917: I tensorflow/core/profiler/lib/profiler_session.cc:136] Profiler session initializing.\n",
      "2023-07-12 13:50:01.583932: I tensorflow/core/profiler/lib/profiler_session.cc:155] Profiler session started.\n",
      "2023-07-12 13:50:01.583962: E tensorflow/core/profiler/internal/gpu/cupti_tracer.cc:1415] function cupti_interface_->Subscribe( &subscriber_, (CUpti_CallbackFunc)ApiCallback, this)failed with error CUPTI_ERROR_NOT_INITIALIZED\n",
      "2023-07-12 13:50:01.583971: I tensorflow/core/profiler/lib/profiler_session.cc:172] Profiler session tear down.\n"
     ]
    },
    {
     "name": "stdout",
     "output_type": "stream",
     "text": [
      "[LOG] -- Val ACC Did Not Increase\n"
     ]
    },
    {
     "name": "stderr",
     "output_type": "stream",
     "text": [
      "100%|█████████████████████████████████████████████████████████████████████████████████| 150/150 [32:50<00:00, 13.13s/it]"
     ]
    },
    {
     "name": "stdout",
     "output_type": "stream",
     "text": [
      "[LOG] -- FINAL VAL ACC: 0.7684000134468079\n",
      "RUNTIME:  1970.0346286296844\n",
      "TIME PER EPOCH 13.133564190864563\n"
     ]
    },
    {
     "name": "stderr",
     "output_type": "stream",
     "text": [
      "\n"
     ]
    }
   ],
   "source": [
    "%run \"cnn/train.py\" -i /home/mabon/Tiny_power/datasets/power/xmega_unmasked/X1_K1_200k.npz -o /home/mabon/Tiny_power/models/unstructured/randombias/X1_50k/99 -m /home/mabon/Tiny_power/models/unstructured/randombias/X1 -e 150 -tb 2 -lm hw_model -tn 50000 -pr .99 -aw 1800_2800 "
   ]
  },
  {
   "cell_type": "code",
   "execution_count": 2,
   "id": "9e56874c",
   "metadata": {},
   "outputs": [
    {
     "name": "stderr",
     "output_type": "stream",
     "text": [
      "2023-07-12 13:50:13.784631: I tensorflow/compiler/jit/xla_gpu_device.cc:99] Not creating XLA devices, tf_xla_enable_xla_devices not set\n",
      "2023-07-12 13:50:13.784770: I tensorflow/stream_executor/cuda/cuda_gpu_executor.cc:941] successful NUMA node read from SysFS had negative value (-1), but there must be at least one NUMA node, so returning NUMA node zero\n",
      "2023-07-12 13:50:13.784986: I tensorflow/core/common_runtime/gpu/gpu_device.cc:1720] Found device 0 with properties: \n",
      "pciBusID: 0000:01:00.0 name: TITAN RTX computeCapability: 7.5\n",
      "coreClock: 1.77GHz coreCount: 72 deviceMemorySize: 23.65GiB deviceMemoryBandwidth: 625.94GiB/s\n",
      "2023-07-12 13:50:13.785009: I tensorflow/stream_executor/platform/default/dso_loader.cc:49] Successfully opened dynamic library libcudart.so.10.1\n",
      "2023-07-12 13:50:13.785025: I tensorflow/stream_executor/platform/default/dso_loader.cc:49] Successfully opened dynamic library libcublas.so.10\n",
      "2023-07-12 13:50:13.785034: I tensorflow/stream_executor/platform/default/dso_loader.cc:49] Successfully opened dynamic library libcublasLt.so.10\n",
      "2023-07-12 13:50:13.785043: I tensorflow/stream_executor/platform/default/dso_loader.cc:49] Successfully opened dynamic library libcufft.so.10\n",
      "2023-07-12 13:50:13.785052: I tensorflow/stream_executor/platform/default/dso_loader.cc:49] Successfully opened dynamic library libcurand.so.10\n",
      "2023-07-12 13:50:13.785060: I tensorflow/stream_executor/platform/default/dso_loader.cc:49] Successfully opened dynamic library libcusolver.so.10\n",
      "2023-07-12 13:50:13.785069: I tensorflow/stream_executor/platform/default/dso_loader.cc:49] Successfully opened dynamic library libcusparse.so.10\n",
      "2023-07-12 13:50:13.785078: I tensorflow/stream_executor/platform/default/dso_loader.cc:49] Successfully opened dynamic library libcudnn.so.7\n",
      "2023-07-12 13:50:13.785116: I tensorflow/stream_executor/cuda/cuda_gpu_executor.cc:941] successful NUMA node read from SysFS had negative value (-1), but there must be at least one NUMA node, so returning NUMA node zero\n",
      "2023-07-12 13:50:13.785316: I tensorflow/stream_executor/cuda/cuda_gpu_executor.cc:941] successful NUMA node read from SysFS had negative value (-1), but there must be at least one NUMA node, so returning NUMA node zero\n",
      "2023-07-12 13:50:13.785490: I tensorflow/core/common_runtime/gpu/gpu_device.cc:1862] Adding visible gpu devices: 0\n",
      "2023-07-12 13:50:13.785508: I tensorflow/core/common_runtime/gpu/gpu_device.cc:1261] Device interconnect StreamExecutor with strength 1 edge matrix:\n",
      "2023-07-12 13:50:13.785511: I tensorflow/core/common_runtime/gpu/gpu_device.cc:1267]      0 \n",
      "2023-07-12 13:50:13.785514: I tensorflow/core/common_runtime/gpu/gpu_device.cc:1280] 0:   N \n",
      "2023-07-12 13:50:13.785557: I tensorflow/stream_executor/cuda/cuda_gpu_executor.cc:941] successful NUMA node read from SysFS had negative value (-1), but there must be at least one NUMA node, so returning NUMA node zero\n",
      "2023-07-12 13:50:13.785760: I tensorflow/stream_executor/cuda/cuda_gpu_executor.cc:941] successful NUMA node read from SysFS had negative value (-1), but there must be at least one NUMA node, so returning NUMA node zero\n",
      "2023-07-12 13:50:13.785941: I tensorflow/core/common_runtime/gpu/gpu_device.cc:1406] Created TensorFlow device (/device:GPU:0 with 22454 MB memory) -> physical GPU (device: 0, name: TITAN RTX, pci bus id: 0000:01:00.0, compute capability: 7.5)\n"
     ]
    },
    {
     "name": "stdout",
     "output_type": "stream",
     "text": [
      "use the self-defined attack window\n",
      "training with 50000 traces\n",
      "trace data shape is:  (50000, 1000)\n",
      "[1, 1, 1, 1, 1, 1, 1]\n",
      "ORiginal Model\n",
      "Pruned Model\n",
      "Model: \"cnn_best\"\n",
      "_________________________________________________________________\n",
      "Layer (type)                 Output Shape              Param #   \n",
      "=================================================================\n",
      "input_1 (InputLayer)         [(None, 1000, 1)]         0         \n",
      "_________________________________________________________________\n",
      "block1_conv1 (Conv1D)        (None, 500, 64)           768       \n",
      "_________________________________________________________________\n",
      "block1_pool (AveragePooling1 (None, 250, 64)           0         \n",
      "_________________________________________________________________\n",
      "block2_conv1 (Conv1D)        (None, 250, 128)          90240     \n",
      "_________________________________________________________________\n",
      "block2_pool (AveragePooling1 (None, 125, 128)          0         \n",
      "_________________________________________________________________\n",
      "block3_conv1 (Conv1D)        (None, 125, 256)          360704    \n",
      "_________________________________________________________________\n",
      "block3_pool (AveragePooling1 (None, 62, 256)           0         \n",
      "_________________________________________________________________\n",
      "block4_conv1 (Conv1D)        (None, 62, 512)           1442304   \n",
      "_________________________________________________________________\n",
      "block4_pool (AveragePooling1 (None, 31, 512)           0         \n",
      "_________________________________________________________________\n",
      "block5_conv1 (Conv1D)        (None, 31, 512)           2884096   \n",
      "_________________________________________________________________\n",
      "block5_pool (AveragePooling1 (None, 15, 512)           0         \n",
      "_________________________________________________________________\n",
      "block_flatten (Flatten)      (None, 7680)              0         \n",
      "_________________________________________________________________\n",
      "block_fc1 (Dense)            (None, 4096)              31461376  \n",
      "_________________________________________________________________\n",
      "block_fc2 (Dense)            (None, 4096)              16781312  \n",
      "_________________________________________________________________\n",
      "preds (Dense)                (None, 9)                 36873     \n",
      "=================================================================\n",
      "Total params: 53,057,673\n",
      "Trainable params: 53,057,673\n",
      "Non-trainable params: 0\n",
      "_________________________________________________________________\n",
      "now train dnn model for HW leakage model over /home/mabon/Tiny_power/datasets/power/xmega_unmasked/X1_K1_200k.npz dataset...\n"
     ]
    },
    {
     "name": "stderr",
     "output_type": "stream",
     "text": [
      "  0%|                                                                                           | 0/150 [00:00<?, ?it/s]2023-07-12 13:50:16.284141: I tensorflow/core/profiler/lib/profiler_session.cc:136] Profiler session initializing.\n",
      "2023-07-12 13:50:16.284157: I tensorflow/core/profiler/lib/profiler_session.cc:155] Profiler session started.\n",
      "2023-07-12 13:50:16.284203: E tensorflow/core/profiler/internal/gpu/cupti_tracer.cc:1415] function cupti_interface_->Subscribe( &subscriber_, (CUpti_CallbackFunc)ApiCallback, this)failed with error CUPTI_ERROR_NOT_INITIALIZED\n",
      "2023-07-12 13:50:16.284227: I tensorflow/core/profiler/lib/profiler_session.cc:172] Profiler session tear down.\n"
     ]
    },
    {
     "name": "stdout",
     "output_type": "stream",
     "text": [
      "[LOG] -- VAL ACC INCREASED........... SAVING MDOEL 0.2703999876976013\n"
     ]
    },
    {
     "name": "stderr",
     "output_type": "stream",
     "text": [
      "  1%|▌                                                                                  | 1/150 [00:12<32:01, 12.90s/it]2023-07-12 13:50:29.182583: I tensorflow/core/profiler/lib/profiler_session.cc:136] Profiler session initializing.\n",
      "2023-07-12 13:50:29.182596: I tensorflow/core/profiler/lib/profiler_session.cc:155] Profiler session started.\n",
      "2023-07-12 13:50:29.182626: E tensorflow/core/profiler/internal/gpu/cupti_tracer.cc:1415] function cupti_interface_->Subscribe( &subscriber_, (CUpti_CallbackFunc)ApiCallback, this)failed with error CUPTI_ERROR_NOT_INITIALIZED\n",
      "2023-07-12 13:50:29.182636: I tensorflow/core/profiler/lib/profiler_session.cc:172] Profiler session tear down.\n"
     ]
    },
    {
     "name": "stdout",
     "output_type": "stream",
     "text": [
      "[LOG] -- Val ACC Did Not Increase\n"
     ]
    },
    {
     "name": "stderr",
     "output_type": "stream",
     "text": [
      "  1%|█                                                                                  | 2/150 [00:25<30:43, 12.46s/it]2023-07-12 13:50:41.328124: I tensorflow/core/profiler/lib/profiler_session.cc:136] Profiler session initializing.\n",
      "2023-07-12 13:50:41.328140: I tensorflow/core/profiler/lib/profiler_session.cc:155] Profiler session started.\n",
      "2023-07-12 13:50:41.328173: E tensorflow/core/profiler/internal/gpu/cupti_tracer.cc:1415] function cupti_interface_->Subscribe( &subscriber_, (CUpti_CallbackFunc)ApiCallback, this)failed with error CUPTI_ERROR_NOT_INITIALIZED\n",
      "2023-07-12 13:50:41.328182: I tensorflow/core/profiler/lib/profiler_session.cc:172] Profiler session tear down.\n"
     ]
    },
    {
     "name": "stdout",
     "output_type": "stream",
     "text": [
      "[LOG] -- Val ACC Did Not Increase\n"
     ]
    },
    {
     "name": "stderr",
     "output_type": "stream",
     "text": [
      "  2%|█▋                                                                                 | 3/150 [00:37<30:08, 12.30s/it]2023-07-12 13:50:53.454089: I tensorflow/core/profiler/lib/profiler_session.cc:136] Profiler session initializing.\n",
      "2023-07-12 13:50:53.454105: I tensorflow/core/profiler/lib/profiler_session.cc:155] Profiler session started.\n",
      "2023-07-12 13:50:53.454135: E tensorflow/core/profiler/internal/gpu/cupti_tracer.cc:1415] function cupti_interface_->Subscribe( &subscriber_, (CUpti_CallbackFunc)ApiCallback, this)failed with error CUPTI_ERROR_NOT_INITIALIZED\n",
      "2023-07-12 13:50:53.454145: I tensorflow/core/profiler/lib/profiler_session.cc:172] Profiler session tear down.\n"
     ]
    },
    {
     "name": "stdout",
     "output_type": "stream",
     "text": [
      "[LOG] -- Val ACC Did Not Increase\n"
     ]
    },
    {
     "name": "stderr",
     "output_type": "stream",
     "text": [
      "  3%|██▏                                                                                | 4/150 [00:49<29:47, 12.24s/it]2023-07-12 13:51:05.597126: I tensorflow/core/profiler/lib/profiler_session.cc:136] Profiler session initializing.\n",
      "2023-07-12 13:51:05.597140: I tensorflow/core/profiler/lib/profiler_session.cc:155] Profiler session started.\n",
      "2023-07-12 13:51:05.597169: E tensorflow/core/profiler/internal/gpu/cupti_tracer.cc:1415] function cupti_interface_->Subscribe( &subscriber_, (CUpti_CallbackFunc)ApiCallback, this)failed with error CUPTI_ERROR_NOT_INITIALIZED\n",
      "2023-07-12 13:51:05.597179: I tensorflow/core/profiler/lib/profiler_session.cc:172] Profiler session tear down.\n"
     ]
    },
    {
     "name": "stdout",
     "output_type": "stream",
     "text": [
      "[LOG] -- VAL ACC INCREASED........... SAVING MDOEL 0.2750000059604645\n"
     ]
    },
    {
     "name": "stderr",
     "output_type": "stream",
     "text": [
      "  3%|██▊                                                                                | 5/150 [01:04<32:27, 13.43s/it]2023-07-12 13:51:21.129100: I tensorflow/core/profiler/lib/profiler_session.cc:136] Profiler session initializing.\n",
      "2023-07-12 13:51:21.129114: I tensorflow/core/profiler/lib/profiler_session.cc:155] Profiler session started.\n",
      "2023-07-12 13:51:21.129145: E tensorflow/core/profiler/internal/gpu/cupti_tracer.cc:1415] function cupti_interface_->Subscribe( &subscriber_, (CUpti_CallbackFunc)ApiCallback, this)failed with error CUPTI_ERROR_NOT_INITIALIZED\n",
      "2023-07-12 13:51:21.129155: I tensorflow/core/profiler/lib/profiler_session.cc:172] Profiler session tear down.\n"
     ]
    },
    {
     "name": "stdout",
     "output_type": "stream",
     "text": [
      "[LOG] -- VAL ACC INCREASED........... SAVING MDOEL 0.3093999922275543\n"
     ]
    },
    {
     "name": "stderr",
     "output_type": "stream",
     "text": [
      "  4%|███▎                                                                               | 6/150 [01:20<33:56, 14.14s/it]2023-07-12 13:51:36.666237: I tensorflow/core/profiler/lib/profiler_session.cc:136] Profiler session initializing.\n",
      "2023-07-12 13:51:36.666252: I tensorflow/core/profiler/lib/profiler_session.cc:155] Profiler session started.\n",
      "2023-07-12 13:51:36.666282: E tensorflow/core/profiler/internal/gpu/cupti_tracer.cc:1415] function cupti_interface_->Subscribe( &subscriber_, (CUpti_CallbackFunc)ApiCallback, this)failed with error CUPTI_ERROR_NOT_INITIALIZED\n",
      "2023-07-12 13:51:36.666292: I tensorflow/core/profiler/lib/profiler_session.cc:172] Profiler session tear down.\n"
     ]
    },
    {
     "name": "stdout",
     "output_type": "stream",
     "text": [
      "[LOG] -- VAL ACC INCREASED........... SAVING MDOEL 0.43700000643730164\n"
     ]
    },
    {
     "name": "stderr",
     "output_type": "stream",
     "text": [
      "  5%|███▊                                                                               | 7/150 [01:35<34:37, 14.52s/it]2023-07-12 13:51:51.973665: I tensorflow/core/profiler/lib/profiler_session.cc:136] Profiler session initializing.\n",
      "2023-07-12 13:51:51.973681: I tensorflow/core/profiler/lib/profiler_session.cc:155] Profiler session started.\n",
      "2023-07-12 13:51:51.973712: E tensorflow/core/profiler/internal/gpu/cupti_tracer.cc:1415] function cupti_interface_->Subscribe( &subscriber_, (CUpti_CallbackFunc)ApiCallback, this)failed with error CUPTI_ERROR_NOT_INITIALIZED\n",
      "2023-07-12 13:51:51.973739: I tensorflow/core/profiler/lib/profiler_session.cc:172] Profiler session tear down.\n"
     ]
    },
    {
     "name": "stdout",
     "output_type": "stream",
     "text": [
      "[LOG] -- VAL ACC INCREASED........... SAVING MDOEL 0.4575999975204468\n"
     ]
    },
    {
     "name": "stderr",
     "output_type": "stream",
     "text": [
      "  5%|████▍                                                                              | 8/150 [01:51<35:34, 15.03s/it]2023-07-12 13:52:08.085442: I tensorflow/core/profiler/lib/profiler_session.cc:136] Profiler session initializing.\n",
      "2023-07-12 13:52:08.085458: I tensorflow/core/profiler/lib/profiler_session.cc:155] Profiler session started.\n",
      "2023-07-12 13:52:08.085487: E tensorflow/core/profiler/internal/gpu/cupti_tracer.cc:1415] function cupti_interface_->Subscribe( &subscriber_, (CUpti_CallbackFunc)ApiCallback, this)failed with error CUPTI_ERROR_NOT_INITIALIZED\n",
      "2023-07-12 13:52:08.085497: I tensorflow/core/profiler/lib/profiler_session.cc:172] Profiler session tear down.\n"
     ]
    },
    {
     "name": "stdout",
     "output_type": "stream",
     "text": [
      "[LOG] -- VAL ACC INCREASED........... SAVING MDOEL 0.47440001368522644\n"
     ]
    },
    {
     "name": "stderr",
     "output_type": "stream",
     "text": [
      "  6%|████▉                                                                              | 9/150 [02:07<35:43, 15.20s/it]2023-07-12 13:52:23.657726: I tensorflow/core/profiler/lib/profiler_session.cc:136] Profiler session initializing.\n",
      "2023-07-12 13:52:23.657740: I tensorflow/core/profiler/lib/profiler_session.cc:155] Profiler session started.\n",
      "2023-07-12 13:52:23.657770: E tensorflow/core/profiler/internal/gpu/cupti_tracer.cc:1415] function cupti_interface_->Subscribe( &subscriber_, (CUpti_CallbackFunc)ApiCallback, this)failed with error CUPTI_ERROR_NOT_INITIALIZED\n",
      "2023-07-12 13:52:23.657780: I tensorflow/core/profiler/lib/profiler_session.cc:172] Profiler session tear down.\n"
     ]
    },
    {
     "name": "stdout",
     "output_type": "stream",
     "text": [
      "[LOG] -- VAL ACC INCREASED........... SAVING MDOEL 0.4970000088214874\n"
     ]
    },
    {
     "name": "stderr",
     "output_type": "stream",
     "text": [
      "  7%|█████▍                                                                            | 10/150 [02:23<35:55, 15.39s/it]2023-07-12 13:52:39.489774: I tensorflow/core/profiler/lib/profiler_session.cc:136] Profiler session initializing.\n",
      "2023-07-12 13:52:39.489788: I tensorflow/core/profiler/lib/profiler_session.cc:155] Profiler session started.\n",
      "2023-07-12 13:52:39.489818: E tensorflow/core/profiler/internal/gpu/cupti_tracer.cc:1415] function cupti_interface_->Subscribe( &subscriber_, (CUpti_CallbackFunc)ApiCallback, this)failed with error CUPTI_ERROR_NOT_INITIALIZED\n",
      "2023-07-12 13:52:39.489828: I tensorflow/core/profiler/lib/profiler_session.cc:172] Profiler session tear down.\n"
     ]
    },
    {
     "name": "stdout",
     "output_type": "stream",
     "text": [
      "[LOG] -- VAL ACC INCREASED........... SAVING MDOEL 0.5037999749183655\n"
     ]
    },
    {
     "name": "stderr",
     "output_type": "stream",
     "text": [
      "  7%|██████                                                                            | 11/150 [02:39<36:01, 15.55s/it]2023-07-12 13:52:55.398836: I tensorflow/core/profiler/lib/profiler_session.cc:136] Profiler session initializing.\n",
      "2023-07-12 13:52:55.398851: I tensorflow/core/profiler/lib/profiler_session.cc:155] Profiler session started.\n",
      "2023-07-12 13:52:55.398881: E tensorflow/core/profiler/internal/gpu/cupti_tracer.cc:1415] function cupti_interface_->Subscribe( &subscriber_, (CUpti_CallbackFunc)ApiCallback, this)failed with error CUPTI_ERROR_NOT_INITIALIZED\n",
      "2023-07-12 13:52:55.398891: I tensorflow/core/profiler/lib/profiler_session.cc:172] Profiler session tear down.\n"
     ]
    },
    {
     "name": "stdout",
     "output_type": "stream",
     "text": [
      "[LOG] -- VAL ACC INCREASED........... SAVING MDOEL 0.5317999720573425\n"
     ]
    },
    {
     "name": "stderr",
     "output_type": "stream",
     "text": [
      "  8%|██████▌                                                                           | 12/150 [02:54<35:47, 15.56s/it]2023-07-12 13:53:10.984688: I tensorflow/core/profiler/lib/profiler_session.cc:136] Profiler session initializing.\n",
      "2023-07-12 13:53:10.984703: I tensorflow/core/profiler/lib/profiler_session.cc:155] Profiler session started.\n",
      "2023-07-12 13:53:10.984733: E tensorflow/core/profiler/internal/gpu/cupti_tracer.cc:1415] function cupti_interface_->Subscribe( &subscriber_, (CUpti_CallbackFunc)ApiCallback, this)failed with error CUPTI_ERROR_NOT_INITIALIZED\n",
      "2023-07-12 13:53:10.984743: I tensorflow/core/profiler/lib/profiler_session.cc:172] Profiler session tear down.\n"
     ]
    },
    {
     "name": "stdout",
     "output_type": "stream",
     "text": [
      "[LOG] -- VAL ACC INCREASED........... SAVING MDOEL 0.5378000140190125\n"
     ]
    },
    {
     "name": "stderr",
     "output_type": "stream",
     "text": [
      "  9%|███████                                                                           | 13/150 [03:10<35:25, 15.52s/it]2023-07-12 13:53:26.391331: I tensorflow/core/profiler/lib/profiler_session.cc:136] Profiler session initializing.\n",
      "2023-07-12 13:53:26.391347: I tensorflow/core/profiler/lib/profiler_session.cc:155] Profiler session started.\n",
      "2023-07-12 13:53:26.391377: E tensorflow/core/profiler/internal/gpu/cupti_tracer.cc:1415] function cupti_interface_->Subscribe( &subscriber_, (CUpti_CallbackFunc)ApiCallback, this)failed with error CUPTI_ERROR_NOT_INITIALIZED\n",
      "2023-07-12 13:53:26.391387: I tensorflow/core/profiler/lib/profiler_session.cc:172] Profiler session tear down.\n"
     ]
    },
    {
     "name": "stdout",
     "output_type": "stream",
     "text": [
      "[LOG] -- VAL ACC INCREASED........... SAVING MDOEL 0.5537999868392944\n"
     ]
    },
    {
     "name": "stderr",
     "output_type": "stream",
     "text": [
      "  9%|███████▋                                                                          | 14/150 [03:25<35:02, 15.46s/it]2023-07-12 13:53:41.724070: I tensorflow/core/profiler/lib/profiler_session.cc:136] Profiler session initializing.\n",
      "2023-07-12 13:53:41.724085: I tensorflow/core/profiler/lib/profiler_session.cc:155] Profiler session started.\n",
      "2023-07-12 13:53:41.724115: E tensorflow/core/profiler/internal/gpu/cupti_tracer.cc:1415] function cupti_interface_->Subscribe( &subscriber_, (CUpti_CallbackFunc)ApiCallback, this)failed with error CUPTI_ERROR_NOT_INITIALIZED\n",
      "2023-07-12 13:53:41.724125: I tensorflow/core/profiler/lib/profiler_session.cc:172] Profiler session tear down.\n"
     ]
    },
    {
     "name": "stdout",
     "output_type": "stream",
     "text": [
      "[LOG] -- VAL ACC INCREASED........... SAVING MDOEL 0.5569999814033508\n"
     ]
    },
    {
     "name": "stderr",
     "output_type": "stream",
     "text": [
      " 10%|████████▏                                                                         | 15/150 [03:41<34:59, 15.56s/it]2023-07-12 13:53:57.500002: I tensorflow/core/profiler/lib/profiler_session.cc:136] Profiler session initializing.\n",
      "2023-07-12 13:53:57.500018: I tensorflow/core/profiler/lib/profiler_session.cc:155] Profiler session started.\n",
      "2023-07-12 13:53:57.500048: E tensorflow/core/profiler/internal/gpu/cupti_tracer.cc:1415] function cupti_interface_->Subscribe( &subscriber_, (CUpti_CallbackFunc)ApiCallback, this)failed with error CUPTI_ERROR_NOT_INITIALIZED\n",
      "2023-07-12 13:53:57.500057: I tensorflow/core/profiler/lib/profiler_session.cc:172] Profiler session tear down.\n"
     ]
    },
    {
     "name": "stdout",
     "output_type": "stream",
     "text": [
      "[LOG] -- VAL ACC INCREASED........... SAVING MDOEL 0.5637999773025513\n"
     ]
    },
    {
     "name": "stderr",
     "output_type": "stream",
     "text": [
      " 11%|████████▋                                                                         | 16/150 [03:56<34:41, 15.54s/it]2023-07-12 13:54:12.995340: I tensorflow/core/profiler/lib/profiler_session.cc:136] Profiler session initializing.\n",
      "2023-07-12 13:54:12.995355: I tensorflow/core/profiler/lib/profiler_session.cc:155] Profiler session started.\n",
      "2023-07-12 13:54:12.995386: E tensorflow/core/profiler/internal/gpu/cupti_tracer.cc:1415] function cupti_interface_->Subscribe( &subscriber_, (CUpti_CallbackFunc)ApiCallback, this)failed with error CUPTI_ERROR_NOT_INITIALIZED\n",
      "2023-07-12 13:54:12.995396: I tensorflow/core/profiler/lib/profiler_session.cc:172] Profiler session tear down.\n"
     ]
    },
    {
     "name": "stdout",
     "output_type": "stream",
     "text": [
      "[LOG] -- VAL ACC INCREASED........... SAVING MDOEL 0.5899999737739563\n"
     ]
    },
    {
     "name": "stderr",
     "output_type": "stream",
     "text": [
      " 11%|█████████▎                                                                        | 17/150 [04:12<34:24, 15.53s/it]2023-07-12 13:54:28.491897: I tensorflow/core/profiler/lib/profiler_session.cc:136] Profiler session initializing.\n",
      "2023-07-12 13:54:28.491912: I tensorflow/core/profiler/lib/profiler_session.cc:155] Profiler session started.\n",
      "2023-07-12 13:54:28.491944: E tensorflow/core/profiler/internal/gpu/cupti_tracer.cc:1415] function cupti_interface_->Subscribe( &subscriber_, (CUpti_CallbackFunc)ApiCallback, this)failed with error CUPTI_ERROR_NOT_INITIALIZED\n",
      "2023-07-12 13:54:28.491971: I tensorflow/core/profiler/lib/profiler_session.cc:172] Profiler session tear down.\n"
     ]
    },
    {
     "name": "stdout",
     "output_type": "stream",
     "text": [
      "[LOG] -- VAL ACC INCREASED........... SAVING MDOEL 0.5960000157356262\n"
     ]
    },
    {
     "name": "stderr",
     "output_type": "stream",
     "text": [
      " 12%|█████████▊                                                                        | 18/150 [04:27<34:19, 15.60s/it]2023-07-12 13:54:44.281692: I tensorflow/core/profiler/lib/profiler_session.cc:136] Profiler session initializing.\n",
      "2023-07-12 13:54:44.281707: I tensorflow/core/profiler/lib/profiler_session.cc:155] Profiler session started.\n",
      "2023-07-12 13:54:44.281738: E tensorflow/core/profiler/internal/gpu/cupti_tracer.cc:1415] function cupti_interface_->Subscribe( &subscriber_, (CUpti_CallbackFunc)ApiCallback, this)failed with error CUPTI_ERROR_NOT_INITIALIZED\n",
      "2023-07-12 13:54:44.281748: I tensorflow/core/profiler/lib/profiler_session.cc:172] Profiler session tear down.\n"
     ]
    },
    {
     "name": "stdout",
     "output_type": "stream",
     "text": [
      "[LOG] -- Val ACC Did Not Increase\n"
     ]
    },
    {
     "name": "stderr",
     "output_type": "stream",
     "text": [
      " 13%|██████████▍                                                                       | 19/150 [04:40<31:47, 14.56s/it]2023-07-12 13:54:56.422838: I tensorflow/core/profiler/lib/profiler_session.cc:136] Profiler session initializing.\n",
      "2023-07-12 13:54:56.422853: I tensorflow/core/profiler/lib/profiler_session.cc:155] Profiler session started.\n",
      "2023-07-12 13:54:56.422885: E tensorflow/core/profiler/internal/gpu/cupti_tracer.cc:1415] function cupti_interface_->Subscribe( &subscriber_, (CUpti_CallbackFunc)ApiCallback, this)failed with error CUPTI_ERROR_NOT_INITIALIZED\n",
      "2023-07-12 13:54:56.422894: I tensorflow/core/profiler/lib/profiler_session.cc:172] Profiler session tear down.\n"
     ]
    },
    {
     "name": "stdout",
     "output_type": "stream",
     "text": [
      "[LOG] -- Val ACC Did Not Increase\n"
     ]
    },
    {
     "name": "stderr",
     "output_type": "stream",
     "text": [
      " 13%|██████████▉                                                                       | 20/150 [04:52<29:57, 13.83s/it]2023-07-12 13:55:08.534958: I tensorflow/core/profiler/lib/profiler_session.cc:136] Profiler session initializing.\n",
      "2023-07-12 13:55:08.534972: I tensorflow/core/profiler/lib/profiler_session.cc:155] Profiler session started.\n",
      "2023-07-12 13:55:08.535003: E tensorflow/core/profiler/internal/gpu/cupti_tracer.cc:1415] function cupti_interface_->Subscribe( &subscriber_, (CUpti_CallbackFunc)ApiCallback, this)failed with error CUPTI_ERROR_NOT_INITIALIZED\n",
      "2023-07-12 13:55:08.535013: I tensorflow/core/profiler/lib/profiler_session.cc:172] Profiler session tear down.\n"
     ]
    },
    {
     "name": "stdout",
     "output_type": "stream",
     "text": [
      "[LOG] -- VAL ACC INCREASED........... SAVING MDOEL 0.6093999743461609\n"
     ]
    },
    {
     "name": "stderr",
     "output_type": "stream",
     "text": [
      " 14%|███████████▍                                                                      | 21/150 [05:07<30:56, 14.39s/it]2023-07-12 13:55:24.233215: I tensorflow/core/profiler/lib/profiler_session.cc:136] Profiler session initializing.\n",
      "2023-07-12 13:55:24.233230: I tensorflow/core/profiler/lib/profiler_session.cc:155] Profiler session started.\n",
      "2023-07-12 13:55:24.233260: E tensorflow/core/profiler/internal/gpu/cupti_tracer.cc:1415] function cupti_interface_->Subscribe( &subscriber_, (CUpti_CallbackFunc)ApiCallback, this)failed with error CUPTI_ERROR_NOT_INITIALIZED\n",
      "2023-07-12 13:55:24.233270: I tensorflow/core/profiler/lib/profiler_session.cc:172] Profiler session tear down.\n"
     ]
    },
    {
     "name": "stdout",
     "output_type": "stream",
     "text": [
      "[LOG] -- Val ACC Did Not Increase\n"
     ]
    },
    {
     "name": "stderr",
     "output_type": "stream",
     "text": [
      " 15%|████████████                                                                      | 22/150 [05:20<29:16, 13.72s/it]2023-07-12 13:55:36.394663: I tensorflow/core/profiler/lib/profiler_session.cc:136] Profiler session initializing.\n",
      "2023-07-12 13:55:36.394679: I tensorflow/core/profiler/lib/profiler_session.cc:155] Profiler session started.\n",
      "2023-07-12 13:55:36.394708: E tensorflow/core/profiler/internal/gpu/cupti_tracer.cc:1415] function cupti_interface_->Subscribe( &subscriber_, (CUpti_CallbackFunc)ApiCallback, this)failed with error CUPTI_ERROR_NOT_INITIALIZED\n",
      "2023-07-12 13:55:36.394718: I tensorflow/core/profiler/lib/profiler_session.cc:172] Profiler session tear down.\n"
     ]
    },
    {
     "name": "stdout",
     "output_type": "stream",
     "text": [
      "[LOG] -- Val ACC Did Not Increase\n"
     ]
    },
    {
     "name": "stderr",
     "output_type": "stream",
     "text": [
      " 15%|████████████▌                                                                     | 23/150 [05:32<28:02, 13.25s/it]2023-07-12 13:55:48.539884: I tensorflow/core/profiler/lib/profiler_session.cc:136] Profiler session initializing.\n",
      "2023-07-12 13:55:48.539899: I tensorflow/core/profiler/lib/profiler_session.cc:155] Profiler session started.\n",
      "2023-07-12 13:55:48.539929: E tensorflow/core/profiler/internal/gpu/cupti_tracer.cc:1415] function cupti_interface_->Subscribe( &subscriber_, (CUpti_CallbackFunc)ApiCallback, this)failed with error CUPTI_ERROR_NOT_INITIALIZED\n",
      "2023-07-12 13:55:48.539939: I tensorflow/core/profiler/lib/profiler_session.cc:172] Profiler session tear down.\n"
     ]
    },
    {
     "name": "stdout",
     "output_type": "stream",
     "text": [
      "[LOG] -- VAL ACC INCREASED........... SAVING MDOEL 0.6126000285148621\n"
     ]
    },
    {
     "name": "stderr",
     "output_type": "stream",
     "text": [
      " 16%|█████████████                                                                     | 24/150 [05:47<29:05, 13.85s/it]2023-07-12 13:56:03.793443: I tensorflow/core/profiler/lib/profiler_session.cc:136] Profiler session initializing.\n",
      "2023-07-12 13:56:03.793458: I tensorflow/core/profiler/lib/profiler_session.cc:155] Profiler session started.\n",
      "2023-07-12 13:56:03.793489: E tensorflow/core/profiler/internal/gpu/cupti_tracer.cc:1415] function cupti_interface_->Subscribe( &subscriber_, (CUpti_CallbackFunc)ApiCallback, this)failed with error CUPTI_ERROR_NOT_INITIALIZED\n",
      "2023-07-12 13:56:03.793499: I tensorflow/core/profiler/lib/profiler_session.cc:172] Profiler session tear down.\n"
     ]
    },
    {
     "name": "stdout",
     "output_type": "stream",
     "text": [
      "[LOG] -- VAL ACC INCREASED........... SAVING MDOEL 0.6370000243186951\n"
     ]
    },
    {
     "name": "stderr",
     "output_type": "stream",
     "text": [
      " 17%|█████████████▋                                                                    | 25/150 [06:02<29:44, 14.27s/it]2023-07-12 13:56:19.059791: I tensorflow/core/profiler/lib/profiler_session.cc:136] Profiler session initializing.\n",
      "2023-07-12 13:56:19.059806: I tensorflow/core/profiler/lib/profiler_session.cc:155] Profiler session started.\n",
      "2023-07-12 13:56:19.059835: E tensorflow/core/profiler/internal/gpu/cupti_tracer.cc:1415] function cupti_interface_->Subscribe( &subscriber_, (CUpti_CallbackFunc)ApiCallback, this)failed with error CUPTI_ERROR_NOT_INITIALIZED\n",
      "2023-07-12 13:56:19.059845: I tensorflow/core/profiler/lib/profiler_session.cc:172] Profiler session tear down.\n"
     ]
    },
    {
     "name": "stdout",
     "output_type": "stream",
     "text": [
      "[LOG] -- Val ACC Did Not Increase\n"
     ]
    },
    {
     "name": "stderr",
     "output_type": "stream",
     "text": [
      " 17%|██████████████▏                                                                   | 26/150 [06:14<28:10, 13.64s/it]2023-07-12 13:56:31.205222: I tensorflow/core/profiler/lib/profiler_session.cc:136] Profiler session initializing.\n",
      "2023-07-12 13:56:31.205236: I tensorflow/core/profiler/lib/profiler_session.cc:155] Profiler session started.\n",
      "2023-07-12 13:56:31.205267: E tensorflow/core/profiler/internal/gpu/cupti_tracer.cc:1415] function cupti_interface_->Subscribe( &subscriber_, (CUpti_CallbackFunc)ApiCallback, this)failed with error CUPTI_ERROR_NOT_INITIALIZED\n",
      "2023-07-12 13:56:31.205276: I tensorflow/core/profiler/lib/profiler_session.cc:172] Profiler session tear down.\n"
     ]
    },
    {
     "name": "stdout",
     "output_type": "stream",
     "text": [
      "[LOG] -- Val ACC Did Not Increase\n"
     ]
    },
    {
     "name": "stderr",
     "output_type": "stream",
     "text": [
      " 18%|██████████████▊                                                                   | 27/150 [06:27<27:02, 13.19s/it]2023-07-12 13:56:43.348063: I tensorflow/core/profiler/lib/profiler_session.cc:136] Profiler session initializing.\n",
      "2023-07-12 13:56:43.348079: I tensorflow/core/profiler/lib/profiler_session.cc:155] Profiler session started.\n",
      "2023-07-12 13:56:43.348110: E tensorflow/core/profiler/internal/gpu/cupti_tracer.cc:1415] function cupti_interface_->Subscribe( &subscriber_, (CUpti_CallbackFunc)ApiCallback, this)failed with error CUPTI_ERROR_NOT_INITIALIZED\n",
      "2023-07-12 13:56:43.348119: I tensorflow/core/profiler/lib/profiler_session.cc:172] Profiler session tear down.\n"
     ]
    },
    {
     "name": "stdout",
     "output_type": "stream",
     "text": [
      "[LOG] -- Val ACC Did Not Increase\n"
     ]
    },
    {
     "name": "stderr",
     "output_type": "stream",
     "text": [
      " 19%|███████████████▎                                                                  | 28/150 [06:39<26:10, 12.88s/it]2023-07-12 13:56:55.492831: I tensorflow/core/profiler/lib/profiler_session.cc:136] Profiler session initializing.\n",
      "2023-07-12 13:56:55.492846: I tensorflow/core/profiler/lib/profiler_session.cc:155] Profiler session started.\n",
      "2023-07-12 13:56:55.492878: E tensorflow/core/profiler/internal/gpu/cupti_tracer.cc:1415] function cupti_interface_->Subscribe( &subscriber_, (CUpti_CallbackFunc)ApiCallback, this)failed with error CUPTI_ERROR_NOT_INITIALIZED\n",
      "2023-07-12 13:56:55.492888: I tensorflow/core/profiler/lib/profiler_session.cc:172] Profiler session tear down.\n"
     ]
    },
    {
     "name": "stdout",
     "output_type": "stream",
     "text": [
      "[LOG] -- Val ACC Did Not Increase\n"
     ]
    },
    {
     "name": "stderr",
     "output_type": "stream",
     "text": [
      " 19%|███████████████▊                                                                  | 29/150 [06:51<25:31, 12.66s/it]2023-07-12 13:57:07.636716: I tensorflow/core/profiler/lib/profiler_session.cc:136] Profiler session initializing.\n",
      "2023-07-12 13:57:07.636730: I tensorflow/core/profiler/lib/profiler_session.cc:155] Profiler session started.\n",
      "2023-07-12 13:57:07.636761: E tensorflow/core/profiler/internal/gpu/cupti_tracer.cc:1415] function cupti_interface_->Subscribe( &subscriber_, (CUpti_CallbackFunc)ApiCallback, this)failed with error CUPTI_ERROR_NOT_INITIALIZED\n",
      "2023-07-12 13:57:07.636771: I tensorflow/core/profiler/lib/profiler_session.cc:172] Profiler session tear down.\n"
     ]
    },
    {
     "name": "stdout",
     "output_type": "stream",
     "text": [
      "[LOG] -- VAL ACC INCREASED........... SAVING MDOEL 0.6388000249862671\n"
     ]
    },
    {
     "name": "stderr",
     "output_type": "stream",
     "text": [
      " 20%|████████████████▍                                                                 | 30/150 [07:06<27:00, 13.50s/it]2023-07-12 13:57:23.119030: I tensorflow/core/profiler/lib/profiler_session.cc:136] Profiler session initializing.\n",
      "2023-07-12 13:57:23.119045: I tensorflow/core/profiler/lib/profiler_session.cc:155] Profiler session started.\n",
      "2023-07-12 13:57:23.119076: E tensorflow/core/profiler/internal/gpu/cupti_tracer.cc:1415] function cupti_interface_->Subscribe( &subscriber_, (CUpti_CallbackFunc)ApiCallback, this)failed with error CUPTI_ERROR_NOT_INITIALIZED\n",
      "2023-07-12 13:57:23.119085: I tensorflow/core/profiler/lib/profiler_session.cc:172] Profiler session tear down.\n"
     ]
    },
    {
     "name": "stdout",
     "output_type": "stream",
     "text": [
      "[LOG] -- VAL ACC INCREASED........... SAVING MDOEL 0.6534000039100647\n"
     ]
    },
    {
     "name": "stderr",
     "output_type": "stream",
     "text": [
      " 21%|████████████████▉                                                                 | 31/150 [07:22<27:56, 14.09s/it]2023-07-12 13:57:38.570379: I tensorflow/core/profiler/lib/profiler_session.cc:136] Profiler session initializing.\n",
      "2023-07-12 13:57:38.570393: I tensorflow/core/profiler/lib/profiler_session.cc:155] Profiler session started.\n",
      "2023-07-12 13:57:38.570423: E tensorflow/core/profiler/internal/gpu/cupti_tracer.cc:1415] function cupti_interface_->Subscribe( &subscriber_, (CUpti_CallbackFunc)ApiCallback, this)failed with error CUPTI_ERROR_NOT_INITIALIZED\n",
      "2023-07-12 13:57:38.570432: I tensorflow/core/profiler/lib/profiler_session.cc:172] Profiler session tear down.\n"
     ]
    },
    {
     "name": "stdout",
     "output_type": "stream",
     "text": [
      "[LOG] -- Val ACC Did Not Increase\n"
     ]
    },
    {
     "name": "stderr",
     "output_type": "stream",
     "text": [
      " 21%|█████████████████▍                                                                | 32/150 [07:34<26:33, 13.50s/it]2023-07-12 13:57:50.711407: I tensorflow/core/profiler/lib/profiler_session.cc:136] Profiler session initializing.\n",
      "2023-07-12 13:57:50.711422: I tensorflow/core/profiler/lib/profiler_session.cc:155] Profiler session started.\n",
      "2023-07-12 13:57:50.711452: E tensorflow/core/profiler/internal/gpu/cupti_tracer.cc:1415] function cupti_interface_->Subscribe( &subscriber_, (CUpti_CallbackFunc)ApiCallback, this)failed with error CUPTI_ERROR_NOT_INITIALIZED\n",
      "2023-07-12 13:57:50.711462: I tensorflow/core/profiler/lib/profiler_session.cc:172] Profiler session tear down.\n"
     ]
    },
    {
     "name": "stdout",
     "output_type": "stream",
     "text": [
      "[LOG] -- Val ACC Did Not Increase\n"
     ]
    },
    {
     "name": "stderr",
     "output_type": "stream",
     "text": [
      " 22%|██████████████████                                                                | 33/150 [07:46<25:32, 13.10s/it]2023-07-12 13:58:02.873196: I tensorflow/core/profiler/lib/profiler_session.cc:136] Profiler session initializing.\n",
      "2023-07-12 13:58:02.873210: I tensorflow/core/profiler/lib/profiler_session.cc:155] Profiler session started.\n",
      "2023-07-12 13:58:02.873242: E tensorflow/core/profiler/internal/gpu/cupti_tracer.cc:1415] function cupti_interface_->Subscribe( &subscriber_, (CUpti_CallbackFunc)ApiCallback, this)failed with error CUPTI_ERROR_NOT_INITIALIZED\n",
      "2023-07-12 13:58:02.873252: I tensorflow/core/profiler/lib/profiler_session.cc:172] Profiler session tear down.\n"
     ]
    },
    {
     "name": "stdout",
     "output_type": "stream",
     "text": [
      "[LOG] -- VAL ACC INCREASED........... SAVING MDOEL 0.657800018787384\n"
     ]
    },
    {
     "name": "stderr",
     "output_type": "stream",
     "text": [
      " 23%|██████████████████▌                                                               | 34/150 [08:02<26:42, 13.81s/it]2023-07-12 13:58:18.350510: I tensorflow/core/profiler/lib/profiler_session.cc:136] Profiler session initializing.\n",
      "2023-07-12 13:58:18.350525: I tensorflow/core/profiler/lib/profiler_session.cc:155] Profiler session started.\n",
      "2023-07-12 13:58:18.350555: E tensorflow/core/profiler/internal/gpu/cupti_tracer.cc:1415] function cupti_interface_->Subscribe( &subscriber_, (CUpti_CallbackFunc)ApiCallback, this)failed with error CUPTI_ERROR_NOT_INITIALIZED\n",
      "2023-07-12 13:58:18.350565: I tensorflow/core/profiler/lib/profiler_session.cc:172] Profiler session tear down.\n"
     ]
    },
    {
     "name": "stdout",
     "output_type": "stream",
     "text": [
      "[LOG] -- Val ACC Did Not Increase\n"
     ]
    },
    {
     "name": "stderr",
     "output_type": "stream",
     "text": [
      " 23%|███████████████████▏                                                              | 35/150 [08:14<25:31, 13.32s/it]2023-07-12 13:58:30.515970: I tensorflow/core/profiler/lib/profiler_session.cc:136] Profiler session initializing.\n",
      "2023-07-12 13:58:30.515985: I tensorflow/core/profiler/lib/profiler_session.cc:155] Profiler session started.\n",
      "2023-07-12 13:58:30.516014: E tensorflow/core/profiler/internal/gpu/cupti_tracer.cc:1415] function cupti_interface_->Subscribe( &subscriber_, (CUpti_CallbackFunc)ApiCallback, this)failed with error CUPTI_ERROR_NOT_INITIALIZED\n",
      "2023-07-12 13:58:30.516024: I tensorflow/core/profiler/lib/profiler_session.cc:172] Profiler session tear down.\n"
     ]
    },
    {
     "name": "stdout",
     "output_type": "stream",
     "text": [
      "[LOG] -- Val ACC Did Not Increase\n"
     ]
    },
    {
     "name": "stderr",
     "output_type": "stream",
     "text": [
      " 24%|███████████████████▋                                                              | 36/150 [08:26<24:38, 12.97s/it]2023-07-12 13:58:42.662589: I tensorflow/core/profiler/lib/profiler_session.cc:136] Profiler session initializing.\n",
      "2023-07-12 13:58:42.662604: I tensorflow/core/profiler/lib/profiler_session.cc:155] Profiler session started.\n",
      "2023-07-12 13:58:42.662634: E tensorflow/core/profiler/internal/gpu/cupti_tracer.cc:1415] function cupti_interface_->Subscribe( &subscriber_, (CUpti_CallbackFunc)ApiCallback, this)failed with error CUPTI_ERROR_NOT_INITIALIZED\n",
      "2023-07-12 13:58:42.662643: I tensorflow/core/profiler/lib/profiler_session.cc:172] Profiler session tear down.\n"
     ]
    },
    {
     "name": "stdout",
     "output_type": "stream",
     "text": [
      "[LOG] -- Val ACC Did Not Increase\n"
     ]
    },
    {
     "name": "stderr",
     "output_type": "stream",
     "text": [
      " 25%|████████████████████▏                                                             | 37/150 [08:38<23:57, 12.72s/it]2023-07-12 13:58:54.798238: I tensorflow/core/profiler/lib/profiler_session.cc:136] Profiler session initializing.\n",
      "2023-07-12 13:58:54.798252: I tensorflow/core/profiler/lib/profiler_session.cc:155] Profiler session started.\n",
      "2023-07-12 13:58:54.798282: E tensorflow/core/profiler/internal/gpu/cupti_tracer.cc:1415] function cupti_interface_->Subscribe( &subscriber_, (CUpti_CallbackFunc)ApiCallback, this)failed with error CUPTI_ERROR_NOT_INITIALIZED\n",
      "2023-07-12 13:58:54.798292: I tensorflow/core/profiler/lib/profiler_session.cc:172] Profiler session tear down.\n"
     ]
    },
    {
     "name": "stdout",
     "output_type": "stream",
     "text": [
      "[LOG] -- Val ACC Did Not Increase\n"
     ]
    },
    {
     "name": "stderr",
     "output_type": "stream",
     "text": [
      " 25%|████████████████████▊                                                             | 38/150 [08:50<23:25, 12.55s/it]2023-07-12 13:59:06.961391: I tensorflow/core/profiler/lib/profiler_session.cc:136] Profiler session initializing.\n",
      "2023-07-12 13:59:06.961407: I tensorflow/core/profiler/lib/profiler_session.cc:155] Profiler session started.\n",
      "2023-07-12 13:59:06.961437: E tensorflow/core/profiler/internal/gpu/cupti_tracer.cc:1415] function cupti_interface_->Subscribe( &subscriber_, (CUpti_CallbackFunc)ApiCallback, this)failed with error CUPTI_ERROR_NOT_INITIALIZED\n",
      "2023-07-12 13:59:06.961447: I tensorflow/core/profiler/lib/profiler_session.cc:172] Profiler session tear down.\n"
     ]
    },
    {
     "name": "stdout",
     "output_type": "stream",
     "text": [
      "[LOG] -- VAL ACC INCREASED........... SAVING MDOEL 0.6661999821662903\n"
     ]
    },
    {
     "name": "stderr",
     "output_type": "stream",
     "text": [
      " 26%|█████████████████████▎                                                            | 39/150 [09:05<24:34, 13.28s/it]2023-07-12 13:59:21.954299: I tensorflow/core/profiler/lib/profiler_session.cc:136] Profiler session initializing.\n",
      "2023-07-12 13:59:21.954313: I tensorflow/core/profiler/lib/profiler_session.cc:155] Profiler session started.\n",
      "2023-07-12 13:59:21.954344: E tensorflow/core/profiler/internal/gpu/cupti_tracer.cc:1415] function cupti_interface_->Subscribe( &subscriber_, (CUpti_CallbackFunc)ApiCallback, this)failed with error CUPTI_ERROR_NOT_INITIALIZED\n",
      "2023-07-12 13:59:21.954353: I tensorflow/core/profiler/lib/profiler_session.cc:172] Profiler session tear down.\n"
     ]
    },
    {
     "name": "stdout",
     "output_type": "stream",
     "text": [
      "[LOG] -- Val ACC Did Not Increase\n"
     ]
    },
    {
     "name": "stderr",
     "output_type": "stream",
     "text": [
      " 27%|█████████████████████▊                                                            | 40/150 [09:17<23:45, 12.96s/it]2023-07-12 13:59:34.148879: I tensorflow/core/profiler/lib/profiler_session.cc:136] Profiler session initializing.\n",
      "2023-07-12 13:59:34.148893: I tensorflow/core/profiler/lib/profiler_session.cc:155] Profiler session started.\n",
      "2023-07-12 13:59:34.148924: E tensorflow/core/profiler/internal/gpu/cupti_tracer.cc:1415] function cupti_interface_->Subscribe( &subscriber_, (CUpti_CallbackFunc)ApiCallback, this)failed with error CUPTI_ERROR_NOT_INITIALIZED\n",
      "2023-07-12 13:59:34.148934: I tensorflow/core/profiler/lib/profiler_session.cc:172] Profiler session tear down.\n"
     ]
    },
    {
     "name": "stdout",
     "output_type": "stream",
     "text": [
      "[LOG] -- Val ACC Did Not Increase\n"
     ]
    },
    {
     "name": "stderr",
     "output_type": "stream",
     "text": [
      " 27%|██████████████████████▍                                                           | 41/150 [09:30<23:05, 12.71s/it]2023-07-12 13:59:46.297380: I tensorflow/core/profiler/lib/profiler_session.cc:136] Profiler session initializing.\n",
      "2023-07-12 13:59:46.297394: I tensorflow/core/profiler/lib/profiler_session.cc:155] Profiler session started.\n",
      "2023-07-12 13:59:46.297425: E tensorflow/core/profiler/internal/gpu/cupti_tracer.cc:1415] function cupti_interface_->Subscribe( &subscriber_, (CUpti_CallbackFunc)ApiCallback, this)failed with error CUPTI_ERROR_NOT_INITIALIZED\n",
      "2023-07-12 13:59:46.297434: I tensorflow/core/profiler/lib/profiler_session.cc:172] Profiler session tear down.\n"
     ]
    },
    {
     "name": "stdout",
     "output_type": "stream",
     "text": [
      "[LOG] -- Val ACC Did Not Increase\n"
     ]
    },
    {
     "name": "stderr",
     "output_type": "stream",
     "text": [
      " 28%|██████████████████████▉                                                           | 42/150 [09:42<22:35, 12.55s/it]2023-07-12 13:59:58.452997: I tensorflow/core/profiler/lib/profiler_session.cc:136] Profiler session initializing.\n",
      "2023-07-12 13:59:58.453011: I tensorflow/core/profiler/lib/profiler_session.cc:155] Profiler session started.\n",
      "2023-07-12 13:59:58.453042: E tensorflow/core/profiler/internal/gpu/cupti_tracer.cc:1415] function cupti_interface_->Subscribe( &subscriber_, (CUpti_CallbackFunc)ApiCallback, this)failed with error CUPTI_ERROR_NOT_INITIALIZED\n",
      "2023-07-12 13:59:58.453051: I tensorflow/core/profiler/lib/profiler_session.cc:172] Profiler session tear down.\n"
     ]
    },
    {
     "name": "stdout",
     "output_type": "stream",
     "text": [
      "[LOG] -- Val ACC Did Not Increase\n"
     ]
    },
    {
     "name": "stderr",
     "output_type": "stream",
     "text": [
      " 29%|███████████████████████▌                                                          | 43/150 [09:54<22:10, 12.44s/it]2023-07-12 14:00:10.630144: I tensorflow/core/profiler/lib/profiler_session.cc:136] Profiler session initializing.\n",
      "2023-07-12 14:00:10.630158: I tensorflow/core/profiler/lib/profiler_session.cc:155] Profiler session started.\n",
      "2023-07-12 14:00:10.630187: E tensorflow/core/profiler/internal/gpu/cupti_tracer.cc:1415] function cupti_interface_->Subscribe( &subscriber_, (CUpti_CallbackFunc)ApiCallback, this)failed with error CUPTI_ERROR_NOT_INITIALIZED\n",
      "2023-07-12 14:00:10.630196: I tensorflow/core/profiler/lib/profiler_session.cc:172] Profiler session tear down.\n"
     ]
    },
    {
     "name": "stdout",
     "output_type": "stream",
     "text": [
      "[LOG] -- Val ACC Did Not Increase\n"
     ]
    },
    {
     "name": "stderr",
     "output_type": "stream",
     "text": [
      " 29%|████████████████████████                                                          | 44/150 [10:06<21:49, 12.35s/it]2023-07-12 14:00:22.787130: I tensorflow/core/profiler/lib/profiler_session.cc:136] Profiler session initializing.\n",
      "2023-07-12 14:00:22.787146: I tensorflow/core/profiler/lib/profiler_session.cc:155] Profiler session started.\n",
      "2023-07-12 14:00:22.787177: E tensorflow/core/profiler/internal/gpu/cupti_tracer.cc:1415] function cupti_interface_->Subscribe( &subscriber_, (CUpti_CallbackFunc)ApiCallback, this)failed with error CUPTI_ERROR_NOT_INITIALIZED\n",
      "2023-07-12 14:00:22.787187: I tensorflow/core/profiler/lib/profiler_session.cc:172] Profiler session tear down.\n"
     ]
    },
    {
     "name": "stdout",
     "output_type": "stream",
     "text": [
      "[LOG] -- VAL ACC INCREASED........... SAVING MDOEL 0.6819999814033508\n"
     ]
    },
    {
     "name": "stderr",
     "output_type": "stream",
     "text": [
      " 30%|████████████████████████▌                                                         | 45/150 [10:22<23:20, 13.34s/it]2023-07-12 14:00:38.439097: I tensorflow/core/profiler/lib/profiler_session.cc:136] Profiler session initializing.\n",
      "2023-07-12 14:00:38.439112: I tensorflow/core/profiler/lib/profiler_session.cc:155] Profiler session started.\n",
      "2023-07-12 14:00:38.439142: E tensorflow/core/profiler/internal/gpu/cupti_tracer.cc:1415] function cupti_interface_->Subscribe( &subscriber_, (CUpti_CallbackFunc)ApiCallback, this)failed with error CUPTI_ERROR_NOT_INITIALIZED\n",
      "2023-07-12 14:00:38.439154: I tensorflow/core/profiler/lib/profiler_session.cc:172] Profiler session tear down.\n"
     ]
    },
    {
     "name": "stdout",
     "output_type": "stream",
     "text": [
      "[LOG] -- Val ACC Did Not Increase\n"
     ]
    },
    {
     "name": "stderr",
     "output_type": "stream",
     "text": [
      " 31%|█████████████████████████▏                                                        | 46/150 [10:34<22:31, 12.99s/it]2023-07-12 14:00:50.613050: I tensorflow/core/profiler/lib/profiler_session.cc:136] Profiler session initializing.\n",
      "2023-07-12 14:00:50.613066: I tensorflow/core/profiler/lib/profiler_session.cc:155] Profiler session started.\n",
      "2023-07-12 14:00:50.613096: E tensorflow/core/profiler/internal/gpu/cupti_tracer.cc:1415] function cupti_interface_->Subscribe( &subscriber_, (CUpti_CallbackFunc)ApiCallback, this)failed with error CUPTI_ERROR_NOT_INITIALIZED\n",
      "2023-07-12 14:00:50.613105: I tensorflow/core/profiler/lib/profiler_session.cc:172] Profiler session tear down.\n"
     ]
    },
    {
     "name": "stdout",
     "output_type": "stream",
     "text": [
      "[LOG] -- Val ACC Did Not Increase\n"
     ]
    },
    {
     "name": "stderr",
     "output_type": "stream",
     "text": [
      " 31%|█████████████████████████▋                                                        | 47/150 [10:46<21:53, 12.75s/it]2023-07-12 14:01:02.791888: I tensorflow/core/profiler/lib/profiler_session.cc:136] Profiler session initializing.\n",
      "2023-07-12 14:01:02.791902: I tensorflow/core/profiler/lib/profiler_session.cc:155] Profiler session started.\n",
      "2023-07-12 14:01:02.791932: E tensorflow/core/profiler/internal/gpu/cupti_tracer.cc:1415] function cupti_interface_->Subscribe( &subscriber_, (CUpti_CallbackFunc)ApiCallback, this)failed with error CUPTI_ERROR_NOT_INITIALIZED\n",
      "2023-07-12 14:01:02.791942: I tensorflow/core/profiler/lib/profiler_session.cc:172] Profiler session tear down.\n"
     ]
    },
    {
     "name": "stdout",
     "output_type": "stream",
     "text": [
      "[LOG] -- VAL ACC INCREASED........... SAVING MDOEL 0.6832000017166138\n"
     ]
    },
    {
     "name": "stderr",
     "output_type": "stream",
     "text": [
      " 32%|██████████████████████████▏                                                       | 48/150 [11:02<23:06, 13.59s/it]2023-07-12 14:01:18.347794: I tensorflow/core/profiler/lib/profiler_session.cc:136] Profiler session initializing.\n",
      "2023-07-12 14:01:18.347809: I tensorflow/core/profiler/lib/profiler_session.cc:155] Profiler session started.\n",
      "2023-07-12 14:01:18.347838: E tensorflow/core/profiler/internal/gpu/cupti_tracer.cc:1415] function cupti_interface_->Subscribe( &subscriber_, (CUpti_CallbackFunc)ApiCallback, this)failed with error CUPTI_ERROR_NOT_INITIALIZED\n",
      "2023-07-12 14:01:18.347848: I tensorflow/core/profiler/lib/profiler_session.cc:172] Profiler session tear down.\n"
     ]
    },
    {
     "name": "stdout",
     "output_type": "stream",
     "text": [
      "[LOG] -- Val ACC Did Not Increase\n"
     ]
    },
    {
     "name": "stderr",
     "output_type": "stream",
     "text": [
      " 33%|██████████████████████████▊                                                       | 49/150 [11:14<22:10, 13.17s/it]2023-07-12 14:01:30.538154: I tensorflow/core/profiler/lib/profiler_session.cc:136] Profiler session initializing.\n",
      "2023-07-12 14:01:30.538169: I tensorflow/core/profiler/lib/profiler_session.cc:155] Profiler session started.\n",
      "2023-07-12 14:01:30.538199: E tensorflow/core/profiler/internal/gpu/cupti_tracer.cc:1415] function cupti_interface_->Subscribe( &subscriber_, (CUpti_CallbackFunc)ApiCallback, this)failed with error CUPTI_ERROR_NOT_INITIALIZED\n",
      "2023-07-12 14:01:30.538208: I tensorflow/core/profiler/lib/profiler_session.cc:172] Profiler session tear down.\n"
     ]
    },
    {
     "name": "stdout",
     "output_type": "stream",
     "text": [
      "[LOG] -- Val ACC Did Not Increase\n"
     ]
    },
    {
     "name": "stderr",
     "output_type": "stream",
     "text": [
      " 33%|███████████████████████████▎                                                      | 50/150 [11:26<21:26, 12.86s/it]2023-07-12 14:01:42.678620: I tensorflow/core/profiler/lib/profiler_session.cc:136] Profiler session initializing.\n",
      "2023-07-12 14:01:42.678635: I tensorflow/core/profiler/lib/profiler_session.cc:155] Profiler session started.\n",
      "2023-07-12 14:01:42.678666: E tensorflow/core/profiler/internal/gpu/cupti_tracer.cc:1415] function cupti_interface_->Subscribe( &subscriber_, (CUpti_CallbackFunc)ApiCallback, this)failed with error CUPTI_ERROR_NOT_INITIALIZED\n",
      "2023-07-12 14:01:42.678675: I tensorflow/core/profiler/lib/profiler_session.cc:172] Profiler session tear down.\n"
     ]
    },
    {
     "name": "stdout",
     "output_type": "stream",
     "text": [
      "[LOG] -- Val ACC Did Not Increase\n"
     ]
    },
    {
     "name": "stderr",
     "output_type": "stream",
     "text": [
      " 34%|███████████████████████████▉                                                      | 51/150 [11:38<20:51, 12.64s/it]2023-07-12 14:01:54.816873: I tensorflow/core/profiler/lib/profiler_session.cc:136] Profiler session initializing.\n",
      "2023-07-12 14:01:54.816889: I tensorflow/core/profiler/lib/profiler_session.cc:155] Profiler session started.\n",
      "2023-07-12 14:01:54.816920: E tensorflow/core/profiler/internal/gpu/cupti_tracer.cc:1415] function cupti_interface_->Subscribe( &subscriber_, (CUpti_CallbackFunc)ApiCallback, this)failed with error CUPTI_ERROR_NOT_INITIALIZED\n",
      "2023-07-12 14:01:54.816929: I tensorflow/core/profiler/lib/profiler_session.cc:172] Profiler session tear down.\n"
     ]
    },
    {
     "name": "stdout",
     "output_type": "stream",
     "text": [
      "[LOG] -- Val ACC Did Not Increase\n"
     ]
    },
    {
     "name": "stderr",
     "output_type": "stream",
     "text": [
      " 35%|████████████████████████████▍                                                     | 52/150 [11:50<20:24, 12.50s/it]2023-07-12 14:02:06.971888: I tensorflow/core/profiler/lib/profiler_session.cc:136] Profiler session initializing.\n",
      "2023-07-12 14:02:06.971901: I tensorflow/core/profiler/lib/profiler_session.cc:155] Profiler session started.\n",
      "2023-07-12 14:02:06.971932: E tensorflow/core/profiler/internal/gpu/cupti_tracer.cc:1415] function cupti_interface_->Subscribe( &subscriber_, (CUpti_CallbackFunc)ApiCallback, this)failed with error CUPTI_ERROR_NOT_INITIALIZED\n",
      "2023-07-12 14:02:06.971942: I tensorflow/core/profiler/lib/profiler_session.cc:172] Profiler session tear down.\n"
     ]
    },
    {
     "name": "stdout",
     "output_type": "stream",
     "text": [
      "[LOG] -- Val ACC Did Not Increase\n"
     ]
    },
    {
     "name": "stderr",
     "output_type": "stream",
     "text": [
      " 35%|████████████████████████████▉                                                     | 53/150 [12:02<20:02, 12.40s/it]2023-07-12 14:02:19.140290: I tensorflow/core/profiler/lib/profiler_session.cc:136] Profiler session initializing.\n",
      "2023-07-12 14:02:19.140304: I tensorflow/core/profiler/lib/profiler_session.cc:155] Profiler session started.\n",
      "2023-07-12 14:02:19.140334: E tensorflow/core/profiler/internal/gpu/cupti_tracer.cc:1415] function cupti_interface_->Subscribe( &subscriber_, (CUpti_CallbackFunc)ApiCallback, this)failed with error CUPTI_ERROR_NOT_INITIALIZED\n",
      "2023-07-12 14:02:19.140344: I tensorflow/core/profiler/lib/profiler_session.cc:172] Profiler session tear down.\n"
     ]
    },
    {
     "name": "stdout",
     "output_type": "stream",
     "text": [
      "[LOG] -- VAL ACC INCREASED........... SAVING MDOEL 0.6863999962806702\n"
     ]
    },
    {
     "name": "stderr",
     "output_type": "stream",
     "text": [
      " 36%|█████████████████████████████▌                                                    | 54/150 [12:18<21:30, 13.44s/it]2023-07-12 14:02:35.015421: I tensorflow/core/profiler/lib/profiler_session.cc:136] Profiler session initializing.\n",
      "2023-07-12 14:02:35.015436: I tensorflow/core/profiler/lib/profiler_session.cc:155] Profiler session started.\n",
      "2023-07-12 14:02:35.015466: E tensorflow/core/profiler/internal/gpu/cupti_tracer.cc:1415] function cupti_interface_->Subscribe( &subscriber_, (CUpti_CallbackFunc)ApiCallback, this)failed with error CUPTI_ERROR_NOT_INITIALIZED\n",
      "2023-07-12 14:02:35.015476: I tensorflow/core/profiler/lib/profiler_session.cc:172] Profiler session tear down.\n"
     ]
    },
    {
     "name": "stdout",
     "output_type": "stream",
     "text": [
      "[LOG] -- VAL ACC INCREASED........... SAVING MDOEL 0.6930000185966492\n"
     ]
    },
    {
     "name": "stderr",
     "output_type": "stream",
     "text": [
      " 37%|██████████████████████████████                                                    | 55/150 [12:34<22:26, 14.17s/it]2023-07-12 14:02:50.884679: I tensorflow/core/profiler/lib/profiler_session.cc:136] Profiler session initializing.\n",
      "2023-07-12 14:02:50.884695: I tensorflow/core/profiler/lib/profiler_session.cc:155] Profiler session started.\n",
      "2023-07-12 14:02:50.884727: E tensorflow/core/profiler/internal/gpu/cupti_tracer.cc:1415] function cupti_interface_->Subscribe( &subscriber_, (CUpti_CallbackFunc)ApiCallback, this)failed with error CUPTI_ERROR_NOT_INITIALIZED\n",
      "2023-07-12 14:02:50.884737: I tensorflow/core/profiler/lib/profiler_session.cc:172] Profiler session tear down.\n"
     ]
    },
    {
     "name": "stdout",
     "output_type": "stream",
     "text": [
      "[LOG] -- Val ACC Did Not Increase\n"
     ]
    },
    {
     "name": "stderr",
     "output_type": "stream",
     "text": [
      " 37%|██████████████████████████████▌                                                   | 56/150 [12:46<21:15, 13.56s/it]2023-07-12 14:03:03.035339: I tensorflow/core/profiler/lib/profiler_session.cc:136] Profiler session initializing.\n",
      "2023-07-12 14:03:03.035355: I tensorflow/core/profiler/lib/profiler_session.cc:155] Profiler session started.\n",
      "2023-07-12 14:03:03.035385: E tensorflow/core/profiler/internal/gpu/cupti_tracer.cc:1415] function cupti_interface_->Subscribe( &subscriber_, (CUpti_CallbackFunc)ApiCallback, this)failed with error CUPTI_ERROR_NOT_INITIALIZED\n",
      "2023-07-12 14:03:03.035394: I tensorflow/core/profiler/lib/profiler_session.cc:172] Profiler session tear down.\n"
     ]
    },
    {
     "name": "stdout",
     "output_type": "stream",
     "text": [
      "[LOG] -- Val ACC Did Not Increase\n"
     ]
    },
    {
     "name": "stderr",
     "output_type": "stream",
     "text": [
      " 38%|███████████████████████████████▏                                                  | 57/150 [12:58<20:21, 13.14s/it]2023-07-12 14:03:15.180312: I tensorflow/core/profiler/lib/profiler_session.cc:136] Profiler session initializing.\n",
      "2023-07-12 14:03:15.180327: I tensorflow/core/profiler/lib/profiler_session.cc:155] Profiler session started.\n",
      "2023-07-12 14:03:15.180357: E tensorflow/core/profiler/internal/gpu/cupti_tracer.cc:1415] function cupti_interface_->Subscribe( &subscriber_, (CUpti_CallbackFunc)ApiCallback, this)failed with error CUPTI_ERROR_NOT_INITIALIZED\n",
      "2023-07-12 14:03:15.180367: I tensorflow/core/profiler/lib/profiler_session.cc:172] Profiler session tear down.\n"
     ]
    },
    {
     "name": "stdout",
     "output_type": "stream",
     "text": [
      "[LOG] -- Val ACC Did Not Increase\n"
     ]
    },
    {
     "name": "stderr",
     "output_type": "stream",
     "text": [
      " 39%|███████████████████████████████▋                                                  | 58/150 [13:11<19:42, 12.85s/it]2023-07-12 14:03:27.359318: I tensorflow/core/profiler/lib/profiler_session.cc:136] Profiler session initializing.\n",
      "2023-07-12 14:03:27.359334: I tensorflow/core/profiler/lib/profiler_session.cc:155] Profiler session started.\n",
      "2023-07-12 14:03:27.359365: E tensorflow/core/profiler/internal/gpu/cupti_tracer.cc:1415] function cupti_interface_->Subscribe( &subscriber_, (CUpti_CallbackFunc)ApiCallback, this)failed with error CUPTI_ERROR_NOT_INITIALIZED\n",
      "2023-07-12 14:03:27.359375: I tensorflow/core/profiler/lib/profiler_session.cc:172] Profiler session tear down.\n"
     ]
    },
    {
     "name": "stdout",
     "output_type": "stream",
     "text": [
      "[LOG] -- Val ACC Did Not Increase\n"
     ]
    },
    {
     "name": "stderr",
     "output_type": "stream",
     "text": [
      " 39%|████████████████████████████████▎                                                 | 59/150 [13:23<19:10, 12.65s/it]2023-07-12 14:03:39.529047: I tensorflow/core/profiler/lib/profiler_session.cc:136] Profiler session initializing.\n",
      "2023-07-12 14:03:39.529062: I tensorflow/core/profiler/lib/profiler_session.cc:155] Profiler session started.\n",
      "2023-07-12 14:03:39.529093: E tensorflow/core/profiler/internal/gpu/cupti_tracer.cc:1415] function cupti_interface_->Subscribe( &subscriber_, (CUpti_CallbackFunc)ApiCallback, this)failed with error CUPTI_ERROR_NOT_INITIALIZED\n",
      "2023-07-12 14:03:39.529103: I tensorflow/core/profiler/lib/profiler_session.cc:172] Profiler session tear down.\n"
     ]
    },
    {
     "name": "stdout",
     "output_type": "stream",
     "text": [
      "[LOG] -- Val ACC Did Not Increase\n"
     ]
    },
    {
     "name": "stderr",
     "output_type": "stream",
     "text": [
      " 40%|████████████████████████████████▊                                                 | 60/150 [13:35<18:44, 12.50s/it]2023-07-12 14:03:51.677604: I tensorflow/core/profiler/lib/profiler_session.cc:136] Profiler session initializing.\n",
      "2023-07-12 14:03:51.677618: I tensorflow/core/profiler/lib/profiler_session.cc:155] Profiler session started.\n",
      "2023-07-12 14:03:51.677649: E tensorflow/core/profiler/internal/gpu/cupti_tracer.cc:1415] function cupti_interface_->Subscribe( &subscriber_, (CUpti_CallbackFunc)ApiCallback, this)failed with error CUPTI_ERROR_NOT_INITIALIZED\n",
      "2023-07-12 14:03:51.677658: I tensorflow/core/profiler/lib/profiler_session.cc:172] Profiler session tear down.\n"
     ]
    },
    {
     "name": "stdout",
     "output_type": "stream",
     "text": [
      "[LOG] -- Val ACC Did Not Increase\n"
     ]
    },
    {
     "name": "stderr",
     "output_type": "stream",
     "text": [
      " 41%|█████████████████████████████████▎                                                | 61/150 [13:47<18:22, 12.39s/it]2023-07-12 14:04:03.820525: I tensorflow/core/profiler/lib/profiler_session.cc:136] Profiler session initializing.\n",
      "2023-07-12 14:04:03.820539: I tensorflow/core/profiler/lib/profiler_session.cc:155] Profiler session started.\n",
      "2023-07-12 14:04:03.820569: E tensorflow/core/profiler/internal/gpu/cupti_tracer.cc:1415] function cupti_interface_->Subscribe( &subscriber_, (CUpti_CallbackFunc)ApiCallback, this)failed with error CUPTI_ERROR_NOT_INITIALIZED\n",
      "2023-07-12 14:04:03.820578: I tensorflow/core/profiler/lib/profiler_session.cc:172] Profiler session tear down.\n"
     ]
    },
    {
     "name": "stdout",
     "output_type": "stream",
     "text": [
      "[LOG] -- Val ACC Did Not Increase\n"
     ]
    },
    {
     "name": "stderr",
     "output_type": "stream",
     "text": [
      " 41%|█████████████████████████████████▉                                                | 62/150 [13:59<18:04, 12.33s/it]2023-07-12 14:04:15.993683: I tensorflow/core/profiler/lib/profiler_session.cc:136] Profiler session initializing.\n",
      "2023-07-12 14:04:15.993698: I tensorflow/core/profiler/lib/profiler_session.cc:155] Profiler session started.\n",
      "2023-07-12 14:04:15.993728: E tensorflow/core/profiler/internal/gpu/cupti_tracer.cc:1415] function cupti_interface_->Subscribe( &subscriber_, (CUpti_CallbackFunc)ApiCallback, this)failed with error CUPTI_ERROR_NOT_INITIALIZED\n",
      "2023-07-12 14:04:15.993738: I tensorflow/core/profiler/lib/profiler_session.cc:172] Profiler session tear down.\n"
     ]
    },
    {
     "name": "stdout",
     "output_type": "stream",
     "text": [
      "[LOG] -- Val ACC Did Not Increase\n"
     ]
    },
    {
     "name": "stderr",
     "output_type": "stream",
     "text": [
      " 42%|██████████████████████████████████▍                                               | 63/150 [14:11<17:49, 12.29s/it]2023-07-12 14:04:28.200538: I tensorflow/core/profiler/lib/profiler_session.cc:136] Profiler session initializing.\n",
      "2023-07-12 14:04:28.200552: I tensorflow/core/profiler/lib/profiler_session.cc:155] Profiler session started.\n",
      "2023-07-12 14:04:28.200583: E tensorflow/core/profiler/internal/gpu/cupti_tracer.cc:1415] function cupti_interface_->Subscribe( &subscriber_, (CUpti_CallbackFunc)ApiCallback, this)failed with error CUPTI_ERROR_NOT_INITIALIZED\n",
      "2023-07-12 14:04:28.200592: I tensorflow/core/profiler/lib/profiler_session.cc:172] Profiler session tear down.\n"
     ]
    },
    {
     "name": "stdout",
     "output_type": "stream",
     "text": [
      "[LOG] -- VAL ACC INCREASED........... SAVING MDOEL 0.7024000287055969\n"
     ]
    },
    {
     "name": "stderr",
     "output_type": "stream",
     "text": [
      " 43%|██████████████████████████████████▉                                               | 64/150 [14:28<19:37, 13.69s/it]2023-07-12 14:04:45.159887: I tensorflow/core/profiler/lib/profiler_session.cc:136] Profiler session initializing.\n",
      "2023-07-12 14:04:45.159903: I tensorflow/core/profiler/lib/profiler_session.cc:155] Profiler session started.\n",
      "2023-07-12 14:04:45.159933: E tensorflow/core/profiler/internal/gpu/cupti_tracer.cc:1415] function cupti_interface_->Subscribe( &subscriber_, (CUpti_CallbackFunc)ApiCallback, this)failed with error CUPTI_ERROR_NOT_INITIALIZED\n",
      "2023-07-12 14:04:45.159946: I tensorflow/core/profiler/lib/profiler_session.cc:172] Profiler session tear down.\n"
     ]
    },
    {
     "name": "stdout",
     "output_type": "stream",
     "text": [
      "[LOG] -- Val ACC Did Not Increase\n"
     ]
    },
    {
     "name": "stderr",
     "output_type": "stream",
     "text": [
      " 43%|███████████████████████████████████▌                                              | 65/150 [14:41<18:44, 13.23s/it]2023-07-12 14:04:57.307961: I tensorflow/core/profiler/lib/profiler_session.cc:136] Profiler session initializing.\n",
      "2023-07-12 14:04:57.307976: I tensorflow/core/profiler/lib/profiler_session.cc:155] Profiler session started.\n",
      "2023-07-12 14:04:57.308006: E tensorflow/core/profiler/internal/gpu/cupti_tracer.cc:1415] function cupti_interface_->Subscribe( &subscriber_, (CUpti_CallbackFunc)ApiCallback, this)failed with error CUPTI_ERROR_NOT_INITIALIZED\n",
      "2023-07-12 14:04:57.308016: I tensorflow/core/profiler/lib/profiler_session.cc:172] Profiler session tear down.\n"
     ]
    },
    {
     "name": "stdout",
     "output_type": "stream",
     "text": [
      "[LOG] -- Val ACC Did Not Increase\n"
     ]
    },
    {
     "name": "stderr",
     "output_type": "stream",
     "text": [
      " 44%|████████████████████████████████████                                              | 66/150 [14:53<18:04, 12.91s/it]2023-07-12 14:05:09.482339: I tensorflow/core/profiler/lib/profiler_session.cc:136] Profiler session initializing.\n",
      "2023-07-12 14:05:09.482354: I tensorflow/core/profiler/lib/profiler_session.cc:155] Profiler session started.\n",
      "2023-07-12 14:05:09.482385: E tensorflow/core/profiler/internal/gpu/cupti_tracer.cc:1415] function cupti_interface_->Subscribe( &subscriber_, (CUpti_CallbackFunc)ApiCallback, this)failed with error CUPTI_ERROR_NOT_INITIALIZED\n",
      "2023-07-12 14:05:09.482393: I tensorflow/core/profiler/lib/profiler_session.cc:172] Profiler session tear down.\n"
     ]
    },
    {
     "name": "stdout",
     "output_type": "stream",
     "text": [
      "[LOG] -- Val ACC Did Not Increase\n"
     ]
    },
    {
     "name": "stderr",
     "output_type": "stream",
     "text": [
      " 45%|████████████████████████████████████▋                                             | 67/150 [15:05<17:32, 12.69s/it]2023-07-12 14:05:21.639917: I tensorflow/core/profiler/lib/profiler_session.cc:136] Profiler session initializing.\n",
      "2023-07-12 14:05:21.639932: I tensorflow/core/profiler/lib/profiler_session.cc:155] Profiler session started.\n",
      "2023-07-12 14:05:21.639963: E tensorflow/core/profiler/internal/gpu/cupti_tracer.cc:1415] function cupti_interface_->Subscribe( &subscriber_, (CUpti_CallbackFunc)ApiCallback, this)failed with error CUPTI_ERROR_NOT_INITIALIZED\n",
      "2023-07-12 14:05:21.639973: I tensorflow/core/profiler/lib/profiler_session.cc:172] Profiler session tear down.\n"
     ]
    },
    {
     "name": "stdout",
     "output_type": "stream",
     "text": [
      "[LOG] -- Val ACC Did Not Increase\n"
     ]
    },
    {
     "name": "stderr",
     "output_type": "stream",
     "text": [
      " 45%|█████████████████████████████████████▏                                            | 68/150 [15:17<17:08, 12.54s/it]2023-07-12 14:05:33.840473: I tensorflow/core/profiler/lib/profiler_session.cc:136] Profiler session initializing.\n",
      "2023-07-12 14:05:33.840487: I tensorflow/core/profiler/lib/profiler_session.cc:155] Profiler session started.\n",
      "2023-07-12 14:05:33.840518: E tensorflow/core/profiler/internal/gpu/cupti_tracer.cc:1415] function cupti_interface_->Subscribe( &subscriber_, (CUpti_CallbackFunc)ApiCallback, this)failed with error CUPTI_ERROR_NOT_INITIALIZED\n",
      "2023-07-12 14:05:33.840528: I tensorflow/core/profiler/lib/profiler_session.cc:172] Profiler session tear down.\n"
     ]
    },
    {
     "name": "stdout",
     "output_type": "stream",
     "text": [
      "[LOG] -- VAL ACC INCREASED........... SAVING MDOEL 0.7178000211715698\n"
     ]
    },
    {
     "name": "stderr",
     "output_type": "stream",
     "text": [
      " 46%|█████████████████████████████████████▋                                            | 69/150 [15:33<18:10, 13.46s/it]2023-07-12 14:05:49.452975: I tensorflow/core/profiler/lib/profiler_session.cc:136] Profiler session initializing.\n",
      "2023-07-12 14:05:49.452989: I tensorflow/core/profiler/lib/profiler_session.cc:155] Profiler session started.\n",
      "2023-07-12 14:05:49.453020: E tensorflow/core/profiler/internal/gpu/cupti_tracer.cc:1415] function cupti_interface_->Subscribe( &subscriber_, (CUpti_CallbackFunc)ApiCallback, this)failed with error CUPTI_ERROR_NOT_INITIALIZED\n",
      "2023-07-12 14:05:49.453031: I tensorflow/core/profiler/lib/profiler_session.cc:172] Profiler session tear down.\n"
     ]
    },
    {
     "name": "stdout",
     "output_type": "stream",
     "text": [
      "[LOG] -- Val ACC Did Not Increase\n"
     ]
    },
    {
     "name": "stderr",
     "output_type": "stream",
     "text": [
      " 47%|██████████████████████████████████████▎                                           | 70/150 [15:45<17:26, 13.08s/it]2023-07-12 14:06:01.631481: I tensorflow/core/profiler/lib/profiler_session.cc:136] Profiler session initializing.\n",
      "2023-07-12 14:06:01.631496: I tensorflow/core/profiler/lib/profiler_session.cc:155] Profiler session started.\n",
      "2023-07-12 14:06:01.631526: E tensorflow/core/profiler/internal/gpu/cupti_tracer.cc:1415] function cupti_interface_->Subscribe( &subscriber_, (CUpti_CallbackFunc)ApiCallback, this)failed with error CUPTI_ERROR_NOT_INITIALIZED\n",
      "2023-07-12 14:06:01.631535: I tensorflow/core/profiler/lib/profiler_session.cc:172] Profiler session tear down.\n"
     ]
    },
    {
     "name": "stdout",
     "output_type": "stream",
     "text": [
      "[LOG] -- Val ACC Did Not Increase\n"
     ]
    },
    {
     "name": "stderr",
     "output_type": "stream",
     "text": [
      " 47%|██████████████████████████████████████▊                                           | 71/150 [15:57<16:51, 12.80s/it]2023-07-12 14:06:13.800899: I tensorflow/core/profiler/lib/profiler_session.cc:136] Profiler session initializing.\n",
      "2023-07-12 14:06:13.800913: I tensorflow/core/profiler/lib/profiler_session.cc:155] Profiler session started.\n",
      "2023-07-12 14:06:13.800943: E tensorflow/core/profiler/internal/gpu/cupti_tracer.cc:1415] function cupti_interface_->Subscribe( &subscriber_, (CUpti_CallbackFunc)ApiCallback, this)failed with error CUPTI_ERROR_NOT_INITIALIZED\n",
      "2023-07-12 14:06:13.800953: I tensorflow/core/profiler/lib/profiler_session.cc:172] Profiler session tear down.\n"
     ]
    },
    {
     "name": "stdout",
     "output_type": "stream",
     "text": [
      "[LOG] -- Val ACC Did Not Increase\n"
     ]
    },
    {
     "name": "stderr",
     "output_type": "stream",
     "text": [
      " 48%|███████████████████████████████████████▎                                          | 72/150 [16:09<16:24, 12.62s/it]2023-07-12 14:06:25.993064: I tensorflow/core/profiler/lib/profiler_session.cc:136] Profiler session initializing.\n",
      "2023-07-12 14:06:25.993078: I tensorflow/core/profiler/lib/profiler_session.cc:155] Profiler session started.\n",
      "2023-07-12 14:06:25.993109: E tensorflow/core/profiler/internal/gpu/cupti_tracer.cc:1415] function cupti_interface_->Subscribe( &subscriber_, (CUpti_CallbackFunc)ApiCallback, this)failed with error CUPTI_ERROR_NOT_INITIALIZED\n",
      "2023-07-12 14:06:25.993119: I tensorflow/core/profiler/lib/profiler_session.cc:172] Profiler session tear down.\n"
     ]
    },
    {
     "name": "stdout",
     "output_type": "stream",
     "text": [
      "[LOG] -- Val ACC Did Not Increase\n"
     ]
    },
    {
     "name": "stderr",
     "output_type": "stream",
     "text": [
      " 49%|███████████████████████████████████████▉                                          | 73/150 [16:21<16:01, 12.49s/it]2023-07-12 14:06:38.172107: I tensorflow/core/profiler/lib/profiler_session.cc:136] Profiler session initializing.\n",
      "2023-07-12 14:06:38.172122: I tensorflow/core/profiler/lib/profiler_session.cc:155] Profiler session started.\n",
      "2023-07-12 14:06:38.172152: E tensorflow/core/profiler/internal/gpu/cupti_tracer.cc:1415] function cupti_interface_->Subscribe( &subscriber_, (CUpti_CallbackFunc)ApiCallback, this)failed with error CUPTI_ERROR_NOT_INITIALIZED\n",
      "2023-07-12 14:06:38.172162: I tensorflow/core/profiler/lib/profiler_session.cc:172] Profiler session tear down.\n"
     ]
    },
    {
     "name": "stdout",
     "output_type": "stream",
     "text": [
      "[LOG] -- Val ACC Did Not Increase\n"
     ]
    },
    {
     "name": "stderr",
     "output_type": "stream",
     "text": [
      " 49%|████████████████████████████████████████▍                                         | 74/150 [16:34<15:41, 12.39s/it]2023-07-12 14:06:50.340826: I tensorflow/core/profiler/lib/profiler_session.cc:136] Profiler session initializing.\n",
      "2023-07-12 14:06:50.340841: I tensorflow/core/profiler/lib/profiler_session.cc:155] Profiler session started.\n",
      "2023-07-12 14:06:50.340872: E tensorflow/core/profiler/internal/gpu/cupti_tracer.cc:1415] function cupti_interface_->Subscribe( &subscriber_, (CUpti_CallbackFunc)ApiCallback, this)failed with error CUPTI_ERROR_NOT_INITIALIZED\n",
      "2023-07-12 14:06:50.340881: I tensorflow/core/profiler/lib/profiler_session.cc:172] Profiler session tear down.\n"
     ]
    },
    {
     "name": "stdout",
     "output_type": "stream",
     "text": [
      "[LOG] -- Val ACC Did Not Increase\n"
     ]
    },
    {
     "name": "stderr",
     "output_type": "stream",
     "text": [
      " 50%|█████████████████████████████████████████                                         | 75/150 [16:46<15:24, 12.33s/it]2023-07-12 14:07:02.533357: I tensorflow/core/profiler/lib/profiler_session.cc:136] Profiler session initializing.\n",
      "2023-07-12 14:07:02.533371: I tensorflow/core/profiler/lib/profiler_session.cc:155] Profiler session started.\n",
      "2023-07-12 14:07:02.533402: E tensorflow/core/profiler/internal/gpu/cupti_tracer.cc:1415] function cupti_interface_->Subscribe( &subscriber_, (CUpti_CallbackFunc)ApiCallback, this)failed with error CUPTI_ERROR_NOT_INITIALIZED\n",
      "2023-07-12 14:07:02.533411: I tensorflow/core/profiler/lib/profiler_session.cc:172] Profiler session tear down.\n"
     ]
    },
    {
     "name": "stdout",
     "output_type": "stream",
     "text": [
      "[LOG] -- Val ACC Did Not Increase\n"
     ]
    },
    {
     "name": "stderr",
     "output_type": "stream",
     "text": [
      " 51%|█████████████████████████████████████████▌                                        | 76/150 [16:58<15:09, 12.29s/it]2023-07-12 14:07:14.724441: I tensorflow/core/profiler/lib/profiler_session.cc:136] Profiler session initializing.\n",
      "2023-07-12 14:07:14.724456: I tensorflow/core/profiler/lib/profiler_session.cc:155] Profiler session started.\n",
      "2023-07-12 14:07:14.724485: E tensorflow/core/profiler/internal/gpu/cupti_tracer.cc:1415] function cupti_interface_->Subscribe( &subscriber_, (CUpti_CallbackFunc)ApiCallback, this)failed with error CUPTI_ERROR_NOT_INITIALIZED\n",
      "2023-07-12 14:07:14.724495: I tensorflow/core/profiler/lib/profiler_session.cc:172] Profiler session tear down.\n"
     ]
    },
    {
     "name": "stdout",
     "output_type": "stream",
     "text": [
      "[LOG] -- VAL ACC INCREASED........... SAVING MDOEL 0.7228000164031982\n"
     ]
    },
    {
     "name": "stderr",
     "output_type": "stream",
     "text": [
      " 51%|██████████████████████████████████████████                                        | 77/150 [17:14<16:16, 13.37s/it]2023-07-12 14:07:30.616528: I tensorflow/core/profiler/lib/profiler_session.cc:136] Profiler session initializing.\n",
      "2023-07-12 14:07:30.616542: I tensorflow/core/profiler/lib/profiler_session.cc:155] Profiler session started.\n",
      "2023-07-12 14:07:30.616573: E tensorflow/core/profiler/internal/gpu/cupti_tracer.cc:1415] function cupti_interface_->Subscribe( &subscriber_, (CUpti_CallbackFunc)ApiCallback, this)failed with error CUPTI_ERROR_NOT_INITIALIZED\n",
      "2023-07-12 14:07:30.616584: I tensorflow/core/profiler/lib/profiler_session.cc:172] Profiler session tear down.\n"
     ]
    },
    {
     "name": "stdout",
     "output_type": "stream",
     "text": [
      "[LOG] -- Val ACC Did Not Increase\n"
     ]
    },
    {
     "name": "stderr",
     "output_type": "stream",
     "text": [
      " 52%|██████████████████████████████████████████▋                                       | 78/150 [17:26<15:37, 13.02s/it]2023-07-12 14:07:42.811248: I tensorflow/core/profiler/lib/profiler_session.cc:136] Profiler session initializing.\n",
      "2023-07-12 14:07:42.811268: I tensorflow/core/profiler/lib/profiler_session.cc:155] Profiler session started.\n",
      "2023-07-12 14:07:42.811312: E tensorflow/core/profiler/internal/gpu/cupti_tracer.cc:1415] function cupti_interface_->Subscribe( &subscriber_, (CUpti_CallbackFunc)ApiCallback, this)failed with error CUPTI_ERROR_NOT_INITIALIZED\n",
      "2023-07-12 14:07:42.811322: I tensorflow/core/profiler/lib/profiler_session.cc:172] Profiler session tear down.\n"
     ]
    },
    {
     "name": "stdout",
     "output_type": "stream",
     "text": [
      "[LOG] -- Val ACC Did Not Increase\n"
     ]
    },
    {
     "name": "stderr",
     "output_type": "stream",
     "text": [
      " 53%|███████████████████████████████████████████▏                                      | 79/150 [17:38<15:06, 12.77s/it]2023-07-12 14:07:54.994092: I tensorflow/core/profiler/lib/profiler_session.cc:136] Profiler session initializing.\n",
      "2023-07-12 14:07:54.994107: I tensorflow/core/profiler/lib/profiler_session.cc:155] Profiler session started.\n",
      "2023-07-12 14:07:54.994136: E tensorflow/core/profiler/internal/gpu/cupti_tracer.cc:1415] function cupti_interface_->Subscribe( &subscriber_, (CUpti_CallbackFunc)ApiCallback, this)failed with error CUPTI_ERROR_NOT_INITIALIZED\n",
      "2023-07-12 14:07:54.994146: I tensorflow/core/profiler/lib/profiler_session.cc:172] Profiler session tear down.\n"
     ]
    },
    {
     "name": "stdout",
     "output_type": "stream",
     "text": [
      "[LOG] -- Val ACC Did Not Increase\n"
     ]
    },
    {
     "name": "stderr",
     "output_type": "stream",
     "text": [
      " 53%|███████████████████████████████████████████▋                                      | 80/150 [17:50<14:41, 12.59s/it]2023-07-12 14:08:07.183978: I tensorflow/core/profiler/lib/profiler_session.cc:136] Profiler session initializing.\n",
      "2023-07-12 14:08:07.183993: I tensorflow/core/profiler/lib/profiler_session.cc:155] Profiler session started.\n",
      "2023-07-12 14:08:07.184025: E tensorflow/core/profiler/internal/gpu/cupti_tracer.cc:1415] function cupti_interface_->Subscribe( &subscriber_, (CUpti_CallbackFunc)ApiCallback, this)failed with error CUPTI_ERROR_NOT_INITIALIZED\n",
      "2023-07-12 14:08:07.184035: I tensorflow/core/profiler/lib/profiler_session.cc:172] Profiler session tear down.\n"
     ]
    },
    {
     "name": "stdout",
     "output_type": "stream",
     "text": [
      "[LOG] -- Val ACC Did Not Increase\n"
     ]
    },
    {
     "name": "stderr",
     "output_type": "stream",
     "text": [
      " 54%|████████████████████████████████████████████▎                                     | 81/150 [18:03<14:20, 12.48s/it]2023-07-12 14:08:19.383899: I tensorflow/core/profiler/lib/profiler_session.cc:136] Profiler session initializing.\n",
      "2023-07-12 14:08:19.383913: I tensorflow/core/profiler/lib/profiler_session.cc:155] Profiler session started.\n",
      "2023-07-12 14:08:19.383943: E tensorflow/core/profiler/internal/gpu/cupti_tracer.cc:1415] function cupti_interface_->Subscribe( &subscriber_, (CUpti_CallbackFunc)ApiCallback, this)failed with error CUPTI_ERROR_NOT_INITIALIZED\n",
      "2023-07-12 14:08:19.383953: I tensorflow/core/profiler/lib/profiler_session.cc:172] Profiler session tear down.\n"
     ]
    },
    {
     "name": "stdout",
     "output_type": "stream",
     "text": [
      "[LOG] -- VAL ACC INCREASED........... SAVING MDOEL 0.7257999777793884\n"
     ]
    },
    {
     "name": "stderr",
     "output_type": "stream",
     "text": [
      " 55%|████████████████████████████████████████████▊                                     | 82/150 [18:18<15:10, 13.39s/it]2023-07-12 14:08:34.921598: I tensorflow/core/profiler/lib/profiler_session.cc:136] Profiler session initializing.\n",
      "2023-07-12 14:08:34.921613: I tensorflow/core/profiler/lib/profiler_session.cc:155] Profiler session started.\n",
      "2023-07-12 14:08:34.921643: E tensorflow/core/profiler/internal/gpu/cupti_tracer.cc:1415] function cupti_interface_->Subscribe( &subscriber_, (CUpti_CallbackFunc)ApiCallback, this)failed with error CUPTI_ERROR_NOT_INITIALIZED\n",
      "2023-07-12 14:08:34.921653: I tensorflow/core/profiler/lib/profiler_session.cc:172] Profiler session tear down.\n"
     ]
    },
    {
     "name": "stdout",
     "output_type": "stream",
     "text": [
      "[LOG] -- Val ACC Did Not Increase\n"
     ]
    },
    {
     "name": "stderr",
     "output_type": "stream",
     "text": [
      " 55%|█████████████████████████████████████████████▎                                    | 83/150 [18:30<14:33, 13.04s/it]2023-07-12 14:08:47.137770: I tensorflow/core/profiler/lib/profiler_session.cc:136] Profiler session initializing.\n",
      "2023-07-12 14:08:47.137783: I tensorflow/core/profiler/lib/profiler_session.cc:155] Profiler session started.\n",
      "2023-07-12 14:08:47.137813: E tensorflow/core/profiler/internal/gpu/cupti_tracer.cc:1415] function cupti_interface_->Subscribe( &subscriber_, (CUpti_CallbackFunc)ApiCallback, this)failed with error CUPTI_ERROR_NOT_INITIALIZED\n",
      "2023-07-12 14:08:47.137823: I tensorflow/core/profiler/lib/profiler_session.cc:172] Profiler session tear down.\n"
     ]
    },
    {
     "name": "stdout",
     "output_type": "stream",
     "text": [
      "[LOG] -- Val ACC Did Not Increase\n"
     ]
    },
    {
     "name": "stderr",
     "output_type": "stream",
     "text": [
      " 56%|█████████████████████████████████████████████▉                                    | 84/150 [18:43<14:03, 12.79s/it]2023-07-12 14:08:59.326405: I tensorflow/core/profiler/lib/profiler_session.cc:136] Profiler session initializing.\n",
      "2023-07-12 14:08:59.326419: I tensorflow/core/profiler/lib/profiler_session.cc:155] Profiler session started.\n",
      "2023-07-12 14:08:59.326449: E tensorflow/core/profiler/internal/gpu/cupti_tracer.cc:1415] function cupti_interface_->Subscribe( &subscriber_, (CUpti_CallbackFunc)ApiCallback, this)failed with error CUPTI_ERROR_NOT_INITIALIZED\n",
      "2023-07-12 14:08:59.326459: I tensorflow/core/profiler/lib/profiler_session.cc:172] Profiler session tear down.\n"
     ]
    },
    {
     "name": "stdout",
     "output_type": "stream",
     "text": [
      "[LOG] -- Val ACC Did Not Increase\n"
     ]
    },
    {
     "name": "stderr",
     "output_type": "stream",
     "text": [
      " 57%|██████████████████████████████████████████████▍                                   | 85/150 [18:55<13:39, 12.61s/it]2023-07-12 14:09:11.530487: I tensorflow/core/profiler/lib/profiler_session.cc:136] Profiler session initializing.\n",
      "2023-07-12 14:09:11.530502: I tensorflow/core/profiler/lib/profiler_session.cc:155] Profiler session started.\n",
      "2023-07-12 14:09:11.530534: E tensorflow/core/profiler/internal/gpu/cupti_tracer.cc:1415] function cupti_interface_->Subscribe( &subscriber_, (CUpti_CallbackFunc)ApiCallback, this)failed with error CUPTI_ERROR_NOT_INITIALIZED\n",
      "2023-07-12 14:09:11.530544: I tensorflow/core/profiler/lib/profiler_session.cc:172] Profiler session tear down.\n"
     ]
    },
    {
     "name": "stdout",
     "output_type": "stream",
     "text": [
      "[LOG] -- Val ACC Did Not Increase\n"
     ]
    },
    {
     "name": "stderr",
     "output_type": "stream",
     "text": [
      " 57%|███████████████████████████████████████████████                                   | 86/150 [19:07<13:18, 12.48s/it]2023-07-12 14:09:23.700123: I tensorflow/core/profiler/lib/profiler_session.cc:136] Profiler session initializing.\n",
      "2023-07-12 14:09:23.700137: I tensorflow/core/profiler/lib/profiler_session.cc:155] Profiler session started.\n",
      "2023-07-12 14:09:23.700166: E tensorflow/core/profiler/internal/gpu/cupti_tracer.cc:1415] function cupti_interface_->Subscribe( &subscriber_, (CUpti_CallbackFunc)ApiCallback, this)failed with error CUPTI_ERROR_NOT_INITIALIZED\n",
      "2023-07-12 14:09:23.700176: I tensorflow/core/profiler/lib/profiler_session.cc:172] Profiler session tear down.\n"
     ]
    },
    {
     "name": "stdout",
     "output_type": "stream",
     "text": [
      "[LOG] -- Val ACC Did Not Increase\n"
     ]
    },
    {
     "name": "stderr",
     "output_type": "stream",
     "text": [
      " 58%|███████████████████████████████████████████████▌                                  | 87/150 [19:19<13:00, 12.38s/it]2023-07-12 14:09:35.866411: I tensorflow/core/profiler/lib/profiler_session.cc:136] Profiler session initializing.\n",
      "2023-07-12 14:09:35.866425: I tensorflow/core/profiler/lib/profiler_session.cc:155] Profiler session started.\n",
      "2023-07-12 14:09:35.866455: E tensorflow/core/profiler/internal/gpu/cupti_tracer.cc:1415] function cupti_interface_->Subscribe( &subscriber_, (CUpti_CallbackFunc)ApiCallback, this)failed with error CUPTI_ERROR_NOT_INITIALIZED\n",
      "2023-07-12 14:09:35.866465: I tensorflow/core/profiler/lib/profiler_session.cc:172] Profiler session tear down.\n"
     ]
    },
    {
     "name": "stdout",
     "output_type": "stream",
     "text": [
      "[LOG] -- VAL ACC INCREASED........... SAVING MDOEL 0.7351999878883362\n"
     ]
    },
    {
     "name": "stderr",
     "output_type": "stream",
     "text": [
      " 59%|████████████████████████████████████████████████                                  | 88/150 [19:35<13:46, 13.33s/it]2023-07-12 14:09:51.393978: I tensorflow/core/profiler/lib/profiler_session.cc:136] Profiler session initializing.\n",
      "2023-07-12 14:09:51.393994: I tensorflow/core/profiler/lib/profiler_session.cc:155] Profiler session started.\n",
      "2023-07-12 14:09:51.394025: E tensorflow/core/profiler/internal/gpu/cupti_tracer.cc:1415] function cupti_interface_->Subscribe( &subscriber_, (CUpti_CallbackFunc)ApiCallback, this)failed with error CUPTI_ERROR_NOT_INITIALIZED\n",
      "2023-07-12 14:09:51.394035: I tensorflow/core/profiler/lib/profiler_session.cc:172] Profiler session tear down.\n"
     ]
    },
    {
     "name": "stdout",
     "output_type": "stream",
     "text": [
      "[LOG] -- Val ACC Did Not Increase\n"
     ]
    },
    {
     "name": "stderr",
     "output_type": "stream",
     "text": [
      " 59%|████████████████████████████████████████████████▋                                 | 89/150 [19:47<13:12, 12.99s/it]2023-07-12 14:10:03.601181: I tensorflow/core/profiler/lib/profiler_session.cc:136] Profiler session initializing.\n",
      "2023-07-12 14:10:03.601196: I tensorflow/core/profiler/lib/profiler_session.cc:155] Profiler session started.\n",
      "2023-07-12 14:10:03.601227: E tensorflow/core/profiler/internal/gpu/cupti_tracer.cc:1415] function cupti_interface_->Subscribe( &subscriber_, (CUpti_CallbackFunc)ApiCallback, this)failed with error CUPTI_ERROR_NOT_INITIALIZED\n",
      "2023-07-12 14:10:03.601236: I tensorflow/core/profiler/lib/profiler_session.cc:172] Profiler session tear down.\n"
     ]
    },
    {
     "name": "stdout",
     "output_type": "stream",
     "text": [
      "[LOG] -- Val ACC Did Not Increase\n"
     ]
    },
    {
     "name": "stderr",
     "output_type": "stream",
     "text": [
      " 60%|█████████████████████████████████████████████████▏                                | 90/150 [19:59<12:44, 12.75s/it]2023-07-12 14:10:15.772393: I tensorflow/core/profiler/lib/profiler_session.cc:136] Profiler session initializing.\n",
      "2023-07-12 14:10:15.772407: I tensorflow/core/profiler/lib/profiler_session.cc:155] Profiler session started.\n",
      "2023-07-12 14:10:15.772436: E tensorflow/core/profiler/internal/gpu/cupti_tracer.cc:1415] function cupti_interface_->Subscribe( &subscriber_, (CUpti_CallbackFunc)ApiCallback, this)failed with error CUPTI_ERROR_NOT_INITIALIZED\n",
      "2023-07-12 14:10:15.772445: I tensorflow/core/profiler/lib/profiler_session.cc:172] Profiler session tear down.\n"
     ]
    },
    {
     "name": "stdout",
     "output_type": "stream",
     "text": [
      "[LOG] -- Val ACC Did Not Increase\n"
     ]
    },
    {
     "name": "stderr",
     "output_type": "stream",
     "text": [
      " 61%|█████████████████████████████████████████████████▋                                | 91/150 [20:11<12:21, 12.57s/it]2023-07-12 14:10:27.928398: I tensorflow/core/profiler/lib/profiler_session.cc:136] Profiler session initializing.\n",
      "2023-07-12 14:10:27.928413: I tensorflow/core/profiler/lib/profiler_session.cc:155] Profiler session started.\n",
      "2023-07-12 14:10:27.928444: E tensorflow/core/profiler/internal/gpu/cupti_tracer.cc:1415] function cupti_interface_->Subscribe( &subscriber_, (CUpti_CallbackFunc)ApiCallback, this)failed with error CUPTI_ERROR_NOT_INITIALIZED\n",
      "2023-07-12 14:10:27.928453: I tensorflow/core/profiler/lib/profiler_session.cc:172] Profiler session tear down.\n"
     ]
    },
    {
     "name": "stdout",
     "output_type": "stream",
     "text": [
      "[LOG] -- Val ACC Did Not Increase\n"
     ]
    },
    {
     "name": "stderr",
     "output_type": "stream",
     "text": [
      " 61%|██████████████████████████████████████████████████▎                               | 92/150 [20:23<12:02, 12.45s/it]2023-07-12 14:10:40.113188: I tensorflow/core/profiler/lib/profiler_session.cc:136] Profiler session initializing.\n",
      "2023-07-12 14:10:40.113203: I tensorflow/core/profiler/lib/profiler_session.cc:155] Profiler session started.\n",
      "2023-07-12 14:10:40.113235: E tensorflow/core/profiler/internal/gpu/cupti_tracer.cc:1415] function cupti_interface_->Subscribe( &subscriber_, (CUpti_CallbackFunc)ApiCallback, this)failed with error CUPTI_ERROR_NOT_INITIALIZED\n",
      "2023-07-12 14:10:40.113245: I tensorflow/core/profiler/lib/profiler_session.cc:172] Profiler session tear down.\n"
     ]
    },
    {
     "name": "stdout",
     "output_type": "stream",
     "text": [
      "[LOG] -- Val ACC Did Not Increase\n"
     ]
    },
    {
     "name": "stderr",
     "output_type": "stream",
     "text": [
      " 62%|██████████████████████████████████████████████████▊                               | 93/150 [20:36<11:46, 12.39s/it]2023-07-12 14:10:52.342849: I tensorflow/core/profiler/lib/profiler_session.cc:136] Profiler session initializing.\n",
      "2023-07-12 14:10:52.342865: I tensorflow/core/profiler/lib/profiler_session.cc:155] Profiler session started.\n",
      "2023-07-12 14:10:52.342895: E tensorflow/core/profiler/internal/gpu/cupti_tracer.cc:1415] function cupti_interface_->Subscribe( &subscriber_, (CUpti_CallbackFunc)ApiCallback, this)failed with error CUPTI_ERROR_NOT_INITIALIZED\n",
      "2023-07-12 14:10:52.342905: I tensorflow/core/profiler/lib/profiler_session.cc:172] Profiler session tear down.\n"
     ]
    },
    {
     "name": "stdout",
     "output_type": "stream",
     "text": [
      "[LOG] -- Val ACC Did Not Increase\n"
     ]
    },
    {
     "name": "stderr",
     "output_type": "stream",
     "text": [
      " 63%|███████████████████████████████████████████████████▍                              | 94/150 [20:48<11:30, 12.33s/it]2023-07-12 14:11:04.539330: I tensorflow/core/profiler/lib/profiler_session.cc:136] Profiler session initializing.\n",
      "2023-07-12 14:11:04.539345: I tensorflow/core/profiler/lib/profiler_session.cc:155] Profiler session started.\n",
      "2023-07-12 14:11:04.539376: E tensorflow/core/profiler/internal/gpu/cupti_tracer.cc:1415] function cupti_interface_->Subscribe( &subscriber_, (CUpti_CallbackFunc)ApiCallback, this)failed with error CUPTI_ERROR_NOT_INITIALIZED\n",
      "2023-07-12 14:11:04.539386: I tensorflow/core/profiler/lib/profiler_session.cc:172] Profiler session tear down.\n"
     ]
    },
    {
     "name": "stdout",
     "output_type": "stream",
     "text": [
      "[LOG] -- Val ACC Did Not Increase\n"
     ]
    },
    {
     "name": "stderr",
     "output_type": "stream",
     "text": [
      " 63%|███████████████████████████████████████████████████▉                              | 95/150 [21:00<11:15, 12.27s/it]2023-07-12 14:11:16.685472: I tensorflow/core/profiler/lib/profiler_session.cc:136] Profiler session initializing.\n",
      "2023-07-12 14:11:16.685486: I tensorflow/core/profiler/lib/profiler_session.cc:155] Profiler session started.\n",
      "2023-07-12 14:11:16.685517: E tensorflow/core/profiler/internal/gpu/cupti_tracer.cc:1415] function cupti_interface_->Subscribe( &subscriber_, (CUpti_CallbackFunc)ApiCallback, this)failed with error CUPTI_ERROR_NOT_INITIALIZED\n",
      "2023-07-12 14:11:16.685526: I tensorflow/core/profiler/lib/profiler_session.cc:172] Profiler session tear down.\n"
     ]
    },
    {
     "name": "stdout",
     "output_type": "stream",
     "text": [
      "[LOG] -- Val ACC Did Not Increase\n"
     ]
    },
    {
     "name": "stderr",
     "output_type": "stream",
     "text": [
      " 64%|████████████████████████████████████████████████████▍                             | 96/150 [21:12<11:01, 12.25s/it]2023-07-12 14:11:28.875682: I tensorflow/core/profiler/lib/profiler_session.cc:136] Profiler session initializing.\n",
      "2023-07-12 14:11:28.875696: I tensorflow/core/profiler/lib/profiler_session.cc:155] Profiler session started.\n",
      "2023-07-12 14:11:28.875727: E tensorflow/core/profiler/internal/gpu/cupti_tracer.cc:1415] function cupti_interface_->Subscribe( &subscriber_, (CUpti_CallbackFunc)ApiCallback, this)failed with error CUPTI_ERROR_NOT_INITIALIZED\n",
      "2023-07-12 14:11:28.875736: I tensorflow/core/profiler/lib/profiler_session.cc:172] Profiler session tear down.\n"
     ]
    },
    {
     "name": "stdout",
     "output_type": "stream",
     "text": [
      "[LOG] -- Val ACC Did Not Increase\n"
     ]
    },
    {
     "name": "stderr",
     "output_type": "stream",
     "text": [
      " 65%|█████████████████████████████████████████████████████                             | 97/150 [21:24<10:48, 12.23s/it]2023-07-12 14:11:41.076427: I tensorflow/core/profiler/lib/profiler_session.cc:136] Profiler session initializing.\n",
      "2023-07-12 14:11:41.076443: I tensorflow/core/profiler/lib/profiler_session.cc:155] Profiler session started.\n",
      "2023-07-12 14:11:41.076497: E tensorflow/core/profiler/internal/gpu/cupti_tracer.cc:1415] function cupti_interface_->Subscribe( &subscriber_, (CUpti_CallbackFunc)ApiCallback, this)failed with error CUPTI_ERROR_NOT_INITIALIZED\n",
      "2023-07-12 14:11:41.076508: I tensorflow/core/profiler/lib/profiler_session.cc:172] Profiler session tear down.\n"
     ]
    },
    {
     "name": "stdout",
     "output_type": "stream",
     "text": [
      "[LOG] -- VAL ACC INCREASED........... SAVING MDOEL 0.7372000217437744\n"
     ]
    },
    {
     "name": "stderr",
     "output_type": "stream",
     "text": [
      " 65%|█████████████████████████████████████████████████████▌                            | 98/150 [21:40<11:26, 13.21s/it]2023-07-12 14:11:56.559521: I tensorflow/core/profiler/lib/profiler_session.cc:136] Profiler session initializing.\n",
      "2023-07-12 14:11:56.559535: I tensorflow/core/profiler/lib/profiler_session.cc:155] Profiler session started.\n",
      "2023-07-12 14:11:56.559565: E tensorflow/core/profiler/internal/gpu/cupti_tracer.cc:1415] function cupti_interface_->Subscribe( &subscriber_, (CUpti_CallbackFunc)ApiCallback, this)failed with error CUPTI_ERROR_NOT_INITIALIZED\n",
      "2023-07-12 14:11:56.559575: I tensorflow/core/profiler/lib/profiler_session.cc:172] Profiler session tear down.\n"
     ]
    },
    {
     "name": "stdout",
     "output_type": "stream",
     "text": [
      "[LOG] -- Val ACC Did Not Increase\n"
     ]
    },
    {
     "name": "stderr",
     "output_type": "stream",
     "text": [
      " 66%|██████████████████████████████████████████████████████                            | 99/150 [21:52<10:58, 12.92s/it]2023-07-12 14:12:08.797741: I tensorflow/core/profiler/lib/profiler_session.cc:136] Profiler session initializing.\n",
      "2023-07-12 14:12:08.797756: I tensorflow/core/profiler/lib/profiler_session.cc:155] Profiler session started.\n",
      "2023-07-12 14:12:08.797786: E tensorflow/core/profiler/internal/gpu/cupti_tracer.cc:1415] function cupti_interface_->Subscribe( &subscriber_, (CUpti_CallbackFunc)ApiCallback, this)failed with error CUPTI_ERROR_NOT_INITIALIZED\n",
      "2023-07-12 14:12:08.797796: I tensorflow/core/profiler/lib/profiler_session.cc:172] Profiler session tear down.\n"
     ]
    },
    {
     "name": "stdout",
     "output_type": "stream",
     "text": [
      "[LOG] -- Val ACC Did Not Increase\n"
     ]
    },
    {
     "name": "stderr",
     "output_type": "stream",
     "text": [
      " 67%|██████████████████████████████████████████████████████                           | 100/150 [22:04<10:35, 12.70s/it]2023-07-12 14:12:20.994745: I tensorflow/core/profiler/lib/profiler_session.cc:136] Profiler session initializing.\n",
      "2023-07-12 14:12:20.994759: I tensorflow/core/profiler/lib/profiler_session.cc:155] Profiler session started.\n",
      "2023-07-12 14:12:20.994789: E tensorflow/core/profiler/internal/gpu/cupti_tracer.cc:1415] function cupti_interface_->Subscribe( &subscriber_, (CUpti_CallbackFunc)ApiCallback, this)failed with error CUPTI_ERROR_NOT_INITIALIZED\n",
      "2023-07-12 14:12:20.994799: I tensorflow/core/profiler/lib/profiler_session.cc:172] Profiler session tear down.\n"
     ]
    },
    {
     "name": "stdout",
     "output_type": "stream",
     "text": [
      "[LOG] -- Val ACC Did Not Increase\n"
     ]
    },
    {
     "name": "stderr",
     "output_type": "stream",
     "text": [
      " 67%|██████████████████████████████████████████████████████▌                          | 101/150 [22:16<10:14, 12.54s/it]2023-07-12 14:12:33.173366: I tensorflow/core/profiler/lib/profiler_session.cc:136] Profiler session initializing.\n",
      "2023-07-12 14:12:33.173381: I tensorflow/core/profiler/lib/profiler_session.cc:155] Profiler session started.\n",
      "2023-07-12 14:12:33.173412: E tensorflow/core/profiler/internal/gpu/cupti_tracer.cc:1415] function cupti_interface_->Subscribe( &subscriber_, (CUpti_CallbackFunc)ApiCallback, this)failed with error CUPTI_ERROR_NOT_INITIALIZED\n",
      "2023-07-12 14:12:33.173422: I tensorflow/core/profiler/lib/profiler_session.cc:172] Profiler session tear down.\n"
     ]
    },
    {
     "name": "stdout",
     "output_type": "stream",
     "text": [
      "[LOG] -- Val ACC Did Not Increase\n"
     ]
    },
    {
     "name": "stderr",
     "output_type": "stream",
     "text": [
      " 68%|███████████████████████████████████████████████████████                          | 102/150 [22:29<09:57, 12.44s/it]2023-07-12 14:12:45.366306: I tensorflow/core/profiler/lib/profiler_session.cc:136] Profiler session initializing.\n",
      "2023-07-12 14:12:45.366320: I tensorflow/core/profiler/lib/profiler_session.cc:155] Profiler session started.\n",
      "2023-07-12 14:12:45.366351: E tensorflow/core/profiler/internal/gpu/cupti_tracer.cc:1415] function cupti_interface_->Subscribe( &subscriber_, (CUpti_CallbackFunc)ApiCallback, this)failed with error CUPTI_ERROR_NOT_INITIALIZED\n",
      "2023-07-12 14:12:45.366360: I tensorflow/core/profiler/lib/profiler_session.cc:172] Profiler session tear down.\n"
     ]
    },
    {
     "name": "stdout",
     "output_type": "stream",
     "text": [
      "[LOG] -- Val ACC Did Not Increase\n"
     ]
    },
    {
     "name": "stderr",
     "output_type": "stream",
     "text": [
      " 69%|███████████████████████████████████████████████████████▌                         | 103/150 [22:41<09:40, 12.36s/it]2023-07-12 14:12:57.526419: I tensorflow/core/profiler/lib/profiler_session.cc:136] Profiler session initializing.\n",
      "2023-07-12 14:12:57.526434: I tensorflow/core/profiler/lib/profiler_session.cc:155] Profiler session started.\n",
      "2023-07-12 14:12:57.526466: E tensorflow/core/profiler/internal/gpu/cupti_tracer.cc:1415] function cupti_interface_->Subscribe( &subscriber_, (CUpti_CallbackFunc)ApiCallback, this)failed with error CUPTI_ERROR_NOT_INITIALIZED\n",
      "2023-07-12 14:12:57.526476: I tensorflow/core/profiler/lib/profiler_session.cc:172] Profiler session tear down.\n"
     ]
    },
    {
     "name": "stdout",
     "output_type": "stream",
     "text": [
      "[LOG] -- VAL ACC INCREASED........... SAVING MDOEL 0.7386000156402588\n"
     ]
    },
    {
     "name": "stderr",
     "output_type": "stream",
     "text": [
      " 69%|████████████████████████████████████████████████████████▏                        | 104/150 [22:56<10:11, 13.30s/it]2023-07-12 14:13:13.033893: I tensorflow/core/profiler/lib/profiler_session.cc:136] Profiler session initializing.\n",
      "2023-07-12 14:13:13.033908: I tensorflow/core/profiler/lib/profiler_session.cc:155] Profiler session started.\n",
      "2023-07-12 14:13:13.033938: E tensorflow/core/profiler/internal/gpu/cupti_tracer.cc:1415] function cupti_interface_->Subscribe( &subscriber_, (CUpti_CallbackFunc)ApiCallback, this)failed with error CUPTI_ERROR_NOT_INITIALIZED\n",
      "2023-07-12 14:13:13.033948: I tensorflow/core/profiler/lib/profiler_session.cc:172] Profiler session tear down.\n"
     ]
    },
    {
     "name": "stdout",
     "output_type": "stream",
     "text": [
      "[LOG] -- Val ACC Did Not Increase\n"
     ]
    },
    {
     "name": "stderr",
     "output_type": "stream",
     "text": [
      " 70%|████████████████████████████████████████████████████████▋                        | 105/150 [23:08<09:43, 12.97s/it]2023-07-12 14:13:25.233240: I tensorflow/core/profiler/lib/profiler_session.cc:136] Profiler session initializing.\n",
      "2023-07-12 14:13:25.233254: I tensorflow/core/profiler/lib/profiler_session.cc:155] Profiler session started.\n",
      "2023-07-12 14:13:25.233284: E tensorflow/core/profiler/internal/gpu/cupti_tracer.cc:1415] function cupti_interface_->Subscribe( &subscriber_, (CUpti_CallbackFunc)ApiCallback, this)failed with error CUPTI_ERROR_NOT_INITIALIZED\n",
      "2023-07-12 14:13:25.233293: I tensorflow/core/profiler/lib/profiler_session.cc:172] Profiler session tear down.\n"
     ]
    },
    {
     "name": "stdout",
     "output_type": "stream",
     "text": [
      "[LOG] -- VAL ACC INCREASED........... SAVING MDOEL 0.7429999709129333\n"
     ]
    },
    {
     "name": "stderr",
     "output_type": "stream",
     "text": [
      " 71%|█████████████████████████████████████████████████████████▏                       | 106/150 [23:24<10:07, 13.80s/it]2023-07-12 14:13:40.953863: I tensorflow/core/profiler/lib/profiler_session.cc:136] Profiler session initializing.\n",
      "2023-07-12 14:13:40.953877: I tensorflow/core/profiler/lib/profiler_session.cc:155] Profiler session started.\n",
      "2023-07-12 14:13:40.953907: E tensorflow/core/profiler/internal/gpu/cupti_tracer.cc:1415] function cupti_interface_->Subscribe( &subscriber_, (CUpti_CallbackFunc)ApiCallback, this)failed with error CUPTI_ERROR_NOT_INITIALIZED\n",
      "2023-07-12 14:13:40.953917: I tensorflow/core/profiler/lib/profiler_session.cc:172] Profiler session tear down.\n"
     ]
    },
    {
     "name": "stdout",
     "output_type": "stream",
     "text": [
      "[LOG] -- VAL ACC INCREASED........... SAVING MDOEL 0.7454000115394592\n"
     ]
    },
    {
     "name": "stderr",
     "output_type": "stream",
     "text": [
      " 71%|█████████████████████████████████████████████████████████▊                       | 107/150 [23:40<10:19, 14.40s/it]2023-07-12 14:13:56.761779: I tensorflow/core/profiler/lib/profiler_session.cc:136] Profiler session initializing.\n",
      "2023-07-12 14:13:56.761795: I tensorflow/core/profiler/lib/profiler_session.cc:155] Profiler session started.\n",
      "2023-07-12 14:13:56.761824: E tensorflow/core/profiler/internal/gpu/cupti_tracer.cc:1415] function cupti_interface_->Subscribe( &subscriber_, (CUpti_CallbackFunc)ApiCallback, this)failed with error CUPTI_ERROR_NOT_INITIALIZED\n",
      "2023-07-12 14:13:56.761834: I tensorflow/core/profiler/lib/profiler_session.cc:172] Profiler session tear down.\n"
     ]
    },
    {
     "name": "stdout",
     "output_type": "stream",
     "text": [
      "[LOG] -- Val ACC Did Not Increase\n"
     ]
    },
    {
     "name": "stderr",
     "output_type": "stream",
     "text": [
      " 72%|██████████████████████████████████████████████████████████▎                      | 108/150 [23:52<09:36, 13.73s/it]2023-07-12 14:14:08.946131: I tensorflow/core/profiler/lib/profiler_session.cc:136] Profiler session initializing.\n",
      "2023-07-12 14:14:08.946145: I tensorflow/core/profiler/lib/profiler_session.cc:155] Profiler session started.\n",
      "2023-07-12 14:14:08.946176: E tensorflow/core/profiler/internal/gpu/cupti_tracer.cc:1415] function cupti_interface_->Subscribe( &subscriber_, (CUpti_CallbackFunc)ApiCallback, this)failed with error CUPTI_ERROR_NOT_INITIALIZED\n",
      "2023-07-12 14:14:08.946186: I tensorflow/core/profiler/lib/profiler_session.cc:172] Profiler session tear down.\n"
     ]
    },
    {
     "name": "stdout",
     "output_type": "stream",
     "text": [
      "[LOG] -- Val ACC Did Not Increase\n"
     ]
    },
    {
     "name": "stderr",
     "output_type": "stream",
     "text": [
      " 73%|██████████████████████████████████████████████████████████▊                      | 109/150 [24:04<09:03, 13.26s/it]2023-07-12 14:14:21.099295: I tensorflow/core/profiler/lib/profiler_session.cc:136] Profiler session initializing.\n",
      "2023-07-12 14:14:21.099309: I tensorflow/core/profiler/lib/profiler_session.cc:155] Profiler session started.\n",
      "2023-07-12 14:14:21.099340: E tensorflow/core/profiler/internal/gpu/cupti_tracer.cc:1415] function cupti_interface_->Subscribe( &subscriber_, (CUpti_CallbackFunc)ApiCallback, this)failed with error CUPTI_ERROR_NOT_INITIALIZED\n",
      "2023-07-12 14:14:21.099350: I tensorflow/core/profiler/lib/profiler_session.cc:172] Profiler session tear down.\n"
     ]
    },
    {
     "name": "stdout",
     "output_type": "stream",
     "text": [
      "[LOG] -- Val ACC Did Not Increase\n"
     ]
    },
    {
     "name": "stderr",
     "output_type": "stream",
     "text": [
      " 73%|███████████████████████████████████████████████████████████▍                     | 110/150 [24:16<08:37, 12.93s/it]2023-07-12 14:14:33.266566: I tensorflow/core/profiler/lib/profiler_session.cc:136] Profiler session initializing.\n",
      "2023-07-12 14:14:33.266581: I tensorflow/core/profiler/lib/profiler_session.cc:155] Profiler session started.\n",
      "2023-07-12 14:14:33.266610: E tensorflow/core/profiler/internal/gpu/cupti_tracer.cc:1415] function cupti_interface_->Subscribe( &subscriber_, (CUpti_CallbackFunc)ApiCallback, this)failed with error CUPTI_ERROR_NOT_INITIALIZED\n",
      "2023-07-12 14:14:33.266620: I tensorflow/core/profiler/lib/profiler_session.cc:172] Profiler session tear down.\n"
     ]
    },
    {
     "name": "stdout",
     "output_type": "stream",
     "text": [
      "[LOG] -- Val ACC Did Not Increase\n"
     ]
    },
    {
     "name": "stderr",
     "output_type": "stream",
     "text": [
      " 74%|███████████████████████████████████████████████████████████▉                     | 111/150 [24:29<08:15, 12.71s/it]2023-07-12 14:14:45.453264: I tensorflow/core/profiler/lib/profiler_session.cc:136] Profiler session initializing.\n",
      "2023-07-12 14:14:45.453279: I tensorflow/core/profiler/lib/profiler_session.cc:155] Profiler session started.\n",
      "2023-07-12 14:14:45.453310: E tensorflow/core/profiler/internal/gpu/cupti_tracer.cc:1415] function cupti_interface_->Subscribe( &subscriber_, (CUpti_CallbackFunc)ApiCallback, this)failed with error CUPTI_ERROR_NOT_INITIALIZED\n",
      "2023-07-12 14:14:45.453320: I tensorflow/core/profiler/lib/profiler_session.cc:172] Profiler session tear down.\n"
     ]
    },
    {
     "name": "stdout",
     "output_type": "stream",
     "text": [
      "[LOG] -- Val ACC Did Not Increase\n"
     ]
    },
    {
     "name": "stderr",
     "output_type": "stream",
     "text": [
      " 75%|████████████████████████████████████████████████████████████▍                    | 112/150 [24:41<07:56, 12.55s/it]2023-07-12 14:14:57.620308: I tensorflow/core/profiler/lib/profiler_session.cc:136] Profiler session initializing.\n",
      "2023-07-12 14:14:57.620322: I tensorflow/core/profiler/lib/profiler_session.cc:155] Profiler session started.\n",
      "2023-07-12 14:14:57.620350: E tensorflow/core/profiler/internal/gpu/cupti_tracer.cc:1415] function cupti_interface_->Subscribe( &subscriber_, (CUpti_CallbackFunc)ApiCallback, this)failed with error CUPTI_ERROR_NOT_INITIALIZED\n",
      "2023-07-12 14:14:57.620359: I tensorflow/core/profiler/lib/profiler_session.cc:172] Profiler session tear down.\n"
     ]
    },
    {
     "name": "stdout",
     "output_type": "stream",
     "text": [
      "[LOG] -- Val ACC Did Not Increase\n"
     ]
    },
    {
     "name": "stderr",
     "output_type": "stream",
     "text": [
      " 75%|█████████████████████████████████████████████████████████████                    | 113/150 [24:53<07:39, 12.43s/it]2023-07-12 14:15:09.784783: I tensorflow/core/profiler/lib/profiler_session.cc:136] Profiler session initializing.\n",
      "2023-07-12 14:15:09.784798: I tensorflow/core/profiler/lib/profiler_session.cc:155] Profiler session started.\n",
      "2023-07-12 14:15:09.784827: E tensorflow/core/profiler/internal/gpu/cupti_tracer.cc:1415] function cupti_interface_->Subscribe( &subscriber_, (CUpti_CallbackFunc)ApiCallback, this)failed with error CUPTI_ERROR_NOT_INITIALIZED\n",
      "2023-07-12 14:15:09.784837: I tensorflow/core/profiler/lib/profiler_session.cc:172] Profiler session tear down.\n"
     ]
    },
    {
     "name": "stdout",
     "output_type": "stream",
     "text": [
      "[LOG] -- Val ACC Did Not Increase\n"
     ]
    },
    {
     "name": "stderr",
     "output_type": "stream",
     "text": [
      " 76%|█████████████████████████████████████████████████████████████▌                   | 114/150 [25:05<07:24, 12.35s/it]2023-07-12 14:15:21.958054: I tensorflow/core/profiler/lib/profiler_session.cc:136] Profiler session initializing.\n",
      "2023-07-12 14:15:21.958069: I tensorflow/core/profiler/lib/profiler_session.cc:155] Profiler session started.\n",
      "2023-07-12 14:15:21.958100: E tensorflow/core/profiler/internal/gpu/cupti_tracer.cc:1415] function cupti_interface_->Subscribe( &subscriber_, (CUpti_CallbackFunc)ApiCallback, this)failed with error CUPTI_ERROR_NOT_INITIALIZED\n",
      "2023-07-12 14:15:21.958110: I tensorflow/core/profiler/lib/profiler_session.cc:172] Profiler session tear down.\n"
     ]
    },
    {
     "name": "stdout",
     "output_type": "stream",
     "text": [
      "[LOG] -- Val ACC Did Not Increase\n"
     ]
    },
    {
     "name": "stderr",
     "output_type": "stream",
     "text": [
      " 77%|██████████████████████████████████████████████████████████████                   | 115/150 [25:17<07:10, 12.31s/it]2023-07-12 14:15:34.161713: I tensorflow/core/profiler/lib/profiler_session.cc:136] Profiler session initializing.\n",
      "2023-07-12 14:15:34.161728: I tensorflow/core/profiler/lib/profiler_session.cc:155] Profiler session started.\n",
      "2023-07-12 14:15:34.161757: E tensorflow/core/profiler/internal/gpu/cupti_tracer.cc:1415] function cupti_interface_->Subscribe( &subscriber_, (CUpti_CallbackFunc)ApiCallback, this)failed with error CUPTI_ERROR_NOT_INITIALIZED\n",
      "2023-07-12 14:15:34.161767: I tensorflow/core/profiler/lib/profiler_session.cc:172] Profiler session tear down.\n"
     ]
    },
    {
     "name": "stdout",
     "output_type": "stream",
     "text": [
      "[LOG] -- Val ACC Did Not Increase\n"
     ]
    },
    {
     "name": "stderr",
     "output_type": "stream",
     "text": [
      " 77%|██████████████████████████████████████████████████████████████▋                  | 116/150 [25:30<06:57, 12.27s/it]2023-07-12 14:15:46.338454: I tensorflow/core/profiler/lib/profiler_session.cc:136] Profiler session initializing.\n",
      "2023-07-12 14:15:46.338469: I tensorflow/core/profiler/lib/profiler_session.cc:155] Profiler session started.\n",
      "2023-07-12 14:15:46.338499: E tensorflow/core/profiler/internal/gpu/cupti_tracer.cc:1415] function cupti_interface_->Subscribe( &subscriber_, (CUpti_CallbackFunc)ApiCallback, this)failed with error CUPTI_ERROR_NOT_INITIALIZED\n",
      "2023-07-12 14:15:46.338508: I tensorflow/core/profiler/lib/profiler_session.cc:172] Profiler session tear down.\n"
     ]
    },
    {
     "name": "stdout",
     "output_type": "stream",
     "text": [
      "[LOG] -- Val ACC Did Not Increase\n"
     ]
    },
    {
     "name": "stderr",
     "output_type": "stream",
     "text": [
      " 78%|███████████████████████████████████████████████████████████████▏                 | 117/150 [25:42<06:43, 12.24s/it]2023-07-12 14:15:58.511496: I tensorflow/core/profiler/lib/profiler_session.cc:136] Profiler session initializing.\n",
      "2023-07-12 14:15:58.511511: I tensorflow/core/profiler/lib/profiler_session.cc:155] Profiler session started.\n",
      "2023-07-12 14:15:58.511542: E tensorflow/core/profiler/internal/gpu/cupti_tracer.cc:1415] function cupti_interface_->Subscribe( &subscriber_, (CUpti_CallbackFunc)ApiCallback, this)failed with error CUPTI_ERROR_NOT_INITIALIZED\n",
      "2023-07-12 14:15:58.511552: I tensorflow/core/profiler/lib/profiler_session.cc:172] Profiler session tear down.\n"
     ]
    },
    {
     "name": "stdout",
     "output_type": "stream",
     "text": [
      "[LOG] -- VAL ACC INCREASED........... SAVING MDOEL 0.7476000189781189\n"
     ]
    },
    {
     "name": "stderr",
     "output_type": "stream",
     "text": [
      " 79%|███████████████████████████████████████████████████████████████▋                 | 118/150 [25:57<07:05, 13.29s/it]2023-07-12 14:16:14.251722: I tensorflow/core/profiler/lib/profiler_session.cc:136] Profiler session initializing.\n",
      "2023-07-12 14:16:14.251737: I tensorflow/core/profiler/lib/profiler_session.cc:155] Profiler session started.\n",
      "2023-07-12 14:16:14.251767: E tensorflow/core/profiler/internal/gpu/cupti_tracer.cc:1415] function cupti_interface_->Subscribe( &subscriber_, (CUpti_CallbackFunc)ApiCallback, this)failed with error CUPTI_ERROR_NOT_INITIALIZED\n",
      "2023-07-12 14:16:14.251776: I tensorflow/core/profiler/lib/profiler_session.cc:172] Profiler session tear down.\n"
     ]
    },
    {
     "name": "stdout",
     "output_type": "stream",
     "text": [
      "[LOG] -- Val ACC Did Not Increase\n"
     ]
    },
    {
     "name": "stderr",
     "output_type": "stream",
     "text": [
      " 79%|████████████████████████████████████████████████████████████████▎                | 119/150 [26:10<06:42, 12.97s/it]2023-07-12 14:16:26.483053: I tensorflow/core/profiler/lib/profiler_session.cc:136] Profiler session initializing.\n",
      "2023-07-12 14:16:26.483068: I tensorflow/core/profiler/lib/profiler_session.cc:155] Profiler session started.\n",
      "2023-07-12 14:16:26.483100: E tensorflow/core/profiler/internal/gpu/cupti_tracer.cc:1415] function cupti_interface_->Subscribe( &subscriber_, (CUpti_CallbackFunc)ApiCallback, this)failed with error CUPTI_ERROR_NOT_INITIALIZED\n",
      "2023-07-12 14:16:26.483110: I tensorflow/core/profiler/lib/profiler_session.cc:172] Profiler session tear down.\n"
     ]
    },
    {
     "name": "stdout",
     "output_type": "stream",
     "text": [
      "[LOG] -- Val ACC Did Not Increase\n"
     ]
    },
    {
     "name": "stderr",
     "output_type": "stream",
     "text": [
      " 80%|████████████████████████████████████████████████████████████████▊                | 120/150 [26:22<06:21, 12.73s/it]2023-07-12 14:16:38.645258: I tensorflow/core/profiler/lib/profiler_session.cc:136] Profiler session initializing.\n",
      "2023-07-12 14:16:38.645272: I tensorflow/core/profiler/lib/profiler_session.cc:155] Profiler session started.\n",
      "2023-07-12 14:16:38.645301: E tensorflow/core/profiler/internal/gpu/cupti_tracer.cc:1415] function cupti_interface_->Subscribe( &subscriber_, (CUpti_CallbackFunc)ApiCallback, this)failed with error CUPTI_ERROR_NOT_INITIALIZED\n",
      "2023-07-12 14:16:38.645311: I tensorflow/core/profiler/lib/profiler_session.cc:172] Profiler session tear down.\n"
     ]
    },
    {
     "name": "stdout",
     "output_type": "stream",
     "text": [
      "[LOG] -- VAL ACC INCREASED........... SAVING MDOEL 0.7534000277519226\n"
     ]
    },
    {
     "name": "stderr",
     "output_type": "stream",
     "text": [
      " 81%|█████████████████████████████████████████████████████████████████▎               | 121/150 [26:38<06:35, 13.64s/it]2023-07-12 14:16:54.394531: I tensorflow/core/profiler/lib/profiler_session.cc:136] Profiler session initializing.\n",
      "2023-07-12 14:16:54.394545: I tensorflow/core/profiler/lib/profiler_session.cc:155] Profiler session started.\n",
      "2023-07-12 14:16:54.394576: E tensorflow/core/profiler/internal/gpu/cupti_tracer.cc:1415] function cupti_interface_->Subscribe( &subscriber_, (CUpti_CallbackFunc)ApiCallback, this)failed with error CUPTI_ERROR_NOT_INITIALIZED\n",
      "2023-07-12 14:16:54.394585: I tensorflow/core/profiler/lib/profiler_session.cc:172] Profiler session tear down.\n"
     ]
    },
    {
     "name": "stdout",
     "output_type": "stream",
     "text": [
      "[LOG] -- Val ACC Did Not Increase\n"
     ]
    },
    {
     "name": "stderr",
     "output_type": "stream",
     "text": [
      " 81%|█████████████████████████████████████████████████████████████████▉               | 122/150 [26:50<06:09, 13.20s/it]2023-07-12 14:17:06.563709: I tensorflow/core/profiler/lib/profiler_session.cc:136] Profiler session initializing.\n",
      "2023-07-12 14:17:06.563723: I tensorflow/core/profiler/lib/profiler_session.cc:155] Profiler session started.\n",
      "2023-07-12 14:17:06.563754: E tensorflow/core/profiler/internal/gpu/cupti_tracer.cc:1415] function cupti_interface_->Subscribe( &subscriber_, (CUpti_CallbackFunc)ApiCallback, this)failed with error CUPTI_ERROR_NOT_INITIALIZED\n",
      "2023-07-12 14:17:06.563763: I tensorflow/core/profiler/lib/profiler_session.cc:172] Profiler session tear down.\n"
     ]
    },
    {
     "name": "stdout",
     "output_type": "stream",
     "text": [
      "[LOG] -- Val ACC Did Not Increase\n"
     ]
    },
    {
     "name": "stderr",
     "output_type": "stream",
     "text": [
      " 82%|██████████████████████████████████████████████████████████████████▍              | 123/150 [27:02<05:47, 12.89s/it]2023-07-12 14:17:18.735905: I tensorflow/core/profiler/lib/profiler_session.cc:136] Profiler session initializing.\n",
      "2023-07-12 14:17:18.735920: I tensorflow/core/profiler/lib/profiler_session.cc:155] Profiler session started.\n",
      "2023-07-12 14:17:18.735951: E tensorflow/core/profiler/internal/gpu/cupti_tracer.cc:1415] function cupti_interface_->Subscribe( &subscriber_, (CUpti_CallbackFunc)ApiCallback, this)failed with error CUPTI_ERROR_NOT_INITIALIZED\n",
      "2023-07-12 14:17:18.735961: I tensorflow/core/profiler/lib/profiler_session.cc:172] Profiler session tear down.\n"
     ]
    },
    {
     "name": "stdout",
     "output_type": "stream",
     "text": [
      "[LOG] -- Val ACC Did Not Increase\n"
     ]
    },
    {
     "name": "stderr",
     "output_type": "stream",
     "text": [
      " 83%|██████████████████████████████████████████████████████████████████▉              | 124/150 [27:14<05:29, 12.67s/it]2023-07-12 14:17:30.906759: I tensorflow/core/profiler/lib/profiler_session.cc:136] Profiler session initializing.\n",
      "2023-07-12 14:17:30.906773: I tensorflow/core/profiler/lib/profiler_session.cc:155] Profiler session started.\n",
      "2023-07-12 14:17:30.906805: E tensorflow/core/profiler/internal/gpu/cupti_tracer.cc:1415] function cupti_interface_->Subscribe( &subscriber_, (CUpti_CallbackFunc)ApiCallback, this)failed with error CUPTI_ERROR_NOT_INITIALIZED\n",
      "2023-07-12 14:17:30.906815: I tensorflow/core/profiler/lib/profiler_session.cc:172] Profiler session tear down.\n"
     ]
    },
    {
     "name": "stdout",
     "output_type": "stream",
     "text": [
      "[LOG] -- Val ACC Did Not Increase\n"
     ]
    },
    {
     "name": "stderr",
     "output_type": "stream",
     "text": [
      " 83%|███████████████████████████████████████████████████████████████████▌             | 125/150 [27:26<05:13, 12.52s/it]2023-07-12 14:17:43.082234: I tensorflow/core/profiler/lib/profiler_session.cc:136] Profiler session initializing.\n",
      "2023-07-12 14:17:43.082248: I tensorflow/core/profiler/lib/profiler_session.cc:155] Profiler session started.\n",
      "2023-07-12 14:17:43.082279: E tensorflow/core/profiler/internal/gpu/cupti_tracer.cc:1415] function cupti_interface_->Subscribe( &subscriber_, (CUpti_CallbackFunc)ApiCallback, this)failed with error CUPTI_ERROR_NOT_INITIALIZED\n",
      "2023-07-12 14:17:43.082288: I tensorflow/core/profiler/lib/profiler_session.cc:172] Profiler session tear down.\n"
     ]
    },
    {
     "name": "stdout",
     "output_type": "stream",
     "text": [
      "[LOG] -- Val ACC Did Not Increase\n"
     ]
    },
    {
     "name": "stderr",
     "output_type": "stream",
     "text": [
      " 84%|████████████████████████████████████████████████████████████████████             | 126/150 [27:38<04:58, 12.42s/it]2023-07-12 14:17:55.250878: I tensorflow/core/profiler/lib/profiler_session.cc:136] Profiler session initializing.\n",
      "2023-07-12 14:17:55.250894: I tensorflow/core/profiler/lib/profiler_session.cc:155] Profiler session started.\n",
      "2023-07-12 14:17:55.250925: E tensorflow/core/profiler/internal/gpu/cupti_tracer.cc:1415] function cupti_interface_->Subscribe( &subscriber_, (CUpti_CallbackFunc)ApiCallback, this)failed with error CUPTI_ERROR_NOT_INITIALIZED\n",
      "2023-07-12 14:17:55.250935: I tensorflow/core/profiler/lib/profiler_session.cc:172] Profiler session tear down.\n"
     ]
    },
    {
     "name": "stdout",
     "output_type": "stream",
     "text": [
      "[LOG] -- Val ACC Did Not Increase\n"
     ]
    },
    {
     "name": "stderr",
     "output_type": "stream",
     "text": [
      " 85%|████████████████████████████████████████████████████████████████████▌            | 127/150 [27:51<04:44, 12.35s/it]2023-07-12 14:18:07.456879: I tensorflow/core/profiler/lib/profiler_session.cc:136] Profiler session initializing.\n",
      "2023-07-12 14:18:07.456894: I tensorflow/core/profiler/lib/profiler_session.cc:155] Profiler session started.\n",
      "2023-07-12 14:18:07.456924: E tensorflow/core/profiler/internal/gpu/cupti_tracer.cc:1415] function cupti_interface_->Subscribe( &subscriber_, (CUpti_CallbackFunc)ApiCallback, this)failed with error CUPTI_ERROR_NOT_INITIALIZED\n",
      "2023-07-12 14:18:07.456934: I tensorflow/core/profiler/lib/profiler_session.cc:172] Profiler session tear down.\n"
     ]
    },
    {
     "name": "stdout",
     "output_type": "stream",
     "text": [
      "[LOG] -- Val ACC Did Not Increase\n"
     ]
    },
    {
     "name": "stderr",
     "output_type": "stream",
     "text": [
      " 85%|█████████████████████████████████████████████████████████████████████            | 128/150 [28:03<04:30, 12.30s/it]2023-07-12 14:18:19.641578: I tensorflow/core/profiler/lib/profiler_session.cc:136] Profiler session initializing.\n",
      "2023-07-12 14:18:19.641593: I tensorflow/core/profiler/lib/profiler_session.cc:155] Profiler session started.\n",
      "2023-07-12 14:18:19.641623: E tensorflow/core/profiler/internal/gpu/cupti_tracer.cc:1415] function cupti_interface_->Subscribe( &subscriber_, (CUpti_CallbackFunc)ApiCallback, this)failed with error CUPTI_ERROR_NOT_INITIALIZED\n",
      "2023-07-12 14:18:19.641632: I tensorflow/core/profiler/lib/profiler_session.cc:172] Profiler session tear down.\n"
     ]
    },
    {
     "name": "stdout",
     "output_type": "stream",
     "text": [
      "[LOG] -- VAL ACC INCREASED........... SAVING MDOEL 0.7599999904632568\n"
     ]
    },
    {
     "name": "stderr",
     "output_type": "stream",
     "text": [
      " 86%|█████████████████████████████████████████████████████████████████████▋           | 129/150 [28:19<04:40, 13.35s/it]2023-07-12 14:18:35.428025: I tensorflow/core/profiler/lib/profiler_session.cc:136] Profiler session initializing.\n",
      "2023-07-12 14:18:35.428039: I tensorflow/core/profiler/lib/profiler_session.cc:155] Profiler session started.\n",
      "2023-07-12 14:18:35.428070: E tensorflow/core/profiler/internal/gpu/cupti_tracer.cc:1415] function cupti_interface_->Subscribe( &subscriber_, (CUpti_CallbackFunc)ApiCallback, this)failed with error CUPTI_ERROR_NOT_INITIALIZED\n",
      "2023-07-12 14:18:35.428080: I tensorflow/core/profiler/lib/profiler_session.cc:172] Profiler session tear down.\n"
     ]
    },
    {
     "name": "stdout",
     "output_type": "stream",
     "text": [
      "[LOG] -- Val ACC Did Not Increase\n"
     ]
    },
    {
     "name": "stderr",
     "output_type": "stream",
     "text": [
      " 87%|██████████████████████████████████████████████████████████████████████▏          | 130/150 [28:31<04:20, 13.00s/it]2023-07-12 14:18:47.630447: I tensorflow/core/profiler/lib/profiler_session.cc:136] Profiler session initializing.\n",
      "2023-07-12 14:18:47.630462: I tensorflow/core/profiler/lib/profiler_session.cc:155] Profiler session started.\n",
      "2023-07-12 14:18:47.630492: E tensorflow/core/profiler/internal/gpu/cupti_tracer.cc:1415] function cupti_interface_->Subscribe( &subscriber_, (CUpti_CallbackFunc)ApiCallback, this)failed with error CUPTI_ERROR_NOT_INITIALIZED\n",
      "2023-07-12 14:18:47.630501: I tensorflow/core/profiler/lib/profiler_session.cc:172] Profiler session tear down.\n"
     ]
    },
    {
     "name": "stdout",
     "output_type": "stream",
     "text": [
      "[LOG] -- Val ACC Did Not Increase\n"
     ]
    },
    {
     "name": "stderr",
     "output_type": "stream",
     "text": [
      " 87%|██████████████████████████████████████████████████████████████████████▋          | 131/150 [28:43<04:02, 12.75s/it]2023-07-12 14:18:59.799057: I tensorflow/core/profiler/lib/profiler_session.cc:136] Profiler session initializing.\n",
      "2023-07-12 14:18:59.799072: I tensorflow/core/profiler/lib/profiler_session.cc:155] Profiler session started.\n",
      "2023-07-12 14:18:59.799103: E tensorflow/core/profiler/internal/gpu/cupti_tracer.cc:1415] function cupti_interface_->Subscribe( &subscriber_, (CUpti_CallbackFunc)ApiCallback, this)failed with error CUPTI_ERROR_NOT_INITIALIZED\n",
      "2023-07-12 14:18:59.799113: I tensorflow/core/profiler/lib/profiler_session.cc:172] Profiler session tear down.\n"
     ]
    },
    {
     "name": "stdout",
     "output_type": "stream",
     "text": [
      "[LOG] -- Val ACC Did Not Increase\n"
     ]
    },
    {
     "name": "stderr",
     "output_type": "stream",
     "text": [
      " 88%|███████████████████████████████████████████████████████████████████████▎         | 132/150 [28:55<03:46, 12.60s/it]2023-07-12 14:19:12.025962: I tensorflow/core/profiler/lib/profiler_session.cc:136] Profiler session initializing.\n",
      "2023-07-12 14:19:12.025978: I tensorflow/core/profiler/lib/profiler_session.cc:155] Profiler session started.\n",
      "2023-07-12 14:19:12.026009: E tensorflow/core/profiler/internal/gpu/cupti_tracer.cc:1415] function cupti_interface_->Subscribe( &subscriber_, (CUpti_CallbackFunc)ApiCallback, this)failed with error CUPTI_ERROR_NOT_INITIALIZED\n",
      "2023-07-12 14:19:12.026019: I tensorflow/core/profiler/lib/profiler_session.cc:172] Profiler session tear down.\n"
     ]
    },
    {
     "name": "stdout",
     "output_type": "stream",
     "text": [
      "[LOG] -- Val ACC Did Not Increase\n"
     ]
    },
    {
     "name": "stderr",
     "output_type": "stream",
     "text": [
      " 89%|███████████████████████████████████████████████████████████████████████▊         | 133/150 [29:07<03:32, 12.48s/it]2023-07-12 14:19:24.235899: I tensorflow/core/profiler/lib/profiler_session.cc:136] Profiler session initializing.\n",
      "2023-07-12 14:19:24.235914: I tensorflow/core/profiler/lib/profiler_session.cc:155] Profiler session started.\n",
      "2023-07-12 14:19:24.235946: E tensorflow/core/profiler/internal/gpu/cupti_tracer.cc:1415] function cupti_interface_->Subscribe( &subscriber_, (CUpti_CallbackFunc)ApiCallback, this)failed with error CUPTI_ERROR_NOT_INITIALIZED\n",
      "2023-07-12 14:19:24.235956: I tensorflow/core/profiler/lib/profiler_session.cc:172] Profiler session tear down.\n"
     ]
    },
    {
     "name": "stdout",
     "output_type": "stream",
     "text": [
      "[LOG] -- Val ACC Did Not Increase\n"
     ]
    },
    {
     "name": "stderr",
     "output_type": "stream",
     "text": [
      " 89%|████████████████████████████████████████████████████████████████████████▎        | 134/150 [29:20<03:18, 12.39s/it]2023-07-12 14:19:36.405215: I tensorflow/core/profiler/lib/profiler_session.cc:136] Profiler session initializing.\n",
      "2023-07-12 14:19:36.405230: I tensorflow/core/profiler/lib/profiler_session.cc:155] Profiler session started.\n",
      "2023-07-12 14:19:36.405259: E tensorflow/core/profiler/internal/gpu/cupti_tracer.cc:1415] function cupti_interface_->Subscribe( &subscriber_, (CUpti_CallbackFunc)ApiCallback, this)failed with error CUPTI_ERROR_NOT_INITIALIZED\n",
      "2023-07-12 14:19:36.405269: I tensorflow/core/profiler/lib/profiler_session.cc:172] Profiler session tear down.\n"
     ]
    },
    {
     "name": "stdout",
     "output_type": "stream",
     "text": [
      "[LOG] -- Val ACC Did Not Increase\n"
     ]
    },
    {
     "name": "stderr",
     "output_type": "stream",
     "text": [
      " 90%|████████████████████████████████████████████████████████████████████████▉        | 135/150 [29:32<03:04, 12.33s/it]2023-07-12 14:19:48.589382: I tensorflow/core/profiler/lib/profiler_session.cc:136] Profiler session initializing.\n",
      "2023-07-12 14:19:48.589396: I tensorflow/core/profiler/lib/profiler_session.cc:155] Profiler session started.\n",
      "2023-07-12 14:19:48.589427: E tensorflow/core/profiler/internal/gpu/cupti_tracer.cc:1415] function cupti_interface_->Subscribe( &subscriber_, (CUpti_CallbackFunc)ApiCallback, this)failed with error CUPTI_ERROR_NOT_INITIALIZED\n",
      "2023-07-12 14:19:48.589437: I tensorflow/core/profiler/lib/profiler_session.cc:172] Profiler session tear down.\n"
     ]
    },
    {
     "name": "stdout",
     "output_type": "stream",
     "text": [
      "[LOG] -- Val ACC Did Not Increase\n"
     ]
    },
    {
     "name": "stderr",
     "output_type": "stream",
     "text": [
      " 91%|█████████████████████████████████████████████████████████████████████████▍       | 136/150 [29:44<02:52, 12.30s/it]2023-07-12 14:20:00.812310: I tensorflow/core/profiler/lib/profiler_session.cc:136] Profiler session initializing.\n",
      "2023-07-12 14:20:00.812325: I tensorflow/core/profiler/lib/profiler_session.cc:155] Profiler session started.\n",
      "2023-07-12 14:20:00.812356: E tensorflow/core/profiler/internal/gpu/cupti_tracer.cc:1415] function cupti_interface_->Subscribe( &subscriber_, (CUpti_CallbackFunc)ApiCallback, this)failed with error CUPTI_ERROR_NOT_INITIALIZED\n",
      "2023-07-12 14:20:00.812366: I tensorflow/core/profiler/lib/profiler_session.cc:172] Profiler session tear down.\n"
     ]
    },
    {
     "name": "stdout",
     "output_type": "stream",
     "text": [
      "[LOG] -- Val ACC Did Not Increase\n"
     ]
    },
    {
     "name": "stderr",
     "output_type": "stream",
     "text": [
      " 91%|█████████████████████████████████████████████████████████████████████████▉       | 137/150 [29:56<02:39, 12.26s/it]2023-07-12 14:20:12.999491: I tensorflow/core/profiler/lib/profiler_session.cc:136] Profiler session initializing.\n",
      "2023-07-12 14:20:12.999506: I tensorflow/core/profiler/lib/profiler_session.cc:155] Profiler session started.\n",
      "2023-07-12 14:20:12.999537: E tensorflow/core/profiler/internal/gpu/cupti_tracer.cc:1415] function cupti_interface_->Subscribe( &subscriber_, (CUpti_CallbackFunc)ApiCallback, this)failed with error CUPTI_ERROR_NOT_INITIALIZED\n",
      "2023-07-12 14:20:12.999546: I tensorflow/core/profiler/lib/profiler_session.cc:172] Profiler session tear down.\n"
     ]
    },
    {
     "name": "stdout",
     "output_type": "stream",
     "text": [
      "[LOG] -- Val ACC Did Not Increase\n"
     ]
    },
    {
     "name": "stderr",
     "output_type": "stream",
     "text": [
      " 92%|██████████████████████████████████████████████████████████████████████████▌      | 138/150 [30:08<02:26, 12.24s/it]2023-07-12 14:20:25.187210: I tensorflow/core/profiler/lib/profiler_session.cc:136] Profiler session initializing.\n",
      "2023-07-12 14:20:25.187227: I tensorflow/core/profiler/lib/profiler_session.cc:155] Profiler session started.\n",
      "2023-07-12 14:20:25.187282: E tensorflow/core/profiler/internal/gpu/cupti_tracer.cc:1415] function cupti_interface_->Subscribe( &subscriber_, (CUpti_CallbackFunc)ApiCallback, this)failed with error CUPTI_ERROR_NOT_INITIALIZED\n",
      "2023-07-12 14:20:25.187297: I tensorflow/core/profiler/lib/profiler_session.cc:172] Profiler session tear down.\n"
     ]
    },
    {
     "name": "stdout",
     "output_type": "stream",
     "text": [
      "[LOG] -- Val ACC Did Not Increase\n"
     ]
    },
    {
     "name": "stderr",
     "output_type": "stream",
     "text": [
      " 93%|███████████████████████████████████████████████████████████████████████████      | 139/150 [30:21<02:14, 12.24s/it]2023-07-12 14:20:37.411647: I tensorflow/core/profiler/lib/profiler_session.cc:136] Profiler session initializing.\n",
      "2023-07-12 14:20:37.411663: I tensorflow/core/profiler/lib/profiler_session.cc:155] Profiler session started.\n",
      "2023-07-12 14:20:37.411693: E tensorflow/core/profiler/internal/gpu/cupti_tracer.cc:1415] function cupti_interface_->Subscribe( &subscriber_, (CUpti_CallbackFunc)ApiCallback, this)failed with error CUPTI_ERROR_NOT_INITIALIZED\n",
      "2023-07-12 14:20:37.411703: I tensorflow/core/profiler/lib/profiler_session.cc:172] Profiler session tear down.\n"
     ]
    },
    {
     "name": "stdout",
     "output_type": "stream",
     "text": [
      "[LOG] -- Val ACC Did Not Increase\n"
     ]
    },
    {
     "name": "stderr",
     "output_type": "stream",
     "text": [
      " 93%|███████████████████████████████████████████████████████████████████████████▌     | 140/150 [30:33<02:02, 12.22s/it]2023-07-12 14:20:49.592878: I tensorflow/core/profiler/lib/profiler_session.cc:136] Profiler session initializing.\n",
      "2023-07-12 14:20:49.592892: I tensorflow/core/profiler/lib/profiler_session.cc:155] Profiler session started.\n",
      "2023-07-12 14:20:49.592923: E tensorflow/core/profiler/internal/gpu/cupti_tracer.cc:1415] function cupti_interface_->Subscribe( &subscriber_, (CUpti_CallbackFunc)ApiCallback, this)failed with error CUPTI_ERROR_NOT_INITIALIZED\n",
      "2023-07-12 14:20:49.592933: I tensorflow/core/profiler/lib/profiler_session.cc:172] Profiler session tear down.\n"
     ]
    },
    {
     "name": "stdout",
     "output_type": "stream",
     "text": [
      "[LOG] -- Val ACC Did Not Increase\n"
     ]
    },
    {
     "name": "stderr",
     "output_type": "stream",
     "text": [
      " 94%|████████████████████████████████████████████████████████████████████████████▏    | 141/150 [30:45<01:49, 12.21s/it]2023-07-12 14:21:01.794703: I tensorflow/core/profiler/lib/profiler_session.cc:136] Profiler session initializing.\n",
      "2023-07-12 14:21:01.794715: I tensorflow/core/profiler/lib/profiler_session.cc:155] Profiler session started.\n",
      "2023-07-12 14:21:01.794746: E tensorflow/core/profiler/internal/gpu/cupti_tracer.cc:1415] function cupti_interface_->Subscribe( &subscriber_, (CUpti_CallbackFunc)ApiCallback, this)failed with error CUPTI_ERROR_NOT_INITIALIZED\n",
      "2023-07-12 14:21:01.794756: I tensorflow/core/profiler/lib/profiler_session.cc:172] Profiler session tear down.\n"
     ]
    },
    {
     "name": "stdout",
     "output_type": "stream",
     "text": [
      "[LOG] -- Val ACC Did Not Increase\n"
     ]
    },
    {
     "name": "stderr",
     "output_type": "stream",
     "text": [
      " 95%|████████████████████████████████████████████████████████████████████████████▋    | 142/150 [30:57<01:37, 12.20s/it]2023-07-12 14:21:13.978271: I tensorflow/core/profiler/lib/profiler_session.cc:136] Profiler session initializing.\n",
      "2023-07-12 14:21:13.978286: I tensorflow/core/profiler/lib/profiler_session.cc:155] Profiler session started.\n",
      "2023-07-12 14:21:13.978316: E tensorflow/core/profiler/internal/gpu/cupti_tracer.cc:1415] function cupti_interface_->Subscribe( &subscriber_, (CUpti_CallbackFunc)ApiCallback, this)failed with error CUPTI_ERROR_NOT_INITIALIZED\n",
      "2023-07-12 14:21:13.978326: I tensorflow/core/profiler/lib/profiler_session.cc:172] Profiler session tear down.\n"
     ]
    },
    {
     "name": "stdout",
     "output_type": "stream",
     "text": [
      "[LOG] -- Val ACC Did Not Increase\n"
     ]
    },
    {
     "name": "stderr",
     "output_type": "stream",
     "text": [
      " 95%|█████████████████████████████████████████████████████████████████████████████▏   | 143/150 [31:09<01:25, 12.20s/it]2023-07-12 14:21:26.177934: I tensorflow/core/profiler/lib/profiler_session.cc:136] Profiler session initializing.\n",
      "2023-07-12 14:21:26.177949: I tensorflow/core/profiler/lib/profiler_session.cc:155] Profiler session started.\n",
      "2023-07-12 14:21:26.177980: E tensorflow/core/profiler/internal/gpu/cupti_tracer.cc:1415] function cupti_interface_->Subscribe( &subscriber_, (CUpti_CallbackFunc)ApiCallback, this)failed with error CUPTI_ERROR_NOT_INITIALIZED\n",
      "2023-07-12 14:21:26.177990: I tensorflow/core/profiler/lib/profiler_session.cc:172] Profiler session tear down.\n"
     ]
    },
    {
     "name": "stdout",
     "output_type": "stream",
     "text": [
      "[LOG] -- Val ACC Did Not Increase\n"
     ]
    },
    {
     "name": "stderr",
     "output_type": "stream",
     "text": [
      " 96%|█████████████████████████████████████████████████████████████████████████████▊   | 144/150 [31:22<01:13, 12.21s/it]2023-07-12 14:21:38.412776: I tensorflow/core/profiler/lib/profiler_session.cc:136] Profiler session initializing.\n",
      "2023-07-12 14:21:38.412791: I tensorflow/core/profiler/lib/profiler_session.cc:155] Profiler session started.\n",
      "2023-07-12 14:21:38.412821: E tensorflow/core/profiler/internal/gpu/cupti_tracer.cc:1415] function cupti_interface_->Subscribe( &subscriber_, (CUpti_CallbackFunc)ApiCallback, this)failed with error CUPTI_ERROR_NOT_INITIALIZED\n",
      "2023-07-12 14:21:38.412831: I tensorflow/core/profiler/lib/profiler_session.cc:172] Profiler session tear down.\n"
     ]
    },
    {
     "name": "stdout",
     "output_type": "stream",
     "text": [
      "[LOG] -- Val ACC Did Not Increase\n"
     ]
    },
    {
     "name": "stderr",
     "output_type": "stream",
     "text": [
      " 97%|██████████████████████████████████████████████████████████████████████████████▎  | 145/150 [31:34<01:01, 12.22s/it]2023-07-12 14:21:50.637514: I tensorflow/core/profiler/lib/profiler_session.cc:136] Profiler session initializing.\n",
      "2023-07-12 14:21:50.637528: I tensorflow/core/profiler/lib/profiler_session.cc:155] Profiler session started.\n",
      "2023-07-12 14:21:50.637559: E tensorflow/core/profiler/internal/gpu/cupti_tracer.cc:1415] function cupti_interface_->Subscribe( &subscriber_, (CUpti_CallbackFunc)ApiCallback, this)failed with error CUPTI_ERROR_NOT_INITIALIZED\n",
      "2023-07-12 14:21:50.637568: I tensorflow/core/profiler/lib/profiler_session.cc:172] Profiler session tear down.\n"
     ]
    },
    {
     "name": "stdout",
     "output_type": "stream",
     "text": [
      "[LOG] -- Val ACC Did Not Increase\n"
     ]
    },
    {
     "name": "stderr",
     "output_type": "stream",
     "text": [
      " 97%|██████████████████████████████████████████████████████████████████████████████▊  | 146/150 [31:46<00:49, 12.28s/it]2023-07-12 14:22:03.054515: I tensorflow/core/profiler/lib/profiler_session.cc:136] Profiler session initializing.\n",
      "2023-07-12 14:22:03.054530: I tensorflow/core/profiler/lib/profiler_session.cc:155] Profiler session started.\n",
      "2023-07-12 14:22:03.054559: E tensorflow/core/profiler/internal/gpu/cupti_tracer.cc:1415] function cupti_interface_->Subscribe( &subscriber_, (CUpti_CallbackFunc)ApiCallback, this)failed with error CUPTI_ERROR_NOT_INITIALIZED\n",
      "2023-07-12 14:22:03.054569: I tensorflow/core/profiler/lib/profiler_session.cc:172] Profiler session tear down.\n"
     ]
    },
    {
     "name": "stdout",
     "output_type": "stream",
     "text": [
      "[LOG] -- Val ACC Did Not Increase\n"
     ]
    },
    {
     "name": "stderr",
     "output_type": "stream",
     "text": [
      " 98%|███████████████████████████████████████████████████████████████████████████████▍ | 147/150 [31:58<00:36, 12.25s/it]2023-07-12 14:22:15.238024: I tensorflow/core/profiler/lib/profiler_session.cc:136] Profiler session initializing.\n",
      "2023-07-12 14:22:15.238038: I tensorflow/core/profiler/lib/profiler_session.cc:155] Profiler session started.\n",
      "2023-07-12 14:22:15.238069: E tensorflow/core/profiler/internal/gpu/cupti_tracer.cc:1415] function cupti_interface_->Subscribe( &subscriber_, (CUpti_CallbackFunc)ApiCallback, this)failed with error CUPTI_ERROR_NOT_INITIALIZED\n",
      "2023-07-12 14:22:15.238079: I tensorflow/core/profiler/lib/profiler_session.cc:172] Profiler session tear down.\n"
     ]
    },
    {
     "name": "stdout",
     "output_type": "stream",
     "text": [
      "[LOG] -- Val ACC Did Not Increase\n"
     ]
    },
    {
     "name": "stderr",
     "output_type": "stream",
     "text": [
      " 99%|███████████████████████████████████████████████████████████████████████████████▉ | 148/150 [32:11<00:24, 12.22s/it]2023-07-12 14:22:27.401030: I tensorflow/core/profiler/lib/profiler_session.cc:136] Profiler session initializing.\n",
      "2023-07-12 14:22:27.401044: I tensorflow/core/profiler/lib/profiler_session.cc:155] Profiler session started.\n",
      "2023-07-12 14:22:27.401075: E tensorflow/core/profiler/internal/gpu/cupti_tracer.cc:1415] function cupti_interface_->Subscribe( &subscriber_, (CUpti_CallbackFunc)ApiCallback, this)failed with error CUPTI_ERROR_NOT_INITIALIZED\n",
      "2023-07-12 14:22:27.401084: I tensorflow/core/profiler/lib/profiler_session.cc:172] Profiler session tear down.\n"
     ]
    },
    {
     "name": "stdout",
     "output_type": "stream",
     "text": [
      "[LOG] -- Val ACC Did Not Increase\n"
     ]
    },
    {
     "name": "stderr",
     "output_type": "stream",
     "text": [
      " 99%|████████████████████████████████████████████████████████████████████████████████▍| 149/150 [32:23<00:12, 12.21s/it]2023-07-12 14:22:39.578303: I tensorflow/core/profiler/lib/profiler_session.cc:136] Profiler session initializing.\n",
      "2023-07-12 14:22:39.578318: I tensorflow/core/profiler/lib/profiler_session.cc:155] Profiler session started.\n",
      "2023-07-12 14:22:39.578348: E tensorflow/core/profiler/internal/gpu/cupti_tracer.cc:1415] function cupti_interface_->Subscribe( &subscriber_, (CUpti_CallbackFunc)ApiCallback, this)failed with error CUPTI_ERROR_NOT_INITIALIZED\n",
      "2023-07-12 14:22:39.578358: I tensorflow/core/profiler/lib/profiler_session.cc:172] Profiler session tear down.\n"
     ]
    },
    {
     "name": "stdout",
     "output_type": "stream",
     "text": [
      "[LOG] -- Val ACC Did Not Increase\n"
     ]
    },
    {
     "name": "stderr",
     "output_type": "stream",
     "text": [
      "100%|█████████████████████████████████████████████████████████████████████████████████| 150/150 [32:35<00:00, 13.04s/it]"
     ]
    },
    {
     "name": "stdout",
     "output_type": "stream",
     "text": [
      "[LOG] -- FINAL VAL ACC: 0.7599999904632568\n",
      "RUNTIME:  1955.4822735786438\n",
      "TIME PER EPOCH 13.036548490524291\n"
     ]
    },
    {
     "name": "stderr",
     "output_type": "stream",
     "text": [
      "\n"
     ]
    }
   ],
   "source": [
    "%run \"cnn/train.py\" -i /home/mabon/Tiny_power/datasets/power/xmega_unmasked/X1_K1_200k.npz -o /home/mabon/Tiny_power/models/unstructured/randombias/X1_50k/95 -m /home/mabon/Tiny_power/models/unstructured/randombias/X1 -e 150 -tb 2 -lm hw_model -tn 50000 -pr .95 -aw 1800_2800 "
   ]
  },
  {
   "cell_type": "code",
   "execution_count": 3,
   "id": "639251e7",
   "metadata": {},
   "outputs": [
    {
     "name": "stderr",
     "output_type": "stream",
     "text": [
      "2023-07-12 14:22:51.777940: I tensorflow/compiler/jit/xla_gpu_device.cc:99] Not creating XLA devices, tf_xla_enable_xla_devices not set\n",
      "2023-07-12 14:22:51.778051: I tensorflow/stream_executor/cuda/cuda_gpu_executor.cc:941] successful NUMA node read from SysFS had negative value (-1), but there must be at least one NUMA node, so returning NUMA node zero\n",
      "2023-07-12 14:22:51.778265: I tensorflow/core/common_runtime/gpu/gpu_device.cc:1720] Found device 0 with properties: \n",
      "pciBusID: 0000:01:00.0 name: TITAN RTX computeCapability: 7.5\n",
      "coreClock: 1.77GHz coreCount: 72 deviceMemorySize: 23.65GiB deviceMemoryBandwidth: 625.94GiB/s\n",
      "2023-07-12 14:22:51.778286: I tensorflow/stream_executor/platform/default/dso_loader.cc:49] Successfully opened dynamic library libcudart.so.10.1\n",
      "2023-07-12 14:22:51.778301: I tensorflow/stream_executor/platform/default/dso_loader.cc:49] Successfully opened dynamic library libcublas.so.10\n",
      "2023-07-12 14:22:51.778309: I tensorflow/stream_executor/platform/default/dso_loader.cc:49] Successfully opened dynamic library libcublasLt.so.10\n",
      "2023-07-12 14:22:51.778316: I tensorflow/stream_executor/platform/default/dso_loader.cc:49] Successfully opened dynamic library libcufft.so.10\n",
      "2023-07-12 14:22:51.778324: I tensorflow/stream_executor/platform/default/dso_loader.cc:49] Successfully opened dynamic library libcurand.so.10\n",
      "2023-07-12 14:22:51.778331: I tensorflow/stream_executor/platform/default/dso_loader.cc:49] Successfully opened dynamic library libcusolver.so.10\n",
      "2023-07-12 14:22:51.778339: I tensorflow/stream_executor/platform/default/dso_loader.cc:49] Successfully opened dynamic library libcusparse.so.10\n",
      "2023-07-12 14:22:51.778346: I tensorflow/stream_executor/platform/default/dso_loader.cc:49] Successfully opened dynamic library libcudnn.so.7\n",
      "2023-07-12 14:22:51.778380: I tensorflow/stream_executor/cuda/cuda_gpu_executor.cc:941] successful NUMA node read from SysFS had negative value (-1), but there must be at least one NUMA node, so returning NUMA node zero\n",
      "2023-07-12 14:22:51.778576: I tensorflow/stream_executor/cuda/cuda_gpu_executor.cc:941] successful NUMA node read from SysFS had negative value (-1), but there must be at least one NUMA node, so returning NUMA node zero\n",
      "2023-07-12 14:22:51.778748: I tensorflow/core/common_runtime/gpu/gpu_device.cc:1862] Adding visible gpu devices: 0\n",
      "2023-07-12 14:22:51.778764: I tensorflow/core/common_runtime/gpu/gpu_device.cc:1261] Device interconnect StreamExecutor with strength 1 edge matrix:\n",
      "2023-07-12 14:22:51.778767: I tensorflow/core/common_runtime/gpu/gpu_device.cc:1267]      0 \n",
      "2023-07-12 14:22:51.778769: I tensorflow/core/common_runtime/gpu/gpu_device.cc:1280] 0:   N \n",
      "2023-07-12 14:22:51.778810: I tensorflow/stream_executor/cuda/cuda_gpu_executor.cc:941] successful NUMA node read from SysFS had negative value (-1), but there must be at least one NUMA node, so returning NUMA node zero\n",
      "2023-07-12 14:22:51.779017: I tensorflow/stream_executor/cuda/cuda_gpu_executor.cc:941] successful NUMA node read from SysFS had negative value (-1), but there must be at least one NUMA node, so returning NUMA node zero\n",
      "2023-07-12 14:22:51.779197: I tensorflow/core/common_runtime/gpu/gpu_device.cc:1406] Created TensorFlow device (/device:GPU:0 with 22454 MB memory) -> physical GPU (device: 0, name: TITAN RTX, pci bus id: 0000:01:00.0, compute capability: 7.5)\n"
     ]
    },
    {
     "name": "stdout",
     "output_type": "stream",
     "text": [
      "use the self-defined attack window\n",
      "training with 50000 traces\n",
      "trace data shape is:  (50000, 1000)\n",
      "[1, 1, 1, 1, 1, 1, 1]\n",
      "ORiginal Model\n",
      "Pruned Model\n",
      "Model: \"cnn_best\"\n",
      "_________________________________________________________________\n",
      "Layer (type)                 Output Shape              Param #   \n",
      "=================================================================\n",
      "input_1 (InputLayer)         [(None, 1000, 1)]         0         \n",
      "_________________________________________________________________\n",
      "block1_conv1 (Conv1D)        (None, 500, 64)           768       \n",
      "_________________________________________________________________\n",
      "block1_pool (AveragePooling1 (None, 250, 64)           0         \n",
      "_________________________________________________________________\n",
      "block2_conv1 (Conv1D)        (None, 250, 128)          90240     \n",
      "_________________________________________________________________\n",
      "block2_pool (AveragePooling1 (None, 125, 128)          0         \n",
      "_________________________________________________________________\n",
      "block3_conv1 (Conv1D)        (None, 125, 256)          360704    \n",
      "_________________________________________________________________\n",
      "block3_pool (AveragePooling1 (None, 62, 256)           0         \n",
      "_________________________________________________________________\n",
      "block4_conv1 (Conv1D)        (None, 62, 512)           1442304   \n",
      "_________________________________________________________________\n",
      "block4_pool (AveragePooling1 (None, 31, 512)           0         \n",
      "_________________________________________________________________\n",
      "block5_conv1 (Conv1D)        (None, 31, 512)           2884096   \n",
      "_________________________________________________________________\n",
      "block5_pool (AveragePooling1 (None, 15, 512)           0         \n",
      "_________________________________________________________________\n",
      "block_flatten (Flatten)      (None, 7680)              0         \n",
      "_________________________________________________________________\n",
      "block_fc1 (Dense)            (None, 4096)              31461376  \n",
      "_________________________________________________________________\n",
      "block_fc2 (Dense)            (None, 4096)              16781312  \n",
      "_________________________________________________________________\n",
      "preds (Dense)                (None, 9)                 36873     \n",
      "=================================================================\n",
      "Total params: 53,057,673\n",
      "Trainable params: 53,057,673\n",
      "Non-trainable params: 0\n",
      "_________________________________________________________________\n",
      "now train dnn model for HW leakage model over /home/mabon/Tiny_power/datasets/power/xmega_unmasked/X1_K1_200k.npz dataset...\n"
     ]
    },
    {
     "name": "stderr",
     "output_type": "stream",
     "text": [
      "  0%|                                                                                           | 0/150 [00:00<?, ?it/s]2023-07-12 14:22:54.244545: I tensorflow/core/profiler/lib/profiler_session.cc:136] Profiler session initializing.\n",
      "2023-07-12 14:22:54.244559: I tensorflow/core/profiler/lib/profiler_session.cc:155] Profiler session started.\n",
      "2023-07-12 14:22:54.244591: E tensorflow/core/profiler/internal/gpu/cupti_tracer.cc:1415] function cupti_interface_->Subscribe( &subscriber_, (CUpti_CallbackFunc)ApiCallback, this)failed with error CUPTI_ERROR_NOT_INITIALIZED\n",
      "2023-07-12 14:22:54.244601: I tensorflow/core/profiler/lib/profiler_session.cc:172] Profiler session tear down.\n"
     ]
    },
    {
     "name": "stdout",
     "output_type": "stream",
     "text": [
      "[LOG] -- VAL ACC INCREASED........... SAVING MDOEL 0.2703999876976013\n"
     ]
    },
    {
     "name": "stderr",
     "output_type": "stream",
     "text": [
      "  1%|▌                                                                                  | 1/150 [00:12<31:59, 12.88s/it]2023-07-12 14:23:07.125419: I tensorflow/core/profiler/lib/profiler_session.cc:136] Profiler session initializing.\n",
      "2023-07-12 14:23:07.125434: I tensorflow/core/profiler/lib/profiler_session.cc:155] Profiler session started.\n",
      "2023-07-12 14:23:07.125466: E tensorflow/core/profiler/internal/gpu/cupti_tracer.cc:1415] function cupti_interface_->Subscribe( &subscriber_, (CUpti_CallbackFunc)ApiCallback, this)failed with error CUPTI_ERROR_NOT_INITIALIZED\n",
      "2023-07-12 14:23:07.125476: I tensorflow/core/profiler/lib/profiler_session.cc:172] Profiler session tear down.\n"
     ]
    },
    {
     "name": "stdout",
     "output_type": "stream",
     "text": [
      "[LOG] -- Val ACC Did Not Increase\n"
     ]
    },
    {
     "name": "stderr",
     "output_type": "stream",
     "text": [
      "  1%|█                                                                                  | 2/150 [00:25<30:40, 12.44s/it]2023-07-12 14:23:19.250370: I tensorflow/core/profiler/lib/profiler_session.cc:136] Profiler session initializing.\n",
      "2023-07-12 14:23:19.250384: I tensorflow/core/profiler/lib/profiler_session.cc:155] Profiler session started.\n",
      "2023-07-12 14:23:19.250416: E tensorflow/core/profiler/internal/gpu/cupti_tracer.cc:1415] function cupti_interface_->Subscribe( &subscriber_, (CUpti_CallbackFunc)ApiCallback, this)failed with error CUPTI_ERROR_NOT_INITIALIZED\n",
      "2023-07-12 14:23:19.250425: I tensorflow/core/profiler/lib/profiler_session.cc:172] Profiler session tear down.\n"
     ]
    },
    {
     "name": "stdout",
     "output_type": "stream",
     "text": [
      "[LOG] -- Val ACC Did Not Increase\n"
     ]
    },
    {
     "name": "stderr",
     "output_type": "stream",
     "text": [
      "  2%|█▋                                                                                 | 3/150 [00:37<30:07, 12.29s/it]2023-07-12 14:23:31.373135: I tensorflow/core/profiler/lib/profiler_session.cc:136] Profiler session initializing.\n",
      "2023-07-12 14:23:31.373150: I tensorflow/core/profiler/lib/profiler_session.cc:155] Profiler session started.\n",
      "2023-07-12 14:23:31.373181: E tensorflow/core/profiler/internal/gpu/cupti_tracer.cc:1415] function cupti_interface_->Subscribe( &subscriber_, (CUpti_CallbackFunc)ApiCallback, this)failed with error CUPTI_ERROR_NOT_INITIALIZED\n",
      "2023-07-12 14:23:31.373190: I tensorflow/core/profiler/lib/profiler_session.cc:172] Profiler session tear down.\n"
     ]
    },
    {
     "name": "stdout",
     "output_type": "stream",
     "text": [
      "[LOG] -- Val ACC Did Not Increase\n"
     ]
    },
    {
     "name": "stderr",
     "output_type": "stream",
     "text": [
      "  3%|██▏                                                                                | 4/150 [00:49<29:47, 12.24s/it]2023-07-12 14:23:43.542243: I tensorflow/core/profiler/lib/profiler_session.cc:136] Profiler session initializing.\n",
      "2023-07-12 14:23:43.542258: I tensorflow/core/profiler/lib/profiler_session.cc:155] Profiler session started.\n",
      "2023-07-12 14:23:43.542288: E tensorflow/core/profiler/internal/gpu/cupti_tracer.cc:1415] function cupti_interface_->Subscribe( &subscriber_, (CUpti_CallbackFunc)ApiCallback, this)failed with error CUPTI_ERROR_NOT_INITIALIZED\n",
      "2023-07-12 14:23:43.542298: I tensorflow/core/profiler/lib/profiler_session.cc:172] Profiler session tear down.\n"
     ]
    },
    {
     "name": "stdout",
     "output_type": "stream",
     "text": [
      "[LOG] -- VAL ACC INCREASED........... SAVING MDOEL 0.2752000093460083\n"
     ]
    },
    {
     "name": "stderr",
     "output_type": "stream",
     "text": [
      "  3%|██▊                                                                                | 5/150 [01:04<32:26, 13.42s/it]2023-07-12 14:23:59.053335: I tensorflow/core/profiler/lib/profiler_session.cc:136] Profiler session initializing.\n",
      "2023-07-12 14:23:59.053350: I tensorflow/core/profiler/lib/profiler_session.cc:155] Profiler session started.\n",
      "2023-07-12 14:23:59.053381: E tensorflow/core/profiler/internal/gpu/cupti_tracer.cc:1415] function cupti_interface_->Subscribe( &subscriber_, (CUpti_CallbackFunc)ApiCallback, this)failed with error CUPTI_ERROR_NOT_INITIALIZED\n",
      "2023-07-12 14:23:59.053390: I tensorflow/core/profiler/lib/profiler_session.cc:172] Profiler session tear down.\n"
     ]
    },
    {
     "name": "stdout",
     "output_type": "stream",
     "text": [
      "[LOG] -- VAL ACC INCREASED........... SAVING MDOEL 0.30140000581741333\n"
     ]
    },
    {
     "name": "stderr",
     "output_type": "stream",
     "text": [
      "  4%|███▎                                                                               | 6/150 [01:20<33:57, 14.15s/it]2023-07-12 14:24:14.617713: I tensorflow/core/profiler/lib/profiler_session.cc:136] Profiler session initializing.\n",
      "2023-07-12 14:24:14.617728: I tensorflow/core/profiler/lib/profiler_session.cc:155] Profiler session started.\n",
      "2023-07-12 14:24:14.617760: E tensorflow/core/profiler/internal/gpu/cupti_tracer.cc:1415] function cupti_interface_->Subscribe( &subscriber_, (CUpti_CallbackFunc)ApiCallback, this)failed with error CUPTI_ERROR_NOT_INITIALIZED\n",
      "2023-07-12 14:24:14.617769: I tensorflow/core/profiler/lib/profiler_session.cc:172] Profiler session tear down.\n"
     ]
    },
    {
     "name": "stdout",
     "output_type": "stream",
     "text": [
      "[LOG] -- VAL ACC INCREASED........... SAVING MDOEL 0.4262000024318695\n"
     ]
    },
    {
     "name": "stderr",
     "output_type": "stream",
     "text": [
      "  5%|███▊                                                                               | 7/150 [01:35<34:18, 14.40s/it]2023-07-12 14:24:29.519664: I tensorflow/core/profiler/lib/profiler_session.cc:136] Profiler session initializing.\n",
      "2023-07-12 14:24:29.519679: I tensorflow/core/profiler/lib/profiler_session.cc:155] Profiler session started.\n",
      "2023-07-12 14:24:29.519709: E tensorflow/core/profiler/internal/gpu/cupti_tracer.cc:1415] function cupti_interface_->Subscribe( &subscriber_, (CUpti_CallbackFunc)ApiCallback, this)failed with error CUPTI_ERROR_NOT_INITIALIZED\n",
      "2023-07-12 14:24:29.519719: I tensorflow/core/profiler/lib/profiler_session.cc:172] Profiler session tear down.\n"
     ]
    },
    {
     "name": "stdout",
     "output_type": "stream",
     "text": [
      "[LOG] -- VAL ACC INCREASED........... SAVING MDOEL 0.4650000035762787\n"
     ]
    },
    {
     "name": "stderr",
     "output_type": "stream",
     "text": [
      "  5%|████▍                                                                              | 8/150 [01:52<35:55, 15.18s/it]2023-07-12 14:24:46.369901: I tensorflow/core/profiler/lib/profiler_session.cc:136] Profiler session initializing.\n",
      "2023-07-12 14:24:46.369916: I tensorflow/core/profiler/lib/profiler_session.cc:155] Profiler session started.\n",
      "2023-07-12 14:24:46.369946: E tensorflow/core/profiler/internal/gpu/cupti_tracer.cc:1415] function cupti_interface_->Subscribe( &subscriber_, (CUpti_CallbackFunc)ApiCallback, this)failed with error CUPTI_ERROR_NOT_INITIALIZED\n",
      "2023-07-12 14:24:46.369956: I tensorflow/core/profiler/lib/profiler_session.cc:172] Profiler session tear down.\n"
     ]
    },
    {
     "name": "stdout",
     "output_type": "stream",
     "text": [
      "[LOG] -- Val ACC Did Not Increase\n"
     ]
    },
    {
     "name": "stderr",
     "output_type": "stream",
     "text": [
      "  6%|████▉                                                                              | 9/150 [02:04<33:24, 14.22s/it]2023-07-12 14:24:58.478435: I tensorflow/core/profiler/lib/profiler_session.cc:136] Profiler session initializing.\n",
      "2023-07-12 14:24:58.478450: I tensorflow/core/profiler/lib/profiler_session.cc:155] Profiler session started.\n",
      "2023-07-12 14:24:58.478480: E tensorflow/core/profiler/internal/gpu/cupti_tracer.cc:1415] function cupti_interface_->Subscribe( &subscriber_, (CUpti_CallbackFunc)ApiCallback, this)failed with error CUPTI_ERROR_NOT_INITIALIZED\n",
      "2023-07-12 14:24:58.478489: I tensorflow/core/profiler/lib/profiler_session.cc:172] Profiler session tear down.\n"
     ]
    },
    {
     "name": "stdout",
     "output_type": "stream",
     "text": [
      "[LOG] -- VAL ACC INCREASED........... SAVING MDOEL 0.503600001335144\n"
     ]
    },
    {
     "name": "stderr",
     "output_type": "stream",
     "text": [
      "  7%|█████▍                                                                            | 10/150 [02:19<33:47, 14.48s/it]2023-07-12 14:25:13.559026: I tensorflow/core/profiler/lib/profiler_session.cc:136] Profiler session initializing.\n",
      "2023-07-12 14:25:13.559041: I tensorflow/core/profiler/lib/profiler_session.cc:155] Profiler session started.\n",
      "2023-07-12 14:25:13.559072: E tensorflow/core/profiler/internal/gpu/cupti_tracer.cc:1415] function cupti_interface_->Subscribe( &subscriber_, (CUpti_CallbackFunc)ApiCallback, this)failed with error CUPTI_ERROR_NOT_INITIALIZED\n",
      "2023-07-12 14:25:13.559081: I tensorflow/core/profiler/lib/profiler_session.cc:172] Profiler session tear down.\n"
     ]
    },
    {
     "name": "stdout",
     "output_type": "stream",
     "text": [
      "[LOG] -- VAL ACC INCREASED........... SAVING MDOEL 0.5052000284194946\n"
     ]
    },
    {
     "name": "stderr",
     "output_type": "stream",
     "text": [
      "  7%|██████                                                                            | 11/150 [02:35<34:25, 14.86s/it]2023-07-12 14:25:29.265945: I tensorflow/core/profiler/lib/profiler_session.cc:136] Profiler session initializing.\n",
      "2023-07-12 14:25:29.265960: I tensorflow/core/profiler/lib/profiler_session.cc:155] Profiler session started.\n",
      "2023-07-12 14:25:29.265991: E tensorflow/core/profiler/internal/gpu/cupti_tracer.cc:1415] function cupti_interface_->Subscribe( &subscriber_, (CUpti_CallbackFunc)ApiCallback, this)failed with error CUPTI_ERROR_NOT_INITIALIZED\n",
      "2023-07-12 14:25:29.266001: I tensorflow/core/profiler/lib/profiler_session.cc:172] Profiler session tear down.\n"
     ]
    },
    {
     "name": "stdout",
     "output_type": "stream",
     "text": [
      "[LOG] -- VAL ACC INCREASED........... SAVING MDOEL 0.515999972820282\n"
     ]
    },
    {
     "name": "stderr",
     "output_type": "stream",
     "text": [
      "  8%|██████▌                                                                           | 12/150 [02:50<34:48, 15.13s/it]2023-07-12 14:25:45.018886: I tensorflow/core/profiler/lib/profiler_session.cc:136] Profiler session initializing.\n",
      "2023-07-12 14:25:45.018919: I tensorflow/core/profiler/lib/profiler_session.cc:155] Profiler session started.\n",
      "2023-07-12 14:25:45.018951: E tensorflow/core/profiler/internal/gpu/cupti_tracer.cc:1415] function cupti_interface_->Subscribe( &subscriber_, (CUpti_CallbackFunc)ApiCallback, this)failed with error CUPTI_ERROR_NOT_INITIALIZED\n",
      "2023-07-12 14:25:45.018974: I tensorflow/core/profiler/lib/profiler_session.cc:172] Profiler session tear down.\n"
     ]
    },
    {
     "name": "stdout",
     "output_type": "stream",
     "text": [
      "[LOG] -- Val ACC Did Not Increase\n"
     ]
    },
    {
     "name": "stderr",
     "output_type": "stream",
     "text": [
      "  9%|███████                                                                           | 13/150 [03:02<32:28, 14.23s/it]2023-07-12 14:25:57.161161: I tensorflow/core/profiler/lib/profiler_session.cc:136] Profiler session initializing.\n",
      "2023-07-12 14:25:57.161175: I tensorflow/core/profiler/lib/profiler_session.cc:155] Profiler session started.\n",
      "2023-07-12 14:25:57.161206: E tensorflow/core/profiler/internal/gpu/cupti_tracer.cc:1415] function cupti_interface_->Subscribe( &subscriber_, (CUpti_CallbackFunc)ApiCallback, this)failed with error CUPTI_ERROR_NOT_INITIALIZED\n",
      "2023-07-12 14:25:57.161216: I tensorflow/core/profiler/lib/profiler_session.cc:172] Profiler session tear down.\n"
     ]
    },
    {
     "name": "stdout",
     "output_type": "stream",
     "text": [
      "[LOG] -- VAL ACC INCREASED........... SAVING MDOEL 0.5577999949455261\n"
     ]
    },
    {
     "name": "stderr",
     "output_type": "stream",
     "text": [
      "  9%|███████▋                                                                          | 14/150 [03:18<33:14, 14.67s/it]2023-07-12 14:26:12.844022: I tensorflow/core/profiler/lib/profiler_session.cc:136] Profiler session initializing.\n",
      "2023-07-12 14:26:12.844037: I tensorflow/core/profiler/lib/profiler_session.cc:155] Profiler session started.\n",
      "2023-07-12 14:26:12.844069: E tensorflow/core/profiler/internal/gpu/cupti_tracer.cc:1415] function cupti_interface_->Subscribe( &subscriber_, (CUpti_CallbackFunc)ApiCallback, this)failed with error CUPTI_ERROR_NOT_INITIALIZED\n",
      "2023-07-12 14:26:12.844079: I tensorflow/core/profiler/lib/profiler_session.cc:172] Profiler session tear down.\n"
     ]
    },
    {
     "name": "stdout",
     "output_type": "stream",
     "text": [
      "[LOG] -- VAL ACC INCREASED........... SAVING MDOEL 0.5681999921798706\n"
     ]
    },
    {
     "name": "stderr",
     "output_type": "stream",
     "text": [
      " 10%|████████▏                                                                         | 15/150 [03:34<33:48, 15.03s/it]2023-07-12 14:26:28.710047: I tensorflow/core/profiler/lib/profiler_session.cc:136] Profiler session initializing.\n",
      "2023-07-12 14:26:28.710061: I tensorflow/core/profiler/lib/profiler_session.cc:155] Profiler session started.\n",
      "2023-07-12 14:26:28.710091: E tensorflow/core/profiler/internal/gpu/cupti_tracer.cc:1415] function cupti_interface_->Subscribe( &subscriber_, (CUpti_CallbackFunc)ApiCallback, this)failed with error CUPTI_ERROR_NOT_INITIALIZED\n",
      "2023-07-12 14:26:28.710101: I tensorflow/core/profiler/lib/profiler_session.cc:172] Profiler session tear down.\n"
     ]
    },
    {
     "name": "stdout",
     "output_type": "stream",
     "text": [
      "[LOG] -- Val ACC Did Not Increase\n"
     ]
    },
    {
     "name": "stderr",
     "output_type": "stream",
     "text": [
      " 11%|████████▋                                                                         | 16/150 [03:46<31:38, 14.17s/it]2023-07-12 14:26:40.876946: I tensorflow/core/profiler/lib/profiler_session.cc:136] Profiler session initializing.\n",
      "2023-07-12 14:26:40.876961: I tensorflow/core/profiler/lib/profiler_session.cc:155] Profiler session started.\n",
      "2023-07-12 14:26:40.876991: E tensorflow/core/profiler/internal/gpu/cupti_tracer.cc:1415] function cupti_interface_->Subscribe( &subscriber_, (CUpti_CallbackFunc)ApiCallback, this)failed with error CUPTI_ERROR_NOT_INITIALIZED\n",
      "2023-07-12 14:26:40.877001: I tensorflow/core/profiler/lib/profiler_session.cc:172] Profiler session tear down.\n"
     ]
    },
    {
     "name": "stdout",
     "output_type": "stream",
     "text": [
      "[LOG] -- VAL ACC INCREASED........... SAVING MDOEL 0.5821999907493591\n"
     ]
    },
    {
     "name": "stderr",
     "output_type": "stream",
     "text": [
      " 11%|█████████▎                                                                        | 17/150 [04:02<32:33, 14.69s/it]2023-07-12 14:26:56.770170: I tensorflow/core/profiler/lib/profiler_session.cc:136] Profiler session initializing.\n",
      "2023-07-12 14:26:56.770185: I tensorflow/core/profiler/lib/profiler_session.cc:155] Profiler session started.\n",
      "2023-07-12 14:26:56.770215: E tensorflow/core/profiler/internal/gpu/cupti_tracer.cc:1415] function cupti_interface_->Subscribe( &subscriber_, (CUpti_CallbackFunc)ApiCallback, this)failed with error CUPTI_ERROR_NOT_INITIALIZED\n",
      "2023-07-12 14:26:56.770225: I tensorflow/core/profiler/lib/profiler_session.cc:172] Profiler session tear down.\n"
     ]
    },
    {
     "name": "stdout",
     "output_type": "stream",
     "text": [
      "[LOG] -- Val ACC Did Not Increase\n"
     ]
    },
    {
     "name": "stderr",
     "output_type": "stream",
     "text": [
      " 12%|█████████▊                                                                        | 18/150 [04:14<30:37, 13.92s/it]2023-07-12 14:27:08.919621: I tensorflow/core/profiler/lib/profiler_session.cc:136] Profiler session initializing.\n",
      "2023-07-12 14:27:08.919635: I tensorflow/core/profiler/lib/profiler_session.cc:155] Profiler session started.\n",
      "2023-07-12 14:27:08.919665: E tensorflow/core/profiler/internal/gpu/cupti_tracer.cc:1415] function cupti_interface_->Subscribe( &subscriber_, (CUpti_CallbackFunc)ApiCallback, this)failed with error CUPTI_ERROR_NOT_INITIALIZED\n",
      "2023-07-12 14:27:08.919675: I tensorflow/core/profiler/lib/profiler_session.cc:172] Profiler session tear down.\n"
     ]
    },
    {
     "name": "stdout",
     "output_type": "stream",
     "text": [
      "[LOG] -- VAL ACC INCREASED........... SAVING MDOEL 0.6087999939918518\n"
     ]
    },
    {
     "name": "stderr",
     "output_type": "stream",
     "text": [
      " 13%|██████████▍                                                                       | 19/150 [04:30<31:31, 14.44s/it]2023-07-12 14:27:24.561557: I tensorflow/core/profiler/lib/profiler_session.cc:136] Profiler session initializing.\n",
      "2023-07-12 14:27:24.561572: I tensorflow/core/profiler/lib/profiler_session.cc:155] Profiler session started.\n",
      "2023-07-12 14:27:24.561603: E tensorflow/core/profiler/internal/gpu/cupti_tracer.cc:1415] function cupti_interface_->Subscribe( &subscriber_, (CUpti_CallbackFunc)ApiCallback, this)failed with error CUPTI_ERROR_NOT_INITIALIZED\n",
      "2023-07-12 14:27:24.561612: I tensorflow/core/profiler/lib/profiler_session.cc:172] Profiler session tear down.\n"
     ]
    },
    {
     "name": "stdout",
     "output_type": "stream",
     "text": [
      "[LOG] -- Val ACC Did Not Increase\n"
     ]
    },
    {
     "name": "stderr",
     "output_type": "stream",
     "text": [
      " 13%|██████████▉                                                                       | 20/150 [04:42<29:47, 13.75s/it]2023-07-12 14:27:36.710335: I tensorflow/core/profiler/lib/profiler_session.cc:136] Profiler session initializing.\n",
      "2023-07-12 14:27:36.710350: I tensorflow/core/profiler/lib/profiler_session.cc:155] Profiler session started.\n",
      "2023-07-12 14:27:36.710381: E tensorflow/core/profiler/internal/gpu/cupti_tracer.cc:1415] function cupti_interface_->Subscribe( &subscriber_, (CUpti_CallbackFunc)ApiCallback, this)failed with error CUPTI_ERROR_NOT_INITIALIZED\n",
      "2023-07-12 14:27:36.710390: I tensorflow/core/profiler/lib/profiler_session.cc:172] Profiler session tear down.\n"
     ]
    },
    {
     "name": "stdout",
     "output_type": "stream",
     "text": [
      "[LOG] -- VAL ACC INCREASED........... SAVING MDOEL 0.6140000224113464\n"
     ]
    },
    {
     "name": "stderr",
     "output_type": "stream",
     "text": [
      " 14%|███████████▍                                                                      | 21/150 [04:58<30:57, 14.40s/it]2023-07-12 14:27:52.623316: I tensorflow/core/profiler/lib/profiler_session.cc:136] Profiler session initializing.\n",
      "2023-07-12 14:27:52.623331: I tensorflow/core/profiler/lib/profiler_session.cc:155] Profiler session started.\n",
      "2023-07-12 14:27:52.623362: E tensorflow/core/profiler/internal/gpu/cupti_tracer.cc:1415] function cupti_interface_->Subscribe( &subscriber_, (CUpti_CallbackFunc)ApiCallback, this)failed with error CUPTI_ERROR_NOT_INITIALIZED\n",
      "2023-07-12 14:27:52.623372: I tensorflow/core/profiler/lib/profiler_session.cc:172] Profiler session tear down.\n"
     ]
    },
    {
     "name": "stdout",
     "output_type": "stream",
     "text": [
      "[LOG] -- VAL ACC INCREASED........... SAVING MDOEL 0.6248000264167786\n"
     ]
    },
    {
     "name": "stderr",
     "output_type": "stream",
     "text": [
      " 15%|████████████                                                                      | 22/150 [05:14<31:43, 14.87s/it]2023-07-12 14:28:08.595639: I tensorflow/core/profiler/lib/profiler_session.cc:136] Profiler session initializing.\n",
      "2023-07-12 14:28:08.595654: I tensorflow/core/profiler/lib/profiler_session.cc:155] Profiler session started.\n",
      "2023-07-12 14:28:08.595685: E tensorflow/core/profiler/internal/gpu/cupti_tracer.cc:1415] function cupti_interface_->Subscribe( &subscriber_, (CUpti_CallbackFunc)ApiCallback, this)failed with error CUPTI_ERROR_NOT_INITIALIZED\n",
      "2023-07-12 14:28:08.595694: I tensorflow/core/profiler/lib/profiler_session.cc:172] Profiler session tear down.\n"
     ]
    },
    {
     "name": "stdout",
     "output_type": "stream",
     "text": [
      "[LOG] -- Val ACC Did Not Increase\n"
     ]
    },
    {
     "name": "stderr",
     "output_type": "stream",
     "text": [
      " 15%|████████████▌                                                                     | 23/150 [05:26<29:45, 14.06s/it]2023-07-12 14:28:20.756543: I tensorflow/core/profiler/lib/profiler_session.cc:136] Profiler session initializing.\n",
      "2023-07-12 14:28:20.756558: I tensorflow/core/profiler/lib/profiler_session.cc:155] Profiler session started.\n",
      "2023-07-12 14:28:20.756589: E tensorflow/core/profiler/internal/gpu/cupti_tracer.cc:1415] function cupti_interface_->Subscribe( &subscriber_, (CUpti_CallbackFunc)ApiCallback, this)failed with error CUPTI_ERROR_NOT_INITIALIZED\n",
      "2023-07-12 14:28:20.756598: I tensorflow/core/profiler/lib/profiler_session.cc:172] Profiler session tear down.\n"
     ]
    },
    {
     "name": "stdout",
     "output_type": "stream",
     "text": [
      "[LOG] -- VAL ACC INCREASED........... SAVING MDOEL 0.6305999755859375\n"
     ]
    },
    {
     "name": "stderr",
     "output_type": "stream",
     "text": [
      " 16%|█████████████                                                                     | 24/150 [05:42<30:40, 14.60s/it]2023-07-12 14:28:36.634068: I tensorflow/core/profiler/lib/profiler_session.cc:136] Profiler session initializing.\n",
      "2023-07-12 14:28:36.634082: I tensorflow/core/profiler/lib/profiler_session.cc:155] Profiler session started.\n",
      "2023-07-12 14:28:36.634112: E tensorflow/core/profiler/internal/gpu/cupti_tracer.cc:1415] function cupti_interface_->Subscribe( &subscriber_, (CUpti_CallbackFunc)ApiCallback, this)failed with error CUPTI_ERROR_NOT_INITIALIZED\n",
      "2023-07-12 14:28:36.634121: I tensorflow/core/profiler/lib/profiler_session.cc:172] Profiler session tear down.\n"
     ]
    },
    {
     "name": "stdout",
     "output_type": "stream",
     "text": [
      "[LOG] -- VAL ACC INCREASED........... SAVING MDOEL 0.6344000101089478\n"
     ]
    },
    {
     "name": "stderr",
     "output_type": "stream",
     "text": [
      " 17%|█████████████▋                                                                    | 25/150 [05:58<31:28, 15.11s/it]2023-07-12 14:28:52.915374: I tensorflow/core/profiler/lib/profiler_session.cc:136] Profiler session initializing.\n",
      "2023-07-12 14:28:52.915390: I tensorflow/core/profiler/lib/profiler_session.cc:155] Profiler session started.\n",
      "2023-07-12 14:28:52.915421: E tensorflow/core/profiler/internal/gpu/cupti_tracer.cc:1415] function cupti_interface_->Subscribe( &subscriber_, (CUpti_CallbackFunc)ApiCallback, this)failed with error CUPTI_ERROR_NOT_INITIALIZED\n",
      "2023-07-12 14:28:52.915432: I tensorflow/core/profiler/lib/profiler_session.cc:172] Profiler session tear down.\n"
     ]
    },
    {
     "name": "stdout",
     "output_type": "stream",
     "text": [
      "[LOG] -- Val ACC Did Not Increase\n"
     ]
    },
    {
     "name": "stderr",
     "output_type": "stream",
     "text": [
      " 17%|██████████████▏                                                                   | 26/150 [06:10<29:24, 14.23s/it]2023-07-12 14:29:05.091661: I tensorflow/core/profiler/lib/profiler_session.cc:136] Profiler session initializing.\n",
      "2023-07-12 14:29:05.091675: I tensorflow/core/profiler/lib/profiler_session.cc:155] Profiler session started.\n",
      "2023-07-12 14:29:05.091705: E tensorflow/core/profiler/internal/gpu/cupti_tracer.cc:1415] function cupti_interface_->Subscribe( &subscriber_, (CUpti_CallbackFunc)ApiCallback, this)failed with error CUPTI_ERROR_NOT_INITIALIZED\n",
      "2023-07-12 14:29:05.091714: I tensorflow/core/profiler/lib/profiler_session.cc:172] Profiler session tear down.\n"
     ]
    },
    {
     "name": "stdout",
     "output_type": "stream",
     "text": [
      "[LOG] -- VAL ACC INCREASED........... SAVING MDOEL 0.6453999876976013\n"
     ]
    },
    {
     "name": "stderr",
     "output_type": "stream",
     "text": [
      " 18%|██████████████▊                                                                   | 27/150 [06:26<30:08, 14.70s/it]2023-07-12 14:29:20.901393: I tensorflow/core/profiler/lib/profiler_session.cc:136] Profiler session initializing.\n",
      "2023-07-12 14:29:20.901409: I tensorflow/core/profiler/lib/profiler_session.cc:155] Profiler session started.\n",
      "2023-07-12 14:29:20.901439: E tensorflow/core/profiler/internal/gpu/cupti_tracer.cc:1415] function cupti_interface_->Subscribe( &subscriber_, (CUpti_CallbackFunc)ApiCallback, this)failed with error CUPTI_ERROR_NOT_INITIALIZED\n",
      "2023-07-12 14:29:20.901449: I tensorflow/core/profiler/lib/profiler_session.cc:172] Profiler session tear down.\n"
     ]
    },
    {
     "name": "stdout",
     "output_type": "stream",
     "text": [
      "[LOG] -- Val ACC Did Not Increase\n"
     ]
    },
    {
     "name": "stderr",
     "output_type": "stream",
     "text": [
      " 19%|███████████████▎                                                                  | 28/150 [06:38<28:19, 13.93s/it]2023-07-12 14:29:33.035255: I tensorflow/core/profiler/lib/profiler_session.cc:136] Profiler session initializing.\n",
      "2023-07-12 14:29:33.035274: I tensorflow/core/profiler/lib/profiler_session.cc:155] Profiler session started.\n",
      "2023-07-12 14:29:33.035320: E tensorflow/core/profiler/internal/gpu/cupti_tracer.cc:1415] function cupti_interface_->Subscribe( &subscriber_, (CUpti_CallbackFunc)ApiCallback, this)failed with error CUPTI_ERROR_NOT_INITIALIZED\n",
      "2023-07-12 14:29:33.035330: I tensorflow/core/profiler/lib/profiler_session.cc:172] Profiler session tear down.\n"
     ]
    },
    {
     "name": "stdout",
     "output_type": "stream",
     "text": [
      "[LOG] -- Val ACC Did Not Increase\n"
     ]
    },
    {
     "name": "stderr",
     "output_type": "stream",
     "text": [
      " 19%|███████████████▊                                                                  | 29/150 [06:50<27:01, 13.40s/it]2023-07-12 14:29:45.190049: I tensorflow/core/profiler/lib/profiler_session.cc:136] Profiler session initializing.\n",
      "2023-07-12 14:29:45.190062: I tensorflow/core/profiler/lib/profiler_session.cc:155] Profiler session started.\n",
      "2023-07-12 14:29:45.190093: E tensorflow/core/profiler/internal/gpu/cupti_tracer.cc:1415] function cupti_interface_->Subscribe( &subscriber_, (CUpti_CallbackFunc)ApiCallback, this)failed with error CUPTI_ERROR_NOT_INITIALIZED\n",
      "2023-07-12 14:29:45.190102: I tensorflow/core/profiler/lib/profiler_session.cc:172] Profiler session tear down.\n"
     ]
    },
    {
     "name": "stdout",
     "output_type": "stream",
     "text": [
      "[LOG] -- Val ACC Did Not Increase\n"
     ]
    },
    {
     "name": "stderr",
     "output_type": "stream",
     "text": [
      " 20%|████████████████▍                                                                 | 30/150 [07:03<26:02, 13.02s/it]2023-07-12 14:29:57.321327: I tensorflow/core/profiler/lib/profiler_session.cc:136] Profiler session initializing.\n",
      "2023-07-12 14:29:57.321342: I tensorflow/core/profiler/lib/profiler_session.cc:155] Profiler session started.\n",
      "2023-07-12 14:29:57.321374: E tensorflow/core/profiler/internal/gpu/cupti_tracer.cc:1415] function cupti_interface_->Subscribe( &subscriber_, (CUpti_CallbackFunc)ApiCallback, this)failed with error CUPTI_ERROR_NOT_INITIALIZED\n",
      "2023-07-12 14:29:57.321383: I tensorflow/core/profiler/lib/profiler_session.cc:172] Profiler session tear down.\n"
     ]
    },
    {
     "name": "stdout",
     "output_type": "stream",
     "text": [
      "[LOG] -- VAL ACC INCREASED........... SAVING MDOEL 0.6496000289916992\n"
     ]
    },
    {
     "name": "stderr",
     "output_type": "stream",
     "text": [
      " 21%|████████████████▉                                                                 | 31/150 [07:18<27:24, 13.82s/it]2023-07-12 14:30:13.020766: I tensorflow/core/profiler/lib/profiler_session.cc:136] Profiler session initializing.\n",
      "2023-07-12 14:30:13.020780: I tensorflow/core/profiler/lib/profiler_session.cc:155] Profiler session started.\n",
      "2023-07-12 14:30:13.020810: E tensorflow/core/profiler/internal/gpu/cupti_tracer.cc:1415] function cupti_interface_->Subscribe( &subscriber_, (CUpti_CallbackFunc)ApiCallback, this)failed with error CUPTI_ERROR_NOT_INITIALIZED\n",
      "2023-07-12 14:30:13.020820: I tensorflow/core/profiler/lib/profiler_session.cc:172] Profiler session tear down.\n"
     ]
    },
    {
     "name": "stdout",
     "output_type": "stream",
     "text": [
      "[LOG] -- Val ACC Did Not Increase\n"
     ]
    },
    {
     "name": "stderr",
     "output_type": "stream",
     "text": [
      " 21%|█████████████████▍                                                                | 32/150 [07:30<26:12, 13.32s/it]2023-07-12 14:30:25.180458: I tensorflow/core/profiler/lib/profiler_session.cc:136] Profiler session initializing.\n",
      "2023-07-12 14:30:25.180473: I tensorflow/core/profiler/lib/profiler_session.cc:155] Profiler session started.\n",
      "2023-07-12 14:30:25.180505: E tensorflow/core/profiler/internal/gpu/cupti_tracer.cc:1415] function cupti_interface_->Subscribe( &subscriber_, (CUpti_CallbackFunc)ApiCallback, this)failed with error CUPTI_ERROR_NOT_INITIALIZED\n",
      "2023-07-12 14:30:25.180514: I tensorflow/core/profiler/lib/profiler_session.cc:172] Profiler session tear down.\n"
     ]
    },
    {
     "name": "stdout",
     "output_type": "stream",
     "text": [
      "[LOG] -- VAL ACC INCREASED........... SAVING MDOEL 0.656000018119812\n"
     ]
    },
    {
     "name": "stderr",
     "output_type": "stream",
     "text": [
      " 22%|██████████████████                                                                | 33/150 [07:46<27:27, 14.08s/it]2023-07-12 14:30:41.037677: I tensorflow/core/profiler/lib/profiler_session.cc:136] Profiler session initializing.\n",
      "2023-07-12 14:30:41.037691: I tensorflow/core/profiler/lib/profiler_session.cc:155] Profiler session started.\n",
      "2023-07-12 14:30:41.037721: E tensorflow/core/profiler/internal/gpu/cupti_tracer.cc:1415] function cupti_interface_->Subscribe( &subscriber_, (CUpti_CallbackFunc)ApiCallback, this)failed with error CUPTI_ERROR_NOT_INITIALIZED\n",
      "2023-07-12 14:30:41.037730: I tensorflow/core/profiler/lib/profiler_session.cc:172] Profiler session tear down.\n"
     ]
    },
    {
     "name": "stdout",
     "output_type": "stream",
     "text": [
      "[LOG] -- VAL ACC INCREASED........... SAVING MDOEL 0.6607999801635742\n"
     ]
    },
    {
     "name": "stderr",
     "output_type": "stream",
     "text": [
      " 23%|██████████████████▌                                                               | 34/150 [08:02<28:05, 14.53s/it]2023-07-12 14:30:56.614959: I tensorflow/core/profiler/lib/profiler_session.cc:136] Profiler session initializing.\n",
      "2023-07-12 14:30:56.614974: I tensorflow/core/profiler/lib/profiler_session.cc:155] Profiler session started.\n",
      "2023-07-12 14:30:56.615006: E tensorflow/core/profiler/internal/gpu/cupti_tracer.cc:1415] function cupti_interface_->Subscribe( &subscriber_, (CUpti_CallbackFunc)ApiCallback, this)failed with error CUPTI_ERROR_NOT_INITIALIZED\n",
      "2023-07-12 14:30:56.615015: I tensorflow/core/profiler/lib/profiler_session.cc:172] Profiler session tear down.\n"
     ]
    },
    {
     "name": "stdout",
     "output_type": "stream",
     "text": [
      "[LOG] -- Val ACC Did Not Increase\n"
     ]
    },
    {
     "name": "stderr",
     "output_type": "stream",
     "text": [
      " 23%|███████████████████▏                                                              | 35/150 [08:14<26:29, 13.82s/it]2023-07-12 14:31:08.790218: I tensorflow/core/profiler/lib/profiler_session.cc:136] Profiler session initializing.\n",
      "2023-07-12 14:31:08.790233: I tensorflow/core/profiler/lib/profiler_session.cc:155] Profiler session started.\n",
      "2023-07-12 14:31:08.790265: E tensorflow/core/profiler/internal/gpu/cupti_tracer.cc:1415] function cupti_interface_->Subscribe( &subscriber_, (CUpti_CallbackFunc)ApiCallback, this)failed with error CUPTI_ERROR_NOT_INITIALIZED\n",
      "2023-07-12 14:31:08.790275: I tensorflow/core/profiler/lib/profiler_session.cc:172] Profiler session tear down.\n"
     ]
    },
    {
     "name": "stdout",
     "output_type": "stream",
     "text": [
      "[LOG] -- Val ACC Did Not Increase\n"
     ]
    },
    {
     "name": "stderr",
     "output_type": "stream",
     "text": [
      " 24%|███████████████████▋                                                              | 36/150 [08:26<25:18, 13.32s/it]2023-07-12 14:31:20.937120: I tensorflow/core/profiler/lib/profiler_session.cc:136] Profiler session initializing.\n",
      "2023-07-12 14:31:20.937136: I tensorflow/core/profiler/lib/profiler_session.cc:155] Profiler session started.\n",
      "2023-07-12 14:31:20.937167: E tensorflow/core/profiler/internal/gpu/cupti_tracer.cc:1415] function cupti_interface_->Subscribe( &subscriber_, (CUpti_CallbackFunc)ApiCallback, this)failed with error CUPTI_ERROR_NOT_INITIALIZED\n",
      "2023-07-12 14:31:20.937178: I tensorflow/core/profiler/lib/profiler_session.cc:172] Profiler session tear down.\n"
     ]
    },
    {
     "name": "stdout",
     "output_type": "stream",
     "text": [
      "[LOG] -- VAL ACC INCREASED........... SAVING MDOEL 0.6639999747276306\n"
     ]
    },
    {
     "name": "stderr",
     "output_type": "stream",
     "text": [
      " 25%|████████████████████▏                                                             | 37/150 [08:42<26:18, 13.97s/it]2023-07-12 14:31:36.421191: I tensorflow/core/profiler/lib/profiler_session.cc:136] Profiler session initializing.\n",
      "2023-07-12 14:31:36.421206: I tensorflow/core/profiler/lib/profiler_session.cc:155] Profiler session started.\n",
      "2023-07-12 14:31:36.421236: E tensorflow/core/profiler/internal/gpu/cupti_tracer.cc:1415] function cupti_interface_->Subscribe( &subscriber_, (CUpti_CallbackFunc)ApiCallback, this)failed with error CUPTI_ERROR_NOT_INITIALIZED\n",
      "2023-07-12 14:31:36.421246: I tensorflow/core/profiler/lib/profiler_session.cc:172] Profiler session tear down.\n"
     ]
    },
    {
     "name": "stdout",
     "output_type": "stream",
     "text": [
      "[LOG] -- VAL ACC INCREASED........... SAVING MDOEL 0.6650000214576721\n"
     ]
    },
    {
     "name": "stderr",
     "output_type": "stream",
     "text": [
      " 25%|████████████████████▊                                                             | 38/150 [08:57<27:02, 14.48s/it]2023-07-12 14:31:52.105370: I tensorflow/core/profiler/lib/profiler_session.cc:136] Profiler session initializing.\n",
      "2023-07-12 14:31:52.105385: I tensorflow/core/profiler/lib/profiler_session.cc:155] Profiler session started.\n",
      "2023-07-12 14:31:52.105418: E tensorflow/core/profiler/internal/gpu/cupti_tracer.cc:1415] function cupti_interface_->Subscribe( &subscriber_, (CUpti_CallbackFunc)ApiCallback, this)failed with error CUPTI_ERROR_NOT_INITIALIZED\n",
      "2023-07-12 14:31:52.105428: I tensorflow/core/profiler/lib/profiler_session.cc:172] Profiler session tear down.\n"
     ]
    },
    {
     "name": "stdout",
     "output_type": "stream",
     "text": [
      "[LOG] -- Val ACC Did Not Increase\n"
     ]
    },
    {
     "name": "stderr",
     "output_type": "stream",
     "text": [
      " 26%|█████████████████████▎                                                            | 39/150 [09:10<25:31, 13.79s/it]2023-07-12 14:32:04.284554: I tensorflow/core/profiler/lib/profiler_session.cc:136] Profiler session initializing.\n",
      "2023-07-12 14:32:04.284568: I tensorflow/core/profiler/lib/profiler_session.cc:155] Profiler session started.\n",
      "2023-07-12 14:32:04.284598: E tensorflow/core/profiler/internal/gpu/cupti_tracer.cc:1415] function cupti_interface_->Subscribe( &subscriber_, (CUpti_CallbackFunc)ApiCallback, this)failed with error CUPTI_ERROR_NOT_INITIALIZED\n",
      "2023-07-12 14:32:04.284608: I tensorflow/core/profiler/lib/profiler_session.cc:172] Profiler session tear down.\n"
     ]
    },
    {
     "name": "stdout",
     "output_type": "stream",
     "text": [
      "[LOG] -- Val ACC Did Not Increase\n"
     ]
    },
    {
     "name": "stderr",
     "output_type": "stream",
     "text": [
      " 27%|█████████████████████▊                                                            | 40/150 [09:22<24:23, 13.30s/it]2023-07-12 14:32:16.450753: I tensorflow/core/profiler/lib/profiler_session.cc:136] Profiler session initializing.\n",
      "2023-07-12 14:32:16.450767: I tensorflow/core/profiler/lib/profiler_session.cc:155] Profiler session started.\n",
      "2023-07-12 14:32:16.450797: E tensorflow/core/profiler/internal/gpu/cupti_tracer.cc:1415] function cupti_interface_->Subscribe( &subscriber_, (CUpti_CallbackFunc)ApiCallback, this)failed with error CUPTI_ERROR_NOT_INITIALIZED\n",
      "2023-07-12 14:32:16.450806: I tensorflow/core/profiler/lib/profiler_session.cc:172] Profiler session tear down.\n"
     ]
    },
    {
     "name": "stdout",
     "output_type": "stream",
     "text": [
      "[LOG] -- VAL ACC INCREASED........... SAVING MDOEL 0.6725999712944031\n"
     ]
    },
    {
     "name": "stderr",
     "output_type": "stream",
     "text": [
      " 27%|██████████████████████▍                                                           | 41/150 [09:37<25:23, 13.98s/it]2023-07-12 14:32:32.005679: I tensorflow/core/profiler/lib/profiler_session.cc:136] Profiler session initializing.\n",
      "2023-07-12 14:32:32.005694: I tensorflow/core/profiler/lib/profiler_session.cc:155] Profiler session started.\n",
      "2023-07-12 14:32:32.005725: E tensorflow/core/profiler/internal/gpu/cupti_tracer.cc:1415] function cupti_interface_->Subscribe( &subscriber_, (CUpti_CallbackFunc)ApiCallback, this)failed with error CUPTI_ERROR_NOT_INITIALIZED\n",
      "2023-07-12 14:32:32.005734: I tensorflow/core/profiler/lib/profiler_session.cc:172] Profiler session tear down.\n"
     ]
    },
    {
     "name": "stdout",
     "output_type": "stream",
     "text": [
      "[LOG] -- Val ACC Did Not Increase\n"
     ]
    },
    {
     "name": "stderr",
     "output_type": "stream",
     "text": [
      " 28%|██████████████████████▉                                                           | 42/150 [09:49<24:11, 13.44s/it]2023-07-12 14:32:44.172475: I tensorflow/core/profiler/lib/profiler_session.cc:136] Profiler session initializing.\n",
      "2023-07-12 14:32:44.172489: I tensorflow/core/profiler/lib/profiler_session.cc:155] Profiler session started.\n",
      "2023-07-12 14:32:44.172520: E tensorflow/core/profiler/internal/gpu/cupti_tracer.cc:1415] function cupti_interface_->Subscribe( &subscriber_, (CUpti_CallbackFunc)ApiCallback, this)failed with error CUPTI_ERROR_NOT_INITIALIZED\n",
      "2023-07-12 14:32:44.172530: I tensorflow/core/profiler/lib/profiler_session.cc:172] Profiler session tear down.\n"
     ]
    },
    {
     "name": "stdout",
     "output_type": "stream",
     "text": [
      "[LOG] -- VAL ACC INCREASED........... SAVING MDOEL 0.6764000058174133\n"
     ]
    },
    {
     "name": "stderr",
     "output_type": "stream",
     "text": [
      " 29%|███████████████████████▌                                                          | 43/150 [10:05<25:02, 14.04s/it]2023-07-12 14:32:59.632956: I tensorflow/core/profiler/lib/profiler_session.cc:136] Profiler session initializing.\n",
      "2023-07-12 14:32:59.632971: I tensorflow/core/profiler/lib/profiler_session.cc:155] Profiler session started.\n",
      "2023-07-12 14:32:59.633002: E tensorflow/core/profiler/internal/gpu/cupti_tracer.cc:1415] function cupti_interface_->Subscribe( &subscriber_, (CUpti_CallbackFunc)ApiCallback, this)failed with error CUPTI_ERROR_NOT_INITIALIZED\n",
      "2023-07-12 14:32:59.633012: I tensorflow/core/profiler/lib/profiler_session.cc:172] Profiler session tear down.\n"
     ]
    },
    {
     "name": "stdout",
     "output_type": "stream",
     "text": [
      "[LOG] -- Val ACC Did Not Increase\n"
     ]
    },
    {
     "name": "stderr",
     "output_type": "stream",
     "text": [
      " 29%|████████████████████████                                                          | 44/150 [10:17<23:49, 13.49s/it]2023-07-12 14:33:11.819649: I tensorflow/core/profiler/lib/profiler_session.cc:136] Profiler session initializing.\n",
      "2023-07-12 14:33:11.819663: I tensorflow/core/profiler/lib/profiler_session.cc:155] Profiler session started.\n",
      "2023-07-12 14:33:11.819693: E tensorflow/core/profiler/internal/gpu/cupti_tracer.cc:1415] function cupti_interface_->Subscribe( &subscriber_, (CUpti_CallbackFunc)ApiCallback, this)failed with error CUPTI_ERROR_NOT_INITIALIZED\n",
      "2023-07-12 14:33:11.819703: I tensorflow/core/profiler/lib/profiler_session.cc:172] Profiler session tear down.\n"
     ]
    },
    {
     "name": "stdout",
     "output_type": "stream",
     "text": [
      "[LOG] -- Val ACC Did Not Increase\n"
     ]
    },
    {
     "name": "stderr",
     "output_type": "stream",
     "text": [
      " 30%|████████████████████████▌                                                         | 45/150 [10:29<22:53, 13.08s/it]2023-07-12 14:33:23.965756: I tensorflow/core/profiler/lib/profiler_session.cc:136] Profiler session initializing.\n",
      "2023-07-12 14:33:23.965771: I tensorflow/core/profiler/lib/profiler_session.cc:155] Profiler session started.\n",
      "2023-07-12 14:33:23.965802: E tensorflow/core/profiler/internal/gpu/cupti_tracer.cc:1415] function cupti_interface_->Subscribe( &subscriber_, (CUpti_CallbackFunc)ApiCallback, this)failed with error CUPTI_ERROR_NOT_INITIALIZED\n",
      "2023-07-12 14:33:23.965811: I tensorflow/core/profiler/lib/profiler_session.cc:172] Profiler session tear down.\n"
     ]
    },
    {
     "name": "stdout",
     "output_type": "stream",
     "text": [
      "[LOG] -- Val ACC Did Not Increase\n"
     ]
    },
    {
     "name": "stderr",
     "output_type": "stream",
     "text": [
      " 31%|█████████████████████████▏                                                        | 46/150 [10:41<22:11, 12.80s/it]2023-07-12 14:33:36.118553: I tensorflow/core/profiler/lib/profiler_session.cc:136] Profiler session initializing.\n",
      "2023-07-12 14:33:36.118567: I tensorflow/core/profiler/lib/profiler_session.cc:155] Profiler session started.\n",
      "2023-07-12 14:33:36.118599: E tensorflow/core/profiler/internal/gpu/cupti_tracer.cc:1415] function cupti_interface_->Subscribe( &subscriber_, (CUpti_CallbackFunc)ApiCallback, this)failed with error CUPTI_ERROR_NOT_INITIALIZED\n",
      "2023-07-12 14:33:36.118608: I tensorflow/core/profiler/lib/profiler_session.cc:172] Profiler session tear down.\n"
     ]
    },
    {
     "name": "stdout",
     "output_type": "stream",
     "text": [
      "[LOG] -- VAL ACC INCREASED........... SAVING MDOEL 0.6776000261306763\n"
     ]
    },
    {
     "name": "stderr",
     "output_type": "stream",
     "text": [
      " 31%|█████████████████████████▋                                                        | 47/150 [10:57<23:21, 13.61s/it]2023-07-12 14:33:51.598015: I tensorflow/core/profiler/lib/profiler_session.cc:136] Profiler session initializing.\n",
      "2023-07-12 14:33:51.598030: I tensorflow/core/profiler/lib/profiler_session.cc:155] Profiler session started.\n",
      "2023-07-12 14:33:51.598060: E tensorflow/core/profiler/internal/gpu/cupti_tracer.cc:1415] function cupti_interface_->Subscribe( &subscriber_, (CUpti_CallbackFunc)ApiCallback, this)failed with error CUPTI_ERROR_NOT_INITIALIZED\n",
      "2023-07-12 14:33:51.598070: I tensorflow/core/profiler/lib/profiler_session.cc:172] Profiler session tear down.\n"
     ]
    },
    {
     "name": "stdout",
     "output_type": "stream",
     "text": [
      "[LOG] -- Val ACC Did Not Increase\n"
     ]
    },
    {
     "name": "stderr",
     "output_type": "stream",
     "text": [
      " 32%|██████████████████████████▏                                                       | 48/150 [11:09<22:24, 13.18s/it]2023-07-12 14:34:03.777718: I tensorflow/core/profiler/lib/profiler_session.cc:136] Profiler session initializing.\n",
      "2023-07-12 14:34:03.777732: I tensorflow/core/profiler/lib/profiler_session.cc:155] Profiler session started.\n",
      "2023-07-12 14:34:03.777763: E tensorflow/core/profiler/internal/gpu/cupti_tracer.cc:1415] function cupti_interface_->Subscribe( &subscriber_, (CUpti_CallbackFunc)ApiCallback, this)failed with error CUPTI_ERROR_NOT_INITIALIZED\n",
      "2023-07-12 14:34:03.777772: I tensorflow/core/profiler/lib/profiler_session.cc:172] Profiler session tear down.\n"
     ]
    },
    {
     "name": "stdout",
     "output_type": "stream",
     "text": [
      "[LOG] -- Val ACC Did Not Increase\n"
     ]
    },
    {
     "name": "stderr",
     "output_type": "stream",
     "text": [
      " 33%|██████████████████████████▊                                                       | 49/150 [11:21<21:40, 12.88s/it]2023-07-12 14:34:15.946001: I tensorflow/core/profiler/lib/profiler_session.cc:136] Profiler session initializing.\n",
      "2023-07-12 14:34:15.946016: I tensorflow/core/profiler/lib/profiler_session.cc:155] Profiler session started.\n",
      "2023-07-12 14:34:15.946047: E tensorflow/core/profiler/internal/gpu/cupti_tracer.cc:1415] function cupti_interface_->Subscribe( &subscriber_, (CUpti_CallbackFunc)ApiCallback, this)failed with error CUPTI_ERROR_NOT_INITIALIZED\n",
      "2023-07-12 14:34:15.946056: I tensorflow/core/profiler/lib/profiler_session.cc:172] Profiler session tear down.\n"
     ]
    },
    {
     "name": "stdout",
     "output_type": "stream",
     "text": [
      "[LOG] -- VAL ACC INCREASED........... SAVING MDOEL 0.6812000274658203\n"
     ]
    },
    {
     "name": "stderr",
     "output_type": "stream",
     "text": [
      " 33%|███████████████████████████▎                                                      | 50/150 [11:37<22:46, 13.66s/it]2023-07-12 14:34:31.442901: I tensorflow/core/profiler/lib/profiler_session.cc:136] Profiler session initializing.\n",
      "2023-07-12 14:34:31.442917: I tensorflow/core/profiler/lib/profiler_session.cc:155] Profiler session started.\n",
      "2023-07-12 14:34:31.442948: E tensorflow/core/profiler/internal/gpu/cupti_tracer.cc:1415] function cupti_interface_->Subscribe( &subscriber_, (CUpti_CallbackFunc)ApiCallback, this)failed with error CUPTI_ERROR_NOT_INITIALIZED\n",
      "2023-07-12 14:34:31.442957: I tensorflow/core/profiler/lib/profiler_session.cc:172] Profiler session tear down.\n"
     ]
    },
    {
     "name": "stdout",
     "output_type": "stream",
     "text": [
      "[LOG] -- Val ACC Did Not Increase\n"
     ]
    },
    {
     "name": "stderr",
     "output_type": "stream",
     "text": [
      " 34%|███████████████████████████▉                                                      | 51/150 [11:49<21:47, 13.21s/it]2023-07-12 14:34:43.594518: I tensorflow/core/profiler/lib/profiler_session.cc:136] Profiler session initializing.\n",
      "2023-07-12 14:34:43.594533: I tensorflow/core/profiler/lib/profiler_session.cc:155] Profiler session started.\n",
      "2023-07-12 14:34:43.594563: E tensorflow/core/profiler/internal/gpu/cupti_tracer.cc:1415] function cupti_interface_->Subscribe( &subscriber_, (CUpti_CallbackFunc)ApiCallback, this)failed with error CUPTI_ERROR_NOT_INITIALIZED\n",
      "2023-07-12 14:34:43.594573: I tensorflow/core/profiler/lib/profiler_session.cc:172] Profiler session tear down.\n"
     ]
    },
    {
     "name": "stdout",
     "output_type": "stream",
     "text": [
      "[LOG] -- Val ACC Did Not Increase\n"
     ]
    },
    {
     "name": "stderr",
     "output_type": "stream",
     "text": [
      " 35%|████████████████████████████▍                                                     | 52/150 [12:01<21:02, 12.89s/it]2023-07-12 14:34:55.729822: I tensorflow/core/profiler/lib/profiler_session.cc:136] Profiler session initializing.\n",
      "2023-07-12 14:34:55.729836: I tensorflow/core/profiler/lib/profiler_session.cc:155] Profiler session started.\n",
      "2023-07-12 14:34:55.729866: E tensorflow/core/profiler/internal/gpu/cupti_tracer.cc:1415] function cupti_interface_->Subscribe( &subscriber_, (CUpti_CallbackFunc)ApiCallback, this)failed with error CUPTI_ERROR_NOT_INITIALIZED\n",
      "2023-07-12 14:34:55.729875: I tensorflow/core/profiler/lib/profiler_session.cc:172] Profiler session tear down.\n"
     ]
    },
    {
     "name": "stdout",
     "output_type": "stream",
     "text": [
      "[LOG] -- VAL ACC INCREASED........... SAVING MDOEL 0.6890000104904175\n"
     ]
    },
    {
     "name": "stderr",
     "output_type": "stream",
     "text": [
      " 35%|████████████████████████████▉                                                     | 53/150 [12:17<22:12, 13.74s/it]2023-07-12 14:35:11.461422: I tensorflow/core/profiler/lib/profiler_session.cc:136] Profiler session initializing.\n",
      "2023-07-12 14:35:11.461437: I tensorflow/core/profiler/lib/profiler_session.cc:155] Profiler session started.\n",
      "2023-07-12 14:35:11.461467: E tensorflow/core/profiler/internal/gpu/cupti_tracer.cc:1415] function cupti_interface_->Subscribe( &subscriber_, (CUpti_CallbackFunc)ApiCallback, this)failed with error CUPTI_ERROR_NOT_INITIALIZED\n",
      "2023-07-12 14:35:11.461476: I tensorflow/core/profiler/lib/profiler_session.cc:172] Profiler session tear down.\n"
     ]
    },
    {
     "name": "stdout",
     "output_type": "stream",
     "text": [
      "[LOG] -- Val ACC Did Not Increase\n"
     ]
    },
    {
     "name": "stderr",
     "output_type": "stream",
     "text": [
      " 36%|█████████████████████████████▌                                                    | 54/150 [12:29<21:14, 13.27s/it]2023-07-12 14:35:23.641822: I tensorflow/core/profiler/lib/profiler_session.cc:136] Profiler session initializing.\n",
      "2023-07-12 14:35:23.641837: I tensorflow/core/profiler/lib/profiler_session.cc:155] Profiler session started.\n",
      "2023-07-12 14:35:23.641868: E tensorflow/core/profiler/internal/gpu/cupti_tracer.cc:1415] function cupti_interface_->Subscribe( &subscriber_, (CUpti_CallbackFunc)ApiCallback, this)failed with error CUPTI_ERROR_NOT_INITIALIZED\n",
      "2023-07-12 14:35:23.641878: I tensorflow/core/profiler/lib/profiler_session.cc:172] Profiler session tear down.\n"
     ]
    },
    {
     "name": "stdout",
     "output_type": "stream",
     "text": [
      "[LOG] -- Val ACC Did Not Increase\n"
     ]
    },
    {
     "name": "stderr",
     "output_type": "stream",
     "text": [
      " 37%|██████████████████████████████                                                    | 55/150 [12:41<20:28, 12.93s/it]2023-07-12 14:35:35.783559: I tensorflow/core/profiler/lib/profiler_session.cc:136] Profiler session initializing.\n",
      "2023-07-12 14:35:35.783574: I tensorflow/core/profiler/lib/profiler_session.cc:155] Profiler session started.\n",
      "2023-07-12 14:35:35.783604: E tensorflow/core/profiler/internal/gpu/cupti_tracer.cc:1415] function cupti_interface_->Subscribe( &subscriber_, (CUpti_CallbackFunc)ApiCallback, this)failed with error CUPTI_ERROR_NOT_INITIALIZED\n",
      "2023-07-12 14:35:35.783614: I tensorflow/core/profiler/lib/profiler_session.cc:172] Profiler session tear down.\n"
     ]
    },
    {
     "name": "stdout",
     "output_type": "stream",
     "text": [
      "[LOG] -- Val ACC Did Not Increase\n"
     ]
    },
    {
     "name": "stderr",
     "output_type": "stream",
     "text": [
      " 37%|██████████████████████████████▌                                                   | 56/150 [12:53<19:53, 12.70s/it]2023-07-12 14:35:47.940396: I tensorflow/core/profiler/lib/profiler_session.cc:136] Profiler session initializing.\n",
      "2023-07-12 14:35:47.940410: I tensorflow/core/profiler/lib/profiler_session.cc:155] Profiler session started.\n",
      "2023-07-12 14:35:47.940440: E tensorflow/core/profiler/internal/gpu/cupti_tracer.cc:1415] function cupti_interface_->Subscribe( &subscriber_, (CUpti_CallbackFunc)ApiCallback, this)failed with error CUPTI_ERROR_NOT_INITIALIZED\n",
      "2023-07-12 14:35:47.940450: I tensorflow/core/profiler/lib/profiler_session.cc:172] Profiler session tear down.\n"
     ]
    },
    {
     "name": "stdout",
     "output_type": "stream",
     "text": [
      "[LOG] -- Val ACC Did Not Increase\n"
     ]
    },
    {
     "name": "stderr",
     "output_type": "stream",
     "text": [
      " 38%|███████████████████████████████▏                                                  | 57/150 [13:05<19:27, 12.56s/it]2023-07-12 14:36:00.157368: I tensorflow/core/profiler/lib/profiler_session.cc:136] Profiler session initializing.\n",
      "2023-07-12 14:36:00.157383: I tensorflow/core/profiler/lib/profiler_session.cc:155] Profiler session started.\n",
      "2023-07-12 14:36:00.157414: E tensorflow/core/profiler/internal/gpu/cupti_tracer.cc:1415] function cupti_interface_->Subscribe( &subscriber_, (CUpti_CallbackFunc)ApiCallback, this)failed with error CUPTI_ERROR_NOT_INITIALIZED\n",
      "2023-07-12 14:36:00.157424: I tensorflow/core/profiler/lib/profiler_session.cc:172] Profiler session tear down.\n"
     ]
    },
    {
     "name": "stdout",
     "output_type": "stream",
     "text": [
      "[LOG] -- VAL ACC INCREASED........... SAVING MDOEL 0.6955999732017517\n"
     ]
    },
    {
     "name": "stderr",
     "output_type": "stream",
     "text": [
      " 39%|███████████████████████████████▋                                                  | 58/150 [13:21<20:45, 13.54s/it]2023-07-12 14:36:15.999877: I tensorflow/core/profiler/lib/profiler_session.cc:136] Profiler session initializing.\n",
      "2023-07-12 14:36:15.999892: I tensorflow/core/profiler/lib/profiler_session.cc:155] Profiler session started.\n",
      "2023-07-12 14:36:15.999921: E tensorflow/core/profiler/internal/gpu/cupti_tracer.cc:1415] function cupti_interface_->Subscribe( &subscriber_, (CUpti_CallbackFunc)ApiCallback, this)failed with error CUPTI_ERROR_NOT_INITIALIZED\n",
      "2023-07-12 14:36:15.999931: I tensorflow/core/profiler/lib/profiler_session.cc:172] Profiler session tear down.\n"
     ]
    },
    {
     "name": "stdout",
     "output_type": "stream",
     "text": [
      "[LOG] -- Val ACC Did Not Increase\n"
     ]
    },
    {
     "name": "stderr",
     "output_type": "stream",
     "text": [
      " 39%|████████████████████████████████▎                                                 | 59/150 [13:33<19:54, 13.13s/it]2023-07-12 14:36:28.155680: I tensorflow/core/profiler/lib/profiler_session.cc:136] Profiler session initializing.\n",
      "2023-07-12 14:36:28.155694: I tensorflow/core/profiler/lib/profiler_session.cc:155] Profiler session started.\n",
      "2023-07-12 14:36:28.155725: E tensorflow/core/profiler/internal/gpu/cupti_tracer.cc:1415] function cupti_interface_->Subscribe( &subscriber_, (CUpti_CallbackFunc)ApiCallback, this)failed with error CUPTI_ERROR_NOT_INITIALIZED\n",
      "2023-07-12 14:36:28.155735: I tensorflow/core/profiler/lib/profiler_session.cc:172] Profiler session tear down.\n"
     ]
    },
    {
     "name": "stdout",
     "output_type": "stream",
     "text": [
      "[LOG] -- Val ACC Did Not Increase\n"
     ]
    },
    {
     "name": "stderr",
     "output_type": "stream",
     "text": [
      " 40%|████████████████████████████████▊                                                 | 60/150 [13:46<19:14, 12.83s/it]2023-07-12 14:36:40.302750: I tensorflow/core/profiler/lib/profiler_session.cc:136] Profiler session initializing.\n",
      "2023-07-12 14:36:40.302764: I tensorflow/core/profiler/lib/profiler_session.cc:155] Profiler session started.\n",
      "2023-07-12 14:36:40.302795: E tensorflow/core/profiler/internal/gpu/cupti_tracer.cc:1415] function cupti_interface_->Subscribe( &subscriber_, (CUpti_CallbackFunc)ApiCallback, this)failed with error CUPTI_ERROR_NOT_INITIALIZED\n",
      "2023-07-12 14:36:40.302804: I tensorflow/core/profiler/lib/profiler_session.cc:172] Profiler session tear down.\n"
     ]
    },
    {
     "name": "stdout",
     "output_type": "stream",
     "text": [
      "[LOG] -- Val ACC Did Not Increase\n"
     ]
    },
    {
     "name": "stderr",
     "output_type": "stream",
     "text": [
      " 41%|█████████████████████████████████▎                                                | 61/150 [13:58<18:44, 12.63s/it]2023-07-12 14:36:52.459222: I tensorflow/core/profiler/lib/profiler_session.cc:136] Profiler session initializing.\n",
      "2023-07-12 14:36:52.459236: I tensorflow/core/profiler/lib/profiler_session.cc:155] Profiler session started.\n",
      "2023-07-12 14:36:52.459289: E tensorflow/core/profiler/internal/gpu/cupti_tracer.cc:1415] function cupti_interface_->Subscribe( &subscriber_, (CUpti_CallbackFunc)ApiCallback, this)failed with error CUPTI_ERROR_NOT_INITIALIZED\n",
      "2023-07-12 14:36:52.459300: I tensorflow/core/profiler/lib/profiler_session.cc:172] Profiler session tear down.\n"
     ]
    },
    {
     "name": "stdout",
     "output_type": "stream",
     "text": [
      "[LOG] -- Val ACC Did Not Increase\n"
     ]
    },
    {
     "name": "stderr",
     "output_type": "stream",
     "text": [
      " 41%|█████████████████████████████████▉                                                | 62/150 [14:10<18:19, 12.49s/it]2023-07-12 14:37:04.620662: I tensorflow/core/profiler/lib/profiler_session.cc:136] Profiler session initializing.\n",
      "2023-07-12 14:37:04.620676: I tensorflow/core/profiler/lib/profiler_session.cc:155] Profiler session started.\n",
      "2023-07-12 14:37:04.620706: E tensorflow/core/profiler/internal/gpu/cupti_tracer.cc:1415] function cupti_interface_->Subscribe( &subscriber_, (CUpti_CallbackFunc)ApiCallback, this)failed with error CUPTI_ERROR_NOT_INITIALIZED\n",
      "2023-07-12 14:37:04.620716: I tensorflow/core/profiler/lib/profiler_session.cc:172] Profiler session tear down.\n"
     ]
    },
    {
     "name": "stdout",
     "output_type": "stream",
     "text": [
      "[LOG] -- Val ACC Did Not Increase\n"
     ]
    },
    {
     "name": "stderr",
     "output_type": "stream",
     "text": [
      " 42%|██████████████████████████████████▍                                               | 63/150 [14:22<17:58, 12.40s/it]2023-07-12 14:37:16.797663: I tensorflow/core/profiler/lib/profiler_session.cc:136] Profiler session initializing.\n",
      "2023-07-12 14:37:16.797679: I tensorflow/core/profiler/lib/profiler_session.cc:155] Profiler session started.\n",
      "2023-07-12 14:37:16.797710: E tensorflow/core/profiler/internal/gpu/cupti_tracer.cc:1415] function cupti_interface_->Subscribe( &subscriber_, (CUpti_CallbackFunc)ApiCallback, this)failed with error CUPTI_ERROR_NOT_INITIALIZED\n",
      "2023-07-12 14:37:16.797719: I tensorflow/core/profiler/lib/profiler_session.cc:172] Profiler session tear down.\n"
     ]
    },
    {
     "name": "stdout",
     "output_type": "stream",
     "text": [
      "[LOG] -- Val ACC Did Not Increase\n"
     ]
    },
    {
     "name": "stderr",
     "output_type": "stream",
     "text": [
      " 43%|██████████████████████████████████▉                                               | 64/150 [14:34<17:39, 12.32s/it]2023-07-12 14:37:28.953677: I tensorflow/core/profiler/lib/profiler_session.cc:136] Profiler session initializing.\n",
      "2023-07-12 14:37:28.953692: I tensorflow/core/profiler/lib/profiler_session.cc:155] Profiler session started.\n",
      "2023-07-12 14:37:28.953723: E tensorflow/core/profiler/internal/gpu/cupti_tracer.cc:1415] function cupti_interface_->Subscribe( &subscriber_, (CUpti_CallbackFunc)ApiCallback, this)failed with error CUPTI_ERROR_NOT_INITIALIZED\n",
      "2023-07-12 14:37:28.953732: I tensorflow/core/profiler/lib/profiler_session.cc:172] Profiler session tear down.\n"
     ]
    },
    {
     "name": "stdout",
     "output_type": "stream",
     "text": [
      "[LOG] -- VAL ACC INCREASED........... SAVING MDOEL 0.7085999846458435\n"
     ]
    },
    {
     "name": "stderr",
     "output_type": "stream",
     "text": [
      " 43%|███████████████████████████████████▌                                              | 65/150 [14:50<19:00, 13.42s/it]2023-07-12 14:37:44.918253: I tensorflow/core/profiler/lib/profiler_session.cc:136] Profiler session initializing.\n",
      "2023-07-12 14:37:44.918267: I tensorflow/core/profiler/lib/profiler_session.cc:155] Profiler session started.\n",
      "2023-07-12 14:37:44.918298: E tensorflow/core/profiler/internal/gpu/cupti_tracer.cc:1415] function cupti_interface_->Subscribe( &subscriber_, (CUpti_CallbackFunc)ApiCallback, this)failed with error CUPTI_ERROR_NOT_INITIALIZED\n",
      "2023-07-12 14:37:44.918307: I tensorflow/core/profiler/lib/profiler_session.cc:172] Profiler session tear down.\n"
     ]
    },
    {
     "name": "stdout",
     "output_type": "stream",
     "text": [
      "[LOG] -- Val ACC Did Not Increase\n"
     ]
    },
    {
     "name": "stderr",
     "output_type": "stream",
     "text": [
      " 44%|████████████████████████████████████                                              | 66/150 [15:02<18:15, 13.04s/it]2023-07-12 14:37:57.074956: I tensorflow/core/profiler/lib/profiler_session.cc:136] Profiler session initializing.\n",
      "2023-07-12 14:37:57.074972: I tensorflow/core/profiler/lib/profiler_session.cc:155] Profiler session started.\n",
      "2023-07-12 14:37:57.075002: E tensorflow/core/profiler/internal/gpu/cupti_tracer.cc:1415] function cupti_interface_->Subscribe( &subscriber_, (CUpti_CallbackFunc)ApiCallback, this)failed with error CUPTI_ERROR_NOT_INITIALIZED\n",
      "2023-07-12 14:37:57.075012: I tensorflow/core/profiler/lib/profiler_session.cc:172] Profiler session tear down.\n"
     ]
    },
    {
     "name": "stdout",
     "output_type": "stream",
     "text": [
      "[LOG] -- Val ACC Did Not Increase\n"
     ]
    },
    {
     "name": "stderr",
     "output_type": "stream",
     "text": [
      " 45%|████████████████████████████████████▋                                             | 67/150 [15:14<17:39, 12.77s/it]2023-07-12 14:38:09.220008: I tensorflow/core/profiler/lib/profiler_session.cc:136] Profiler session initializing.\n",
      "2023-07-12 14:38:09.220022: I tensorflow/core/profiler/lib/profiler_session.cc:155] Profiler session started.\n",
      "2023-07-12 14:38:09.220052: E tensorflow/core/profiler/internal/gpu/cupti_tracer.cc:1415] function cupti_interface_->Subscribe( &subscriber_, (CUpti_CallbackFunc)ApiCallback, this)failed with error CUPTI_ERROR_NOT_INITIALIZED\n",
      "2023-07-12 14:38:09.220062: I tensorflow/core/profiler/lib/profiler_session.cc:172] Profiler session tear down.\n"
     ]
    },
    {
     "name": "stdout",
     "output_type": "stream",
     "text": [
      "[LOG] -- Val ACC Did Not Increase\n"
     ]
    },
    {
     "name": "stderr",
     "output_type": "stream",
     "text": [
      " 45%|█████████████████████████████████████▏                                            | 68/150 [15:27<17:12, 12.59s/it]2023-07-12 14:38:21.375906: I tensorflow/core/profiler/lib/profiler_session.cc:136] Profiler session initializing.\n",
      "2023-07-12 14:38:21.375920: I tensorflow/core/profiler/lib/profiler_session.cc:155] Profiler session started.\n",
      "2023-07-12 14:38:21.375950: E tensorflow/core/profiler/internal/gpu/cupti_tracer.cc:1415] function cupti_interface_->Subscribe( &subscriber_, (CUpti_CallbackFunc)ApiCallback, this)failed with error CUPTI_ERROR_NOT_INITIALIZED\n",
      "2023-07-12 14:38:21.375960: I tensorflow/core/profiler/lib/profiler_session.cc:172] Profiler session tear down.\n"
     ]
    },
    {
     "name": "stdout",
     "output_type": "stream",
     "text": [
      "[LOG] -- Val ACC Did Not Increase\n"
     ]
    },
    {
     "name": "stderr",
     "output_type": "stream",
     "text": [
      " 46%|█████████████████████████████████████▋                                            | 69/150 [15:39<16:49, 12.46s/it]2023-07-12 14:38:33.542769: I tensorflow/core/profiler/lib/profiler_session.cc:136] Profiler session initializing.\n",
      "2023-07-12 14:38:33.542784: I tensorflow/core/profiler/lib/profiler_session.cc:155] Profiler session started.\n",
      "2023-07-12 14:38:33.542813: E tensorflow/core/profiler/internal/gpu/cupti_tracer.cc:1415] function cupti_interface_->Subscribe( &subscriber_, (CUpti_CallbackFunc)ApiCallback, this)failed with error CUPTI_ERROR_NOT_INITIALIZED\n",
      "2023-07-12 14:38:33.542822: I tensorflow/core/profiler/lib/profiler_session.cc:172] Profiler session tear down.\n"
     ]
    },
    {
     "name": "stdout",
     "output_type": "stream",
     "text": [
      "[LOG] -- Val ACC Did Not Increase\n"
     ]
    },
    {
     "name": "stderr",
     "output_type": "stream",
     "text": [
      " 47%|██████████████████████████████████████▎                                           | 70/150 [15:51<16:29, 12.37s/it]2023-07-12 14:38:45.706787: I tensorflow/core/profiler/lib/profiler_session.cc:136] Profiler session initializing.\n",
      "2023-07-12 14:38:45.706801: I tensorflow/core/profiler/lib/profiler_session.cc:155] Profiler session started.\n",
      "2023-07-12 14:38:45.706832: E tensorflow/core/profiler/internal/gpu/cupti_tracer.cc:1415] function cupti_interface_->Subscribe( &subscriber_, (CUpti_CallbackFunc)ApiCallback, this)failed with error CUPTI_ERROR_NOT_INITIALIZED\n",
      "2023-07-12 14:38:45.706841: I tensorflow/core/profiler/lib/profiler_session.cc:172] Profiler session tear down.\n"
     ]
    },
    {
     "name": "stdout",
     "output_type": "stream",
     "text": [
      "[LOG] -- Val ACC Did Not Increase\n"
     ]
    },
    {
     "name": "stderr",
     "output_type": "stream",
     "text": [
      " 47%|██████████████████████████████████████▊                                           | 71/150 [16:03<16:12, 12.31s/it]2023-07-12 14:38:57.865672: I tensorflow/core/profiler/lib/profiler_session.cc:136] Profiler session initializing.\n",
      "2023-07-12 14:38:57.865687: I tensorflow/core/profiler/lib/profiler_session.cc:155] Profiler session started.\n",
      "2023-07-12 14:38:57.865718: E tensorflow/core/profiler/internal/gpu/cupti_tracer.cc:1415] function cupti_interface_->Subscribe( &subscriber_, (CUpti_CallbackFunc)ApiCallback, this)failed with error CUPTI_ERROR_NOT_INITIALIZED\n",
      "2023-07-12 14:38:57.865728: I tensorflow/core/profiler/lib/profiler_session.cc:172] Profiler session tear down.\n"
     ]
    },
    {
     "name": "stdout",
     "output_type": "stream",
     "text": [
      "[LOG] -- Val ACC Did Not Increase\n"
     ]
    },
    {
     "name": "stderr",
     "output_type": "stream",
     "text": [
      " 48%|███████████████████████████████████████▎                                          | 72/150 [16:15<15:56, 12.26s/it]2023-07-12 14:39:10.022775: I tensorflow/core/profiler/lib/profiler_session.cc:136] Profiler session initializing.\n",
      "2023-07-12 14:39:10.022789: I tensorflow/core/profiler/lib/profiler_session.cc:155] Profiler session started.\n",
      "2023-07-12 14:39:10.022819: E tensorflow/core/profiler/internal/gpu/cupti_tracer.cc:1415] function cupti_interface_->Subscribe( &subscriber_, (CUpti_CallbackFunc)ApiCallback, this)failed with error CUPTI_ERROR_NOT_INITIALIZED\n",
      "2023-07-12 14:39:10.022828: I tensorflow/core/profiler/lib/profiler_session.cc:172] Profiler session tear down.\n"
     ]
    },
    {
     "name": "stdout",
     "output_type": "stream",
     "text": [
      "[LOG] -- Val ACC Did Not Increase\n"
     ]
    },
    {
     "name": "stderr",
     "output_type": "stream",
     "text": [
      " 49%|███████████████████████████████████████▉                                          | 73/150 [16:27<15:41, 12.23s/it]2023-07-12 14:39:22.188670: I tensorflow/core/profiler/lib/profiler_session.cc:136] Profiler session initializing.\n",
      "2023-07-12 14:39:22.188684: I tensorflow/core/profiler/lib/profiler_session.cc:155] Profiler session started.\n",
      "2023-07-12 14:39:22.188715: E tensorflow/core/profiler/internal/gpu/cupti_tracer.cc:1415] function cupti_interface_->Subscribe( &subscriber_, (CUpti_CallbackFunc)ApiCallback, this)failed with error CUPTI_ERROR_NOT_INITIALIZED\n",
      "2023-07-12 14:39:22.188725: I tensorflow/core/profiler/lib/profiler_session.cc:172] Profiler session tear down.\n"
     ]
    },
    {
     "name": "stdout",
     "output_type": "stream",
     "text": [
      "[LOG] -- VAL ACC INCREASED........... SAVING MDOEL 0.722599983215332\n"
     ]
    },
    {
     "name": "stderr",
     "output_type": "stream",
     "text": [
      " 49%|████████████████████████████████████████▍                                         | 74/150 [16:43<16:56, 13.37s/it]2023-07-12 14:39:38.215231: I tensorflow/core/profiler/lib/profiler_session.cc:136] Profiler session initializing.\n",
      "2023-07-12 14:39:38.215265: I tensorflow/core/profiler/lib/profiler_session.cc:155] Profiler session started.\n",
      "2023-07-12 14:39:38.215297: E tensorflow/core/profiler/internal/gpu/cupti_tracer.cc:1415] function cupti_interface_->Subscribe( &subscriber_, (CUpti_CallbackFunc)ApiCallback, this)failed with error CUPTI_ERROR_NOT_INITIALIZED\n",
      "2023-07-12 14:39:38.215306: I tensorflow/core/profiler/lib/profiler_session.cc:172] Profiler session tear down.\n"
     ]
    },
    {
     "name": "stdout",
     "output_type": "stream",
     "text": [
      "[LOG] -- Val ACC Did Not Increase\n"
     ]
    },
    {
     "name": "stderr",
     "output_type": "stream",
     "text": [
      " 50%|█████████████████████████████████████████                                         | 75/150 [16:56<16:16, 13.02s/it]2023-07-12 14:39:50.405082: I tensorflow/core/profiler/lib/profiler_session.cc:136] Profiler session initializing.\n",
      "2023-07-12 14:39:50.405096: I tensorflow/core/profiler/lib/profiler_session.cc:155] Profiler session started.\n",
      "2023-07-12 14:39:50.405127: E tensorflow/core/profiler/internal/gpu/cupti_tracer.cc:1415] function cupti_interface_->Subscribe( &subscriber_, (CUpti_CallbackFunc)ApiCallback, this)failed with error CUPTI_ERROR_NOT_INITIALIZED\n",
      "2023-07-12 14:39:50.405136: I tensorflow/core/profiler/lib/profiler_session.cc:172] Profiler session tear down.\n"
     ]
    },
    {
     "name": "stdout",
     "output_type": "stream",
     "text": [
      "[LOG] -- Val ACC Did Not Increase\n"
     ]
    },
    {
     "name": "stderr",
     "output_type": "stream",
     "text": [
      " 51%|█████████████████████████████████████████▌                                        | 76/150 [17:08<15:43, 12.75s/it]2023-07-12 14:40:02.541952: I tensorflow/core/profiler/lib/profiler_session.cc:136] Profiler session initializing.\n",
      "2023-07-12 14:40:02.541966: I tensorflow/core/profiler/lib/profiler_session.cc:155] Profiler session started.\n",
      "2023-07-12 14:40:02.541997: E tensorflow/core/profiler/internal/gpu/cupti_tracer.cc:1415] function cupti_interface_->Subscribe( &subscriber_, (CUpti_CallbackFunc)ApiCallback, this)failed with error CUPTI_ERROR_NOT_INITIALIZED\n",
      "2023-07-12 14:40:02.542007: I tensorflow/core/profiler/lib/profiler_session.cc:172] Profiler session tear down.\n"
     ]
    },
    {
     "name": "stdout",
     "output_type": "stream",
     "text": [
      "[LOG] -- Val ACC Did Not Increase\n"
     ]
    },
    {
     "name": "stderr",
     "output_type": "stream",
     "text": [
      " 51%|██████████████████████████████████████████                                        | 77/150 [17:20<15:18, 12.58s/it]2023-07-12 14:40:14.726922: I tensorflow/core/profiler/lib/profiler_session.cc:136] Profiler session initializing.\n",
      "2023-07-12 14:40:14.726936: I tensorflow/core/profiler/lib/profiler_session.cc:155] Profiler session started.\n",
      "2023-07-12 14:40:14.726967: E tensorflow/core/profiler/internal/gpu/cupti_tracer.cc:1415] function cupti_interface_->Subscribe( &subscriber_, (CUpti_CallbackFunc)ApiCallback, this)failed with error CUPTI_ERROR_NOT_INITIALIZED\n",
      "2023-07-12 14:40:14.726977: I tensorflow/core/profiler/lib/profiler_session.cc:172] Profiler session tear down.\n"
     ]
    },
    {
     "name": "stdout",
     "output_type": "stream",
     "text": [
      "[LOG] -- Val ACC Did Not Increase\n"
     ]
    },
    {
     "name": "stderr",
     "output_type": "stream",
     "text": [
      " 52%|██████████████████████████████████████████▋                                       | 78/150 [17:32<14:56, 12.46s/it]2023-07-12 14:40:26.884968: I tensorflow/core/profiler/lib/profiler_session.cc:136] Profiler session initializing.\n",
      "2023-07-12 14:40:26.884983: I tensorflow/core/profiler/lib/profiler_session.cc:155] Profiler session started.\n",
      "2023-07-12 14:40:26.885014: E tensorflow/core/profiler/internal/gpu/cupti_tracer.cc:1415] function cupti_interface_->Subscribe( &subscriber_, (CUpti_CallbackFunc)ApiCallback, this)failed with error CUPTI_ERROR_NOT_INITIALIZED\n",
      "2023-07-12 14:40:26.885024: I tensorflow/core/profiler/lib/profiler_session.cc:172] Profiler session tear down.\n"
     ]
    },
    {
     "name": "stdout",
     "output_type": "stream",
     "text": [
      "[LOG] -- Val ACC Did Not Increase\n"
     ]
    },
    {
     "name": "stderr",
     "output_type": "stream",
     "text": [
      " 53%|███████████████████████████████████████████▏                                      | 79/150 [17:44<14:38, 12.38s/it]2023-07-12 14:40:39.080447: I tensorflow/core/profiler/lib/profiler_session.cc:136] Profiler session initializing.\n",
      "2023-07-12 14:40:39.080462: I tensorflow/core/profiler/lib/profiler_session.cc:155] Profiler session started.\n",
      "2023-07-12 14:40:39.080492: E tensorflow/core/profiler/internal/gpu/cupti_tracer.cc:1415] function cupti_interface_->Subscribe( &subscriber_, (CUpti_CallbackFunc)ApiCallback, this)failed with error CUPTI_ERROR_NOT_INITIALIZED\n",
      "2023-07-12 14:40:39.080502: I tensorflow/core/profiler/lib/profiler_session.cc:172] Profiler session tear down.\n"
     ]
    },
    {
     "name": "stdout",
     "output_type": "stream",
     "text": [
      "[LOG] -- Val ACC Did Not Increase\n"
     ]
    },
    {
     "name": "stderr",
     "output_type": "stream",
     "text": [
      " 53%|███████████████████████████████████████████▋                                      | 80/150 [17:57<14:22, 12.32s/it]2023-07-12 14:40:51.261568: I tensorflow/core/profiler/lib/profiler_session.cc:136] Profiler session initializing.\n",
      "2023-07-12 14:40:51.261583: I tensorflow/core/profiler/lib/profiler_session.cc:155] Profiler session started.\n",
      "2023-07-12 14:40:51.261614: E tensorflow/core/profiler/internal/gpu/cupti_tracer.cc:1415] function cupti_interface_->Subscribe( &subscriber_, (CUpti_CallbackFunc)ApiCallback, this)failed with error CUPTI_ERROR_NOT_INITIALIZED\n",
      "2023-07-12 14:40:51.261623: I tensorflow/core/profiler/lib/profiler_session.cc:172] Profiler session tear down.\n"
     ]
    },
    {
     "name": "stdout",
     "output_type": "stream",
     "text": [
      "[LOG] -- Val ACC Did Not Increase\n"
     ]
    },
    {
     "name": "stderr",
     "output_type": "stream",
     "text": [
      " 54%|████████████████████████████████████████████▎                                     | 81/150 [18:09<14:06, 12.27s/it]2023-07-12 14:41:03.419975: I tensorflow/core/profiler/lib/profiler_session.cc:136] Profiler session initializing.\n",
      "2023-07-12 14:41:03.419990: I tensorflow/core/profiler/lib/profiler_session.cc:155] Profiler session started.\n",
      "2023-07-12 14:41:03.420020: E tensorflow/core/profiler/internal/gpu/cupti_tracer.cc:1415] function cupti_interface_->Subscribe( &subscriber_, (CUpti_CallbackFunc)ApiCallback, this)failed with error CUPTI_ERROR_NOT_INITIALIZED\n",
      "2023-07-12 14:41:03.420029: I tensorflow/core/profiler/lib/profiler_session.cc:172] Profiler session tear down.\n"
     ]
    },
    {
     "name": "stdout",
     "output_type": "stream",
     "text": [
      "[LOG] -- Val ACC Did Not Increase\n"
     ]
    },
    {
     "name": "stderr",
     "output_type": "stream",
     "text": [
      " 55%|████████████████████████████████████████████▊                                     | 82/150 [18:21<13:52, 12.25s/it]2023-07-12 14:41:15.610268: I tensorflow/core/profiler/lib/profiler_session.cc:136] Profiler session initializing.\n",
      "2023-07-12 14:41:15.610282: I tensorflow/core/profiler/lib/profiler_session.cc:155] Profiler session started.\n",
      "2023-07-12 14:41:15.610312: E tensorflow/core/profiler/internal/gpu/cupti_tracer.cc:1415] function cupti_interface_->Subscribe( &subscriber_, (CUpti_CallbackFunc)ApiCallback, this)failed with error CUPTI_ERROR_NOT_INITIALIZED\n",
      "2023-07-12 14:41:15.610322: I tensorflow/core/profiler/lib/profiler_session.cc:172] Profiler session tear down.\n"
     ]
    },
    {
     "name": "stdout",
     "output_type": "stream",
     "text": [
      "[LOG] -- Val ACC Did Not Increase\n"
     ]
    },
    {
     "name": "stderr",
     "output_type": "stream",
     "text": [
      " 55%|█████████████████████████████████████████████▎                                    | 83/150 [18:33<13:39, 12.23s/it]2023-07-12 14:41:27.795665: I tensorflow/core/profiler/lib/profiler_session.cc:136] Profiler session initializing.\n",
      "2023-07-12 14:41:27.795681: I tensorflow/core/profiler/lib/profiler_session.cc:155] Profiler session started.\n",
      "2023-07-12 14:41:27.795711: E tensorflow/core/profiler/internal/gpu/cupti_tracer.cc:1415] function cupti_interface_->Subscribe( &subscriber_, (CUpti_CallbackFunc)ApiCallback, this)failed with error CUPTI_ERROR_NOT_INITIALIZED\n",
      "2023-07-12 14:41:27.795720: I tensorflow/core/profiler/lib/profiler_session.cc:172] Profiler session tear down.\n"
     ]
    },
    {
     "name": "stdout",
     "output_type": "stream",
     "text": [
      "[LOG] -- Val ACC Did Not Increase\n"
     ]
    },
    {
     "name": "stderr",
     "output_type": "stream",
     "text": [
      " 56%|█████████████████████████████████████████████▉                                    | 84/150 [18:45<13:26, 12.21s/it]2023-07-12 14:41:39.979860: I tensorflow/core/profiler/lib/profiler_session.cc:136] Profiler session initializing.\n",
      "2023-07-12 14:41:39.979875: I tensorflow/core/profiler/lib/profiler_session.cc:155] Profiler session started.\n",
      "2023-07-12 14:41:39.979905: E tensorflow/core/profiler/internal/gpu/cupti_tracer.cc:1415] function cupti_interface_->Subscribe( &subscriber_, (CUpti_CallbackFunc)ApiCallback, this)failed with error CUPTI_ERROR_NOT_INITIALIZED\n",
      "2023-07-12 14:41:39.979915: I tensorflow/core/profiler/lib/profiler_session.cc:172] Profiler session tear down.\n"
     ]
    },
    {
     "name": "stdout",
     "output_type": "stream",
     "text": [
      "[LOG] -- VAL ACC INCREASED........... SAVING MDOEL 0.7260000109672546\n"
     ]
    },
    {
     "name": "stderr",
     "output_type": "stream",
     "text": [
      " 57%|██████████████████████████████████████████████▍                                   | 85/150 [19:01<14:26, 13.33s/it]2023-07-12 14:41:55.927428: I tensorflow/core/profiler/lib/profiler_session.cc:136] Profiler session initializing.\n",
      "2023-07-12 14:41:55.927443: I tensorflow/core/profiler/lib/profiler_session.cc:155] Profiler session started.\n",
      "2023-07-12 14:41:55.927472: E tensorflow/core/profiler/internal/gpu/cupti_tracer.cc:1415] function cupti_interface_->Subscribe( &subscriber_, (CUpti_CallbackFunc)ApiCallback, this)failed with error CUPTI_ERROR_NOT_INITIALIZED\n",
      "2023-07-12 14:41:55.927481: I tensorflow/core/profiler/lib/profiler_session.cc:172] Profiler session tear down.\n"
     ]
    },
    {
     "name": "stdout",
     "output_type": "stream",
     "text": [
      "[LOG] -- Val ACC Did Not Increase\n"
     ]
    },
    {
     "name": "stderr",
     "output_type": "stream",
     "text": [
      " 57%|███████████████████████████████████████████████                                   | 86/150 [19:13<13:51, 12.99s/it]2023-07-12 14:42:08.110465: I tensorflow/core/profiler/lib/profiler_session.cc:136] Profiler session initializing.\n",
      "2023-07-12 14:42:08.110480: I tensorflow/core/profiler/lib/profiler_session.cc:155] Profiler session started.\n",
      "2023-07-12 14:42:08.110510: E tensorflow/core/profiler/internal/gpu/cupti_tracer.cc:1415] function cupti_interface_->Subscribe( &subscriber_, (CUpti_CallbackFunc)ApiCallback, this)failed with error CUPTI_ERROR_NOT_INITIALIZED\n",
      "2023-07-12 14:42:08.110520: I tensorflow/core/profiler/lib/profiler_session.cc:172] Profiler session tear down.\n"
     ]
    },
    {
     "name": "stdout",
     "output_type": "stream",
     "text": [
      "[LOG] -- Val ACC Did Not Increase\n"
     ]
    },
    {
     "name": "stderr",
     "output_type": "stream",
     "text": [
      " 58%|███████████████████████████████████████████████▌                                  | 87/150 [19:26<13:22, 12.74s/it]2023-07-12 14:42:20.282329: I tensorflow/core/profiler/lib/profiler_session.cc:136] Profiler session initializing.\n",
      "2023-07-12 14:42:20.282343: I tensorflow/core/profiler/lib/profiler_session.cc:155] Profiler session started.\n",
      "2023-07-12 14:42:20.282374: E tensorflow/core/profiler/internal/gpu/cupti_tracer.cc:1415] function cupti_interface_->Subscribe( &subscriber_, (CUpti_CallbackFunc)ApiCallback, this)failed with error CUPTI_ERROR_NOT_INITIALIZED\n",
      "2023-07-12 14:42:20.282383: I tensorflow/core/profiler/lib/profiler_session.cc:172] Profiler session tear down.\n"
     ]
    },
    {
     "name": "stdout",
     "output_type": "stream",
     "text": [
      "[LOG] -- Val ACC Did Not Increase\n"
     ]
    },
    {
     "name": "stderr",
     "output_type": "stream",
     "text": [
      " 59%|████████████████████████████████████████████████                                  | 88/150 [19:38<12:59, 12.58s/it]2023-07-12 14:42:32.475372: I tensorflow/core/profiler/lib/profiler_session.cc:136] Profiler session initializing.\n",
      "2023-07-12 14:42:32.475388: I tensorflow/core/profiler/lib/profiler_session.cc:155] Profiler session started.\n",
      "2023-07-12 14:42:32.475419: E tensorflow/core/profiler/internal/gpu/cupti_tracer.cc:1415] function cupti_interface_->Subscribe( &subscriber_, (CUpti_CallbackFunc)ApiCallback, this)failed with error CUPTI_ERROR_NOT_INITIALIZED\n",
      "2023-07-12 14:42:32.475428: I tensorflow/core/profiler/lib/profiler_session.cc:172] Profiler session tear down.\n"
     ]
    },
    {
     "name": "stdout",
     "output_type": "stream",
     "text": [
      "[LOG] -- Val ACC Did Not Increase\n"
     ]
    },
    {
     "name": "stderr",
     "output_type": "stream",
     "text": [
      " 59%|████████████████████████████████████████████████▋                                 | 89/150 [19:50<12:39, 12.46s/it]2023-07-12 14:42:44.647746: I tensorflow/core/profiler/lib/profiler_session.cc:136] Profiler session initializing.\n",
      "2023-07-12 14:42:44.647761: I tensorflow/core/profiler/lib/profiler_session.cc:155] Profiler session started.\n",
      "2023-07-12 14:42:44.647791: E tensorflow/core/profiler/internal/gpu/cupti_tracer.cc:1415] function cupti_interface_->Subscribe( &subscriber_, (CUpti_CallbackFunc)ApiCallback, this)failed with error CUPTI_ERROR_NOT_INITIALIZED\n",
      "2023-07-12 14:42:44.647801: I tensorflow/core/profiler/lib/profiler_session.cc:172] Profiler session tear down.\n"
     ]
    },
    {
     "name": "stdout",
     "output_type": "stream",
     "text": [
      "[LOG] -- VAL ACC INCREASED........... SAVING MDOEL 0.7310000061988831\n"
     ]
    },
    {
     "name": "stderr",
     "output_type": "stream",
     "text": [
      " 60%|█████████████████████████████████████████████████▏                                | 90/150 [20:07<13:48, 13.81s/it]2023-07-12 14:43:01.622391: I tensorflow/core/profiler/lib/profiler_session.cc:136] Profiler session initializing.\n",
      "2023-07-12 14:43:01.622407: I tensorflow/core/profiler/lib/profiler_session.cc:155] Profiler session started.\n",
      "2023-07-12 14:43:01.622437: E tensorflow/core/profiler/internal/gpu/cupti_tracer.cc:1415] function cupti_interface_->Subscribe( &subscriber_, (CUpti_CallbackFunc)ApiCallback, this)failed with error CUPTI_ERROR_NOT_INITIALIZED\n",
      "2023-07-12 14:43:01.622447: I tensorflow/core/profiler/lib/profiler_session.cc:172] Profiler session tear down.\n"
     ]
    },
    {
     "name": "stdout",
     "output_type": "stream",
     "text": [
      "[LOG] -- Val ACC Did Not Increase\n"
     ]
    },
    {
     "name": "stderr",
     "output_type": "stream",
     "text": [
      " 61%|█████████████████████████████████████████████████▋                                | 91/150 [20:19<13:05, 13.32s/it]2023-07-12 14:43:13.786475: I tensorflow/core/profiler/lib/profiler_session.cc:136] Profiler session initializing.\n",
      "2023-07-12 14:43:13.786491: I tensorflow/core/profiler/lib/profiler_session.cc:155] Profiler session started.\n",
      "2023-07-12 14:43:13.786522: E tensorflow/core/profiler/internal/gpu/cupti_tracer.cc:1415] function cupti_interface_->Subscribe( &subscriber_, (CUpti_CallbackFunc)ApiCallback, this)failed with error CUPTI_ERROR_NOT_INITIALIZED\n",
      "2023-07-12 14:43:13.786532: I tensorflow/core/profiler/lib/profiler_session.cc:172] Profiler session tear down.\n"
     ]
    },
    {
     "name": "stdout",
     "output_type": "stream",
     "text": [
      "[LOG] -- Val ACC Did Not Increase\n"
     ]
    },
    {
     "name": "stderr",
     "output_type": "stream",
     "text": [
      " 61%|██████████████████████████████████████████████████▎                               | 92/150 [20:31<12:32, 12.98s/it]2023-07-12 14:43:25.975098: I tensorflow/core/profiler/lib/profiler_session.cc:136] Profiler session initializing.\n",
      "2023-07-12 14:43:25.975113: I tensorflow/core/profiler/lib/profiler_session.cc:155] Profiler session started.\n",
      "2023-07-12 14:43:25.975143: E tensorflow/core/profiler/internal/gpu/cupti_tracer.cc:1415] function cupti_interface_->Subscribe( &subscriber_, (CUpti_CallbackFunc)ApiCallback, this)failed with error CUPTI_ERROR_NOT_INITIALIZED\n",
      "2023-07-12 14:43:25.975152: I tensorflow/core/profiler/lib/profiler_session.cc:172] Profiler session tear down.\n"
     ]
    },
    {
     "name": "stdout",
     "output_type": "stream",
     "text": [
      "[LOG] -- Val ACC Did Not Increase\n"
     ]
    },
    {
     "name": "stderr",
     "output_type": "stream",
     "text": [
      " 62%|██████████████████████████████████████████████████▊                               | 93/150 [20:43<12:05, 12.73s/it]2023-07-12 14:43:38.121464: I tensorflow/core/profiler/lib/profiler_session.cc:136] Profiler session initializing.\n",
      "2023-07-12 14:43:38.121480: I tensorflow/core/profiler/lib/profiler_session.cc:155] Profiler session started.\n",
      "2023-07-12 14:43:38.121510: E tensorflow/core/profiler/internal/gpu/cupti_tracer.cc:1415] function cupti_interface_->Subscribe( &subscriber_, (CUpti_CallbackFunc)ApiCallback, this)failed with error CUPTI_ERROR_NOT_INITIALIZED\n",
      "2023-07-12 14:43:38.121520: I tensorflow/core/profiler/lib/profiler_session.cc:172] Profiler session tear down.\n"
     ]
    },
    {
     "name": "stdout",
     "output_type": "stream",
     "text": [
      "[LOG] -- Val ACC Did Not Increase\n"
     ]
    },
    {
     "name": "stderr",
     "output_type": "stream",
     "text": [
      " 63%|███████████████████████████████████████████████████▍                              | 94/150 [20:56<11:43, 12.57s/it]2023-07-12 14:43:50.304538: I tensorflow/core/profiler/lib/profiler_session.cc:136] Profiler session initializing.\n",
      "2023-07-12 14:43:50.304554: I tensorflow/core/profiler/lib/profiler_session.cc:155] Profiler session started.\n",
      "2023-07-12 14:43:50.304584: E tensorflow/core/profiler/internal/gpu/cupti_tracer.cc:1415] function cupti_interface_->Subscribe( &subscriber_, (CUpti_CallbackFunc)ApiCallback, this)failed with error CUPTI_ERROR_NOT_INITIALIZED\n",
      "2023-07-12 14:43:50.304594: I tensorflow/core/profiler/lib/profiler_session.cc:172] Profiler session tear down.\n"
     ]
    },
    {
     "name": "stdout",
     "output_type": "stream",
     "text": [
      "[LOG] -- VAL ACC INCREASED........... SAVING MDOEL 0.7332000136375427\n"
     ]
    },
    {
     "name": "stderr",
     "output_type": "stream",
     "text": [
      " 63%|███████████████████████████████████████████████████▉                              | 95/150 [21:11<12:26, 13.58s/it]2023-07-12 14:44:06.242851: I tensorflow/core/profiler/lib/profiler_session.cc:136] Profiler session initializing.\n",
      "2023-07-12 14:44:06.242865: I tensorflow/core/profiler/lib/profiler_session.cc:155] Profiler session started.\n",
      "2023-07-12 14:44:06.242895: E tensorflow/core/profiler/internal/gpu/cupti_tracer.cc:1415] function cupti_interface_->Subscribe( &subscriber_, (CUpti_CallbackFunc)ApiCallback, this)failed with error CUPTI_ERROR_NOT_INITIALIZED\n",
      "2023-07-12 14:44:06.242905: I tensorflow/core/profiler/lib/profiler_session.cc:172] Profiler session tear down.\n"
     ]
    },
    {
     "name": "stdout",
     "output_type": "stream",
     "text": [
      "[LOG] -- Val ACC Did Not Increase\n"
     ]
    },
    {
     "name": "stderr",
     "output_type": "stream",
     "text": [
      " 64%|████████████████████████████████████████████████████▍                             | 96/150 [21:24<11:50, 13.16s/it]2023-07-12 14:44:18.418714: I tensorflow/core/profiler/lib/profiler_session.cc:136] Profiler session initializing.\n",
      "2023-07-12 14:44:18.418730: I tensorflow/core/profiler/lib/profiler_session.cc:155] Profiler session started.\n",
      "2023-07-12 14:44:18.418760: E tensorflow/core/profiler/internal/gpu/cupti_tracer.cc:1415] function cupti_interface_->Subscribe( &subscriber_, (CUpti_CallbackFunc)ApiCallback, this)failed with error CUPTI_ERROR_NOT_INITIALIZED\n",
      "2023-07-12 14:44:18.418770: I tensorflow/core/profiler/lib/profiler_session.cc:172] Profiler session tear down.\n"
     ]
    },
    {
     "name": "stdout",
     "output_type": "stream",
     "text": [
      "[LOG] -- Val ACC Did Not Increase\n"
     ]
    },
    {
     "name": "stderr",
     "output_type": "stream",
     "text": [
      " 65%|█████████████████████████████████████████████████████                             | 97/150 [21:36<11:21, 12.86s/it]2023-07-12 14:44:30.581281: I tensorflow/core/profiler/lib/profiler_session.cc:136] Profiler session initializing.\n",
      "2023-07-12 14:44:30.581296: I tensorflow/core/profiler/lib/profiler_session.cc:155] Profiler session started.\n",
      "2023-07-12 14:44:30.581326: E tensorflow/core/profiler/internal/gpu/cupti_tracer.cc:1415] function cupti_interface_->Subscribe( &subscriber_, (CUpti_CallbackFunc)ApiCallback, this)failed with error CUPTI_ERROR_NOT_INITIALIZED\n",
      "2023-07-12 14:44:30.581335: I tensorflow/core/profiler/lib/profiler_session.cc:172] Profiler session tear down.\n"
     ]
    },
    {
     "name": "stdout",
     "output_type": "stream",
     "text": [
      "[LOG] -- Val ACC Did Not Increase\n"
     ]
    },
    {
     "name": "stderr",
     "output_type": "stream",
     "text": [
      " 65%|█████████████████████████████████████████████████████▌                            | 98/150 [21:48<10:58, 12.66s/it]2023-07-12 14:44:42.763144: I tensorflow/core/profiler/lib/profiler_session.cc:136] Profiler session initializing.\n",
      "2023-07-12 14:44:42.763159: I tensorflow/core/profiler/lib/profiler_session.cc:155] Profiler session started.\n",
      "2023-07-12 14:44:42.763189: E tensorflow/core/profiler/internal/gpu/cupti_tracer.cc:1415] function cupti_interface_->Subscribe( &subscriber_, (CUpti_CallbackFunc)ApiCallback, this)failed with error CUPTI_ERROR_NOT_INITIALIZED\n",
      "2023-07-12 14:44:42.763198: I tensorflow/core/profiler/lib/profiler_session.cc:172] Profiler session tear down.\n"
     ]
    },
    {
     "name": "stdout",
     "output_type": "stream",
     "text": [
      "[LOG] -- Val ACC Did Not Increase\n"
     ]
    },
    {
     "name": "stderr",
     "output_type": "stream",
     "text": [
      " 66%|██████████████████████████████████████████████████████                            | 99/150 [22:00<10:37, 12.50s/it]2023-07-12 14:44:54.913512: I tensorflow/core/profiler/lib/profiler_session.cc:136] Profiler session initializing.\n",
      "2023-07-12 14:44:54.913526: I tensorflow/core/profiler/lib/profiler_session.cc:155] Profiler session started.\n",
      "2023-07-12 14:44:54.913556: E tensorflow/core/profiler/internal/gpu/cupti_tracer.cc:1415] function cupti_interface_->Subscribe( &subscriber_, (CUpti_CallbackFunc)ApiCallback, this)failed with error CUPTI_ERROR_NOT_INITIALIZED\n",
      "2023-07-12 14:44:54.913565: I tensorflow/core/profiler/lib/profiler_session.cc:172] Profiler session tear down.\n"
     ]
    },
    {
     "name": "stdout",
     "output_type": "stream",
     "text": [
      "[LOG] -- VAL ACC INCREASED........... SAVING MDOEL 0.7372000217437744\n"
     ]
    },
    {
     "name": "stderr",
     "output_type": "stream",
     "text": [
      " 67%|██████████████████████████████████████████████████████                           | 100/150 [22:16<11:17, 13.55s/it]2023-07-12 14:45:10.918785: I tensorflow/core/profiler/lib/profiler_session.cc:136] Profiler session initializing.\n",
      "2023-07-12 14:45:10.918799: I tensorflow/core/profiler/lib/profiler_session.cc:155] Profiler session started.\n",
      "2023-07-12 14:45:10.918829: E tensorflow/core/profiler/internal/gpu/cupti_tracer.cc:1415] function cupti_interface_->Subscribe( &subscriber_, (CUpti_CallbackFunc)ApiCallback, this)failed with error CUPTI_ERROR_NOT_INITIALIZED\n",
      "2023-07-12 14:45:10.918838: I tensorflow/core/profiler/lib/profiler_session.cc:172] Profiler session tear down.\n"
     ]
    },
    {
     "name": "stdout",
     "output_type": "stream",
     "text": [
      "[LOG] -- Val ACC Did Not Increase\n"
     ]
    },
    {
     "name": "stderr",
     "output_type": "stream",
     "text": [
      " 67%|██████████████████████████████████████████████████████▌                          | 101/150 [22:28<10:44, 13.15s/it]2023-07-12 14:45:23.113959: I tensorflow/core/profiler/lib/profiler_session.cc:136] Profiler session initializing.\n",
      "2023-07-12 14:45:23.113974: I tensorflow/core/profiler/lib/profiler_session.cc:155] Profiler session started.\n",
      "2023-07-12 14:45:23.114006: E tensorflow/core/profiler/internal/gpu/cupti_tracer.cc:1415] function cupti_interface_->Subscribe( &subscriber_, (CUpti_CallbackFunc)ApiCallback, this)failed with error CUPTI_ERROR_NOT_INITIALIZED\n",
      "2023-07-12 14:45:23.114016: I tensorflow/core/profiler/lib/profiler_session.cc:172] Profiler session tear down.\n"
     ]
    },
    {
     "name": "stdout",
     "output_type": "stream",
     "text": [
      "[LOG] -- Val ACC Did Not Increase\n"
     ]
    },
    {
     "name": "stderr",
     "output_type": "stream",
     "text": [
      " 68%|███████████████████████████████████████████████████████                          | 102/150 [22:41<10:16, 12.85s/it]2023-07-12 14:45:35.257961: I tensorflow/core/profiler/lib/profiler_session.cc:136] Profiler session initializing.\n",
      "2023-07-12 14:45:35.257975: I tensorflow/core/profiler/lib/profiler_session.cc:155] Profiler session started.\n",
      "2023-07-12 14:45:35.258006: E tensorflow/core/profiler/internal/gpu/cupti_tracer.cc:1415] function cupti_interface_->Subscribe( &subscriber_, (CUpti_CallbackFunc)ApiCallback, this)failed with error CUPTI_ERROR_NOT_INITIALIZED\n",
      "2023-07-12 14:45:35.258015: I tensorflow/core/profiler/lib/profiler_session.cc:172] Profiler session tear down.\n"
     ]
    },
    {
     "name": "stdout",
     "output_type": "stream",
     "text": [
      "[LOG] -- Val ACC Did Not Increase\n"
     ]
    },
    {
     "name": "stderr",
     "output_type": "stream",
     "text": [
      " 69%|███████████████████████████████████████████████████████▌                         | 103/150 [22:53<09:54, 12.64s/it]2023-07-12 14:45:47.412793: I tensorflow/core/profiler/lib/profiler_session.cc:136] Profiler session initializing.\n",
      "2023-07-12 14:45:47.412807: I tensorflow/core/profiler/lib/profiler_session.cc:155] Profiler session started.\n",
      "2023-07-12 14:45:47.412839: E tensorflow/core/profiler/internal/gpu/cupti_tracer.cc:1415] function cupti_interface_->Subscribe( &subscriber_, (CUpti_CallbackFunc)ApiCallback, this)failed with error CUPTI_ERROR_NOT_INITIALIZED\n",
      "2023-07-12 14:45:47.412848: I tensorflow/core/profiler/lib/profiler_session.cc:172] Profiler session tear down.\n"
     ]
    },
    {
     "name": "stdout",
     "output_type": "stream",
     "text": [
      "[LOG] -- VAL ACC INCREASED........... SAVING MDOEL 0.7418000102043152\n"
     ]
    },
    {
     "name": "stderr",
     "output_type": "stream",
     "text": [
      " 69%|████████████████████████████████████████████████████████▏                        | 104/150 [23:08<10:24, 13.58s/it]2023-07-12 14:46:03.204197: I tensorflow/core/profiler/lib/profiler_session.cc:136] Profiler session initializing.\n",
      "2023-07-12 14:46:03.204212: I tensorflow/core/profiler/lib/profiler_session.cc:155] Profiler session started.\n",
      "2023-07-12 14:46:03.204243: E tensorflow/core/profiler/internal/gpu/cupti_tracer.cc:1415] function cupti_interface_->Subscribe( &subscriber_, (CUpti_CallbackFunc)ApiCallback, this)failed with error CUPTI_ERROR_NOT_INITIALIZED\n",
      "2023-07-12 14:46:03.204252: I tensorflow/core/profiler/lib/profiler_session.cc:172] Profiler session tear down.\n"
     ]
    },
    {
     "name": "stdout",
     "output_type": "stream",
     "text": [
      "[LOG] -- Val ACC Did Not Increase\n"
     ]
    },
    {
     "name": "stderr",
     "output_type": "stream",
     "text": [
      " 70%|████████████████████████████████████████████████████████▋                        | 105/150 [23:21<09:52, 13.16s/it]2023-07-12 14:46:15.365133: I tensorflow/core/profiler/lib/profiler_session.cc:136] Profiler session initializing.\n",
      "2023-07-12 14:46:15.365148: I tensorflow/core/profiler/lib/profiler_session.cc:155] Profiler session started.\n",
      "2023-07-12 14:46:15.365178: E tensorflow/core/profiler/internal/gpu/cupti_tracer.cc:1415] function cupti_interface_->Subscribe( &subscriber_, (CUpti_CallbackFunc)ApiCallback, this)failed with error CUPTI_ERROR_NOT_INITIALIZED\n",
      "2023-07-12 14:46:15.365188: I tensorflow/core/profiler/lib/profiler_session.cc:172] Profiler session tear down.\n"
     ]
    },
    {
     "name": "stdout",
     "output_type": "stream",
     "text": [
      "[LOG] -- Val ACC Did Not Increase\n"
     ]
    },
    {
     "name": "stderr",
     "output_type": "stream",
     "text": [
      " 71%|█████████████████████████████████████████████████████████▏                       | 106/150 [23:33<09:25, 12.85s/it]2023-07-12 14:46:27.500804: I tensorflow/core/profiler/lib/profiler_session.cc:136] Profiler session initializing.\n",
      "2023-07-12 14:46:27.500820: I tensorflow/core/profiler/lib/profiler_session.cc:155] Profiler session started.\n",
      "2023-07-12 14:46:27.500850: E tensorflow/core/profiler/internal/gpu/cupti_tracer.cc:1415] function cupti_interface_->Subscribe( &subscriber_, (CUpti_CallbackFunc)ApiCallback, this)failed with error CUPTI_ERROR_NOT_INITIALIZED\n",
      "2023-07-12 14:46:27.500861: I tensorflow/core/profiler/lib/profiler_session.cc:172] Profiler session tear down.\n"
     ]
    },
    {
     "name": "stdout",
     "output_type": "stream",
     "text": [
      "[LOG] -- Val ACC Did Not Increase\n"
     ]
    },
    {
     "name": "stderr",
     "output_type": "stream",
     "text": [
      " 71%|█████████████████████████████████████████████████████████▊                       | 107/150 [23:45<09:03, 12.65s/it]2023-07-12 14:46:39.670560: I tensorflow/core/profiler/lib/profiler_session.cc:136] Profiler session initializing.\n",
      "2023-07-12 14:46:39.670575: I tensorflow/core/profiler/lib/profiler_session.cc:155] Profiler session started.\n",
      "2023-07-12 14:46:39.670606: E tensorflow/core/profiler/internal/gpu/cupti_tracer.cc:1415] function cupti_interface_->Subscribe( &subscriber_, (CUpti_CallbackFunc)ApiCallback, this)failed with error CUPTI_ERROR_NOT_INITIALIZED\n",
      "2023-07-12 14:46:39.670615: I tensorflow/core/profiler/lib/profiler_session.cc:172] Profiler session tear down.\n"
     ]
    },
    {
     "name": "stdout",
     "output_type": "stream",
     "text": [
      "[LOG] -- Val ACC Did Not Increase\n"
     ]
    },
    {
     "name": "stderr",
     "output_type": "stream",
     "text": [
      " 72%|██████████████████████████████████████████████████████████▎                      | 108/150 [23:57<08:44, 12.50s/it]2023-07-12 14:46:51.828602: I tensorflow/core/profiler/lib/profiler_session.cc:136] Profiler session initializing.\n",
      "2023-07-12 14:46:51.828616: I tensorflow/core/profiler/lib/profiler_session.cc:155] Profiler session started.\n",
      "2023-07-12 14:46:51.828645: E tensorflow/core/profiler/internal/gpu/cupti_tracer.cc:1415] function cupti_interface_->Subscribe( &subscriber_, (CUpti_CallbackFunc)ApiCallback, this)failed with error CUPTI_ERROR_NOT_INITIALIZED\n",
      "2023-07-12 14:46:51.828655: I tensorflow/core/profiler/lib/profiler_session.cc:172] Profiler session tear down.\n"
     ]
    },
    {
     "name": "stdout",
     "output_type": "stream",
     "text": [
      "[LOG] -- Val ACC Did Not Increase\n"
     ]
    },
    {
     "name": "stderr",
     "output_type": "stream",
     "text": [
      " 73%|██████████████████████████████████████████████████████████▊                      | 109/150 [24:09<08:28, 12.40s/it]2023-07-12 14:47:03.981637: I tensorflow/core/profiler/lib/profiler_session.cc:136] Profiler session initializing.\n",
      "2023-07-12 14:47:03.981652: I tensorflow/core/profiler/lib/profiler_session.cc:155] Profiler session started.\n",
      "2023-07-12 14:47:03.981681: E tensorflow/core/profiler/internal/gpu/cupti_tracer.cc:1415] function cupti_interface_->Subscribe( &subscriber_, (CUpti_CallbackFunc)ApiCallback, this)failed with error CUPTI_ERROR_NOT_INITIALIZED\n",
      "2023-07-12 14:47:03.981690: I tensorflow/core/profiler/lib/profiler_session.cc:172] Profiler session tear down.\n"
     ]
    },
    {
     "name": "stdout",
     "output_type": "stream",
     "text": [
      "[LOG] -- Val ACC Did Not Increase\n"
     ]
    },
    {
     "name": "stderr",
     "output_type": "stream",
     "text": [
      " 73%|███████████████████████████████████████████████████████████▍                     | 110/150 [24:21<08:13, 12.34s/it]2023-07-12 14:47:16.184651: I tensorflow/core/profiler/lib/profiler_session.cc:136] Profiler session initializing.\n",
      "2023-07-12 14:47:16.184667: I tensorflow/core/profiler/lib/profiler_session.cc:155] Profiler session started.\n",
      "2023-07-12 14:47:16.184719: E tensorflow/core/profiler/internal/gpu/cupti_tracer.cc:1415] function cupti_interface_->Subscribe( &subscriber_, (CUpti_CallbackFunc)ApiCallback, this)failed with error CUPTI_ERROR_NOT_INITIALIZED\n",
      "2023-07-12 14:47:16.184742: I tensorflow/core/profiler/lib/profiler_session.cc:172] Profiler session tear down.\n"
     ]
    },
    {
     "name": "stdout",
     "output_type": "stream",
     "text": [
      "[LOG] -- VAL ACC INCREASED........... SAVING MDOEL 0.7491999864578247\n"
     ]
    },
    {
     "name": "stderr",
     "output_type": "stream",
     "text": [
      " 74%|███████████████████████████████████████████████████████████▉                     | 111/150 [24:37<08:40, 13.36s/it]2023-07-12 14:47:31.925347: I tensorflow/core/profiler/lib/profiler_session.cc:136] Profiler session initializing.\n",
      "2023-07-12 14:47:31.925362: I tensorflow/core/profiler/lib/profiler_session.cc:155] Profiler session started.\n",
      "2023-07-12 14:47:31.925394: E tensorflow/core/profiler/internal/gpu/cupti_tracer.cc:1415] function cupti_interface_->Subscribe( &subscriber_, (CUpti_CallbackFunc)ApiCallback, this)failed with error CUPTI_ERROR_NOT_INITIALIZED\n",
      "2023-07-12 14:47:31.925404: I tensorflow/core/profiler/lib/profiler_session.cc:172] Profiler session tear down.\n"
     ]
    },
    {
     "name": "stdout",
     "output_type": "stream",
     "text": [
      "[LOG] -- Val ACC Did Not Increase\n"
     ]
    },
    {
     "name": "stderr",
     "output_type": "stream",
     "text": [
      " 75%|████████████████████████████████████████████████████████████▍                    | 112/150 [24:49<08:14, 13.01s/it]2023-07-12 14:47:44.108135: I tensorflow/core/profiler/lib/profiler_session.cc:136] Profiler session initializing.\n",
      "2023-07-12 14:47:44.108149: I tensorflow/core/profiler/lib/profiler_session.cc:155] Profiler session started.\n",
      "2023-07-12 14:47:44.108182: E tensorflow/core/profiler/internal/gpu/cupti_tracer.cc:1415] function cupti_interface_->Subscribe( &subscriber_, (CUpti_CallbackFunc)ApiCallback, this)failed with error CUPTI_ERROR_NOT_INITIALIZED\n",
      "2023-07-12 14:47:44.108191: I tensorflow/core/profiler/lib/profiler_session.cc:172] Profiler session tear down.\n"
     ]
    },
    {
     "name": "stdout",
     "output_type": "stream",
     "text": [
      "[LOG] -- Val ACC Did Not Increase\n"
     ]
    },
    {
     "name": "stderr",
     "output_type": "stream",
     "text": [
      " 75%|█████████████████████████████████████████████████████████████                    | 113/150 [25:02<07:51, 12.75s/it]2023-07-12 14:47:56.253745: I tensorflow/core/profiler/lib/profiler_session.cc:136] Profiler session initializing.\n",
      "2023-07-12 14:47:56.253760: I tensorflow/core/profiler/lib/profiler_session.cc:155] Profiler session started.\n",
      "2023-07-12 14:47:56.253789: E tensorflow/core/profiler/internal/gpu/cupti_tracer.cc:1415] function cupti_interface_->Subscribe( &subscriber_, (CUpti_CallbackFunc)ApiCallback, this)failed with error CUPTI_ERROR_NOT_INITIALIZED\n",
      "2023-07-12 14:47:56.253798: I tensorflow/core/profiler/lib/profiler_session.cc:172] Profiler session tear down.\n"
     ]
    },
    {
     "name": "stdout",
     "output_type": "stream",
     "text": [
      "[LOG] -- Val ACC Did Not Increase\n"
     ]
    },
    {
     "name": "stderr",
     "output_type": "stream",
     "text": [
      " 76%|█████████████████████████████████████████████████████████████▌                   | 114/150 [25:14<07:32, 12.58s/it]2023-07-12 14:48:08.426790: I tensorflow/core/profiler/lib/profiler_session.cc:136] Profiler session initializing.\n",
      "2023-07-12 14:48:08.426804: I tensorflow/core/profiler/lib/profiler_session.cc:155] Profiler session started.\n",
      "2023-07-12 14:48:08.426833: E tensorflow/core/profiler/internal/gpu/cupti_tracer.cc:1415] function cupti_interface_->Subscribe( &subscriber_, (CUpti_CallbackFunc)ApiCallback, this)failed with error CUPTI_ERROR_NOT_INITIALIZED\n",
      "2023-07-12 14:48:08.426842: I tensorflow/core/profiler/lib/profiler_session.cc:172] Profiler session tear down.\n"
     ]
    },
    {
     "name": "stdout",
     "output_type": "stream",
     "text": [
      "[LOG] -- Val ACC Did Not Increase\n"
     ]
    },
    {
     "name": "stderr",
     "output_type": "stream",
     "text": [
      " 77%|██████████████████████████████████████████████████████████████                   | 115/150 [25:26<07:15, 12.45s/it]2023-07-12 14:48:20.599895: I tensorflow/core/profiler/lib/profiler_session.cc:136] Profiler session initializing.\n",
      "2023-07-12 14:48:20.599909: I tensorflow/core/profiler/lib/profiler_session.cc:155] Profiler session started.\n",
      "2023-07-12 14:48:20.599940: E tensorflow/core/profiler/internal/gpu/cupti_tracer.cc:1415] function cupti_interface_->Subscribe( &subscriber_, (CUpti_CallbackFunc)ApiCallback, this)failed with error CUPTI_ERROR_NOT_INITIALIZED\n",
      "2023-07-12 14:48:20.599949: I tensorflow/core/profiler/lib/profiler_session.cc:172] Profiler session tear down.\n"
     ]
    },
    {
     "name": "stdout",
     "output_type": "stream",
     "text": [
      "[LOG] -- Val ACC Did Not Increase\n"
     ]
    },
    {
     "name": "stderr",
     "output_type": "stream",
     "text": [
      " 77%|██████████████████████████████████████████████████████████████▋                  | 116/150 [25:38<07:00, 12.36s/it]2023-07-12 14:48:32.745777: I tensorflow/core/profiler/lib/profiler_session.cc:136] Profiler session initializing.\n",
      "2023-07-12 14:48:32.745791: I tensorflow/core/profiler/lib/profiler_session.cc:155] Profiler session started.\n",
      "2023-07-12 14:48:32.745821: E tensorflow/core/profiler/internal/gpu/cupti_tracer.cc:1415] function cupti_interface_->Subscribe( &subscriber_, (CUpti_CallbackFunc)ApiCallback, this)failed with error CUPTI_ERROR_NOT_INITIALIZED\n",
      "2023-07-12 14:48:32.745831: I tensorflow/core/profiler/lib/profiler_session.cc:172] Profiler session tear down.\n"
     ]
    },
    {
     "name": "stdout",
     "output_type": "stream",
     "text": [
      "[LOG] -- Val ACC Did Not Increase\n"
     ]
    },
    {
     "name": "stderr",
     "output_type": "stream",
     "text": [
      " 78%|███████████████████████████████████████████████████████████████▏                 | 117/150 [25:50<06:45, 12.30s/it]2023-07-12 14:48:44.903473: I tensorflow/core/profiler/lib/profiler_session.cc:136] Profiler session initializing.\n",
      "2023-07-12 14:48:44.903487: I tensorflow/core/profiler/lib/profiler_session.cc:155] Profiler session started.\n",
      "2023-07-12 14:48:44.903517: E tensorflow/core/profiler/internal/gpu/cupti_tracer.cc:1415] function cupti_interface_->Subscribe( &subscriber_, (CUpti_CallbackFunc)ApiCallback, this)failed with error CUPTI_ERROR_NOT_INITIALIZED\n",
      "2023-07-12 14:48:44.903527: I tensorflow/core/profiler/lib/profiler_session.cc:172] Profiler session tear down.\n"
     ]
    },
    {
     "name": "stdout",
     "output_type": "stream",
     "text": [
      "[LOG] -- Val ACC Did Not Increase\n"
     ]
    },
    {
     "name": "stderr",
     "output_type": "stream",
     "text": [
      " 79%|███████████████████████████████████████████████████████████████▋                 | 118/150 [26:02<06:32, 12.26s/it]2023-07-12 14:48:57.080826: I tensorflow/core/profiler/lib/profiler_session.cc:136] Profiler session initializing.\n",
      "2023-07-12 14:48:57.080840: I tensorflow/core/profiler/lib/profiler_session.cc:155] Profiler session started.\n",
      "2023-07-12 14:48:57.080871: E tensorflow/core/profiler/internal/gpu/cupti_tracer.cc:1415] function cupti_interface_->Subscribe( &subscriber_, (CUpti_CallbackFunc)ApiCallback, this)failed with error CUPTI_ERROR_NOT_INITIALIZED\n",
      "2023-07-12 14:48:57.080881: I tensorflow/core/profiler/lib/profiler_session.cc:172] Profiler session tear down.\n"
     ]
    },
    {
     "name": "stdout",
     "output_type": "stream",
     "text": [
      "[LOG] -- Val ACC Did Not Increase\n"
     ]
    },
    {
     "name": "stderr",
     "output_type": "stream",
     "text": [
      " 79%|████████████████████████████████████████████████████████████████▎                | 119/150 [26:15<06:19, 12.23s/it]2023-07-12 14:49:09.247721: I tensorflow/core/profiler/lib/profiler_session.cc:136] Profiler session initializing.\n",
      "2023-07-12 14:49:09.247735: I tensorflow/core/profiler/lib/profiler_session.cc:155] Profiler session started.\n",
      "2023-07-12 14:49:09.247764: E tensorflow/core/profiler/internal/gpu/cupti_tracer.cc:1415] function cupti_interface_->Subscribe( &subscriber_, (CUpti_CallbackFunc)ApiCallback, this)failed with error CUPTI_ERROR_NOT_INITIALIZED\n",
      "2023-07-12 14:49:09.247774: I tensorflow/core/profiler/lib/profiler_session.cc:172] Profiler session tear down.\n"
     ]
    },
    {
     "name": "stdout",
     "output_type": "stream",
     "text": [
      "[LOG] -- Val ACC Did Not Increase\n"
     ]
    },
    {
     "name": "stderr",
     "output_type": "stream",
     "text": [
      " 80%|████████████████████████████████████████████████████████████████▊                | 120/150 [26:27<06:06, 12.22s/it]2023-07-12 14:49:21.440263: I tensorflow/core/profiler/lib/profiler_session.cc:136] Profiler session initializing.\n",
      "2023-07-12 14:49:21.440279: I tensorflow/core/profiler/lib/profiler_session.cc:155] Profiler session started.\n",
      "2023-07-12 14:49:21.440309: E tensorflow/core/profiler/internal/gpu/cupti_tracer.cc:1415] function cupti_interface_->Subscribe( &subscriber_, (CUpti_CallbackFunc)ApiCallback, this)failed with error CUPTI_ERROR_NOT_INITIALIZED\n",
      "2023-07-12 14:49:21.440319: I tensorflow/core/profiler/lib/profiler_session.cc:172] Profiler session tear down.\n"
     ]
    },
    {
     "name": "stdout",
     "output_type": "stream",
     "text": [
      "[LOG] -- Val ACC Did Not Increase\n"
     ]
    },
    {
     "name": "stderr",
     "output_type": "stream",
     "text": [
      " 81%|█████████████████████████████████████████████████████████████████▎               | 121/150 [26:39<05:54, 12.21s/it]2023-07-12 14:49:33.617397: I tensorflow/core/profiler/lib/profiler_session.cc:136] Profiler session initializing.\n",
      "2023-07-12 14:49:33.617412: I tensorflow/core/profiler/lib/profiler_session.cc:155] Profiler session started.\n",
      "2023-07-12 14:49:33.617443: E tensorflow/core/profiler/internal/gpu/cupti_tracer.cc:1415] function cupti_interface_->Subscribe( &subscriber_, (CUpti_CallbackFunc)ApiCallback, this)failed with error CUPTI_ERROR_NOT_INITIALIZED\n",
      "2023-07-12 14:49:33.617453: I tensorflow/core/profiler/lib/profiler_session.cc:172] Profiler session tear down.\n"
     ]
    },
    {
     "name": "stdout",
     "output_type": "stream",
     "text": [
      "[LOG] -- Val ACC Did Not Increase\n"
     ]
    },
    {
     "name": "stderr",
     "output_type": "stream",
     "text": [
      " 81%|█████████████████████████████████████████████████████████████████▉               | 122/150 [26:51<05:41, 12.20s/it]2023-07-12 14:49:45.786155: I tensorflow/core/profiler/lib/profiler_session.cc:136] Profiler session initializing.\n",
      "2023-07-12 14:49:45.786169: I tensorflow/core/profiler/lib/profiler_session.cc:155] Profiler session started.\n",
      "2023-07-12 14:49:45.786198: E tensorflow/core/profiler/internal/gpu/cupti_tracer.cc:1415] function cupti_interface_->Subscribe( &subscriber_, (CUpti_CallbackFunc)ApiCallback, this)failed with error CUPTI_ERROR_NOT_INITIALIZED\n",
      "2023-07-12 14:49:45.786207: I tensorflow/core/profiler/lib/profiler_session.cc:172] Profiler session tear down.\n"
     ]
    },
    {
     "name": "stdout",
     "output_type": "stream",
     "text": [
      "[LOG] -- VAL ACC INCREASED........... SAVING MDOEL 0.7537999749183655\n"
     ]
    },
    {
     "name": "stderr",
     "output_type": "stream",
     "text": [
      " 82%|██████████████████████████████████████████████████████████████████▍              | 123/150 [27:07<05:57, 13.26s/it]2023-07-12 14:50:01.519118: I tensorflow/core/profiler/lib/profiler_session.cc:136] Profiler session initializing.\n",
      "2023-07-12 14:50:01.519133: I tensorflow/core/profiler/lib/profiler_session.cc:155] Profiler session started.\n",
      "2023-07-12 14:50:01.519162: E tensorflow/core/profiler/internal/gpu/cupti_tracer.cc:1415] function cupti_interface_->Subscribe( &subscriber_, (CUpti_CallbackFunc)ApiCallback, this)failed with error CUPTI_ERROR_NOT_INITIALIZED\n",
      "2023-07-12 14:50:01.519171: I tensorflow/core/profiler/lib/profiler_session.cc:172] Profiler session tear down.\n"
     ]
    },
    {
     "name": "stdout",
     "output_type": "stream",
     "text": [
      "[LOG] -- Val ACC Did Not Increase\n"
     ]
    },
    {
     "name": "stderr",
     "output_type": "stream",
     "text": [
      " 83%|██████████████████████████████████████████████████████████████████▉              | 124/150 [27:19<05:36, 12.94s/it]2023-07-12 14:50:13.707237: I tensorflow/core/profiler/lib/profiler_session.cc:136] Profiler session initializing.\n",
      "2023-07-12 14:50:13.707287: I tensorflow/core/profiler/lib/profiler_session.cc:155] Profiler session started.\n",
      "2023-07-12 14:50:13.707319: E tensorflow/core/profiler/internal/gpu/cupti_tracer.cc:1415] function cupti_interface_->Subscribe( &subscriber_, (CUpti_CallbackFunc)ApiCallback, this)failed with error CUPTI_ERROR_NOT_INITIALIZED\n",
      "2023-07-12 14:50:13.707328: I tensorflow/core/profiler/lib/profiler_session.cc:172] Profiler session tear down.\n"
     ]
    },
    {
     "name": "stdout",
     "output_type": "stream",
     "text": [
      "[LOG] -- Val ACC Did Not Increase\n"
     ]
    },
    {
     "name": "stderr",
     "output_type": "stream",
     "text": [
      " 83%|███████████████████████████████████████████████████████████████████▌             | 125/150 [27:31<05:17, 12.70s/it]2023-07-12 14:50:25.857985: I tensorflow/core/profiler/lib/profiler_session.cc:136] Profiler session initializing.\n",
      "2023-07-12 14:50:25.858000: I tensorflow/core/profiler/lib/profiler_session.cc:155] Profiler session started.\n",
      "2023-07-12 14:50:25.858031: E tensorflow/core/profiler/internal/gpu/cupti_tracer.cc:1415] function cupti_interface_->Subscribe( &subscriber_, (CUpti_CallbackFunc)ApiCallback, this)failed with error CUPTI_ERROR_NOT_INITIALIZED\n",
      "2023-07-12 14:50:25.858041: I tensorflow/core/profiler/lib/profiler_session.cc:172] Profiler session tear down.\n"
     ]
    },
    {
     "name": "stdout",
     "output_type": "stream",
     "text": [
      "[LOG] -- Val ACC Did Not Increase\n"
     ]
    },
    {
     "name": "stderr",
     "output_type": "stream",
     "text": [
      " 84%|████████████████████████████████████████████████████████████████████             | 126/150 [27:43<05:00, 12.54s/it]2023-07-12 14:50:38.009441: I tensorflow/core/profiler/lib/profiler_session.cc:136] Profiler session initializing.\n",
      "2023-07-12 14:50:38.009457: I tensorflow/core/profiler/lib/profiler_session.cc:155] Profiler session started.\n",
      "2023-07-12 14:50:38.009487: E tensorflow/core/profiler/internal/gpu/cupti_tracer.cc:1415] function cupti_interface_->Subscribe( &subscriber_, (CUpti_CallbackFunc)ApiCallback, this)failed with error CUPTI_ERROR_NOT_INITIALIZED\n",
      "2023-07-12 14:50:38.009496: I tensorflow/core/profiler/lib/profiler_session.cc:172] Profiler session tear down.\n"
     ]
    },
    {
     "name": "stdout",
     "output_type": "stream",
     "text": [
      "[LOG] -- Val ACC Did Not Increase\n"
     ]
    },
    {
     "name": "stderr",
     "output_type": "stream",
     "text": [
      " 85%|████████████████████████████████████████████████████████████████████▌            | 127/150 [27:55<04:45, 12.43s/it]2023-07-12 14:50:50.185811: I tensorflow/core/profiler/lib/profiler_session.cc:136] Profiler session initializing.\n",
      "2023-07-12 14:50:50.185827: I tensorflow/core/profiler/lib/profiler_session.cc:155] Profiler session started.\n",
      "2023-07-12 14:50:50.185860: E tensorflow/core/profiler/internal/gpu/cupti_tracer.cc:1415] function cupti_interface_->Subscribe( &subscriber_, (CUpti_CallbackFunc)ApiCallback, this)failed with error CUPTI_ERROR_NOT_INITIALIZED\n",
      "2023-07-12 14:50:50.185870: I tensorflow/core/profiler/lib/profiler_session.cc:172] Profiler session tear down.\n"
     ]
    },
    {
     "name": "stdout",
     "output_type": "stream",
     "text": [
      "[LOG] -- Val ACC Did Not Increase\n"
     ]
    },
    {
     "name": "stderr",
     "output_type": "stream",
     "text": [
      " 85%|█████████████████████████████████████████████████████████████████████            | 128/150 [28:08<04:31, 12.36s/it]2023-07-12 14:51:02.378567: I tensorflow/core/profiler/lib/profiler_session.cc:136] Profiler session initializing.\n",
      "2023-07-12 14:51:02.378581: I tensorflow/core/profiler/lib/profiler_session.cc:155] Profiler session started.\n",
      "2023-07-12 14:51:02.378612: E tensorflow/core/profiler/internal/gpu/cupti_tracer.cc:1415] function cupti_interface_->Subscribe( &subscriber_, (CUpti_CallbackFunc)ApiCallback, this)failed with error CUPTI_ERROR_NOT_INITIALIZED\n",
      "2023-07-12 14:51:02.378622: I tensorflow/core/profiler/lib/profiler_session.cc:172] Profiler session tear down.\n"
     ]
    },
    {
     "name": "stdout",
     "output_type": "stream",
     "text": [
      "[LOG] -- Val ACC Did Not Increase\n"
     ]
    },
    {
     "name": "stderr",
     "output_type": "stream",
     "text": [
      " 86%|█████████████████████████████████████████████████████████████████████▋           | 129/150 [28:20<04:18, 12.30s/it]2023-07-12 14:51:14.534354: I tensorflow/core/profiler/lib/profiler_session.cc:136] Profiler session initializing.\n",
      "2023-07-12 14:51:14.534369: I tensorflow/core/profiler/lib/profiler_session.cc:155] Profiler session started.\n",
      "2023-07-12 14:51:14.534399: E tensorflow/core/profiler/internal/gpu/cupti_tracer.cc:1415] function cupti_interface_->Subscribe( &subscriber_, (CUpti_CallbackFunc)ApiCallback, this)failed with error CUPTI_ERROR_NOT_INITIALIZED\n",
      "2023-07-12 14:51:14.534409: I tensorflow/core/profiler/lib/profiler_session.cc:172] Profiler session tear down.\n"
     ]
    },
    {
     "name": "stdout",
     "output_type": "stream",
     "text": [
      "[LOG] -- Val ACC Did Not Increase\n"
     ]
    },
    {
     "name": "stderr",
     "output_type": "stream",
     "text": [
      " 87%|██████████████████████████████████████████████████████████████████████▏          | 130/150 [28:32<04:05, 12.26s/it]2023-07-12 14:51:26.718890: I tensorflow/core/profiler/lib/profiler_session.cc:136] Profiler session initializing.\n",
      "2023-07-12 14:51:26.718905: I tensorflow/core/profiler/lib/profiler_session.cc:155] Profiler session started.\n",
      "2023-07-12 14:51:26.718935: E tensorflow/core/profiler/internal/gpu/cupti_tracer.cc:1415] function cupti_interface_->Subscribe( &subscriber_, (CUpti_CallbackFunc)ApiCallback, this)failed with error CUPTI_ERROR_NOT_INITIALIZED\n",
      "2023-07-12 14:51:26.718945: I tensorflow/core/profiler/lib/profiler_session.cc:172] Profiler session tear down.\n"
     ]
    },
    {
     "name": "stdout",
     "output_type": "stream",
     "text": [
      "[LOG] -- VAL ACC INCREASED........... SAVING MDOEL 0.7549999952316284\n"
     ]
    },
    {
     "name": "stderr",
     "output_type": "stream",
     "text": [
      " 87%|██████████████████████████████████████████████████████████████████████▋          | 131/150 [28:48<04:12, 13.27s/it]2023-07-12 14:51:42.347732: I tensorflow/core/profiler/lib/profiler_session.cc:136] Profiler session initializing.\n",
      "2023-07-12 14:51:42.347747: I tensorflow/core/profiler/lib/profiler_session.cc:155] Profiler session started.\n",
      "2023-07-12 14:51:42.347776: E tensorflow/core/profiler/internal/gpu/cupti_tracer.cc:1415] function cupti_interface_->Subscribe( &subscriber_, (CUpti_CallbackFunc)ApiCallback, this)failed with error CUPTI_ERROR_NOT_INITIALIZED\n",
      "2023-07-12 14:51:42.347785: I tensorflow/core/profiler/lib/profiler_session.cc:172] Profiler session tear down.\n"
     ]
    },
    {
     "name": "stdout",
     "output_type": "stream",
     "text": [
      "[LOG] -- Val ACC Did Not Increase\n"
     ]
    },
    {
     "name": "stderr",
     "output_type": "stream",
     "text": [
      " 88%|███████████████████████████████████████████████████████████████████████▎         | 132/150 [29:00<03:53, 12.95s/it]2023-07-12 14:51:54.542340: I tensorflow/core/profiler/lib/profiler_session.cc:136] Profiler session initializing.\n",
      "2023-07-12 14:51:54.542354: I tensorflow/core/profiler/lib/profiler_session.cc:155] Profiler session started.\n",
      "2023-07-12 14:51:54.542384: E tensorflow/core/profiler/internal/gpu/cupti_tracer.cc:1415] function cupti_interface_->Subscribe( &subscriber_, (CUpti_CallbackFunc)ApiCallback, this)failed with error CUPTI_ERROR_NOT_INITIALIZED\n",
      "2023-07-12 14:51:54.542394: I tensorflow/core/profiler/lib/profiler_session.cc:172] Profiler session tear down.\n"
     ]
    },
    {
     "name": "stdout",
     "output_type": "stream",
     "text": [
      "[LOG] -- Val ACC Did Not Increase\n"
     ]
    },
    {
     "name": "stderr",
     "output_type": "stream",
     "text": [
      " 89%|███████████████████████████████████████████████████████████████████████▊         | 133/150 [29:12<03:36, 12.71s/it]2023-07-12 14:52:06.687313: I tensorflow/core/profiler/lib/profiler_session.cc:136] Profiler session initializing.\n",
      "2023-07-12 14:52:06.687329: I tensorflow/core/profiler/lib/profiler_session.cc:155] Profiler session started.\n",
      "2023-07-12 14:52:06.687360: E tensorflow/core/profiler/internal/gpu/cupti_tracer.cc:1415] function cupti_interface_->Subscribe( &subscriber_, (CUpti_CallbackFunc)ApiCallback, this)failed with error CUPTI_ERROR_NOT_INITIALIZED\n",
      "2023-07-12 14:52:06.687370: I tensorflow/core/profiler/lib/profiler_session.cc:172] Profiler session tear down.\n"
     ]
    },
    {
     "name": "stdout",
     "output_type": "stream",
     "text": [
      "[LOG] -- Val ACC Did Not Increase\n"
     ]
    },
    {
     "name": "stderr",
     "output_type": "stream",
     "text": [
      " 89%|████████████████████████████████████████████████████████████████████████▎        | 134/150 [29:24<03:20, 12.55s/it]2023-07-12 14:52:18.873919: I tensorflow/core/profiler/lib/profiler_session.cc:136] Profiler session initializing.\n",
      "2023-07-12 14:52:18.873934: I tensorflow/core/profiler/lib/profiler_session.cc:155] Profiler session started.\n",
      "2023-07-12 14:52:18.873964: E tensorflow/core/profiler/internal/gpu/cupti_tracer.cc:1415] function cupti_interface_->Subscribe( &subscriber_, (CUpti_CallbackFunc)ApiCallback, this)failed with error CUPTI_ERROR_NOT_INITIALIZED\n",
      "2023-07-12 14:52:18.873973: I tensorflow/core/profiler/lib/profiler_session.cc:172] Profiler session tear down.\n"
     ]
    },
    {
     "name": "stdout",
     "output_type": "stream",
     "text": [
      "[LOG] -- VAL ACC INCREASED........... SAVING MDOEL 0.7580000162124634\n"
     ]
    },
    {
     "name": "stderr",
     "output_type": "stream",
     "text": [
      " 90%|████████████████████████████████████████████████████████████████████████▉        | 135/150 [29:40<03:22, 13.50s/it]2023-07-12 14:52:34.574251: I tensorflow/core/profiler/lib/profiler_session.cc:136] Profiler session initializing.\n",
      "2023-07-12 14:52:34.574266: I tensorflow/core/profiler/lib/profiler_session.cc:155] Profiler session started.\n",
      "2023-07-12 14:52:34.574296: E tensorflow/core/profiler/internal/gpu/cupti_tracer.cc:1415] function cupti_interface_->Subscribe( &subscriber_, (CUpti_CallbackFunc)ApiCallback, this)failed with error CUPTI_ERROR_NOT_INITIALIZED\n",
      "2023-07-12 14:52:34.574305: I tensorflow/core/profiler/lib/profiler_session.cc:172] Profiler session tear down.\n"
     ]
    },
    {
     "name": "stdout",
     "output_type": "stream",
     "text": [
      "[LOG] -- Val ACC Did Not Increase\n"
     ]
    },
    {
     "name": "stderr",
     "output_type": "stream",
     "text": [
      " 91%|█████████████████████████████████████████████████████████████████████████▍       | 136/150 [29:52<03:03, 13.10s/it]2023-07-12 14:52:46.756011: I tensorflow/core/profiler/lib/profiler_session.cc:136] Profiler session initializing.\n",
      "2023-07-12 14:52:46.756025: I tensorflow/core/profiler/lib/profiler_session.cc:155] Profiler session started.\n",
      "2023-07-12 14:52:46.756056: E tensorflow/core/profiler/internal/gpu/cupti_tracer.cc:1415] function cupti_interface_->Subscribe( &subscriber_, (CUpti_CallbackFunc)ApiCallback, this)failed with error CUPTI_ERROR_NOT_INITIALIZED\n",
      "2023-07-12 14:52:46.756065: I tensorflow/core/profiler/lib/profiler_session.cc:172] Profiler session tear down.\n"
     ]
    },
    {
     "name": "stdout",
     "output_type": "stream",
     "text": [
      "[LOG] -- Val ACC Did Not Increase\n"
     ]
    },
    {
     "name": "stderr",
     "output_type": "stream",
     "text": [
      " 91%|█████████████████████████████████████████████████████████████████████████▉       | 137/150 [30:04<02:46, 12.82s/it]2023-07-12 14:52:58.916566: I tensorflow/core/profiler/lib/profiler_session.cc:136] Profiler session initializing.\n",
      "2023-07-12 14:52:58.916581: I tensorflow/core/profiler/lib/profiler_session.cc:155] Profiler session started.\n",
      "2023-07-12 14:52:58.916629: E tensorflow/core/profiler/internal/gpu/cupti_tracer.cc:1415] function cupti_interface_->Subscribe( &subscriber_, (CUpti_CallbackFunc)ApiCallback, this)failed with error CUPTI_ERROR_NOT_INITIALIZED\n",
      "2023-07-12 14:52:58.916639: I tensorflow/core/profiler/lib/profiler_session.cc:172] Profiler session tear down.\n"
     ]
    },
    {
     "name": "stdout",
     "output_type": "stream",
     "text": [
      "[LOG] -- Val ACC Did Not Increase\n"
     ]
    },
    {
     "name": "stderr",
     "output_type": "stream",
     "text": [
      " 92%|██████████████████████████████████████████████████████████████████████████▌      | 138/150 [30:16<02:31, 12.62s/it]2023-07-12 14:53:11.076192: I tensorflow/core/profiler/lib/profiler_session.cc:136] Profiler session initializing.\n",
      "2023-07-12 14:53:11.076208: I tensorflow/core/profiler/lib/profiler_session.cc:155] Profiler session started.\n",
      "2023-07-12 14:53:11.076239: E tensorflow/core/profiler/internal/gpu/cupti_tracer.cc:1415] function cupti_interface_->Subscribe( &subscriber_, (CUpti_CallbackFunc)ApiCallback, this)failed with error CUPTI_ERROR_NOT_INITIALIZED\n",
      "2023-07-12 14:53:11.076249: I tensorflow/core/profiler/lib/profiler_session.cc:172] Profiler session tear down.\n"
     ]
    },
    {
     "name": "stdout",
     "output_type": "stream",
     "text": [
      "[LOG] -- Val ACC Did Not Increase\n"
     ]
    },
    {
     "name": "stderr",
     "output_type": "stream",
     "text": [
      " 93%|███████████████████████████████████████████████████████████████████████████      | 139/150 [30:28<02:17, 12.49s/it]2023-07-12 14:53:23.244584: I tensorflow/core/profiler/lib/profiler_session.cc:136] Profiler session initializing.\n",
      "2023-07-12 14:53:23.244599: I tensorflow/core/profiler/lib/profiler_session.cc:155] Profiler session started.\n",
      "2023-07-12 14:53:23.244631: E tensorflow/core/profiler/internal/gpu/cupti_tracer.cc:1415] function cupti_interface_->Subscribe( &subscriber_, (CUpti_CallbackFunc)ApiCallback, this)failed with error CUPTI_ERROR_NOT_INITIALIZED\n",
      "2023-07-12 14:53:23.244640: I tensorflow/core/profiler/lib/profiler_session.cc:172] Profiler session tear down.\n"
     ]
    },
    {
     "name": "stdout",
     "output_type": "stream",
     "text": [
      "[LOG] -- Val ACC Did Not Increase\n"
     ]
    },
    {
     "name": "stderr",
     "output_type": "stream",
     "text": [
      " 93%|███████████████████████████████████████████████████████████████████████████▌     | 140/150 [30:41<02:03, 12.39s/it]2023-07-12 14:53:35.405637: I tensorflow/core/profiler/lib/profiler_session.cc:136] Profiler session initializing.\n",
      "2023-07-12 14:53:35.405651: I tensorflow/core/profiler/lib/profiler_session.cc:155] Profiler session started.\n",
      "2023-07-12 14:53:35.405682: E tensorflow/core/profiler/internal/gpu/cupti_tracer.cc:1415] function cupti_interface_->Subscribe( &subscriber_, (CUpti_CallbackFunc)ApiCallback, this)failed with error CUPTI_ERROR_NOT_INITIALIZED\n",
      "2023-07-12 14:53:35.405692: I tensorflow/core/profiler/lib/profiler_session.cc:172] Profiler session tear down.\n"
     ]
    },
    {
     "name": "stdout",
     "output_type": "stream",
     "text": [
      "[LOG] -- Val ACC Did Not Increase\n"
     ]
    },
    {
     "name": "stderr",
     "output_type": "stream",
     "text": [
      " 94%|████████████████████████████████████████████████████████████████████████████▏    | 141/150 [30:53<01:51, 12.33s/it]2023-07-12 14:53:47.613941: I tensorflow/core/profiler/lib/profiler_session.cc:136] Profiler session initializing.\n",
      "2023-07-12 14:53:47.613955: I tensorflow/core/profiler/lib/profiler_session.cc:155] Profiler session started.\n",
      "2023-07-12 14:53:47.613985: E tensorflow/core/profiler/internal/gpu/cupti_tracer.cc:1415] function cupti_interface_->Subscribe( &subscriber_, (CUpti_CallbackFunc)ApiCallback, this)failed with error CUPTI_ERROR_NOT_INITIALIZED\n",
      "2023-07-12 14:53:47.613995: I tensorflow/core/profiler/lib/profiler_session.cc:172] Profiler session tear down.\n"
     ]
    },
    {
     "name": "stdout",
     "output_type": "stream",
     "text": [
      "[LOG] -- Val ACC Did Not Increase\n"
     ]
    },
    {
     "name": "stderr",
     "output_type": "stream",
     "text": [
      " 95%|████████████████████████████████████████████████████████████████████████████▋    | 142/150 [31:05<01:38, 12.28s/it]2023-07-12 14:53:59.770864: I tensorflow/core/profiler/lib/profiler_session.cc:136] Profiler session initializing.\n",
      "2023-07-12 14:53:59.770879: I tensorflow/core/profiler/lib/profiler_session.cc:155] Profiler session started.\n",
      "2023-07-12 14:53:59.770910: E tensorflow/core/profiler/internal/gpu/cupti_tracer.cc:1415] function cupti_interface_->Subscribe( &subscriber_, (CUpti_CallbackFunc)ApiCallback, this)failed with error CUPTI_ERROR_NOT_INITIALIZED\n",
      "2023-07-12 14:53:59.770920: I tensorflow/core/profiler/lib/profiler_session.cc:172] Profiler session tear down.\n"
     ]
    },
    {
     "name": "stdout",
     "output_type": "stream",
     "text": [
      "[LOG] -- Val ACC Did Not Increase\n"
     ]
    },
    {
     "name": "stderr",
     "output_type": "stream",
     "text": [
      " 95%|█████████████████████████████████████████████████████████████████████████████▏   | 143/150 [31:17<01:25, 12.25s/it]2023-07-12 14:54:11.950810: I tensorflow/core/profiler/lib/profiler_session.cc:136] Profiler session initializing.\n",
      "2023-07-12 14:54:11.950825: I tensorflow/core/profiler/lib/profiler_session.cc:155] Profiler session started.\n",
      "2023-07-12 14:54:11.950853: E tensorflow/core/profiler/internal/gpu/cupti_tracer.cc:1415] function cupti_interface_->Subscribe( &subscriber_, (CUpti_CallbackFunc)ApiCallback, this)failed with error CUPTI_ERROR_NOT_INITIALIZED\n",
      "2023-07-12 14:54:11.950863: I tensorflow/core/profiler/lib/profiler_session.cc:172] Profiler session tear down.\n"
     ]
    },
    {
     "name": "stdout",
     "output_type": "stream",
     "text": [
      "[LOG] -- Val ACC Did Not Increase\n"
     ]
    },
    {
     "name": "stderr",
     "output_type": "stream",
     "text": [
      " 96%|█████████████████████████████████████████████████████████████████████████████▊   | 144/150 [31:29<01:13, 12.23s/it]2023-07-12 14:54:24.136685: I tensorflow/core/profiler/lib/profiler_session.cc:136] Profiler session initializing.\n",
      "2023-07-12 14:54:24.136699: I tensorflow/core/profiler/lib/profiler_session.cc:155] Profiler session started.\n",
      "2023-07-12 14:54:24.136729: E tensorflow/core/profiler/internal/gpu/cupti_tracer.cc:1415] function cupti_interface_->Subscribe( &subscriber_, (CUpti_CallbackFunc)ApiCallback, this)failed with error CUPTI_ERROR_NOT_INITIALIZED\n",
      "2023-07-12 14:54:24.136739: I tensorflow/core/profiler/lib/profiler_session.cc:172] Profiler session tear down.\n"
     ]
    },
    {
     "name": "stdout",
     "output_type": "stream",
     "text": [
      "[LOG] -- Val ACC Did Not Increase\n"
     ]
    },
    {
     "name": "stderr",
     "output_type": "stream",
     "text": [
      " 97%|██████████████████████████████████████████████████████████████████████████████▎  | 145/150 [31:42<01:01, 12.21s/it]2023-07-12 14:54:36.308951: I tensorflow/core/profiler/lib/profiler_session.cc:136] Profiler session initializing.\n",
      "2023-07-12 14:54:36.308967: I tensorflow/core/profiler/lib/profiler_session.cc:155] Profiler session started.\n",
      "2023-07-12 14:54:36.308997: E tensorflow/core/profiler/internal/gpu/cupti_tracer.cc:1415] function cupti_interface_->Subscribe( &subscriber_, (CUpti_CallbackFunc)ApiCallback, this)failed with error CUPTI_ERROR_NOT_INITIALIZED\n",
      "2023-07-12 14:54:36.309007: I tensorflow/core/profiler/lib/profiler_session.cc:172] Profiler session tear down.\n"
     ]
    },
    {
     "name": "stdout",
     "output_type": "stream",
     "text": [
      "[LOG] -- VAL ACC INCREASED........... SAVING MDOEL 0.7617999911308289\n"
     ]
    },
    {
     "name": "stderr",
     "output_type": "stream",
     "text": [
      " 97%|██████████████████████████████████████████████████████████████████████████████▊  | 146/150 [31:57<00:52, 13.24s/it]2023-07-12 14:54:51.943616: I tensorflow/core/profiler/lib/profiler_session.cc:136] Profiler session initializing.\n",
      "2023-07-12 14:54:51.943631: I tensorflow/core/profiler/lib/profiler_session.cc:155] Profiler session started.\n",
      "2023-07-12 14:54:51.943661: E tensorflow/core/profiler/internal/gpu/cupti_tracer.cc:1415] function cupti_interface_->Subscribe( &subscriber_, (CUpti_CallbackFunc)ApiCallback, this)failed with error CUPTI_ERROR_NOT_INITIALIZED\n",
      "2023-07-12 14:54:51.943671: I tensorflow/core/profiler/lib/profiler_session.cc:172] Profiler session tear down.\n"
     ]
    },
    {
     "name": "stdout",
     "output_type": "stream",
     "text": [
      "[LOG] -- Val ACC Did Not Increase\n"
     ]
    },
    {
     "name": "stderr",
     "output_type": "stream",
     "text": [
      " 98%|███████████████████████████████████████████████████████████████████████████████▍ | 147/150 [32:09<00:38, 12.92s/it]2023-07-12 14:55:04.112971: I tensorflow/core/profiler/lib/profiler_session.cc:136] Profiler session initializing.\n",
      "2023-07-12 14:55:04.112985: I tensorflow/core/profiler/lib/profiler_session.cc:155] Profiler session started.\n",
      "2023-07-12 14:55:04.113016: E tensorflow/core/profiler/internal/gpu/cupti_tracer.cc:1415] function cupti_interface_->Subscribe( &subscriber_, (CUpti_CallbackFunc)ApiCallback, this)failed with error CUPTI_ERROR_NOT_INITIALIZED\n",
      "2023-07-12 14:55:04.113025: I tensorflow/core/profiler/lib/profiler_session.cc:172] Profiler session tear down.\n"
     ]
    },
    {
     "name": "stdout",
     "output_type": "stream",
     "text": [
      "[LOG] -- Val ACC Did Not Increase\n"
     ]
    },
    {
     "name": "stderr",
     "output_type": "stream",
     "text": [
      " 99%|███████████████████████████████████████████████████████████████████████████████▉ | 148/150 [32:22<00:25, 12.69s/it]2023-07-12 14:55:16.283367: I tensorflow/core/profiler/lib/profiler_session.cc:136] Profiler session initializing.\n",
      "2023-07-12 14:55:16.283382: I tensorflow/core/profiler/lib/profiler_session.cc:155] Profiler session started.\n",
      "2023-07-12 14:55:16.283412: E tensorflow/core/profiler/internal/gpu/cupti_tracer.cc:1415] function cupti_interface_->Subscribe( &subscriber_, (CUpti_CallbackFunc)ApiCallback, this)failed with error CUPTI_ERROR_NOT_INITIALIZED\n",
      "2023-07-12 14:55:16.283422: I tensorflow/core/profiler/lib/profiler_session.cc:172] Profiler session tear down.\n"
     ]
    },
    {
     "name": "stdout",
     "output_type": "stream",
     "text": [
      "[LOG] -- VAL ACC INCREASED........... SAVING MDOEL 0.76419997215271\n"
     ]
    },
    {
     "name": "stderr",
     "output_type": "stream",
     "text": [
      " 99%|████████████████████████████████████████████████████████████████████████████████▍| 149/150 [32:37<00:13, 13.56s/it]2023-07-12 14:55:31.872984: I tensorflow/core/profiler/lib/profiler_session.cc:136] Profiler session initializing.\n",
      "2023-07-12 14:55:31.872999: I tensorflow/core/profiler/lib/profiler_session.cc:155] Profiler session started.\n",
      "2023-07-12 14:55:31.873030: E tensorflow/core/profiler/internal/gpu/cupti_tracer.cc:1415] function cupti_interface_->Subscribe( &subscriber_, (CUpti_CallbackFunc)ApiCallback, this)failed with error CUPTI_ERROR_NOT_INITIALIZED\n",
      "2023-07-12 14:55:31.873040: I tensorflow/core/profiler/lib/profiler_session.cc:172] Profiler session tear down.\n"
     ]
    },
    {
     "name": "stdout",
     "output_type": "stream",
     "text": [
      "[LOG] -- Val ACC Did Not Increase\n"
     ]
    },
    {
     "name": "stderr",
     "output_type": "stream",
     "text": [
      "100%|█████████████████████████████████████████████████████████████████████████████████| 150/150 [32:49<00:00, 13.13s/it]"
     ]
    },
    {
     "name": "stdout",
     "output_type": "stream",
     "text": [
      "[LOG] -- FINAL VAL ACC: 0.76419997215271\n",
      "RUNTIME:  1969.848298549652\n",
      "TIME PER EPOCH 13.132321990331015\n"
     ]
    },
    {
     "name": "stderr",
     "output_type": "stream",
     "text": [
      "\n"
     ]
    }
   ],
   "source": [
    "%run \"cnn/train.py\" -i /home/mabon/Tiny_power/datasets/power/xmega_unmasked/X1_K1_200k.npz -o /home/mabon/Tiny_power/models/unstructured/randombias/X1_50k/90 -m /home/mabon/Tiny_power/models/unstructured/randombias/X1 -e 150 -tb 2 -lm hw_model -tn 50000 -pr .90 -aw 1800_2800 "
   ]
  },
  {
   "cell_type": "code",
   "execution_count": null,
   "id": "c6650691",
   "metadata": {},
   "outputs": [],
   "source": []
  },
  {
   "cell_type": "code",
   "execution_count": null,
   "id": "94c509ba",
   "metadata": {},
   "outputs": [],
   "source": []
  }
 ],
 "metadata": {
  "kernelspec": {
   "display_name": "Python [conda env:tensorflow] *",
   "language": "python",
   "name": "conda-env-tensorflow-py"
  },
  "language_info": {
   "codemirror_mode": {
    "name": "ipython",
    "version": 3
   },
   "file_extension": ".py",
   "mimetype": "text/x-python",
   "name": "python",
   "nbconvert_exporter": "python",
   "pygments_lexer": "ipython3",
   "version": "3.7.13"
  }
 },
 "nbformat": 4,
 "nbformat_minor": 5
}
