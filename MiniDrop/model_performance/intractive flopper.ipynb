{
 "cells": [
  {
   "cell_type": "code",
   "execution_count": 1,
   "id": "251be6d1",
   "metadata": {},
   "outputs": [
    {
     "name": "stderr",
     "output_type": "stream",
     "text": [
      "2023-08-03 13:35:47.114361: I tensorflow/stream_executor/platform/default/dso_loader.cc:49] Successfully opened dynamic library libcudart.so.10.1\n"
     ]
    }
   ],
   "source": [
    "import tensorflow as tf\n",
    "import argparse\n",
    "import os\n",
    "import pathlib\n",
    "import sys\n",
    "\n",
    "# Load the model from an h5 file\n",
    "def load_model_from_h5(file_path):\n",
    "    model = tf.keras.models.load_model(file_path)\n",
    "    return model\n",
    "# Calculate FLOPs for the given CNN model\n",
    "def calculate_flops(model):\n",
    "    total_flops = 0\n",
    "    \n",
    "    for layer in model.layers:\n",
    "        layer_type = type(layer).__name__\n",
    "\n",
    "        if layer_type == 'Conv2D':\n",
    "            kernel_flops = 2 * layer.filters * layer.kernel_size[0] * layer.kernel_size[1]\n",
    "            output_shape = layer.output_shape[1:]\n",
    "            flops = kernel_flops * output_shape[0] * output_shape[1] * output_shape[2]\n",
    "            total_flops += flops\n",
    "\n",
    "        elif layer_type == 'Dense':\n",
    "            flops = 2 * layer.input_shape[-1] * layer.units\n",
    "            total_flops += flops\n",
    "\n",
    "        elif layer_type == 'MaxPooling2D' or layer_type == 'AveragePooling2D':\n",
    "            pool_height, pool_width = layer.pool_size\n",
    "            stride_height, stride_width = layer.strides\n",
    "            input_shape = layer.input_shape[1:]\n",
    "            if stride_height is None:\n",
    "                stride_height = pool_height\n",
    "            if stride_width is None:\n",
    "                stride_width = pool_width\n",
    "            flops = (input_shape[0] / stride_height) * input_shape[1] * input_shape[2]\n",
    "            total_flops += flops\n",
    "\n",
    "    return total_flops\n",
    "\n"
   ]
  },
  {
   "cell_type": "code",
   "execution_count": 2,
   "id": "8195e2e4",
   "metadata": {
    "scrolled": true
   },
   "outputs": [
    {
     "name": "stderr",
     "output_type": "stream",
     "text": [
      "2023-08-03 09:46:28.790036: I tensorflow/compiler/jit/xla_cpu_device.cc:41] Not creating XLA devices, tf_xla_enable_xla_devices not set\n",
      "2023-08-03 09:46:28.790455: I tensorflow/stream_executor/platform/default/dso_loader.cc:49] Successfully opened dynamic library libcuda.so.1\n",
      "2023-08-03 09:46:28.855379: I tensorflow/stream_executor/cuda/cuda_gpu_executor.cc:941] successful NUMA node read from SysFS had negative value (-1), but there must be at least one NUMA node, so returning NUMA node zero\n",
      "2023-08-03 09:46:28.856728: I tensorflow/core/common_runtime/gpu/gpu_device.cc:1720] Found device 0 with properties: \n",
      "pciBusID: 0000:01:00.0 name: TITAN RTX computeCapability: 7.5\n",
      "coreClock: 1.77GHz coreCount: 72 deviceMemorySize: 23.65GiB deviceMemoryBandwidth: 625.94GiB/s\n",
      "2023-08-03 09:46:28.856760: I tensorflow/stream_executor/platform/default/dso_loader.cc:49] Successfully opened dynamic library libcudart.so.10.1\n",
      "2023-08-03 09:46:28.859106: I tensorflow/stream_executor/platform/default/dso_loader.cc:49] Successfully opened dynamic library libcublas.so.10\n",
      "2023-08-03 09:46:28.859163: I tensorflow/stream_executor/platform/default/dso_loader.cc:49] Successfully opened dynamic library libcublasLt.so.10\n",
      "2023-08-03 09:46:28.861242: I tensorflow/stream_executor/platform/default/dso_loader.cc:49] Successfully opened dynamic library libcufft.so.10\n",
      "2023-08-03 09:46:28.861620: I tensorflow/stream_executor/platform/default/dso_loader.cc:49] Successfully opened dynamic library libcurand.so.10\n",
      "2023-08-03 09:46:28.864054: I tensorflow/stream_executor/platform/default/dso_loader.cc:49] Successfully opened dynamic library libcusolver.so.10\n",
      "2023-08-03 09:46:28.865303: I tensorflow/stream_executor/platform/default/dso_loader.cc:49] Successfully opened dynamic library libcusparse.so.10\n",
      "2023-08-03 09:46:28.869501: I tensorflow/stream_executor/platform/default/dso_loader.cc:49] Successfully opened dynamic library libcudnn.so.7\n",
      "2023-08-03 09:46:28.869597: I tensorflow/stream_executor/cuda/cuda_gpu_executor.cc:941] successful NUMA node read from SysFS had negative value (-1), but there must be at least one NUMA node, so returning NUMA node zero\n",
      "2023-08-03 09:46:28.870528: I tensorflow/stream_executor/cuda/cuda_gpu_executor.cc:941] successful NUMA node read from SysFS had negative value (-1), but there must be at least one NUMA node, so returning NUMA node zero\n",
      "2023-08-03 09:46:28.871372: I tensorflow/core/common_runtime/gpu/gpu_device.cc:1862] Adding visible gpu devices: 0\n",
      "2023-08-03 09:46:28.871734: I tensorflow/core/platform/cpu_feature_guard.cc:142] This TensorFlow binary is optimized with oneAPI Deep Neural Network Library (oneDNN) to use the following CPU instructions in performance-critical operations:  SSE4.1 SSE4.2 AVX AVX2 FMA\n",
      "To enable them in other operations, rebuild TensorFlow with the appropriate compiler flags.\n",
      "2023-08-03 09:46:28.872273: I tensorflow/compiler/jit/xla_gpu_device.cc:99] Not creating XLA devices, tf_xla_enable_xla_devices not set\n",
      "2023-08-03 09:46:28.872360: I tensorflow/stream_executor/cuda/cuda_gpu_executor.cc:941] successful NUMA node read from SysFS had negative value (-1), but there must be at least one NUMA node, so returning NUMA node zero\n",
      "2023-08-03 09:46:28.873217: I tensorflow/core/common_runtime/gpu/gpu_device.cc:1720] Found device 0 with properties: \n",
      "pciBusID: 0000:01:00.0 name: TITAN RTX computeCapability: 7.5\n",
      "coreClock: 1.77GHz coreCount: 72 deviceMemorySize: 23.65GiB deviceMemoryBandwidth: 625.94GiB/s\n",
      "2023-08-03 09:46:28.873236: I tensorflow/stream_executor/platform/default/dso_loader.cc:49] Successfully opened dynamic library libcudart.so.10.1\n",
      "2023-08-03 09:46:28.873253: I tensorflow/stream_executor/platform/default/dso_loader.cc:49] Successfully opened dynamic library libcublas.so.10\n",
      "2023-08-03 09:46:28.873268: I tensorflow/stream_executor/platform/default/dso_loader.cc:49] Successfully opened dynamic library libcublasLt.so.10\n",
      "2023-08-03 09:46:28.873284: I tensorflow/stream_executor/platform/default/dso_loader.cc:49] Successfully opened dynamic library libcufft.so.10\n",
      "2023-08-03 09:46:28.873298: I tensorflow/stream_executor/platform/default/dso_loader.cc:49] Successfully opened dynamic library libcurand.so.10\n",
      "2023-08-03 09:46:28.873314: I tensorflow/stream_executor/platform/default/dso_loader.cc:49] Successfully opened dynamic library libcusolver.so.10\n",
      "2023-08-03 09:46:28.873330: I tensorflow/stream_executor/platform/default/dso_loader.cc:49] Successfully opened dynamic library libcusparse.so.10\n",
      "2023-08-03 09:46:28.873345: I tensorflow/stream_executor/platform/default/dso_loader.cc:49] Successfully opened dynamic library libcudnn.so.7\n",
      "2023-08-03 09:46:28.873400: I tensorflow/stream_executor/cuda/cuda_gpu_executor.cc:941] successful NUMA node read from SysFS had negative value (-1), but there must be at least one NUMA node, so returning NUMA node zero\n",
      "2023-08-03 09:46:28.874286: I tensorflow/stream_executor/cuda/cuda_gpu_executor.cc:941] successful NUMA node read from SysFS had negative value (-1), but there must be at least one NUMA node, so returning NUMA node zero\n",
      "2023-08-03 09:46:28.875068: I tensorflow/core/common_runtime/gpu/gpu_device.cc:1862] Adding visible gpu devices: 0\n",
      "2023-08-03 09:46:28.875097: I tensorflow/stream_executor/platform/default/dso_loader.cc:49] Successfully opened dynamic library libcudart.so.10.1\n",
      "2023-08-03 09:46:29.317208: I tensorflow/core/common_runtime/gpu/gpu_device.cc:1261] Device interconnect StreamExecutor with strength 1 edge matrix:\n",
      "2023-08-03 09:46:29.317228: I tensorflow/core/common_runtime/gpu/gpu_device.cc:1267]      0 \n",
      "2023-08-03 09:46:29.317231: I tensorflow/core/common_runtime/gpu/gpu_device.cc:1280] 0:   N \n",
      "2023-08-03 09:46:29.317352: I tensorflow/stream_executor/cuda/cuda_gpu_executor.cc:941] successful NUMA node read from SysFS had negative value (-1), but there must be at least one NUMA node, so returning NUMA node zero\n",
      "2023-08-03 09:46:29.317817: I tensorflow/stream_executor/cuda/cuda_gpu_executor.cc:941] successful NUMA node read from SysFS had negative value (-1), but there must be at least one NUMA node, so returning NUMA node zero\n",
      "2023-08-03 09:46:29.318250: I tensorflow/stream_executor/cuda/cuda_gpu_executor.cc:941] successful NUMA node read from SysFS had negative value (-1), but there must be at least one NUMA node, so returning NUMA node zero\n",
      "2023-08-03 09:46:29.318712: I tensorflow/core/common_runtime/gpu/gpu_device.cc:1406] Created TensorFlow device (/job:localhost/replica:0/task:0/device:GPU:0 with 22454 MB memory) -> physical GPU (device: 0, name: TITAN RTX, pci bus id: 0000:01:00.0, compute capability: 7.5)\n"
     ]
    },
    {
     "name": "stdout",
     "output_type": "stream",
     "text": [
      "Model: \"cnn_best\"\n",
      "_________________________________________________________________\n",
      "Layer (type)                 Output Shape              Param #   \n",
      "=================================================================\n",
      "input_1 (InputLayer)         [(None, 1000, 1)]         0         \n",
      "_________________________________________________________________\n",
      "block1_conv1 (Conv1D)        (None, 500, 64)           768       \n",
      "_________________________________________________________________\n",
      "block1_pool (AveragePooling1 (None, 250, 64)           0         \n",
      "_________________________________________________________________\n",
      "block2_conv1 (Conv1D)        (None, 250, 128)          90240     \n",
      "_________________________________________________________________\n",
      "block2_pool (AveragePooling1 (None, 125, 128)          0         \n",
      "_________________________________________________________________\n",
      "block3_conv1 (Conv1D)        (None, 125, 256)          360704    \n",
      "_________________________________________________________________\n",
      "block3_pool (AveragePooling1 (None, 62, 256)           0         \n",
      "_________________________________________________________________\n",
      "block4_conv1 (Conv1D)        (None, 62, 512)           1442304   \n",
      "_________________________________________________________________\n",
      "block4_pool (AveragePooling1 (None, 31, 512)           0         \n",
      "_________________________________________________________________\n",
      "block5_conv1 (Conv1D)        (None, 31, 512)           2884096   \n",
      "_________________________________________________________________\n",
      "block5_pool (AveragePooling1 (None, 15, 512)           0         \n",
      "_________________________________________________________________\n",
      "block_flatten (Flatten)      (None, 7680)              0         \n",
      "_________________________________________________________________\n",
      "block_fc1 (Dense)            (None, 4096)              31461376  \n",
      "_________________________________________________________________\n",
      "block_fc2 (Dense)            (None, 4096)              16781312  \n",
      "_________________________________________________________________\n",
      "preds (Dense)                (None, 9)                 36873     \n",
      "=================================================================\n",
      "Total params: 53,057,673\n",
      "Trainable params: 53,057,673\n",
      "Non-trainable params: 0\n",
      "_________________________________________________________________\n",
      "Total Number of FLOPS:  (96.54272, 2)  Million\n"
     ]
    }
   ],
   "source": [
    "model_dir='/home/mabon/Tiny_power/models/original/HW/xmega/X1_50k/'\n",
    "model = load_model_from_h5(os.path.join(model_dir,'model','best_model.h5'))\n",
    "model.summary()\n",
    "flops = calculate_flops(model)\n",
    "print(\"Total Number of FLOPS: \",((flops/1000000),2),' Million')"
   ]
  },
  {
   "cell_type": "code",
   "execution_count": 112,
   "id": "925765d4",
   "metadata": {},
   "outputs": [
    {
     "name": "stdout",
     "output_type": "stream",
     "text": [
      "Model: \"cnn_best\"\n",
      "_________________________________________________________________\n",
      "Layer (type)                 Output Shape              Param #   \n",
      "=================================================================\n",
      "input_1 (InputLayer)         [(None, 1000, 1)]         0         \n",
      "_________________________________________________________________\n",
      "block1_conv1 (Conv1D)        (None, 500, 64)           768       \n",
      "_________________________________________________________________\n",
      "block1_pool (AveragePooling1 (None, 250, 64)           0         \n",
      "_________________________________________________________________\n",
      "block2_conv1 (Conv1D)        (None, 250, 128)          90240     \n",
      "_________________________________________________________________\n",
      "block2_pool (AveragePooling1 (None, 125, 128)          0         \n",
      "_________________________________________________________________\n",
      "block3_conv1 (Conv1D)        (None, 125, 256)          360704    \n",
      "_________________________________________________________________\n",
      "block3_pool (AveragePooling1 (None, 62, 256)           0         \n",
      "_________________________________________________________________\n",
      "block4_conv1 (Conv1D)        (None, 62, 512)           1442304   \n",
      "_________________________________________________________________\n",
      "block4_pool (AveragePooling1 (None, 31, 512)           0         \n",
      "_________________________________________________________________\n",
      "block5_conv1 (Conv1D)        (None, 31, 512)           2884096   \n",
      "_________________________________________________________________\n",
      "block5_pool (AveragePooling1 (None, 15, 512)           0         \n",
      "_________________________________________________________________\n",
      "block_flatten (Flatten)      (None, 7680)              0         \n",
      "_________________________________________________________________\n",
      "block_fc1 (Dense)            (None, 4096)              31461376  \n",
      "_________________________________________________________________\n",
      "block_fc2 (Dense)            (None, 4096)              16781312  \n",
      "_________________________________________________________________\n",
      "preds (Dense)                (None, 9)                 36873     \n",
      "=================================================================\n",
      "Total params: 53,057,673\n",
      "Trainable params: 53,057,673\n",
      "Non-trainable params: 0\n",
      "_________________________________________________________________\n",
      "Total Number of FLOPS:  (96.54272, 2)  Million\n",
      "Model: \"cnn_best\"\n",
      "_________________________________________________________________\n",
      "Layer (type)                 Output Shape              Param #   \n",
      "=================================================================\n",
      "input_4 (InputLayer)         [(None, 1000, 1)]         0         \n",
      "_________________________________________________________________\n",
      "block1_conv1 (Conv1D)        (None, 500, 45)           540       \n",
      "_________________________________________________________________\n",
      "block1_pool (AveragePooling1 (None, 250, 45)           0         \n",
      "_________________________________________________________________\n",
      "block2_conv1 (Conv1D)        (None, 250, 55)           27280     \n",
      "_________________________________________________________________\n",
      "block2_pool (AveragePooling1 (None, 125, 55)           0         \n",
      "_________________________________________________________________\n",
      "block3_conv1 (Conv1D)        (None, 125, 84)           50904     \n",
      "_________________________________________________________________\n",
      "block3_pool (AveragePooling1 (None, 62, 84)            0         \n",
      "_________________________________________________________________\n",
      "block4_conv1 (Conv1D)        (None, 62, 148)           136900    \n",
      "_________________________________________________________________\n",
      "block4_pool (AveragePooling1 (None, 31, 148)           0         \n",
      "_________________________________________________________________\n",
      "block5_conv1 (Conv1D)        (None, 31, 122)           198738    \n",
      "_________________________________________________________________\n",
      "block5_pool (AveragePooling1 (None, 15, 122)           0         \n",
      "_________________________________________________________________\n",
      "flatten (Flatten)            (None, 1830)              0         \n",
      "_________________________________________________________________\n",
      "fc1 (Dense)                  (None, 409)               748879    \n",
      "_________________________________________________________________\n",
      "fc2 (Dense)                  (None, 409)               167690    \n",
      "_________________________________________________________________\n",
      "predictions (Dense)          (None, 9)                 3690      \n",
      "=================================================================\n",
      "Total params: 1,334,621\n",
      "Trainable params: 1,334,621\n",
      "Non-trainable params: 0\n",
      "_________________________________________________________________\n",
      "Total Number of FLOPS:  (1.838864, 2)  Million\n"
     ]
    }
   ],
   "source": [
    "\n",
    "model_dir='/home/mabon/Tiny_power/models/original/HW/xmega/X1_EM_50k/'\n",
    "model = load_model_from_h5(os.path.join(model_dir,'model','best_model.h5'))\n",
    "model.summary()\n",
    "flops = calculate_flops(model)\n",
    "print(\"Total Number of FLOPS: \",((flops/1000000),2),' Million')\n",
    "model_dir='/home/mabon/Tiny_power/models/custom_prunded/HW/xmega/X1_EM/fpgm/h8/'\n",
    "model = load_model_from_h5(os.path.join(model_dir,'model','best_model.h5'))\n",
    "model.summary()\n",
    "flops2 = calculate_flops(model)\n",
    "print(\"Total Number of FLOPS: \",((flops2/1000000),2),' Million')\n"
   ]
  },
  {
   "cell_type": "code",
   "execution_count": 113,
   "id": "75c99e4d",
   "metadata": {},
   "outputs": [
    {
     "data": {
      "text/plain": [
       "98.09528465740348"
      ]
     },
     "execution_count": 113,
     "metadata": {},
     "output_type": "execute_result"
    }
   ],
   "source": [
    "(1-flops2/flops)*100"
   ]
  },
  {
   "cell_type": "code",
   "execution_count": 79,
   "id": "347ebdb5",
   "metadata": {},
   "outputs": [
    {
     "data": {
      "text/plain": [
       "840904"
      ]
     },
     "execution_count": 79,
     "metadata": {},
     "output_type": "execute_result"
    }
   ],
   "source": [
    "flops2"
   ]
  },
  {
   "cell_type": "code",
   "execution_count": null,
   "id": "0685100c",
   "metadata": {},
   "outputs": [],
   "source": []
  }
 ],
 "metadata": {
  "kernelspec": {
   "display_name": "Python [conda env:tensorflow] *",
   "language": "python",
   "name": "conda-env-tensorflow-py"
  },
  "language_info": {
   "codemirror_mode": {
    "name": "ipython",
    "version": 3
   },
   "file_extension": ".py",
   "mimetype": "text/x-python",
   "name": "python",
   "nbconvert_exporter": "python",
   "pygments_lexer": "ipython3",
   "version": "3.7.13"
  }
 },
 "nbformat": 4,
 "nbformat_minor": 5
}
